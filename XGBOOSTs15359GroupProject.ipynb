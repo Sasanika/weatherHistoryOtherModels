{
 "cells": [
  {
   "cell_type": "code",
   "execution_count": 49,
   "metadata": {
    "id": "V_-ytJNavOQP"
   },
   "outputs": [],
   "source": [
    "import numpy as np\n",
    "import pandas as pd"
   ]
  },
  {
   "cell_type": "code",
   "execution_count": 50,
   "metadata": {
    "id": "SnLA9bzByyaq"
   },
   "outputs": [],
   "source": [
    "weather_hist = pd.read_csv('weatherHistory.csv')"
   ]
  },
  {
   "cell_type": "code",
   "execution_count": 51,
   "metadata": {
    "colab": {
     "base_uri": "https://localhost:8080/"
    },
    "id": "07SFhxQTy58Q",
    "outputId": "8e04212b-c791-4936-8271-8ab446ca5362"
   },
   "outputs": [
    {
     "name": "stdout",
     "output_type": "stream",
     "text": [
      "<class 'pandas.core.frame.DataFrame'>\n",
      "RangeIndex: 96450 entries, 0 to 96449\n",
      "Data columns (total 12 columns):\n",
      " #   Column                    Non-Null Count  Dtype  \n",
      "---  ------                    --------------  -----  \n",
      " 0   Formatted Date            96450 non-null  object \n",
      " 1   Summary                   96450 non-null  object \n",
      " 2   Precip Type               95930 non-null  object \n",
      " 3   Temperature (C)           96450 non-null  float64\n",
      " 4   Apparent Temperature (C)  96450 non-null  float64\n",
      " 5   Humidity                  96450 non-null  float64\n",
      " 6   Wind Speed (km/h)         96445 non-null  float64\n",
      " 7   Wind Bearing (degrees)    96450 non-null  int64  \n",
      " 8   Visibility (km)           96442 non-null  float64\n",
      " 9   Loud Cover                96450 non-null  int64  \n",
      " 10  Pressure (millibars)      96443 non-null  float64\n",
      " 11  Daily Summary             96450 non-null  object \n",
      "dtypes: float64(6), int64(2), object(4)\n",
      "memory usage: 8.8+ MB\n"
     ]
    }
   ],
   "source": [
    "weather_hist.info()"
   ]
  },
  {
   "cell_type": "code",
   "execution_count": 52,
   "metadata": {
    "colab": {
     "base_uri": "https://localhost:8080/",
     "height": 414
    },
    "id": "Br5siQoly-zw",
    "outputId": "0d9a2f62-bff3-4314-93a3-4b2b5fad9931"
   },
   "outputs": [
    {
     "data": {
      "text/html": [
       "<div>\n",
       "<style scoped>\n",
       "    .dataframe tbody tr th:only-of-type {\n",
       "        vertical-align: middle;\n",
       "    }\n",
       "\n",
       "    .dataframe tbody tr th {\n",
       "        vertical-align: top;\n",
       "    }\n",
       "\n",
       "    .dataframe thead th {\n",
       "        text-align: right;\n",
       "    }\n",
       "</style>\n",
       "<table border=\"1\" class=\"dataframe\">\n",
       "  <thead>\n",
       "    <tr style=\"text-align: right;\">\n",
       "      <th></th>\n",
       "      <th>Formatted Date</th>\n",
       "      <th>Summary</th>\n",
       "      <th>Precip Type</th>\n",
       "      <th>Temperature (C)</th>\n",
       "      <th>Apparent Temperature (C)</th>\n",
       "      <th>Humidity</th>\n",
       "      <th>Wind Speed (km/h)</th>\n",
       "      <th>Wind Bearing (degrees)</th>\n",
       "      <th>Visibility (km)</th>\n",
       "      <th>Loud Cover</th>\n",
       "      <th>Pressure (millibars)</th>\n",
       "      <th>Daily Summary</th>\n",
       "    </tr>\n",
       "  </thead>\n",
       "  <tbody>\n",
       "    <tr>\n",
       "      <th>0</th>\n",
       "      <td>2006-04-01 00:00:00.000 +0200</td>\n",
       "      <td>Partly Cloudy</td>\n",
       "      <td>rain</td>\n",
       "      <td>9.472222</td>\n",
       "      <td>7.388889</td>\n",
       "      <td>0.89</td>\n",
       "      <td>14.1197</td>\n",
       "      <td>251</td>\n",
       "      <td>15.8263</td>\n",
       "      <td>0</td>\n",
       "      <td>1015.13</td>\n",
       "      <td>Partly cloudy throughout the day.</td>\n",
       "    </tr>\n",
       "    <tr>\n",
       "      <th>1</th>\n",
       "      <td>2006-04-01 01:00:00.000 +0200</td>\n",
       "      <td>Partly Cloudy</td>\n",
       "      <td>rain</td>\n",
       "      <td>9.355556</td>\n",
       "      <td>7.227778</td>\n",
       "      <td>0.86</td>\n",
       "      <td>14.2646</td>\n",
       "      <td>259</td>\n",
       "      <td>15.8263</td>\n",
       "      <td>0</td>\n",
       "      <td>1015.63</td>\n",
       "      <td>Partly cloudy throughout the day.</td>\n",
       "    </tr>\n",
       "    <tr>\n",
       "      <th>2</th>\n",
       "      <td>2006-04-01 02:00:00.000 +0200</td>\n",
       "      <td>Mostly Cloudy</td>\n",
       "      <td>rain</td>\n",
       "      <td>9.377778</td>\n",
       "      <td>9.377778</td>\n",
       "      <td>0.89</td>\n",
       "      <td>3.9284</td>\n",
       "      <td>204</td>\n",
       "      <td>14.9569</td>\n",
       "      <td>0</td>\n",
       "      <td>1015.94</td>\n",
       "      <td>Partly cloudy throughout the day.</td>\n",
       "    </tr>\n",
       "    <tr>\n",
       "      <th>3</th>\n",
       "      <td>2006-04-01 03:00:00.000 +0200</td>\n",
       "      <td>Partly Cloudy</td>\n",
       "      <td>rain</td>\n",
       "      <td>8.288889</td>\n",
       "      <td>5.944444</td>\n",
       "      <td>0.83</td>\n",
       "      <td>14.1036</td>\n",
       "      <td>269</td>\n",
       "      <td>15.8263</td>\n",
       "      <td>0</td>\n",
       "      <td>1016.41</td>\n",
       "      <td>Partly cloudy throughout the day.</td>\n",
       "    </tr>\n",
       "    <tr>\n",
       "      <th>4</th>\n",
       "      <td>2006-04-01 04:00:00.000 +0200</td>\n",
       "      <td>Mostly Cloudy</td>\n",
       "      <td>rain</td>\n",
       "      <td>8.755556</td>\n",
       "      <td>6.977778</td>\n",
       "      <td>0.83</td>\n",
       "      <td>11.0446</td>\n",
       "      <td>259</td>\n",
       "      <td>15.8263</td>\n",
       "      <td>0</td>\n",
       "      <td>1016.51</td>\n",
       "      <td>Partly cloudy throughout the day.</td>\n",
       "    </tr>\n",
       "  </tbody>\n",
       "</table>\n",
       "</div>"
      ],
      "text/plain": [
       "                  Formatted Date        Summary Precip Type  Temperature (C)  \\\n",
       "0  2006-04-01 00:00:00.000 +0200  Partly Cloudy        rain         9.472222   \n",
       "1  2006-04-01 01:00:00.000 +0200  Partly Cloudy        rain         9.355556   \n",
       "2  2006-04-01 02:00:00.000 +0200  Mostly Cloudy        rain         9.377778   \n",
       "3  2006-04-01 03:00:00.000 +0200  Partly Cloudy        rain         8.288889   \n",
       "4  2006-04-01 04:00:00.000 +0200  Mostly Cloudy        rain         8.755556   \n",
       "\n",
       "   Apparent Temperature (C)  Humidity  Wind Speed (km/h)  \\\n",
       "0                  7.388889      0.89            14.1197   \n",
       "1                  7.227778      0.86            14.2646   \n",
       "2                  9.377778      0.89             3.9284   \n",
       "3                  5.944444      0.83            14.1036   \n",
       "4                  6.977778      0.83            11.0446   \n",
       "\n",
       "   Wind Bearing (degrees)  Visibility (km)  Loud Cover  Pressure (millibars)  \\\n",
       "0                     251          15.8263           0               1015.13   \n",
       "1                     259          15.8263           0               1015.63   \n",
       "2                     204          14.9569           0               1015.94   \n",
       "3                     269          15.8263           0               1016.41   \n",
       "4                     259          15.8263           0               1016.51   \n",
       "\n",
       "                       Daily Summary  \n",
       "0  Partly cloudy throughout the day.  \n",
       "1  Partly cloudy throughout the day.  \n",
       "2  Partly cloudy throughout the day.  \n",
       "3  Partly cloudy throughout the day.  \n",
       "4  Partly cloudy throughout the day.  "
      ]
     },
     "execution_count": 52,
     "metadata": {},
     "output_type": "execute_result"
    }
   ],
   "source": [
    "weather_hist.head()"
   ]
  },
  {
   "cell_type": "code",
   "execution_count": 53,
   "metadata": {
    "colab": {
     "base_uri": "https://localhost:8080/",
     "height": 317
    },
    "id": "uZmlDMeazRSQ",
    "outputId": "8cac185f-b546-47e5-e020-46ad3cbd587b"
   },
   "outputs": [
    {
     "data": {
      "text/html": [
       "<div>\n",
       "<style scoped>\n",
       "    .dataframe tbody tr th:only-of-type {\n",
       "        vertical-align: middle;\n",
       "    }\n",
       "\n",
       "    .dataframe tbody tr th {\n",
       "        vertical-align: top;\n",
       "    }\n",
       "\n",
       "    .dataframe thead th {\n",
       "        text-align: right;\n",
       "    }\n",
       "</style>\n",
       "<table border=\"1\" class=\"dataframe\">\n",
       "  <thead>\n",
       "    <tr style=\"text-align: right;\">\n",
       "      <th></th>\n",
       "      <th>Temperature (C)</th>\n",
       "      <th>Apparent Temperature (C)</th>\n",
       "      <th>Humidity</th>\n",
       "      <th>Wind Speed (km/h)</th>\n",
       "      <th>Wind Bearing (degrees)</th>\n",
       "      <th>Visibility (km)</th>\n",
       "      <th>Loud Cover</th>\n",
       "      <th>Pressure (millibars)</th>\n",
       "    </tr>\n",
       "  </thead>\n",
       "  <tbody>\n",
       "    <tr>\n",
       "      <th>count</th>\n",
       "      <td>96450.000000</td>\n",
       "      <td>96450.000000</td>\n",
       "      <td>96450.000000</td>\n",
       "      <td>96445.000000</td>\n",
       "      <td>96450.000000</td>\n",
       "      <td>96442.000000</td>\n",
       "      <td>96450.0</td>\n",
       "      <td>96443.000000</td>\n",
       "    </tr>\n",
       "    <tr>\n",
       "      <th>mean</th>\n",
       "      <td>11.932456</td>\n",
       "      <td>10.854838</td>\n",
       "      <td>0.734912</td>\n",
       "      <td>10.809563</td>\n",
       "      <td>187.507838</td>\n",
       "      <td>10.347331</td>\n",
       "      <td>0.0</td>\n",
       "      <td>1003.235465</td>\n",
       "    </tr>\n",
       "    <tr>\n",
       "      <th>std</th>\n",
       "      <td>9.551517</td>\n",
       "      <td>10.696820</td>\n",
       "      <td>0.195462</td>\n",
       "      <td>6.910700</td>\n",
       "      <td>107.384208</td>\n",
       "      <td>4.192359</td>\n",
       "      <td>0.0</td>\n",
       "      <td>116.975940</td>\n",
       "    </tr>\n",
       "    <tr>\n",
       "      <th>min</th>\n",
       "      <td>-21.822222</td>\n",
       "      <td>-27.716667</td>\n",
       "      <td>0.000000</td>\n",
       "      <td>0.000000</td>\n",
       "      <td>0.000000</td>\n",
       "      <td>0.000000</td>\n",
       "      <td>0.0</td>\n",
       "      <td>0.000000</td>\n",
       "    </tr>\n",
       "    <tr>\n",
       "      <th>25%</th>\n",
       "      <td>4.688889</td>\n",
       "      <td>2.311111</td>\n",
       "      <td>0.600000</td>\n",
       "      <td>5.828200</td>\n",
       "      <td>116.000000</td>\n",
       "      <td>8.339800</td>\n",
       "      <td>0.0</td>\n",
       "      <td>1011.900000</td>\n",
       "    </tr>\n",
       "    <tr>\n",
       "      <th>50%</th>\n",
       "      <td>12.000000</td>\n",
       "      <td>12.000000</td>\n",
       "      <td>0.780000</td>\n",
       "      <td>9.965900</td>\n",
       "      <td>180.000000</td>\n",
       "      <td>10.046400</td>\n",
       "      <td>0.0</td>\n",
       "      <td>1016.450000</td>\n",
       "    </tr>\n",
       "    <tr>\n",
       "      <th>75%</th>\n",
       "      <td>18.838889</td>\n",
       "      <td>18.838889</td>\n",
       "      <td>0.890000</td>\n",
       "      <td>14.135800</td>\n",
       "      <td>290.000000</td>\n",
       "      <td>14.812000</td>\n",
       "      <td>0.0</td>\n",
       "      <td>1021.090000</td>\n",
       "    </tr>\n",
       "    <tr>\n",
       "      <th>max</th>\n",
       "      <td>39.905556</td>\n",
       "      <td>39.344444</td>\n",
       "      <td>1.000000</td>\n",
       "      <td>55.931400</td>\n",
       "      <td>359.000000</td>\n",
       "      <td>16.100000</td>\n",
       "      <td>0.0</td>\n",
       "      <td>1046.380000</td>\n",
       "    </tr>\n",
       "  </tbody>\n",
       "</table>\n",
       "</div>"
      ],
      "text/plain": [
       "       Temperature (C)  Apparent Temperature (C)      Humidity  \\\n",
       "count     96450.000000              96450.000000  96450.000000   \n",
       "mean         11.932456                 10.854838      0.734912   \n",
       "std           9.551517                 10.696820      0.195462   \n",
       "min         -21.822222                -27.716667      0.000000   \n",
       "25%           4.688889                  2.311111      0.600000   \n",
       "50%          12.000000                 12.000000      0.780000   \n",
       "75%          18.838889                 18.838889      0.890000   \n",
       "max          39.905556                 39.344444      1.000000   \n",
       "\n",
       "       Wind Speed (km/h)  Wind Bearing (degrees)  Visibility (km)  Loud Cover  \\\n",
       "count       96445.000000            96450.000000     96442.000000     96450.0   \n",
       "mean           10.809563              187.507838        10.347331         0.0   \n",
       "std             6.910700              107.384208         4.192359         0.0   \n",
       "min             0.000000                0.000000         0.000000         0.0   \n",
       "25%             5.828200              116.000000         8.339800         0.0   \n",
       "50%             9.965900              180.000000        10.046400         0.0   \n",
       "75%            14.135800              290.000000        14.812000         0.0   \n",
       "max            55.931400              359.000000        16.100000         0.0   \n",
       "\n",
       "       Pressure (millibars)  \n",
       "count          96443.000000  \n",
       "mean            1003.235465  \n",
       "std              116.975940  \n",
       "min                0.000000  \n",
       "25%             1011.900000  \n",
       "50%             1016.450000  \n",
       "75%             1021.090000  \n",
       "max             1046.380000  "
      ]
     },
     "execution_count": 53,
     "metadata": {},
     "output_type": "execute_result"
    }
   ],
   "source": [
    "weather_hist.describe()"
   ]
  },
  {
   "cell_type": "code",
   "execution_count": 54,
   "metadata": {
    "colab": {
     "base_uri": "https://localhost:8080/"
    },
    "id": "mtxD5USVzW3I",
    "outputId": "fe76b7c5-d494-47ad-dcb1-3afe6fe0aea8"
   },
   "outputs": [
    {
     "name": "stdout",
     "output_type": "stream",
     "text": [
      "Number of Columns in the Weather History Data frame: 12\n",
      "Number of records in the Weather History data frame: 96450\n"
     ]
    }
   ],
   "source": [
    "print(\"Number of Columns in the Weather History Data frame:\", weather_hist.shape[1])\n",
    "print(\"Number of records in the Weather History data frame:\", weather_hist.shape[0])"
   ]
  },
  {
   "cell_type": "code",
   "execution_count": 55,
   "metadata": {
    "colab": {
     "base_uri": "https://localhost:8080/"
    },
    "id": "QHVd-RlPzdDP",
    "outputId": "049955a9-2134-405a-f742-51cbc50fc8de"
   },
   "outputs": [
    {
     "name": "stdout",
     "output_type": "stream",
     "text": [
      "Unique values are:\n",
      " Formatted Date              96426\n",
      "Summary                        24\n",
      "Precip Type                     4\n",
      "Temperature (C)              7574\n",
      "Apparent Temperature (C)     8984\n",
      "Humidity                       90\n",
      "Wind Speed (km/h)            2483\n",
      "Wind Bearing (degrees)        360\n",
      "Visibility (km)               949\n",
      "Loud Cover                      1\n",
      "Pressure (millibars)         4979\n",
      "Daily Summary                 214\n",
      "dtype: int64\n"
     ]
    }
   ],
   "source": [
    "print (\"Unique values are:\\n\",weather_hist.nunique())"
   ]
  },
  {
   "cell_type": "code",
   "execution_count": 56,
   "metadata": {
    "colab": {
     "base_uri": "https://localhost:8080/"
    },
    "id": "tUfn5y8gzivw",
    "outputId": "bee903d0-4f48-4c7e-ffb8-90e7460330fd"
   },
   "outputs": [
    {
     "name": "stdout",
     "output_type": "stream",
     "text": [
      "\n",
      "\n",
      "24 duplicate rows found in Weathe History Dataset.\n",
      "\n",
      "\n",
      "                      Formatted Date        Summary Precip Type  \\\n",
      "36071  2010-08-02 00:00:00.000 +0200          Clear        rain   \n",
      "36072  2010-08-02 01:00:00.000 +0200          Clear        rain   \n",
      "36073  2010-08-02 02:00:00.000 +0200          Clear        rain   \n",
      "36074  2010-08-02 03:00:00.000 +0200          Clear        rain   \n",
      "36075  2010-08-02 04:00:00.000 +0200          Clear        rain   \n",
      "36076  2010-08-02 05:00:00.000 +0200          Clear        rain   \n",
      "36077  2010-08-02 06:00:00.000 +0200          Clear        rain   \n",
      "36078  2010-08-02 07:00:00.000 +0200          Clear        rain   \n",
      "36079  2010-08-02 08:00:00.000 +0200          Clear        rain   \n",
      "36080  2010-08-02 09:00:00.000 +0200          Clear        rain   \n",
      "36081  2010-08-02 10:00:00.000 +0200          Clear        rain   \n",
      "36082  2010-08-02 11:00:00.000 +0200          Clear        rain   \n",
      "36083  2010-08-02 12:00:00.000 +0200          Clear        rain   \n",
      "36084  2010-08-02 13:00:00.000 +0200  Partly Cloudy        rain   \n",
      "36085  2010-08-02 14:00:00.000 +0200  Partly Cloudy        rain   \n",
      "36086  2010-08-02 15:00:00.000 +0200  Partly Cloudy        rain   \n",
      "36087  2010-08-02 16:00:00.000 +0200  Partly Cloudy        rain   \n",
      "36088  2010-08-02 17:00:00.000 +0200  Partly Cloudy        rain   \n",
      "36089  2010-08-02 18:00:00.000 +0200  Partly Cloudy        rain   \n",
      "36090  2010-08-02 19:00:00.000 +0200          Clear        rain   \n",
      "36091  2010-08-02 20:00:00.000 +0200          Clear        rain   \n",
      "36092  2010-08-02 21:00:00.000 +0200          Clear        rain   \n",
      "36093  2010-08-02 22:00:00.000 +0200  Partly Cloudy        rain   \n",
      "36094  2010-08-02 23:00:00.000 +0200          Clear        rain   \n",
      "\n",
      "       Temperature (C)  Apparent Temperature (C)  Humidity  Wind Speed (km/h)  \\\n",
      "36071        18.800000                 18.800000      0.93             6.2790   \n",
      "36072        18.222222                 18.222222      0.97             6.2790   \n",
      "36073        18.072222                 18.072222      0.98            11.2700   \n",
      "36074        16.622222                 16.622222      0.99             6.4400   \n",
      "36075        16.094444                 16.094444      0.99             3.0751   \n",
      "36076        15.955556                 15.955556      0.99             3.8801   \n",
      "36077        17.088889                 17.088889      1.00             6.4400   \n",
      "36078        20.822222                 20.822222      0.87             3.2200   \n",
      "36079        23.405556                 23.405556      0.74             1.8837   \n",
      "36080        26.050000                 26.050000      0.59             1.5939   \n",
      "36081        27.688889                 28.077778      0.50             0.2254   \n",
      "36082        28.561111                 29.588889      0.54             3.2039   \n",
      "36083        28.816667                 29.338889      0.49             1.6100   \n",
      "36084        28.866667                 29.044444      0.46             2.8175   \n",
      "36085        29.827778                 30.338889      0.47             8.0339   \n",
      "36086        30.072222                 30.527778      0.46             2.5921   \n",
      "36087        31.066667                 31.627778      0.44             1.3846   \n",
      "36088        30.861111                 31.361111      0.44             2.2540   \n",
      "36089        29.950000                 30.416667      0.46             3.0751   \n",
      "36090        28.811111                 30.616667      0.59             3.2039   \n",
      "36091        25.250000                 25.250000      0.75             2.4955   \n",
      "36092        22.172222                 22.172222      0.87             1.6100   \n",
      "36093        21.061111                 21.061111      0.90             0.0000   \n",
      "36094        20.255556                 20.255556      0.92             1.0787   \n",
      "\n",
      "       Wind Bearing (degrees)  Visibility (km)  Loud Cover  \\\n",
      "36071                     270          14.9086           0   \n",
      "36072                     291          14.9086           0   \n",
      "36073                     290           6.8425           0   \n",
      "36074                     300          11.9784           0   \n",
      "36075                     280          11.9784           0   \n",
      "36076                     276           9.9820           0   \n",
      "36077                     310           9.9820           0   \n",
      "36078                     300           9.9820           0   \n",
      "36079                     334           9.9820           0   \n",
      "36080                       5           9.9820           0   \n",
      "36081                     338           9.9820           0   \n",
      "36082                     288          10.3523           0   \n",
      "36083                      20           9.9820           0   \n",
      "36084                      33           9.9820           0   \n",
      "36085                     267          10.3523           0   \n",
      "36086                      92           9.9820           0   \n",
      "36087                     297           9.9820           0   \n",
      "36088                     325          10.3523           0   \n",
      "36089                     303           9.9820           0   \n",
      "36090                     351           9.9820           0   \n",
      "36091                     335          10.3523           0   \n",
      "36092                       0           9.9820           0   \n",
      "36093                       0          11.9784           0   \n",
      "36094                     326          14.1680           0   \n",
      "\n",
      "       Pressure (millibars)                                      Daily Summary  \n",
      "36071               1016.99  Partly cloudy starting in the afternoon contin...  \n",
      "36072               1017.09  Partly cloudy starting in the afternoon contin...  \n",
      "36073               1013.23  Partly cloudy starting in the afternoon contin...  \n",
      "36074               1016.78  Partly cloudy starting in the afternoon contin...  \n",
      "36075               1016.67  Partly cloudy starting in the afternoon contin...  \n",
      "36076               1016.69  Partly cloudy starting in the afternoon contin...  \n",
      "36077               1017.08  Partly cloudy starting in the afternoon contin...  \n",
      "36078               1017.27  Partly cloudy starting in the afternoon contin...  \n",
      "36079               1017.27  Partly cloudy starting in the afternoon contin...  \n",
      "36080               1017.15  Partly cloudy starting in the afternoon contin...  \n",
      "36081               1016.68  Partly cloudy starting in the afternoon contin...  \n",
      "36082               1016.58  Partly cloudy starting in the afternoon contin...  \n",
      "36083               1016.55  Partly cloudy starting in the afternoon contin...  \n",
      "36084               1015.99  Partly cloudy starting in the afternoon contin...  \n",
      "36085               1015.50  Partly cloudy starting in the afternoon contin...  \n",
      "36086               1014.97  Partly cloudy starting in the afternoon contin...  \n",
      "36087               1014.47  Partly cloudy starting in the afternoon contin...  \n",
      "36088               1014.08  Partly cloudy starting in the afternoon contin...  \n",
      "36089               1013.59  Partly cloudy starting in the afternoon contin...  \n",
      "36090               1013.19  Partly cloudy starting in the afternoon contin...  \n",
      "36091               1013.20  Partly cloudy starting in the afternoon contin...  \n",
      "36092               1013.49  Partly cloudy starting in the afternoon contin...  \n",
      "36093               1013.37  Partly cloudy starting in the afternoon contin...  \n",
      "36094               1013.00  Partly cloudy starting in the afternoon contin...  \n"
     ]
    }
   ],
   "source": [
    "\n",
    "duplicates = weather_hist[weather_hist.duplicated()]\n",
    "\n",
    "# Print the number of duplicate rows, if any\n",
    "num_duplicates = len(duplicates)\n",
    "if num_duplicates > 0:\n",
    "    print(\"\\n\")\n",
    "    print(f\"{num_duplicates} duplicate rows found in Weathe History Dataset.\")\n",
    "    print(\"\\n\")\n",
    "    print(duplicates)\n",
    "else:\n",
    "    print(\"No duplicate rows found in WeatherHistory.\")"
   ]
  },
  {
   "cell_type": "code",
   "execution_count": 57,
   "metadata": {
    "colab": {
     "base_uri": "https://localhost:8080/"
    },
    "id": "zq1ONxXXzooY",
    "outputId": "3d1c51d4-a576-451f-dd8a-80b0f839894c"
   },
   "outputs": [
    {
     "name": "stdout",
     "output_type": "stream",
     "text": [
      "Duplicated Values:  0\n"
     ]
    }
   ],
   "source": [
    "# Removing duplicated values\n",
    "weather_hist.drop_duplicates(inplace=True)\n",
    "# Again checking for duplicated values\n",
    "print(\"Duplicated Values: \", weather_hist.duplicated().sum())"
   ]
  },
  {
   "cell_type": "code",
   "execution_count": 58,
   "metadata": {
    "colab": {
     "base_uri": "https://localhost:8080/"
    },
    "id": "D4bVUXb6zyx3",
    "outputId": "14b3051d-95a4-42c4-e9af-5458111cf2b6"
   },
   "outputs": [
    {
     "name": "stdout",
     "output_type": "stream",
     "text": [
      "Number of Columns in the Weather History Data frame: 12\n",
      "Number of records in the Weather History data frame: 96426\n"
     ]
    }
   ],
   "source": [
    "#Printing the shape of dataset after deleting Duplicates\n",
    "print(\"Number of Columns in the Weather History Data frame:\", weather_hist.shape[1])\n",
    "print(\"Number of records in the Weather History data frame:\", weather_hist.shape[0])"
   ]
  },
  {
   "cell_type": "code",
   "execution_count": 59,
   "metadata": {
    "colab": {
     "base_uri": "https://localhost:8080/"
    },
    "id": "Uma5ZXoBz4NV",
    "outputId": "8a7467ec-7e8f-4d14-e9d9-b4f0a727a589"
   },
   "outputs": [
    {
     "name": "stdout",
     "output_type": "stream",
     "text": [
      "Checking the NULL Values in  WeatherHistory Dataset..\n",
      "\n",
      "Column 'Precip Type' has 520 null values.\n",
      "Column 'Wind Speed (km/h)' has 5 null values.\n",
      "Column 'Visibility (km)' has 8 null values.\n",
      "Column 'Pressure (millibars)' has 7 null values.\n"
     ]
    }
   ],
   "source": [
    "# Checking missing values\n",
    "\n",
    "# Check for null values in the DataFrame\n",
    "null_values = weather_hist.isnull().sum()\n",
    "\n",
    "# Print the count of null values in each column\n",
    "print('Checking the NULL Values in  WeatherHistory Dataset..\\n')\n",
    "\n",
    "# Check if there are any null values\n",
    "if null_values.sum() == 0:\n",
    "    print(f'\\n There are no null values in the given dataset.')\n",
    "else:\n",
    "    columns_with_null_values = null_values[null_values > 0].index.tolist()\n",
    "    # Loop over the columns with null values and print the count of null values for each column\n",
    "    for column in columns_with_null_values:\n",
    "        count = null_values[column]\n",
    "        print(f\"Column '{column}' has {count} null values.\")"
   ]
  },
  {
   "cell_type": "code",
   "execution_count": 60,
   "metadata": {
    "colab": {
     "base_uri": "https://localhost:8080/"
    },
    "id": "WH39rXZqz8xQ",
    "outputId": "3a3efe06-fd28-489f-eed3-6f6b4ce7324e"
   },
   "outputs": [
    {
     "data": {
      "text/plain": [
       "rain    85191\n",
       "snow    10712\n",
       "?           2\n",
       "%           1\n",
       "Name: Precip Type, dtype: int64"
      ]
     },
     "execution_count": 60,
     "metadata": {},
     "output_type": "execute_result"
    }
   ],
   "source": [
    "# Handling missing values\n",
    "weather_hist['Precip Type'].value_counts()"
   ]
  },
  {
   "cell_type": "code",
   "execution_count": 61,
   "metadata": {
    "colab": {
     "base_uri": "https://localhost:8080/"
    },
    "id": "j0NN-hjY0COv",
    "outputId": "6983f031-4438-4b3b-f93f-03b886817096"
   },
   "outputs": [
    {
     "data": {
      "text/plain": [
       "rain    85191\n",
       "snow    10712\n",
       "Name: Precip Type, dtype: int64"
      ]
     },
     "execution_count": 61,
     "metadata": {},
     "output_type": "execute_result"
    }
   ],
   "source": [
    "# Remove rows with missing values in 'Precip Type' column\n",
    "weather_hist = weather_hist[(weather_hist['Precip Type'] != '?') & (weather_hist['Precip Type'] != '%')]\n",
    "\n",
    "# Verify the changes\n",
    "weather_hist['Precip Type'].value_counts()\n"
   ]
  },
  {
   "cell_type": "code",
   "execution_count": 62,
   "metadata": {
    "id": "wGdUpTQu1kIQ"
   },
   "outputs": [],
   "source": [
    "# Remove rows with null values in specified columns\n",
    "weather_hist = weather_hist.dropna(subset=['Precip Type', 'Wind Speed (km/h)', 'Visibility (km)', 'Pressure (millibars)'])\n",
    "\n"
   ]
  },
  {
   "cell_type": "code",
   "execution_count": 63,
   "metadata": {
    "colab": {
     "base_uri": "https://localhost:8080/"
    },
    "id": "YI9DKc0y4fhn",
    "outputId": "005bec94-03ce-4c7e-b010-9a4759aa2744"
   },
   "outputs": [
    {
     "name": "stdout",
     "output_type": "stream",
     "text": [
      "Missing Values:\n",
      " Formatted Date              0\n",
      "Summary                     0\n",
      "Precip Type                 0\n",
      "Temperature (C)             0\n",
      "Apparent Temperature (C)    0\n",
      "Humidity                    0\n",
      "Wind Speed (km/h)           0\n",
      "Wind Bearing (degrees)      0\n",
      "Visibility (km)             0\n",
      "Loud Cover                  0\n",
      "Pressure (millibars)        0\n",
      "Daily Summary               0\n",
      "dtype: int64\n"
     ]
    }
   ],
   "source": [
    "# Re-check Handling Missing Values\n",
    "missing_values = weather_hist.isnull().sum()\n",
    "print(\"Missing Values:\\n\", missing_values)"
   ]
  },
  {
   "cell_type": "code",
   "execution_count": 64,
   "metadata": {
    "colab": {
     "base_uri": "https://localhost:8080/"
    },
    "id": "mqhtgqHK4lFv",
    "outputId": "a0f2d5b6-abc2-48d4-b2e0-234b7a3725a6"
   },
   "outputs": [
    {
     "name": "stdout",
     "output_type": "stream",
     "text": [
      "Number of Columns in the Weather History Data frame: 12\n",
      "Number of records in the Weather History data frame: 95883\n"
     ]
    }
   ],
   "source": [
    "#Printing the shape of dataset after deleting Duplicates\n",
    "print(\"Number of Columns in the Weather History Data frame:\", weather_hist.shape[1])\n",
    "print(\"Number of records in the Weather History data frame:\", weather_hist.shape[0])"
   ]
  },
  {
   "cell_type": "code",
   "execution_count": 65,
   "metadata": {
    "id": "uMiTi0r75N_8"
   },
   "outputs": [],
   "source": [
    "# Remove the 'Daily Summary' column from the DataFrame\n",
    "weather_hist = weather_hist.drop('Daily Summary', axis=1)\n"
   ]
  },
  {
   "cell_type": "markdown",
   "metadata": {
    "id": "8XcfmeSQ45bY"
   },
   "source": [
    "\n",
    "Here are some reasons to justify deleting the 'Daily Summary' column from the entire dataset:\n",
    "\n",
    "Irrelevance for Analysis: The 'Daily Summary' column contains textual descriptions of daily weather summaries. If your analysis focuses more on numerical weather data (such as temperature, humidity, etc.) rather than descriptive summaries, keeping this column may not add value to your analysis.\n",
    "\n",
    "Reduced Memory Usage: Textual data can occupy more memory compared to numerical data. By removing the 'Daily Summary' column, you can reduce the overall memory usage of your dataset, which can be beneficial for large datasets or when working with memory-constrained environments.\n",
    "\n",
    "Simplicity and Focus: Removing irrelevant columns can simplify your dataset and focus your analysis on the key variables of interest. This can make your analysis more manageable and easier to interpret.\n",
    "\n",
    "Enhanced Performance: With fewer columns, operations on the dataset, such as calculations or transformations, may be faster and more efficient, leading to improved performance in data processing tasks.\n",
    "\n",
    "Consistency and Standardization: By removing a column that contains descriptive text, you can ensure that your dataset remains consistent in terms of data types (e.g., numeric data) and standardizes the format for easier processing and analysis."
   ]
  },
  {
   "cell_type": "code",
   "execution_count": 66,
   "metadata": {
    "colab": {
     "base_uri": "https://localhost:8080/"
    },
    "id": "W72XCOc5pdbd",
    "outputId": "83e2712f-2a4f-4938-cef5-5c88750ce6f1"
   },
   "outputs": [
    {
     "name": "stdout",
     "output_type": "stream",
     "text": [
      "Cloudy Skies    76035\n",
      "Clear Skies     10744\n",
      "Foggy Day        7155\n",
      "Breezy Day       1484\n",
      "Windy Day         155\n",
      "Dry Day           134\n",
      "Rainy Day         112\n",
      "Humid Day          64\n",
      "Name: Summary, dtype: int64\n"
     ]
    }
   ],
   "source": [
    "# Define a dictionary mapping current weather summaries to new categories\n",
    "weather_mapping = {\n",
    "   'Clear': 'Clear Skies',\n",
    "    'Partly Cloudy': 'Cloudy Skies',\n",
    "    'Mostly Cloudy': 'Cloudy Skies',\n",
    "    'Overcast': 'Cloudy Skies',\n",
    "    'Foggy': 'Foggy Day',\n",
    "    'Breezy and Foggy': 'Foggy Day',\n",
    "    'Windy and Foggy': 'Foggy Day',\n",
    "    'Breezy': 'Breezy Day',\n",
    "    'Breezy and Mostly Cloudy': 'Breezy Day',\n",
    "    'Breezy and Partly Cloudy': 'Breezy Day',\n",
    "    'Breezy and Overcast': 'Breezy Day',\n",
    "    'Windy': 'Windy Day',\n",
    "    'Windy and Mostly Cloudy': 'Windy Day',\n",
    "    'Windy and Partly Cloudy': 'Windy Day',\n",
    "    'Windy and Overcast': 'Windy Day',\n",
    "    'Humid and Mostly Cloudy': 'Humid Day',\n",
    "    'Humid and Partly Cloudy': 'Humid Day',\n",
    "    'Humid and Overcast': 'Humid Day',\n",
    "    'Dry': 'Dry Day',\n",
    "    'Dry and Mostly Cloudy': 'Dry Day',\n",
    "    'Dry and Partly Cloudy': 'Dry Day',\n",
    "    'Light Rain': 'Rainy Day',\n",
    "    'Drizzle': 'Rainy Day',\n",
    "    'Rain': 'Rainy Day'\n",
    "}\n",
    "\n",
    "# Create a new column 'Weather Category' based on the mapping\n",
    "weather_hist['Summary'] = weather_hist['Summary'].map(weather_mapping)\n",
    "\n",
    "# Display the value counts of the new column\n",
    "print(weather_hist['Summary'].value_counts())\n"
   ]
  },
  {
   "cell_type": "code",
   "execution_count": 67,
   "metadata": {
    "colab": {
     "base_uri": "https://localhost:8080/"
    },
    "id": "me7qz0rk4sgX",
    "outputId": "6b591fab-1180-48f1-a6d8-ba08ee82278e"
   },
   "outputs": [
    {
     "name": "stdout",
     "output_type": "stream",
     "text": [
      "<class 'pandas.core.frame.DataFrame'>\n",
      "Int64Index: 95883 entries, 0 to 96449\n",
      "Data columns (total 11 columns):\n",
      " #   Column                    Non-Null Count  Dtype  \n",
      "---  ------                    --------------  -----  \n",
      " 0   Formatted Date            95883 non-null  object \n",
      " 1   Summary                   95883 non-null  object \n",
      " 2   Precip Type               95883 non-null  object \n",
      " 3   Temperature (C)           95883 non-null  float64\n",
      " 4   Apparent Temperature (C)  95883 non-null  float64\n",
      " 5   Humidity                  95883 non-null  float64\n",
      " 6   Wind Speed (km/h)         95883 non-null  float64\n",
      " 7   Wind Bearing (degrees)    95883 non-null  int64  \n",
      " 8   Visibility (km)           95883 non-null  float64\n",
      " 9   Loud Cover                95883 non-null  int64  \n",
      " 10  Pressure (millibars)      95883 non-null  float64\n",
      "dtypes: float64(6), int64(2), object(3)\n",
      "memory usage: 8.8+ MB\n"
     ]
    }
   ],
   "source": [
    "# Verify the changes\n",
    "weather_hist.info()\n"
   ]
  },
  {
   "cell_type": "code",
   "execution_count": 68,
   "metadata": {
    "colab": {
     "base_uri": "https://localhost:8080/"
    },
    "id": "5ltDdvIC7RGy",
    "outputId": "6c1c78b1-a3a5-4638-d97a-f5141b62853f"
   },
   "outputs": [
    {
     "name": "stdout",
     "output_type": "stream",
     "text": [
      "Rows with invalid dates:\n",
      "Empty DataFrame\n",
      "Columns: [Formatted Date, is_valid_date]\n",
      "Index: []\n"
     ]
    }
   ],
   "source": [
    "from datetime import datetime\n",
    "\n",
    "# Define the format string for the date\n",
    "format_string = \"%Y-%m-%d %H:%M:%S.%f %z\"\n",
    "\n",
    "# Function to check if a value is in the correct format\n",
    "def check_date_format(value):\n",
    "    try:\n",
    "        datetime.strptime(value, format_string)\n",
    "        return True\n",
    "    except ValueError:\n",
    "        return False\n",
    "\n",
    "# Apply the function to each value in the 'Formatted Date' column and create a new column 'is_valid_date'\n",
    "weather_hist['is_valid_date'] = weather_hist['Formatted Date'].apply(check_date_format)\n",
    "\n",
    "# Filter the DataFrame to show only rows where 'is_valid_date' is False\n",
    "invalid_dates = weather_hist[~weather_hist['is_valid_date']]\n",
    "\n",
    "# Display the rows with invalid dates\n",
    "print(\"Rows with invalid dates:\")\n",
    "print(invalid_dates[['Formatted Date', 'is_valid_date']])\n"
   ]
  },
  {
   "cell_type": "code",
   "execution_count": 69,
   "metadata": {
    "colab": {
     "base_uri": "https://localhost:8080/",
     "height": 223
    },
    "id": "0DGH1_KG5vUA",
    "outputId": "81acebcc-ea22-491c-ae6e-787488a2e81d"
   },
   "outputs": [
    {
     "name": "stdout",
     "output_type": "stream",
     "text": [
      "Weather History DataFrame:\n"
     ]
    },
    {
     "data": {
      "text/html": [
       "<div>\n",
       "<style scoped>\n",
       "    .dataframe tbody tr th:only-of-type {\n",
       "        vertical-align: middle;\n",
       "    }\n",
       "\n",
       "    .dataframe tbody tr th {\n",
       "        vertical-align: top;\n",
       "    }\n",
       "\n",
       "    .dataframe thead th {\n",
       "        text-align: right;\n",
       "    }\n",
       "</style>\n",
       "<table border=\"1\" class=\"dataframe\">\n",
       "  <thead>\n",
       "    <tr style=\"text-align: right;\">\n",
       "      <th></th>\n",
       "      <th>Summary</th>\n",
       "      <th>Precip Type</th>\n",
       "      <th>Summary_encoded</th>\n",
       "      <th>Precip Type_encoded</th>\n",
       "      <th>Year</th>\n",
       "      <th>Month</th>\n",
       "      <th>Day</th>\n",
       "      <th>Hour</th>\n",
       "    </tr>\n",
       "  </thead>\n",
       "  <tbody>\n",
       "    <tr>\n",
       "      <th>0</th>\n",
       "      <td>Cloudy Skies</td>\n",
       "      <td>rain</td>\n",
       "      <td>2</td>\n",
       "      <td>0</td>\n",
       "      <td>2006</td>\n",
       "      <td>3</td>\n",
       "      <td>31</td>\n",
       "      <td>22</td>\n",
       "    </tr>\n",
       "    <tr>\n",
       "      <th>1</th>\n",
       "      <td>Cloudy Skies</td>\n",
       "      <td>rain</td>\n",
       "      <td>2</td>\n",
       "      <td>0</td>\n",
       "      <td>2006</td>\n",
       "      <td>3</td>\n",
       "      <td>31</td>\n",
       "      <td>23</td>\n",
       "    </tr>\n",
       "    <tr>\n",
       "      <th>2</th>\n",
       "      <td>Cloudy Skies</td>\n",
       "      <td>rain</td>\n",
       "      <td>2</td>\n",
       "      <td>0</td>\n",
       "      <td>2006</td>\n",
       "      <td>4</td>\n",
       "      <td>1</td>\n",
       "      <td>0</td>\n",
       "    </tr>\n",
       "    <tr>\n",
       "      <th>3</th>\n",
       "      <td>Cloudy Skies</td>\n",
       "      <td>rain</td>\n",
       "      <td>2</td>\n",
       "      <td>0</td>\n",
       "      <td>2006</td>\n",
       "      <td>4</td>\n",
       "      <td>1</td>\n",
       "      <td>1</td>\n",
       "    </tr>\n",
       "    <tr>\n",
       "      <th>4</th>\n",
       "      <td>Cloudy Skies</td>\n",
       "      <td>rain</td>\n",
       "      <td>2</td>\n",
       "      <td>0</td>\n",
       "      <td>2006</td>\n",
       "      <td>4</td>\n",
       "      <td>1</td>\n",
       "      <td>2</td>\n",
       "    </tr>\n",
       "  </tbody>\n",
       "</table>\n",
       "</div>"
      ],
      "text/plain": [
       "        Summary Precip Type  Summary_encoded  Precip Type_encoded  Year  \\\n",
       "0  Cloudy Skies        rain                2                    0  2006   \n",
       "1  Cloudy Skies        rain                2                    0  2006   \n",
       "2  Cloudy Skies        rain                2                    0  2006   \n",
       "3  Cloudy Skies        rain                2                    0  2006   \n",
       "4  Cloudy Skies        rain                2                    0  2006   \n",
       "\n",
       "   Month  Day  Hour  \n",
       "0      3   31    22  \n",
       "1      3   31    23  \n",
       "2      4    1     0  \n",
       "3      4    1     1  \n",
       "4      4    1     2  "
      ]
     },
     "execution_count": 69,
     "metadata": {},
     "output_type": "execute_result"
    }
   ],
   "source": [
    "from sklearn.preprocessing import LabelEncoder\n",
    "\n",
    "# Initialize LabelEncoder\n",
    "label_encoder = LabelEncoder()\n",
    "\n",
    "# Label encode object columns\n",
    "object_columns = ['Summary', 'Precip Type']\n",
    "for col in object_columns:\n",
    "    weather_hist[col+'_encoded'] = label_encoder.fit_transform(weather_hist[col])\n",
    "\n",
    "# Convert 'Formatted Date' to datetime format with utc=True\n",
    "weather_hist['Formatted Date'] = pd.to_datetime(weather_hist['Formatted Date'], utc=True)\n",
    "\n",
    "# Extract year, month, day, and hour\n",
    "weather_hist['Year'] = weather_hist['Formatted Date'].dt.year\n",
    "weather_hist['Month'] = weather_hist['Formatted Date'].dt.month\n",
    "weather_hist['Day'] = weather_hist['Formatted Date'].dt.day\n",
    "weather_hist['Hour'] = weather_hist['Formatted Date'].dt.hour\n",
    "\n",
    "# Create dictionaries for mapping encoded values to original labels\n",
    "summary_mapping = dict(zip(weather_hist['Summary_encoded'], weather_hist['Summary']))\n",
    "precip_mapping = dict(zip(weather_hist['Precip Type_encoded'], weather_hist['Precip Type']))\n",
    "\n",
    "# Display the updated DataFrame and the mapping dictionaries\n",
    "print(\"Weather History DataFrame:\")\n",
    "weather_hist[['Summary', 'Precip Type', 'Summary_encoded', 'Precip Type_encoded', 'Year', 'Month', 'Day', 'Hour']].head()\n",
    "\n"
   ]
  },
  {
   "cell_type": "code",
   "execution_count": null,
   "metadata": {
    "id": "gX7DT0WNocOX"
   },
   "outputs": [],
   "source": []
  },
  {
   "cell_type": "code",
   "execution_count": 70,
   "metadata": {
    "colab": {
     "base_uri": "https://localhost:8080/",
     "height": 652
    },
    "id": "Kgwh6WnCE4iC",
    "outputId": "23b3fd8e-bc81-4d6b-cf36-8e6c8eac51d3"
   },
   "outputs": [
    {
     "data": {
      "text/html": [
       "<div>\n",
       "<style scoped>\n",
       "    .dataframe tbody tr th:only-of-type {\n",
       "        vertical-align: middle;\n",
       "    }\n",
       "\n",
       "    .dataframe tbody tr th {\n",
       "        vertical-align: top;\n",
       "    }\n",
       "\n",
       "    .dataframe thead th {\n",
       "        text-align: right;\n",
       "    }\n",
       "</style>\n",
       "<table border=\"1\" class=\"dataframe\">\n",
       "  <thead>\n",
       "    <tr style=\"text-align: right;\">\n",
       "      <th></th>\n",
       "      <th>Formatted Date</th>\n",
       "      <th>Summary</th>\n",
       "      <th>Precip Type</th>\n",
       "      <th>Temperature (C)</th>\n",
       "      <th>Apparent Temperature (C)</th>\n",
       "      <th>Humidity</th>\n",
       "      <th>Wind Speed (km/h)</th>\n",
       "      <th>Wind Bearing (degrees)</th>\n",
       "      <th>Visibility (km)</th>\n",
       "      <th>Loud Cover</th>\n",
       "      <th>Pressure (millibars)</th>\n",
       "      <th>is_valid_date</th>\n",
       "      <th>Summary_encoded</th>\n",
       "      <th>Precip Type_encoded</th>\n",
       "      <th>Year</th>\n",
       "      <th>Month</th>\n",
       "      <th>Day</th>\n",
       "      <th>Hour</th>\n",
       "    </tr>\n",
       "  </thead>\n",
       "  <tbody>\n",
       "    <tr>\n",
       "      <th>0</th>\n",
       "      <td>2006-03-31 22:00:00+00:00</td>\n",
       "      <td>Cloudy Skies</td>\n",
       "      <td>rain</td>\n",
       "      <td>9.472222</td>\n",
       "      <td>7.388889</td>\n",
       "      <td>0.89</td>\n",
       "      <td>14.1197</td>\n",
       "      <td>251</td>\n",
       "      <td>15.8263</td>\n",
       "      <td>0</td>\n",
       "      <td>1015.13</td>\n",
       "      <td>True</td>\n",
       "      <td>2</td>\n",
       "      <td>0</td>\n",
       "      <td>2006</td>\n",
       "      <td>3</td>\n",
       "      <td>31</td>\n",
       "      <td>22</td>\n",
       "    </tr>\n",
       "    <tr>\n",
       "      <th>1</th>\n",
       "      <td>2006-03-31 23:00:00+00:00</td>\n",
       "      <td>Cloudy Skies</td>\n",
       "      <td>rain</td>\n",
       "      <td>9.355556</td>\n",
       "      <td>7.227778</td>\n",
       "      <td>0.86</td>\n",
       "      <td>14.2646</td>\n",
       "      <td>259</td>\n",
       "      <td>15.8263</td>\n",
       "      <td>0</td>\n",
       "      <td>1015.63</td>\n",
       "      <td>True</td>\n",
       "      <td>2</td>\n",
       "      <td>0</td>\n",
       "      <td>2006</td>\n",
       "      <td>3</td>\n",
       "      <td>31</td>\n",
       "      <td>23</td>\n",
       "    </tr>\n",
       "    <tr>\n",
       "      <th>2</th>\n",
       "      <td>2006-04-01 00:00:00+00:00</td>\n",
       "      <td>Cloudy Skies</td>\n",
       "      <td>rain</td>\n",
       "      <td>9.377778</td>\n",
       "      <td>9.377778</td>\n",
       "      <td>0.89</td>\n",
       "      <td>3.9284</td>\n",
       "      <td>204</td>\n",
       "      <td>14.9569</td>\n",
       "      <td>0</td>\n",
       "      <td>1015.94</td>\n",
       "      <td>True</td>\n",
       "      <td>2</td>\n",
       "      <td>0</td>\n",
       "      <td>2006</td>\n",
       "      <td>4</td>\n",
       "      <td>1</td>\n",
       "      <td>0</td>\n",
       "    </tr>\n",
       "    <tr>\n",
       "      <th>3</th>\n",
       "      <td>2006-04-01 01:00:00+00:00</td>\n",
       "      <td>Cloudy Skies</td>\n",
       "      <td>rain</td>\n",
       "      <td>8.288889</td>\n",
       "      <td>5.944444</td>\n",
       "      <td>0.83</td>\n",
       "      <td>14.1036</td>\n",
       "      <td>269</td>\n",
       "      <td>15.8263</td>\n",
       "      <td>0</td>\n",
       "      <td>1016.41</td>\n",
       "      <td>True</td>\n",
       "      <td>2</td>\n",
       "      <td>0</td>\n",
       "      <td>2006</td>\n",
       "      <td>4</td>\n",
       "      <td>1</td>\n",
       "      <td>1</td>\n",
       "    </tr>\n",
       "    <tr>\n",
       "      <th>4</th>\n",
       "      <td>2006-04-01 02:00:00+00:00</td>\n",
       "      <td>Cloudy Skies</td>\n",
       "      <td>rain</td>\n",
       "      <td>8.755556</td>\n",
       "      <td>6.977778</td>\n",
       "      <td>0.83</td>\n",
       "      <td>11.0446</td>\n",
       "      <td>259</td>\n",
       "      <td>15.8263</td>\n",
       "      <td>0</td>\n",
       "      <td>1016.51</td>\n",
       "      <td>True</td>\n",
       "      <td>2</td>\n",
       "      <td>0</td>\n",
       "      <td>2006</td>\n",
       "      <td>4</td>\n",
       "      <td>1</td>\n",
       "      <td>2</td>\n",
       "    </tr>\n",
       "    <tr>\n",
       "      <th>...</th>\n",
       "      <td>...</td>\n",
       "      <td>...</td>\n",
       "      <td>...</td>\n",
       "      <td>...</td>\n",
       "      <td>...</td>\n",
       "      <td>...</td>\n",
       "      <td>...</td>\n",
       "      <td>...</td>\n",
       "      <td>...</td>\n",
       "      <td>...</td>\n",
       "      <td>...</td>\n",
       "      <td>...</td>\n",
       "      <td>...</td>\n",
       "      <td>...</td>\n",
       "      <td>...</td>\n",
       "      <td>...</td>\n",
       "      <td>...</td>\n",
       "      <td>...</td>\n",
       "    </tr>\n",
       "    <tr>\n",
       "      <th>96445</th>\n",
       "      <td>2016-09-09 17:00:00+00:00</td>\n",
       "      <td>Cloudy Skies</td>\n",
       "      <td>rain</td>\n",
       "      <td>26.016667</td>\n",
       "      <td>26.016667</td>\n",
       "      <td>0.43</td>\n",
       "      <td>10.9963</td>\n",
       "      <td>31</td>\n",
       "      <td>16.1000</td>\n",
       "      <td>0</td>\n",
       "      <td>1014.36</td>\n",
       "      <td>True</td>\n",
       "      <td>2</td>\n",
       "      <td>0</td>\n",
       "      <td>2016</td>\n",
       "      <td>9</td>\n",
       "      <td>9</td>\n",
       "      <td>17</td>\n",
       "    </tr>\n",
       "    <tr>\n",
       "      <th>96446</th>\n",
       "      <td>2016-09-09 18:00:00+00:00</td>\n",
       "      <td>Cloudy Skies</td>\n",
       "      <td>rain</td>\n",
       "      <td>24.583333</td>\n",
       "      <td>24.583333</td>\n",
       "      <td>0.48</td>\n",
       "      <td>10.0947</td>\n",
       "      <td>20</td>\n",
       "      <td>15.5526</td>\n",
       "      <td>0</td>\n",
       "      <td>1015.16</td>\n",
       "      <td>True</td>\n",
       "      <td>2</td>\n",
       "      <td>0</td>\n",
       "      <td>2016</td>\n",
       "      <td>9</td>\n",
       "      <td>9</td>\n",
       "      <td>18</td>\n",
       "    </tr>\n",
       "    <tr>\n",
       "      <th>96447</th>\n",
       "      <td>2016-09-09 19:00:00+00:00</td>\n",
       "      <td>Cloudy Skies</td>\n",
       "      <td>rain</td>\n",
       "      <td>22.038889</td>\n",
       "      <td>22.038889</td>\n",
       "      <td>0.56</td>\n",
       "      <td>8.9838</td>\n",
       "      <td>30</td>\n",
       "      <td>16.1000</td>\n",
       "      <td>0</td>\n",
       "      <td>1015.66</td>\n",
       "      <td>True</td>\n",
       "      <td>2</td>\n",
       "      <td>0</td>\n",
       "      <td>2016</td>\n",
       "      <td>9</td>\n",
       "      <td>9</td>\n",
       "      <td>19</td>\n",
       "    </tr>\n",
       "    <tr>\n",
       "      <th>96448</th>\n",
       "      <td>2016-09-09 20:00:00+00:00</td>\n",
       "      <td>Cloudy Skies</td>\n",
       "      <td>rain</td>\n",
       "      <td>21.522222</td>\n",
       "      <td>21.522222</td>\n",
       "      <td>0.60</td>\n",
       "      <td>10.5294</td>\n",
       "      <td>20</td>\n",
       "      <td>16.1000</td>\n",
       "      <td>0</td>\n",
       "      <td>1015.95</td>\n",
       "      <td>True</td>\n",
       "      <td>2</td>\n",
       "      <td>0</td>\n",
       "      <td>2016</td>\n",
       "      <td>9</td>\n",
       "      <td>9</td>\n",
       "      <td>20</td>\n",
       "    </tr>\n",
       "    <tr>\n",
       "      <th>96449</th>\n",
       "      <td>2016-09-09 21:00:00+00:00</td>\n",
       "      <td>Cloudy Skies</td>\n",
       "      <td>rain</td>\n",
       "      <td>20.438889</td>\n",
       "      <td>20.438889</td>\n",
       "      <td>0.61</td>\n",
       "      <td>5.8765</td>\n",
       "      <td>39</td>\n",
       "      <td>15.5204</td>\n",
       "      <td>0</td>\n",
       "      <td>1016.16</td>\n",
       "      <td>True</td>\n",
       "      <td>2</td>\n",
       "      <td>0</td>\n",
       "      <td>2016</td>\n",
       "      <td>9</td>\n",
       "      <td>9</td>\n",
       "      <td>21</td>\n",
       "    </tr>\n",
       "  </tbody>\n",
       "</table>\n",
       "<p>95883 rows × 18 columns</p>\n",
       "</div>"
      ],
      "text/plain": [
       "                 Formatted Date       Summary Precip Type  Temperature (C)  \\\n",
       "0     2006-03-31 22:00:00+00:00  Cloudy Skies        rain         9.472222   \n",
       "1     2006-03-31 23:00:00+00:00  Cloudy Skies        rain         9.355556   \n",
       "2     2006-04-01 00:00:00+00:00  Cloudy Skies        rain         9.377778   \n",
       "3     2006-04-01 01:00:00+00:00  Cloudy Skies        rain         8.288889   \n",
       "4     2006-04-01 02:00:00+00:00  Cloudy Skies        rain         8.755556   \n",
       "...                         ...           ...         ...              ...   \n",
       "96445 2016-09-09 17:00:00+00:00  Cloudy Skies        rain        26.016667   \n",
       "96446 2016-09-09 18:00:00+00:00  Cloudy Skies        rain        24.583333   \n",
       "96447 2016-09-09 19:00:00+00:00  Cloudy Skies        rain        22.038889   \n",
       "96448 2016-09-09 20:00:00+00:00  Cloudy Skies        rain        21.522222   \n",
       "96449 2016-09-09 21:00:00+00:00  Cloudy Skies        rain        20.438889   \n",
       "\n",
       "       Apparent Temperature (C)  Humidity  Wind Speed (km/h)  \\\n",
       "0                      7.388889      0.89            14.1197   \n",
       "1                      7.227778      0.86            14.2646   \n",
       "2                      9.377778      0.89             3.9284   \n",
       "3                      5.944444      0.83            14.1036   \n",
       "4                      6.977778      0.83            11.0446   \n",
       "...                         ...       ...                ...   \n",
       "96445                 26.016667      0.43            10.9963   \n",
       "96446                 24.583333      0.48            10.0947   \n",
       "96447                 22.038889      0.56             8.9838   \n",
       "96448                 21.522222      0.60            10.5294   \n",
       "96449                 20.438889      0.61             5.8765   \n",
       "\n",
       "       Wind Bearing (degrees)  Visibility (km)  Loud Cover  \\\n",
       "0                         251          15.8263           0   \n",
       "1                         259          15.8263           0   \n",
       "2                         204          14.9569           0   \n",
       "3                         269          15.8263           0   \n",
       "4                         259          15.8263           0   \n",
       "...                       ...              ...         ...   \n",
       "96445                      31          16.1000           0   \n",
       "96446                      20          15.5526           0   \n",
       "96447                      30          16.1000           0   \n",
       "96448                      20          16.1000           0   \n",
       "96449                      39          15.5204           0   \n",
       "\n",
       "       Pressure (millibars)  is_valid_date  Summary_encoded  \\\n",
       "0                   1015.13           True                2   \n",
       "1                   1015.63           True                2   \n",
       "2                   1015.94           True                2   \n",
       "3                   1016.41           True                2   \n",
       "4                   1016.51           True                2   \n",
       "...                     ...            ...              ...   \n",
       "96445               1014.36           True                2   \n",
       "96446               1015.16           True                2   \n",
       "96447               1015.66           True                2   \n",
       "96448               1015.95           True                2   \n",
       "96449               1016.16           True                2   \n",
       "\n",
       "       Precip Type_encoded  Year  Month  Day  Hour  \n",
       "0                        0  2006      3   31    22  \n",
       "1                        0  2006      3   31    23  \n",
       "2                        0  2006      4    1     0  \n",
       "3                        0  2006      4    1     1  \n",
       "4                        0  2006      4    1     2  \n",
       "...                    ...   ...    ...  ...   ...  \n",
       "96445                    0  2016      9    9    17  \n",
       "96446                    0  2016      9    9    18  \n",
       "96447                    0  2016      9    9    19  \n",
       "96448                    0  2016      9    9    20  \n",
       "96449                    0  2016      9    9    21  \n",
       "\n",
       "[95883 rows x 18 columns]"
      ]
     },
     "execution_count": 70,
     "metadata": {},
     "output_type": "execute_result"
    }
   ],
   "source": [
    "weather_hist"
   ]
  },
  {
   "cell_type": "code",
   "execution_count": 71,
   "metadata": {
    "colab": {
     "base_uri": "https://localhost:8080/"
    },
    "id": "_4gWihDRE5b0",
    "outputId": "562767db-0c83-4c2c-f93a-cfc484d8dd3b"
   },
   "outputs": [
    {
     "name": "stdout",
     "output_type": "stream",
     "text": [
      "\n",
      "Summary Mapping:\n"
     ]
    },
    {
     "data": {
      "text/plain": [
       "{2: 'Cloudy Skies',\n",
       " 4: 'Foggy Day',\n",
       " 0: 'Breezy Day',\n",
       " 1: 'Clear Skies',\n",
       " 5: 'Humid Day',\n",
       " 7: 'Windy Day',\n",
       " 3: 'Dry Day',\n",
       " 6: 'Rainy Day'}"
      ]
     },
     "execution_count": 71,
     "metadata": {},
     "output_type": "execute_result"
    }
   ],
   "source": [
    "print(\"\\nSummary Mapping:\")\n",
    "\n",
    "summary_mapping"
   ]
  },
  {
   "cell_type": "code",
   "execution_count": 72,
   "metadata": {
    "colab": {
     "base_uri": "https://localhost:8080/"
    },
    "id": "_ezx4WXUJEYs",
    "outputId": "31890a1f-495c-40de-fe27-93f6c49bc875"
   },
   "outputs": [
    {
     "data": {
      "text/plain": [
       "Cloudy Skies    76035\n",
       "Clear Skies     10744\n",
       "Foggy Day        7155\n",
       "Breezy Day       1484\n",
       "Windy Day         155\n",
       "Dry Day           134\n",
       "Rainy Day         112\n",
       "Humid Day          64\n",
       "Name: Summary, dtype: int64"
      ]
     },
     "execution_count": 72,
     "metadata": {},
     "output_type": "execute_result"
    }
   ],
   "source": [
    "weather_hist['Summary'].value_counts()"
   ]
  },
  {
   "cell_type": "code",
   "execution_count": 73,
   "metadata": {
    "colab": {
     "base_uri": "https://localhost:8080/"
    },
    "id": "qHskC-paE5gg",
    "outputId": "79edbba9-50f1-4edf-8a6f-6746ac394358"
   },
   "outputs": [
    {
     "name": "stdout",
     "output_type": "stream",
     "text": [
      "\n",
      "Precip Type Mapping:\n"
     ]
    },
    {
     "data": {
      "text/plain": [
       "{0: 'rain', 1: 'snow'}"
      ]
     },
     "execution_count": 73,
     "metadata": {},
     "output_type": "execute_result"
    }
   ],
   "source": [
    "print(\"\\nPrecip Type Mapping:\")\n",
    "\n",
    "\n",
    "precip_mapping"
   ]
  },
  {
   "cell_type": "code",
   "execution_count": 74,
   "metadata": {
    "colab": {
     "base_uri": "https://localhost:8080/"
    },
    "id": "f-iiRpjeCm-T",
    "outputId": "b382594d-1302-4c9a-c75a-e1f17e8bbf33"
   },
   "outputs": [
    {
     "name": "stdout",
     "output_type": "stream",
     "text": [
      "Summary Mapping Index:\n",
      "Index(['Cloudy Skies', 'Foggy Day', 'Breezy Day', 'Clear Skies', 'Humid Day',\n",
      "       'Windy Day', 'Dry Day', 'Rainy Day'],\n",
      "      dtype='object')\n",
      "\n",
      "Precip Type Mapping Index:\n",
      "Index(['rain', 'snow'], dtype='object')\n"
     ]
    }
   ],
   "source": [
    "# Assuming 'weather_hist' is your DataFrame\n",
    "\n",
    "# Use factorize to encode 'Summary' and 'Precip Type' columns\n",
    "weather_hist['Summary_encoded'], summary_mapping_index = weather_hist['Summary'].factorize()\n",
    "weather_hist['Precip Type_encoded'], precip_mapping_index = weather_hist['Precip Type'].factorize()\n",
    "\n",
    "# Display the mapping indexes\n",
    "print(\"Summary Mapping Index:\")\n",
    "print(summary_mapping_index)\n",
    "\n",
    "print(\"\\nPrecip Type Mapping Index:\")\n",
    "print(precip_mapping_index)\n"
   ]
  },
  {
   "cell_type": "code",
   "execution_count": 75,
   "metadata": {
    "colab": {
     "base_uri": "https://localhost:8080/"
    },
    "id": "JzmSI0tsDrIP",
    "outputId": "df8d3a4b-b808-489e-fd81-882ae0bf2fe5"
   },
   "outputs": [
    {
     "name": "stdout",
     "output_type": "stream",
     "text": [
      "Unique values in 'Summary' column before encoding:\n",
      "['Cloudy Skies' 'Foggy Day' 'Breezy Day' 'Clear Skies' 'Humid Day'\n",
      " 'Windy Day' 'Dry Day' 'Rainy Day']\n",
      "\n",
      "Unique values in 'Precip Type' column before encoding:\n",
      "['rain' 'snow']\n"
     ]
    }
   ],
   "source": [
    "# Assuming df is your DataFrame\n",
    "\n",
    "# Get the unique values in the 'Summary' column before encoding\n",
    "summary_unique_values = weather_hist['Summary'].unique()\n",
    "\n",
    "# Get the unique values in the 'Precip Type' column before encoding\n",
    "precip_unique_values = weather_hist['Precip Type'].unique()\n",
    "\n",
    "# Display the unique values\n",
    "print(\"Unique values in 'Summary' column before encoding:\")\n",
    "print(summary_unique_values)\n",
    "\n",
    "print(\"\\nUnique values in 'Precip Type' column before encoding:\")\n",
    "print(precip_unique_values)\n"
   ]
  },
  {
   "cell_type": "code",
   "execution_count": 76,
   "metadata": {
    "colab": {
     "base_uri": "https://localhost:8080/",
     "height": 278
    },
    "id": "JYcYFdxqG8y9",
    "outputId": "9b640255-320c-47db-c714-1e45b26fde4d"
   },
   "outputs": [
    {
     "name": "stdout",
     "output_type": "stream",
     "text": [
      "Encoded Weather History DataFrame:\n"
     ]
    },
    {
     "data": {
      "text/html": [
       "<div>\n",
       "<style scoped>\n",
       "    .dataframe tbody tr th:only-of-type {\n",
       "        vertical-align: middle;\n",
       "    }\n",
       "\n",
       "    .dataframe tbody tr th {\n",
       "        vertical-align: top;\n",
       "    }\n",
       "\n",
       "    .dataframe thead th {\n",
       "        text-align: right;\n",
       "    }\n",
       "</style>\n",
       "<table border=\"1\" class=\"dataframe\">\n",
       "  <thead>\n",
       "    <tr style=\"text-align: right;\">\n",
       "      <th></th>\n",
       "      <th>Temperature (C)</th>\n",
       "      <th>Apparent Temperature (C)</th>\n",
       "      <th>Humidity</th>\n",
       "      <th>Wind Speed (km/h)</th>\n",
       "      <th>Wind Bearing (degrees)</th>\n",
       "      <th>Visibility (km)</th>\n",
       "      <th>Loud Cover</th>\n",
       "      <th>Pressure (millibars)</th>\n",
       "      <th>is_valid_date</th>\n",
       "      <th>Summary_encoded</th>\n",
       "      <th>Precip Type_encoded</th>\n",
       "      <th>Year</th>\n",
       "      <th>Month</th>\n",
       "      <th>Day</th>\n",
       "      <th>Hour</th>\n",
       "    </tr>\n",
       "  </thead>\n",
       "  <tbody>\n",
       "    <tr>\n",
       "      <th>0</th>\n",
       "      <td>9.472222</td>\n",
       "      <td>7.388889</td>\n",
       "      <td>0.89</td>\n",
       "      <td>14.1197</td>\n",
       "      <td>251</td>\n",
       "      <td>15.8263</td>\n",
       "      <td>0</td>\n",
       "      <td>1015.13</td>\n",
       "      <td>True</td>\n",
       "      <td>0</td>\n",
       "      <td>0</td>\n",
       "      <td>2006</td>\n",
       "      <td>3</td>\n",
       "      <td>31</td>\n",
       "      <td>22</td>\n",
       "    </tr>\n",
       "    <tr>\n",
       "      <th>1</th>\n",
       "      <td>9.355556</td>\n",
       "      <td>7.227778</td>\n",
       "      <td>0.86</td>\n",
       "      <td>14.2646</td>\n",
       "      <td>259</td>\n",
       "      <td>15.8263</td>\n",
       "      <td>0</td>\n",
       "      <td>1015.63</td>\n",
       "      <td>True</td>\n",
       "      <td>0</td>\n",
       "      <td>0</td>\n",
       "      <td>2006</td>\n",
       "      <td>3</td>\n",
       "      <td>31</td>\n",
       "      <td>23</td>\n",
       "    </tr>\n",
       "    <tr>\n",
       "      <th>2</th>\n",
       "      <td>9.377778</td>\n",
       "      <td>9.377778</td>\n",
       "      <td>0.89</td>\n",
       "      <td>3.9284</td>\n",
       "      <td>204</td>\n",
       "      <td>14.9569</td>\n",
       "      <td>0</td>\n",
       "      <td>1015.94</td>\n",
       "      <td>True</td>\n",
       "      <td>0</td>\n",
       "      <td>0</td>\n",
       "      <td>2006</td>\n",
       "      <td>4</td>\n",
       "      <td>1</td>\n",
       "      <td>0</td>\n",
       "    </tr>\n",
       "    <tr>\n",
       "      <th>3</th>\n",
       "      <td>8.288889</td>\n",
       "      <td>5.944444</td>\n",
       "      <td>0.83</td>\n",
       "      <td>14.1036</td>\n",
       "      <td>269</td>\n",
       "      <td>15.8263</td>\n",
       "      <td>0</td>\n",
       "      <td>1016.41</td>\n",
       "      <td>True</td>\n",
       "      <td>0</td>\n",
       "      <td>0</td>\n",
       "      <td>2006</td>\n",
       "      <td>4</td>\n",
       "      <td>1</td>\n",
       "      <td>1</td>\n",
       "    </tr>\n",
       "    <tr>\n",
       "      <th>4</th>\n",
       "      <td>8.755556</td>\n",
       "      <td>6.977778</td>\n",
       "      <td>0.83</td>\n",
       "      <td>11.0446</td>\n",
       "      <td>259</td>\n",
       "      <td>15.8263</td>\n",
       "      <td>0</td>\n",
       "      <td>1016.51</td>\n",
       "      <td>True</td>\n",
       "      <td>0</td>\n",
       "      <td>0</td>\n",
       "      <td>2006</td>\n",
       "      <td>4</td>\n",
       "      <td>1</td>\n",
       "      <td>2</td>\n",
       "    </tr>\n",
       "  </tbody>\n",
       "</table>\n",
       "</div>"
      ],
      "text/plain": [
       "   Temperature (C)  Apparent Temperature (C)  Humidity  Wind Speed (km/h)  \\\n",
       "0         9.472222                  7.388889      0.89            14.1197   \n",
       "1         9.355556                  7.227778      0.86            14.2646   \n",
       "2         9.377778                  9.377778      0.89             3.9284   \n",
       "3         8.288889                  5.944444      0.83            14.1036   \n",
       "4         8.755556                  6.977778      0.83            11.0446   \n",
       "\n",
       "   Wind Bearing (degrees)  Visibility (km)  Loud Cover  Pressure (millibars)  \\\n",
       "0                     251          15.8263           0               1015.13   \n",
       "1                     259          15.8263           0               1015.63   \n",
       "2                     204          14.9569           0               1015.94   \n",
       "3                     269          15.8263           0               1016.41   \n",
       "4                     259          15.8263           0               1016.51   \n",
       "\n",
       "   is_valid_date  Summary_encoded  Precip Type_encoded  Year  Month  Day  Hour  \n",
       "0           True                0                    0  2006      3   31    22  \n",
       "1           True                0                    0  2006      3   31    23  \n",
       "2           True                0                    0  2006      4    1     0  \n",
       "3           True                0                    0  2006      4    1     1  \n",
       "4           True                0                    0  2006      4    1     2  "
      ]
     },
     "execution_count": 76,
     "metadata": {},
     "output_type": "execute_result"
    }
   ],
   "source": [
    "# Drop original categorical columns\n",
    "weather_hist = weather_hist.drop(columns=['Summary', 'Precip Type', 'Formatted Date'])\n",
    "\n",
    "# Display the updated DataFrame\n",
    "print(\"Encoded Weather History DataFrame:\")\n",
    "weather_hist.head()\n"
   ]
  },
  {
   "cell_type": "code",
   "execution_count": 77,
   "metadata": {
    "colab": {
     "base_uri": "https://localhost:8080/"
    },
    "id": "MdwLBWPr6eho",
    "outputId": "442b2c2a-6990-42a2-e518-eba9108632a8"
   },
   "outputs": [
    {
     "data": {
      "text/plain": [
       "0"
      ]
     },
     "execution_count": 77,
     "metadata": {},
     "output_type": "execute_result"
    }
   ],
   "source": [
    "weather_hist['is_valid_date'].value_counts().get(False, 0)\n"
   ]
  },
  {
   "cell_type": "code",
   "execution_count": 78,
   "metadata": {
    "colab": {
     "base_uri": "https://localhost:8080/"
    },
    "id": "XrSDVP6iADCD",
    "outputId": "b78d314d-58df-4676-a32b-4ae55bd7c78f"
   },
   "outputs": [
    {
     "data": {
      "text/plain": [
       "(95883, 15)"
      ]
     },
     "execution_count": 78,
     "metadata": {},
     "output_type": "execute_result"
    }
   ],
   "source": [
    "weather_hist.shape"
   ]
  },
  {
   "cell_type": "code",
   "execution_count": 79,
   "metadata": {
    "colab": {
     "base_uri": "https://localhost:8080/",
     "height": 261
    },
    "id": "C0BYQuZ8BwbF",
    "outputId": "d641b20e-017f-468a-ebd9-6ce37703e8f4"
   },
   "outputs": [
    {
     "data": {
      "text/html": [
       "<div>\n",
       "<style scoped>\n",
       "    .dataframe tbody tr th:only-of-type {\n",
       "        vertical-align: middle;\n",
       "    }\n",
       "\n",
       "    .dataframe tbody tr th {\n",
       "        vertical-align: top;\n",
       "    }\n",
       "\n",
       "    .dataframe thead th {\n",
       "        text-align: right;\n",
       "    }\n",
       "</style>\n",
       "<table border=\"1\" class=\"dataframe\">\n",
       "  <thead>\n",
       "    <tr style=\"text-align: right;\">\n",
       "      <th></th>\n",
       "      <th>Temperature (C)</th>\n",
       "      <th>Apparent Temperature (C)</th>\n",
       "      <th>Humidity</th>\n",
       "      <th>Wind Speed (km/h)</th>\n",
       "      <th>Wind Bearing (degrees)</th>\n",
       "      <th>Visibility (km)</th>\n",
       "      <th>Loud Cover</th>\n",
       "      <th>Pressure (millibars)</th>\n",
       "      <th>Summary_encoded</th>\n",
       "      <th>Precip Type_encoded</th>\n",
       "      <th>Year</th>\n",
       "      <th>Month</th>\n",
       "      <th>Day</th>\n",
       "      <th>Hour</th>\n",
       "    </tr>\n",
       "  </thead>\n",
       "  <tbody>\n",
       "    <tr>\n",
       "      <th>0</th>\n",
       "      <td>9.472222</td>\n",
       "      <td>7.388889</td>\n",
       "      <td>0.89</td>\n",
       "      <td>14.1197</td>\n",
       "      <td>251</td>\n",
       "      <td>15.8263</td>\n",
       "      <td>0</td>\n",
       "      <td>1015.13</td>\n",
       "      <td>0</td>\n",
       "      <td>0</td>\n",
       "      <td>2006</td>\n",
       "      <td>3</td>\n",
       "      <td>31</td>\n",
       "      <td>22</td>\n",
       "    </tr>\n",
       "    <tr>\n",
       "      <th>1</th>\n",
       "      <td>9.355556</td>\n",
       "      <td>7.227778</td>\n",
       "      <td>0.86</td>\n",
       "      <td>14.2646</td>\n",
       "      <td>259</td>\n",
       "      <td>15.8263</td>\n",
       "      <td>0</td>\n",
       "      <td>1015.63</td>\n",
       "      <td>0</td>\n",
       "      <td>0</td>\n",
       "      <td>2006</td>\n",
       "      <td>3</td>\n",
       "      <td>31</td>\n",
       "      <td>23</td>\n",
       "    </tr>\n",
       "    <tr>\n",
       "      <th>2</th>\n",
       "      <td>9.377778</td>\n",
       "      <td>9.377778</td>\n",
       "      <td>0.89</td>\n",
       "      <td>3.9284</td>\n",
       "      <td>204</td>\n",
       "      <td>14.9569</td>\n",
       "      <td>0</td>\n",
       "      <td>1015.94</td>\n",
       "      <td>0</td>\n",
       "      <td>0</td>\n",
       "      <td>2006</td>\n",
       "      <td>4</td>\n",
       "      <td>1</td>\n",
       "      <td>0</td>\n",
       "    </tr>\n",
       "    <tr>\n",
       "      <th>3</th>\n",
       "      <td>8.288889</td>\n",
       "      <td>5.944444</td>\n",
       "      <td>0.83</td>\n",
       "      <td>14.1036</td>\n",
       "      <td>269</td>\n",
       "      <td>15.8263</td>\n",
       "      <td>0</td>\n",
       "      <td>1016.41</td>\n",
       "      <td>0</td>\n",
       "      <td>0</td>\n",
       "      <td>2006</td>\n",
       "      <td>4</td>\n",
       "      <td>1</td>\n",
       "      <td>1</td>\n",
       "    </tr>\n",
       "    <tr>\n",
       "      <th>4</th>\n",
       "      <td>8.755556</td>\n",
       "      <td>6.977778</td>\n",
       "      <td>0.83</td>\n",
       "      <td>11.0446</td>\n",
       "      <td>259</td>\n",
       "      <td>15.8263</td>\n",
       "      <td>0</td>\n",
       "      <td>1016.51</td>\n",
       "      <td>0</td>\n",
       "      <td>0</td>\n",
       "      <td>2006</td>\n",
       "      <td>4</td>\n",
       "      <td>1</td>\n",
       "      <td>2</td>\n",
       "    </tr>\n",
       "  </tbody>\n",
       "</table>\n",
       "</div>"
      ],
      "text/plain": [
       "   Temperature (C)  Apparent Temperature (C)  Humidity  Wind Speed (km/h)  \\\n",
       "0         9.472222                  7.388889      0.89            14.1197   \n",
       "1         9.355556                  7.227778      0.86            14.2646   \n",
       "2         9.377778                  9.377778      0.89             3.9284   \n",
       "3         8.288889                  5.944444      0.83            14.1036   \n",
       "4         8.755556                  6.977778      0.83            11.0446   \n",
       "\n",
       "   Wind Bearing (degrees)  Visibility (km)  Loud Cover  Pressure (millibars)  \\\n",
       "0                     251          15.8263           0               1015.13   \n",
       "1                     259          15.8263           0               1015.63   \n",
       "2                     204          14.9569           0               1015.94   \n",
       "3                     269          15.8263           0               1016.41   \n",
       "4                     259          15.8263           0               1016.51   \n",
       "\n",
       "   Summary_encoded  Precip Type_encoded  Year  Month  Day  Hour  \n",
       "0                0                    0  2006      3   31    22  \n",
       "1                0                    0  2006      3   31    23  \n",
       "2                0                    0  2006      4    1     0  \n",
       "3                0                    0  2006      4    1     1  \n",
       "4                0                    0  2006      4    1     2  "
      ]
     },
     "execution_count": 79,
     "metadata": {},
     "output_type": "execute_result"
    }
   ],
   "source": [
    "# Assuming df is your DataFrame\n",
    "columns_to_remove = ['is_valid_date']\n",
    "weather_hist = weather_hist.drop(columns=columns_to_remove)\n",
    "\n",
    "# Display the updated DataFrame\n",
    "weather_hist.head()\n"
   ]
  },
  {
   "cell_type": "code",
   "execution_count": 80,
   "metadata": {
    "colab": {
     "base_uri": "https://localhost:8080/",
     "height": 258
    },
    "id": "nWnvOkIrIGjs",
    "outputId": "11e3a47b-13c9-4cda-f7f7-0e17b4fba62d"
   },
   "outputs": [
    {
     "name": "stdout",
     "output_type": "stream",
     "text": [
      "Updated Weather History DataFrame:\n"
     ]
    },
    {
     "data": {
      "text/html": [
       "<div>\n",
       "<style scoped>\n",
       "    .dataframe tbody tr th:only-of-type {\n",
       "        vertical-align: middle;\n",
       "    }\n",
       "\n",
       "    .dataframe tbody tr th {\n",
       "        vertical-align: top;\n",
       "    }\n",
       "\n",
       "    .dataframe thead th {\n",
       "        text-align: right;\n",
       "    }\n",
       "</style>\n",
       "<table border=\"1\" class=\"dataframe\">\n",
       "  <thead>\n",
       "    <tr style=\"text-align: right;\">\n",
       "      <th></th>\n",
       "      <th>Temperature (C)</th>\n",
       "      <th>Apparent Temperature (C)</th>\n",
       "      <th>Humidity</th>\n",
       "      <th>Wind Speed (km/h)</th>\n",
       "      <th>Wind Bearing (degrees)</th>\n",
       "      <th>Visibility (km)</th>\n",
       "      <th>Loud Cover</th>\n",
       "      <th>Pressure (millibars)</th>\n",
       "      <th>Summary</th>\n",
       "      <th>Precip Type</th>\n",
       "      <th>Year</th>\n",
       "      <th>Month</th>\n",
       "      <th>Day</th>\n",
       "      <th>Hour</th>\n",
       "    </tr>\n",
       "  </thead>\n",
       "  <tbody>\n",
       "    <tr>\n",
       "      <th>0</th>\n",
       "      <td>9.472222</td>\n",
       "      <td>7.388889</td>\n",
       "      <td>0.89</td>\n",
       "      <td>14.1197</td>\n",
       "      <td>251</td>\n",
       "      <td>15.8263</td>\n",
       "      <td>0</td>\n",
       "      <td>1015.13</td>\n",
       "      <td>0</td>\n",
       "      <td>0</td>\n",
       "      <td>2006</td>\n",
       "      <td>3</td>\n",
       "      <td>31</td>\n",
       "      <td>22</td>\n",
       "    </tr>\n",
       "    <tr>\n",
       "      <th>1</th>\n",
       "      <td>9.355556</td>\n",
       "      <td>7.227778</td>\n",
       "      <td>0.86</td>\n",
       "      <td>14.2646</td>\n",
       "      <td>259</td>\n",
       "      <td>15.8263</td>\n",
       "      <td>0</td>\n",
       "      <td>1015.63</td>\n",
       "      <td>0</td>\n",
       "      <td>0</td>\n",
       "      <td>2006</td>\n",
       "      <td>3</td>\n",
       "      <td>31</td>\n",
       "      <td>23</td>\n",
       "    </tr>\n",
       "    <tr>\n",
       "      <th>2</th>\n",
       "      <td>9.377778</td>\n",
       "      <td>9.377778</td>\n",
       "      <td>0.89</td>\n",
       "      <td>3.9284</td>\n",
       "      <td>204</td>\n",
       "      <td>14.9569</td>\n",
       "      <td>0</td>\n",
       "      <td>1015.94</td>\n",
       "      <td>0</td>\n",
       "      <td>0</td>\n",
       "      <td>2006</td>\n",
       "      <td>4</td>\n",
       "      <td>1</td>\n",
       "      <td>0</td>\n",
       "    </tr>\n",
       "    <tr>\n",
       "      <th>3</th>\n",
       "      <td>8.288889</td>\n",
       "      <td>5.944444</td>\n",
       "      <td>0.83</td>\n",
       "      <td>14.1036</td>\n",
       "      <td>269</td>\n",
       "      <td>15.8263</td>\n",
       "      <td>0</td>\n",
       "      <td>1016.41</td>\n",
       "      <td>0</td>\n",
       "      <td>0</td>\n",
       "      <td>2006</td>\n",
       "      <td>4</td>\n",
       "      <td>1</td>\n",
       "      <td>1</td>\n",
       "    </tr>\n",
       "    <tr>\n",
       "      <th>4</th>\n",
       "      <td>8.755556</td>\n",
       "      <td>6.977778</td>\n",
       "      <td>0.83</td>\n",
       "      <td>11.0446</td>\n",
       "      <td>259</td>\n",
       "      <td>15.8263</td>\n",
       "      <td>0</td>\n",
       "      <td>1016.51</td>\n",
       "      <td>0</td>\n",
       "      <td>0</td>\n",
       "      <td>2006</td>\n",
       "      <td>4</td>\n",
       "      <td>1</td>\n",
       "      <td>2</td>\n",
       "    </tr>\n",
       "  </tbody>\n",
       "</table>\n",
       "</div>"
      ],
      "text/plain": [
       "   Temperature (C)  Apparent Temperature (C)  Humidity  Wind Speed (km/h)  \\\n",
       "0         9.472222                  7.388889      0.89            14.1197   \n",
       "1         9.355556                  7.227778      0.86            14.2646   \n",
       "2         9.377778                  9.377778      0.89             3.9284   \n",
       "3         8.288889                  5.944444      0.83            14.1036   \n",
       "4         8.755556                  6.977778      0.83            11.0446   \n",
       "\n",
       "   Wind Bearing (degrees)  Visibility (km)  Loud Cover  Pressure (millibars)  \\\n",
       "0                     251          15.8263           0               1015.13   \n",
       "1                     259          15.8263           0               1015.63   \n",
       "2                     204          14.9569           0               1015.94   \n",
       "3                     269          15.8263           0               1016.41   \n",
       "4                     259          15.8263           0               1016.51   \n",
       "\n",
       "   Summary  Precip Type  Year  Month  Day  Hour  \n",
       "0        0            0  2006      3   31    22  \n",
       "1        0            0  2006      3   31    23  \n",
       "2        0            0  2006      4    1     0  \n",
       "3        0            0  2006      4    1     1  \n",
       "4        0            0  2006      4    1     2  "
      ]
     },
     "execution_count": 80,
     "metadata": {},
     "output_type": "execute_result"
    }
   ],
   "source": [
    "# Rename the columns\n",
    "weather_hist = weather_hist.rename(columns={'Summary_encoded': 'Summary', 'Precip Type_encoded': 'Precip Type'})\n",
    "\n",
    "# Display the updated DataFrame\n",
    "print(\"Updated Weather History DataFrame:\")\n",
    "weather_hist.head()\n"
   ]
  },
  {
   "cell_type": "code",
   "execution_count": 81,
   "metadata": {
    "colab": {
     "base_uri": "https://localhost:8080/"
    },
    "id": "EUIB4S5-BwiR",
    "outputId": "aa5c502b-d0f4-47f5-e5f0-f859f503292c"
   },
   "outputs": [
    {
     "name": "stdout",
     "output_type": "stream",
     "text": [
      "<class 'pandas.core.frame.DataFrame'>\n",
      "Int64Index: 95883 entries, 0 to 96449\n",
      "Data columns (total 14 columns):\n",
      " #   Column                    Non-Null Count  Dtype  \n",
      "---  ------                    --------------  -----  \n",
      " 0   Temperature (C)           95883 non-null  float64\n",
      " 1   Apparent Temperature (C)  95883 non-null  float64\n",
      " 2   Humidity                  95883 non-null  float64\n",
      " 3   Wind Speed (km/h)         95883 non-null  float64\n",
      " 4   Wind Bearing (degrees)    95883 non-null  int64  \n",
      " 5   Visibility (km)           95883 non-null  float64\n",
      " 6   Loud Cover                95883 non-null  int64  \n",
      " 7   Pressure (millibars)      95883 non-null  float64\n",
      " 8   Summary                   95883 non-null  int64  \n",
      " 9   Precip Type               95883 non-null  int64  \n",
      " 10  Year                      95883 non-null  int64  \n",
      " 11  Month                     95883 non-null  int64  \n",
      " 12  Day                       95883 non-null  int64  \n",
      " 13  Hour                      95883 non-null  int64  \n",
      "dtypes: float64(6), int64(8)\n",
      "memory usage: 11.0 MB\n"
     ]
    }
   ],
   "source": [
    "weather_hist.info()"
   ]
  },
  {
   "cell_type": "code",
   "execution_count": 82,
   "metadata": {
    "colab": {
     "base_uri": "https://localhost:8080/"
    },
    "id": "VThtunJJBwn6",
    "outputId": "2fb9c616-617c-442b-e567-824f339442a9"
   },
   "outputs": [
    {
     "name": "stdout",
     "output_type": "stream",
     "text": [
      "Missing values:\n"
     ]
    },
    {
     "data": {
      "text/plain": [
       "Temperature (C)             0\n",
       "Apparent Temperature (C)    0\n",
       "Humidity                    0\n",
       "Wind Speed (km/h)           0\n",
       "Wind Bearing (degrees)      0\n",
       "Visibility (km)             0\n",
       "Loud Cover                  0\n",
       "Pressure (millibars)        0\n",
       "Summary                     0\n",
       "Precip Type                 0\n",
       "Year                        0\n",
       "Month                       0\n",
       "Day                         0\n",
       "Hour                        0\n",
       "dtype: int64"
      ]
     },
     "execution_count": 82,
     "metadata": {},
     "output_type": "execute_result"
    }
   ],
   "source": [
    "missing_values = weather_hist.isnull().sum()\n",
    "print(\"Missing values:\")\n",
    "missing_values\n"
   ]
  },
  {
   "cell_type": "code",
   "execution_count": 83,
   "metadata": {
    "colab": {
     "base_uri": "https://localhost:8080/",
     "height": 119
    },
    "id": "FHi6iC7CBwss",
    "outputId": "557e4642-44b1-4f0a-fd9f-36725792ed63"
   },
   "outputs": [
    {
     "name": "stdout",
     "output_type": "stream",
     "text": [
      "\n",
      "Duplicate rows:\n"
     ]
    },
    {
     "data": {
      "text/html": [
       "<div>\n",
       "<style scoped>\n",
       "    .dataframe tbody tr th:only-of-type {\n",
       "        vertical-align: middle;\n",
       "    }\n",
       "\n",
       "    .dataframe tbody tr th {\n",
       "        vertical-align: top;\n",
       "    }\n",
       "\n",
       "    .dataframe thead th {\n",
       "        text-align: right;\n",
       "    }\n",
       "</style>\n",
       "<table border=\"1\" class=\"dataframe\">\n",
       "  <thead>\n",
       "    <tr style=\"text-align: right;\">\n",
       "      <th></th>\n",
       "      <th>Temperature (C)</th>\n",
       "      <th>Apparent Temperature (C)</th>\n",
       "      <th>Humidity</th>\n",
       "      <th>Wind Speed (km/h)</th>\n",
       "      <th>Wind Bearing (degrees)</th>\n",
       "      <th>Visibility (km)</th>\n",
       "      <th>Loud Cover</th>\n",
       "      <th>Pressure (millibars)</th>\n",
       "      <th>Summary</th>\n",
       "      <th>Precip Type</th>\n",
       "      <th>Year</th>\n",
       "      <th>Month</th>\n",
       "      <th>Day</th>\n",
       "      <th>Hour</th>\n",
       "    </tr>\n",
       "  </thead>\n",
       "  <tbody>\n",
       "  </tbody>\n",
       "</table>\n",
       "</div>"
      ],
      "text/plain": [
       "Empty DataFrame\n",
       "Columns: [Temperature (C), Apparent Temperature (C), Humidity, Wind Speed (km/h), Wind Bearing (degrees), Visibility (km), Loud Cover, Pressure (millibars), Summary, Precip Type, Year, Month, Day, Hour]\n",
       "Index: []"
      ]
     },
     "execution_count": 83,
     "metadata": {},
     "output_type": "execute_result"
    }
   ],
   "source": [
    "duplicate_rows = weather_hist[weather_hist.duplicated()]\n",
    "print(\"\\nDuplicate rows:\")\n",
    "duplicate_rows\n"
   ]
  },
  {
   "cell_type": "code",
   "execution_count": 84,
   "metadata": {
    "colab": {
     "base_uri": "https://localhost:8080/"
    },
    "id": "hrfbd0XEI6Xf",
    "outputId": "bd269edb-6791-4c65-95a9-53f26a467350"
   },
   "outputs": [
    {
     "name": "stdout",
     "output_type": "stream",
     "text": [
      "\n",
      "Null values:\n"
     ]
    },
    {
     "data": {
      "text/plain": [
       "Temperature (C)             0\n",
       "Apparent Temperature (C)    0\n",
       "Humidity                    0\n",
       "Wind Speed (km/h)           0\n",
       "Wind Bearing (degrees)      0\n",
       "Visibility (km)             0\n",
       "Loud Cover                  0\n",
       "Pressure (millibars)        0\n",
       "Summary                     0\n",
       "Precip Type                 0\n",
       "Year                        0\n",
       "Month                       0\n",
       "Day                         0\n",
       "Hour                        0\n",
       "dtype: int64"
      ]
     },
     "execution_count": 84,
     "metadata": {},
     "output_type": "execute_result"
    }
   ],
   "source": [
    "null_values = weather_hist.isna().sum()\n",
    "print(\"\\nNull values:\")\n",
    "null_values\n"
   ]
  },
  {
   "cell_type": "code",
   "execution_count": 85,
   "metadata": {
    "id": "22rBO4iy9SmN"
   },
   "outputs": [],
   "source": [
    "from sklearn.model_selection import train_test_split\n",
    "from xgboost import XGBClassifier\n",
    "from sklearn.metrics import accuracy_score\n",
    "from sklearn.model_selection import GridSearchCV\n",
    "import optuna\n",
    "from sklearn.model_selection import cross_val_score\n",
    "\n",
    "# Split the dataset into features (X) and target variable (y)\n",
    "X = weather_hist.drop(['Summary'], axis=1)\n",
    "y = weather_hist['Summary']\n",
    "\n",
    "\n",
    "\n",
    "# Split the dataset into training and testing sets\n",
    "X_train, X_test, y_train, y_test = train_test_split(X, y, test_size=0.2, random_state=42)\n",
    "\n",
    "\n",
    "def objective(trial):\n",
    "    param = {\n",
    "        'objective': 'multi:softmax',\n",
    "        'num_class': 8,\n",
    "        'eval_metric': 'mlogloss',\n",
    "        'eta': trial.suggest_float('eta', 0.01, 0.3),\n",
    "        'max_depth': trial.suggest_int('max_depth', 3, 10),\n",
    "        'min_child_weight': trial.suggest_int('min_child_weight', 1, 10),\n",
    "        'subsample': trial.suggest_float('subsample', 0.5, 1.0),\n",
    "        'colsample_bytree': trial.suggest_float('colsample_bytree', 0.5, 1.0),\n",
    "        'gamma': trial.suggest_float('gamma', 0, 0.5),\n",
    "        'verbosity': 0\n",
    "    }\n",
    "\n",
    "    model = XGBClassifier(**param)\n",
    "    scores = cross_val_score(model, X, y, cv=5)\n",
    "    accuracy = scores.mean()\n",
    "    return accuracy"
   ]
  },
  {
   "cell_type": "code",
   "execution_count": 86,
   "metadata": {
    "colab": {
     "base_uri": "https://localhost:8080/"
    },
    "id": "-gJD0HpmIer0",
    "outputId": "5f59ec3b-bf5b-4cbe-a081-372bc98ede91",
    "scrolled": false
   },
   "outputs": [
    {
     "name": "stderr",
     "output_type": "stream",
     "text": [
      "[I 2024-03-26 12:38:07,850] A new study created in memory with name: no-name-0eb53e37-fa64-45d3-bfc0-ff5e4687e490\n",
      "[I 2024-03-26 12:38:24,090] Trial 0 finished with value: 0.5214712206418006 and parameters: {'eta': 0.2217829879560367, 'max_depth': 8, 'min_child_weight': 9, 'subsample': 0.9973659584606673, 'colsample_bytree': 0.9821699271238529, 'gamma': 0.03727837419929664}. Best is trial 0 with value: 0.5214712206418006.\n",
      "[I 2024-03-26 12:38:42,944] Trial 1 finished with value: 0.4875534518920408 and parameters: {'eta': 0.14163855607365497, 'max_depth': 5, 'min_child_weight': 7, 'subsample': 0.9755170370622304, 'colsample_bytree': 0.9008199096593796, 'gamma': 0.08582287585540083}. Best is trial 0 with value: 0.5214712206418006.\n",
      "[I 2024-03-26 12:39:00,754] Trial 2 finished with value: 0.5199683975134568 and parameters: {'eta': 0.27902777901062853, 'max_depth': 3, 'min_child_weight': 8, 'subsample': 0.8037717871668612, 'colsample_bytree': 0.740487882883859, 'gamma': 0.031275124465808546}. Best is trial 0 with value: 0.5214712206418006.\n",
      "[I 2024-03-26 12:39:21,701] Trial 3 finished with value: 0.5221910605565887 and parameters: {'eta': 0.2434105501024823, 'max_depth': 8, 'min_child_weight': 10, 'subsample': 0.8196174808274233, 'colsample_bytree': 0.9914998469889094, 'gamma': 0.2746906766344257}. Best is trial 3 with value: 0.5221910605565887.\n",
      "[I 2024-03-26 12:39:42,456] Trial 4 finished with value: 0.5039078751883215 and parameters: {'eta': 0.2862158719000081, 'max_depth': 7, 'min_child_weight': 5, 'subsample': 0.7205385230748378, 'colsample_bytree': 0.8152628287204208, 'gamma': 0.2795339436846519}. Best is trial 3 with value: 0.5221910605565887.\n",
      "[I 2024-03-26 12:40:01,329] Trial 5 finished with value: 0.5398052193398742 and parameters: {'eta': 0.28380041306047427, 'max_depth': 3, 'min_child_weight': 4, 'subsample': 0.5638810698737957, 'colsample_bytree': 0.792007100373715, 'gamma': 0.06039701363248284}. Best is trial 5 with value: 0.5398052193398742.\n",
      "[I 2024-03-26 12:40:25,601] Trial 6 finished with value: 0.522295004626009 and parameters: {'eta': 0.2946065591707067, 'max_depth': 10, 'min_child_weight': 5, 'subsample': 0.8630931959044604, 'colsample_bytree': 0.7424396973182803, 'gamma': 0.11296372106239955}. Best is trial 5 with value: 0.5398052193398742.\n",
      "[I 2024-03-26 12:40:42,870] Trial 7 finished with value: 0.6833745001252958 and parameters: {'eta': 0.029524220090897647, 'max_depth': 3, 'min_child_weight': 4, 'subsample': 0.939828840056454, 'colsample_bytree': 0.5245761498964427, 'gamma': 0.398554165808383}. Best is trial 7 with value: 0.6833745001252958.\n",
      "[W 2024-03-26 12:40:57,167] Trial 8 failed with parameters: {'eta': 0.15714573669911802, 'max_depth': 6, 'min_child_weight': 1, 'subsample': 0.5956300696123711, 'colsample_bytree': 0.7270816592712371, 'gamma': 0.15544839014959694} because of the following error: KeyboardInterrupt().\n",
      "Traceback (most recent call last):\n",
      "  File \"C:\\Users\\student\\anaconda3\\lib\\site-packages\\optuna\\study\\_optimize.py\", line 196, in _run_trial\n",
      "    value_or_values = func(trial)\n",
      "  File \"C:\\Users\\student\\AppData\\Local\\Temp\\ipykernel_11308\\2904602419.py\", line 33, in objective\n",
      "    scores = cross_val_score(model, X, y, cv=5)\n",
      "  File \"C:\\Users\\student\\anaconda3\\lib\\site-packages\\sklearn\\model_selection\\_validation.py\", line 509, in cross_val_score\n",
      "    cv_results = cross_validate(\n",
      "  File \"C:\\Users\\student\\anaconda3\\lib\\site-packages\\sklearn\\model_selection\\_validation.py\", line 267, in cross_validate\n",
      "    results = parallel(\n",
      "  File \"C:\\Users\\student\\anaconda3\\lib\\site-packages\\joblib\\parallel.py\", line 1863, in __call__\n",
      "    return output if self.return_generator else list(output)\n",
      "  File \"C:\\Users\\student\\anaconda3\\lib\\site-packages\\joblib\\parallel.py\", line 1792, in _get_sequential_output\n",
      "    res = func(*args, **kwargs)\n",
      "  File \"C:\\Users\\student\\anaconda3\\lib\\site-packages\\sklearn\\utils\\fixes.py\", line 216, in __call__\n",
      "    return self.function(*args, **kwargs)\n",
      "  File \"C:\\Users\\student\\anaconda3\\lib\\site-packages\\sklearn\\model_selection\\_validation.py\", line 680, in _fit_and_score\n",
      "    estimator.fit(X_train, y_train, **fit_params)\n",
      "  File \"C:\\Users\\student\\anaconda3\\lib\\site-packages\\xgboost\\core.py\", line 730, in inner_f\n",
      "    return func(**kwargs)\n",
      "  File \"C:\\Users\\student\\anaconda3\\lib\\site-packages\\xgboost\\sklearn.py\", line 1519, in fit\n",
      "    self._Booster = train(\n",
      "  File \"C:\\Users\\student\\anaconda3\\lib\\site-packages\\xgboost\\core.py\", line 730, in inner_f\n",
      "    return func(**kwargs)\n",
      "  File \"C:\\Users\\student\\anaconda3\\lib\\site-packages\\xgboost\\training.py\", line 181, in train\n",
      "    bst.update(dtrain, i, obj)\n",
      "  File \"C:\\Users\\student\\anaconda3\\lib\\site-packages\\xgboost\\core.py\", line 2051, in update\n",
      "    _LIB.XGBoosterUpdateOneIter(\n",
      "KeyboardInterrupt\n",
      "[W 2024-03-26 12:40:57,170] Trial 8 failed with value None.\n"
     ]
    },
    {
     "ename": "KeyboardInterrupt",
     "evalue": "",
     "output_type": "error",
     "traceback": [
      "\u001b[1;31m---------------------------------------------------------------------------\u001b[0m",
      "\u001b[1;31mKeyboardInterrupt\u001b[0m                         Traceback (most recent call last)",
      "\u001b[1;32m~\\AppData\\Local\\Temp\\ipykernel_11308\\3267595440.py\u001b[0m in \u001b[0;36m<module>\u001b[1;34m\u001b[0m\n\u001b[0;32m      1\u001b[0m \u001b[0mstudy\u001b[0m \u001b[1;33m=\u001b[0m \u001b[0moptuna\u001b[0m\u001b[1;33m.\u001b[0m\u001b[0mcreate_study\u001b[0m\u001b[1;33m(\u001b[0m\u001b[0mdirection\u001b[0m\u001b[1;33m=\u001b[0m\u001b[1;34m'maximize'\u001b[0m\u001b[1;33m)\u001b[0m\u001b[1;33m\u001b[0m\u001b[1;33m\u001b[0m\u001b[0m\n\u001b[1;32m----> 2\u001b[1;33m \u001b[0mstudy\u001b[0m\u001b[1;33m.\u001b[0m\u001b[0moptimize\u001b[0m\u001b[1;33m(\u001b[0m\u001b[0mobjective\u001b[0m\u001b[1;33m,\u001b[0m \u001b[0mn_trials\u001b[0m\u001b[1;33m=\u001b[0m\u001b[1;36m100\u001b[0m\u001b[1;33m)\u001b[0m\u001b[1;33m\u001b[0m\u001b[1;33m\u001b[0m\u001b[0m\n\u001b[0m",
      "\u001b[1;32m~\\anaconda3\\lib\\site-packages\\optuna\\study\\study.py\u001b[0m in \u001b[0;36moptimize\u001b[1;34m(self, func, n_trials, timeout, n_jobs, catch, callbacks, gc_after_trial, show_progress_bar)\u001b[0m\n\u001b[0;32m    449\u001b[0m                 \u001b[0mIf\u001b[0m \u001b[0mnested\u001b[0m \u001b[0minvocation\u001b[0m \u001b[0mof\u001b[0m \u001b[0mthis\u001b[0m \u001b[0mmethod\u001b[0m \u001b[0moccurs\u001b[0m\u001b[1;33m.\u001b[0m\u001b[1;33m\u001b[0m\u001b[1;33m\u001b[0m\u001b[0m\n\u001b[0;32m    450\u001b[0m         \"\"\"\n\u001b[1;32m--> 451\u001b[1;33m         _optimize(\n\u001b[0m\u001b[0;32m    452\u001b[0m             \u001b[0mstudy\u001b[0m\u001b[1;33m=\u001b[0m\u001b[0mself\u001b[0m\u001b[1;33m,\u001b[0m\u001b[1;33m\u001b[0m\u001b[1;33m\u001b[0m\u001b[0m\n\u001b[0;32m    453\u001b[0m             \u001b[0mfunc\u001b[0m\u001b[1;33m=\u001b[0m\u001b[0mfunc\u001b[0m\u001b[1;33m,\u001b[0m\u001b[1;33m\u001b[0m\u001b[1;33m\u001b[0m\u001b[0m\n",
      "\u001b[1;32m~\\anaconda3\\lib\\site-packages\\optuna\\study\\_optimize.py\u001b[0m in \u001b[0;36m_optimize\u001b[1;34m(study, func, n_trials, timeout, n_jobs, catch, callbacks, gc_after_trial, show_progress_bar)\u001b[0m\n\u001b[0;32m     60\u001b[0m     \u001b[1;32mtry\u001b[0m\u001b[1;33m:\u001b[0m\u001b[1;33m\u001b[0m\u001b[1;33m\u001b[0m\u001b[0m\n\u001b[0;32m     61\u001b[0m         \u001b[1;32mif\u001b[0m \u001b[0mn_jobs\u001b[0m \u001b[1;33m==\u001b[0m \u001b[1;36m1\u001b[0m\u001b[1;33m:\u001b[0m\u001b[1;33m\u001b[0m\u001b[1;33m\u001b[0m\u001b[0m\n\u001b[1;32m---> 62\u001b[1;33m             _optimize_sequential(\n\u001b[0m\u001b[0;32m     63\u001b[0m                 \u001b[0mstudy\u001b[0m\u001b[1;33m,\u001b[0m\u001b[1;33m\u001b[0m\u001b[1;33m\u001b[0m\u001b[0m\n\u001b[0;32m     64\u001b[0m                 \u001b[0mfunc\u001b[0m\u001b[1;33m,\u001b[0m\u001b[1;33m\u001b[0m\u001b[1;33m\u001b[0m\u001b[0m\n",
      "\u001b[1;32m~\\anaconda3\\lib\\site-packages\\optuna\\study\\_optimize.py\u001b[0m in \u001b[0;36m_optimize_sequential\u001b[1;34m(study, func, n_trials, timeout, catch, callbacks, gc_after_trial, reseed_sampler_rng, time_start, progress_bar)\u001b[0m\n\u001b[0;32m    157\u001b[0m \u001b[1;33m\u001b[0m\u001b[0m\n\u001b[0;32m    158\u001b[0m         \u001b[1;32mtry\u001b[0m\u001b[1;33m:\u001b[0m\u001b[1;33m\u001b[0m\u001b[1;33m\u001b[0m\u001b[0m\n\u001b[1;32m--> 159\u001b[1;33m             \u001b[0mfrozen_trial\u001b[0m \u001b[1;33m=\u001b[0m \u001b[0m_run_trial\u001b[0m\u001b[1;33m(\u001b[0m\u001b[0mstudy\u001b[0m\u001b[1;33m,\u001b[0m \u001b[0mfunc\u001b[0m\u001b[1;33m,\u001b[0m \u001b[0mcatch\u001b[0m\u001b[1;33m)\u001b[0m\u001b[1;33m\u001b[0m\u001b[1;33m\u001b[0m\u001b[0m\n\u001b[0m\u001b[0;32m    160\u001b[0m         \u001b[1;32mfinally\u001b[0m\u001b[1;33m:\u001b[0m\u001b[1;33m\u001b[0m\u001b[1;33m\u001b[0m\u001b[0m\n\u001b[0;32m    161\u001b[0m             \u001b[1;31m# The following line mitigates memory problems that can be occurred in some\u001b[0m\u001b[1;33m\u001b[0m\u001b[1;33m\u001b[0m\u001b[0m\n",
      "\u001b[1;32m~\\anaconda3\\lib\\site-packages\\optuna\\study\\_optimize.py\u001b[0m in \u001b[0;36m_run_trial\u001b[1;34m(study, func, catch)\u001b[0m\n\u001b[0;32m    245\u001b[0m         \u001b[1;32mand\u001b[0m \u001b[1;32mnot\u001b[0m \u001b[0misinstance\u001b[0m\u001b[1;33m(\u001b[0m\u001b[0mfunc_err\u001b[0m\u001b[1;33m,\u001b[0m \u001b[0mcatch\u001b[0m\u001b[1;33m)\u001b[0m\u001b[1;33m\u001b[0m\u001b[1;33m\u001b[0m\u001b[0m\n\u001b[0;32m    246\u001b[0m     ):\n\u001b[1;32m--> 247\u001b[1;33m         \u001b[1;32mraise\u001b[0m \u001b[0mfunc_err\u001b[0m\u001b[1;33m\u001b[0m\u001b[1;33m\u001b[0m\u001b[0m\n\u001b[0m\u001b[0;32m    248\u001b[0m     \u001b[1;32mreturn\u001b[0m \u001b[0mfrozen_trial\u001b[0m\u001b[1;33m\u001b[0m\u001b[1;33m\u001b[0m\u001b[0m\n\u001b[0;32m    249\u001b[0m \u001b[1;33m\u001b[0m\u001b[0m\n",
      "\u001b[1;32m~\\anaconda3\\lib\\site-packages\\optuna\\study\\_optimize.py\u001b[0m in \u001b[0;36m_run_trial\u001b[1;34m(study, func, catch)\u001b[0m\n\u001b[0;32m    194\u001b[0m     \u001b[1;32mwith\u001b[0m \u001b[0mget_heartbeat_thread\u001b[0m\u001b[1;33m(\u001b[0m\u001b[0mtrial\u001b[0m\u001b[1;33m.\u001b[0m\u001b[0m_trial_id\u001b[0m\u001b[1;33m,\u001b[0m \u001b[0mstudy\u001b[0m\u001b[1;33m.\u001b[0m\u001b[0m_storage\u001b[0m\u001b[1;33m)\u001b[0m\u001b[1;33m:\u001b[0m\u001b[1;33m\u001b[0m\u001b[1;33m\u001b[0m\u001b[0m\n\u001b[0;32m    195\u001b[0m         \u001b[1;32mtry\u001b[0m\u001b[1;33m:\u001b[0m\u001b[1;33m\u001b[0m\u001b[1;33m\u001b[0m\u001b[0m\n\u001b[1;32m--> 196\u001b[1;33m             \u001b[0mvalue_or_values\u001b[0m \u001b[1;33m=\u001b[0m \u001b[0mfunc\u001b[0m\u001b[1;33m(\u001b[0m\u001b[0mtrial\u001b[0m\u001b[1;33m)\u001b[0m\u001b[1;33m\u001b[0m\u001b[1;33m\u001b[0m\u001b[0m\n\u001b[0m\u001b[0;32m    197\u001b[0m         \u001b[1;32mexcept\u001b[0m \u001b[0mexceptions\u001b[0m\u001b[1;33m.\u001b[0m\u001b[0mTrialPruned\u001b[0m \u001b[1;32mas\u001b[0m \u001b[0me\u001b[0m\u001b[1;33m:\u001b[0m\u001b[1;33m\u001b[0m\u001b[1;33m\u001b[0m\u001b[0m\n\u001b[0;32m    198\u001b[0m             \u001b[1;31m# TODO(mamu): Handle multi-objective cases.\u001b[0m\u001b[1;33m\u001b[0m\u001b[1;33m\u001b[0m\u001b[0m\n",
      "\u001b[1;32m~\\AppData\\Local\\Temp\\ipykernel_11308\\2904602419.py\u001b[0m in \u001b[0;36mobjective\u001b[1;34m(trial)\u001b[0m\n\u001b[0;32m     31\u001b[0m \u001b[1;33m\u001b[0m\u001b[0m\n\u001b[0;32m     32\u001b[0m     \u001b[0mmodel\u001b[0m \u001b[1;33m=\u001b[0m \u001b[0mXGBClassifier\u001b[0m\u001b[1;33m(\u001b[0m\u001b[1;33m**\u001b[0m\u001b[0mparam\u001b[0m\u001b[1;33m)\u001b[0m\u001b[1;33m\u001b[0m\u001b[1;33m\u001b[0m\u001b[0m\n\u001b[1;32m---> 33\u001b[1;33m     \u001b[0mscores\u001b[0m \u001b[1;33m=\u001b[0m \u001b[0mcross_val_score\u001b[0m\u001b[1;33m(\u001b[0m\u001b[0mmodel\u001b[0m\u001b[1;33m,\u001b[0m \u001b[0mX\u001b[0m\u001b[1;33m,\u001b[0m \u001b[0my\u001b[0m\u001b[1;33m,\u001b[0m \u001b[0mcv\u001b[0m\u001b[1;33m=\u001b[0m\u001b[1;36m5\u001b[0m\u001b[1;33m)\u001b[0m\u001b[1;33m\u001b[0m\u001b[1;33m\u001b[0m\u001b[0m\n\u001b[0m\u001b[0;32m     34\u001b[0m     \u001b[0maccuracy\u001b[0m \u001b[1;33m=\u001b[0m \u001b[0mscores\u001b[0m\u001b[1;33m.\u001b[0m\u001b[0mmean\u001b[0m\u001b[1;33m(\u001b[0m\u001b[1;33m)\u001b[0m\u001b[1;33m\u001b[0m\u001b[1;33m\u001b[0m\u001b[0m\n\u001b[0;32m     35\u001b[0m     \u001b[1;32mreturn\u001b[0m \u001b[0maccuracy\u001b[0m\u001b[1;33m\u001b[0m\u001b[1;33m\u001b[0m\u001b[0m\n",
      "\u001b[1;32m~\\anaconda3\\lib\\site-packages\\sklearn\\model_selection\\_validation.py\u001b[0m in \u001b[0;36mcross_val_score\u001b[1;34m(estimator, X, y, groups, scoring, cv, n_jobs, verbose, fit_params, pre_dispatch, error_score)\u001b[0m\n\u001b[0;32m    507\u001b[0m     \u001b[0mscorer\u001b[0m \u001b[1;33m=\u001b[0m \u001b[0mcheck_scoring\u001b[0m\u001b[1;33m(\u001b[0m\u001b[0mestimator\u001b[0m\u001b[1;33m,\u001b[0m \u001b[0mscoring\u001b[0m\u001b[1;33m=\u001b[0m\u001b[0mscoring\u001b[0m\u001b[1;33m)\u001b[0m\u001b[1;33m\u001b[0m\u001b[1;33m\u001b[0m\u001b[0m\n\u001b[0;32m    508\u001b[0m \u001b[1;33m\u001b[0m\u001b[0m\n\u001b[1;32m--> 509\u001b[1;33m     cv_results = cross_validate(\n\u001b[0m\u001b[0;32m    510\u001b[0m         \u001b[0mestimator\u001b[0m\u001b[1;33m=\u001b[0m\u001b[0mestimator\u001b[0m\u001b[1;33m,\u001b[0m\u001b[1;33m\u001b[0m\u001b[1;33m\u001b[0m\u001b[0m\n\u001b[0;32m    511\u001b[0m         \u001b[0mX\u001b[0m\u001b[1;33m=\u001b[0m\u001b[0mX\u001b[0m\u001b[1;33m,\u001b[0m\u001b[1;33m\u001b[0m\u001b[1;33m\u001b[0m\u001b[0m\n",
      "\u001b[1;32m~\\anaconda3\\lib\\site-packages\\sklearn\\model_selection\\_validation.py\u001b[0m in \u001b[0;36mcross_validate\u001b[1;34m(estimator, X, y, groups, scoring, cv, n_jobs, verbose, fit_params, pre_dispatch, return_train_score, return_estimator, error_score)\u001b[0m\n\u001b[0;32m    265\u001b[0m     \u001b[1;31m# independent, and that it is pickle-able.\u001b[0m\u001b[1;33m\u001b[0m\u001b[1;33m\u001b[0m\u001b[0m\n\u001b[0;32m    266\u001b[0m     \u001b[0mparallel\u001b[0m \u001b[1;33m=\u001b[0m \u001b[0mParallel\u001b[0m\u001b[1;33m(\u001b[0m\u001b[0mn_jobs\u001b[0m\u001b[1;33m=\u001b[0m\u001b[0mn_jobs\u001b[0m\u001b[1;33m,\u001b[0m \u001b[0mverbose\u001b[0m\u001b[1;33m=\u001b[0m\u001b[0mverbose\u001b[0m\u001b[1;33m,\u001b[0m \u001b[0mpre_dispatch\u001b[0m\u001b[1;33m=\u001b[0m\u001b[0mpre_dispatch\u001b[0m\u001b[1;33m)\u001b[0m\u001b[1;33m\u001b[0m\u001b[1;33m\u001b[0m\u001b[0m\n\u001b[1;32m--> 267\u001b[1;33m     results = parallel(\n\u001b[0m\u001b[0;32m    268\u001b[0m         delayed(_fit_and_score)(\n\u001b[0;32m    269\u001b[0m             \u001b[0mclone\u001b[0m\u001b[1;33m(\u001b[0m\u001b[0mestimator\u001b[0m\u001b[1;33m)\u001b[0m\u001b[1;33m,\u001b[0m\u001b[1;33m\u001b[0m\u001b[1;33m\u001b[0m\u001b[0m\n",
      "\u001b[1;32m~\\anaconda3\\lib\\site-packages\\joblib\\parallel.py\u001b[0m in \u001b[0;36m__call__\u001b[1;34m(self, iterable)\u001b[0m\n\u001b[0;32m   1861\u001b[0m             \u001b[0moutput\u001b[0m \u001b[1;33m=\u001b[0m \u001b[0mself\u001b[0m\u001b[1;33m.\u001b[0m\u001b[0m_get_sequential_output\u001b[0m\u001b[1;33m(\u001b[0m\u001b[0miterable\u001b[0m\u001b[1;33m)\u001b[0m\u001b[1;33m\u001b[0m\u001b[1;33m\u001b[0m\u001b[0m\n\u001b[0;32m   1862\u001b[0m             \u001b[0mnext\u001b[0m\u001b[1;33m(\u001b[0m\u001b[0moutput\u001b[0m\u001b[1;33m)\u001b[0m\u001b[1;33m\u001b[0m\u001b[1;33m\u001b[0m\u001b[0m\n\u001b[1;32m-> 1863\u001b[1;33m             \u001b[1;32mreturn\u001b[0m \u001b[0moutput\u001b[0m \u001b[1;32mif\u001b[0m \u001b[0mself\u001b[0m\u001b[1;33m.\u001b[0m\u001b[0mreturn_generator\u001b[0m \u001b[1;32melse\u001b[0m \u001b[0mlist\u001b[0m\u001b[1;33m(\u001b[0m\u001b[0moutput\u001b[0m\u001b[1;33m)\u001b[0m\u001b[1;33m\u001b[0m\u001b[1;33m\u001b[0m\u001b[0m\n\u001b[0m\u001b[0;32m   1864\u001b[0m \u001b[1;33m\u001b[0m\u001b[0m\n\u001b[0;32m   1865\u001b[0m         \u001b[1;31m# Let's create an ID that uniquely identifies the current call. If the\u001b[0m\u001b[1;33m\u001b[0m\u001b[1;33m\u001b[0m\u001b[0m\n",
      "\u001b[1;32m~\\anaconda3\\lib\\site-packages\\joblib\\parallel.py\u001b[0m in \u001b[0;36m_get_sequential_output\u001b[1;34m(self, iterable)\u001b[0m\n\u001b[0;32m   1790\u001b[0m                 \u001b[0mself\u001b[0m\u001b[1;33m.\u001b[0m\u001b[0mn_dispatched_batches\u001b[0m \u001b[1;33m+=\u001b[0m \u001b[1;36m1\u001b[0m\u001b[1;33m\u001b[0m\u001b[1;33m\u001b[0m\u001b[0m\n\u001b[0;32m   1791\u001b[0m                 \u001b[0mself\u001b[0m\u001b[1;33m.\u001b[0m\u001b[0mn_dispatched_tasks\u001b[0m \u001b[1;33m+=\u001b[0m \u001b[1;36m1\u001b[0m\u001b[1;33m\u001b[0m\u001b[1;33m\u001b[0m\u001b[0m\n\u001b[1;32m-> 1792\u001b[1;33m                 \u001b[0mres\u001b[0m \u001b[1;33m=\u001b[0m \u001b[0mfunc\u001b[0m\u001b[1;33m(\u001b[0m\u001b[1;33m*\u001b[0m\u001b[0margs\u001b[0m\u001b[1;33m,\u001b[0m \u001b[1;33m**\u001b[0m\u001b[0mkwargs\u001b[0m\u001b[1;33m)\u001b[0m\u001b[1;33m\u001b[0m\u001b[1;33m\u001b[0m\u001b[0m\n\u001b[0m\u001b[0;32m   1793\u001b[0m                 \u001b[0mself\u001b[0m\u001b[1;33m.\u001b[0m\u001b[0mn_completed_tasks\u001b[0m \u001b[1;33m+=\u001b[0m \u001b[1;36m1\u001b[0m\u001b[1;33m\u001b[0m\u001b[1;33m\u001b[0m\u001b[0m\n\u001b[0;32m   1794\u001b[0m                 \u001b[0mself\u001b[0m\u001b[1;33m.\u001b[0m\u001b[0mprint_progress\u001b[0m\u001b[1;33m(\u001b[0m\u001b[1;33m)\u001b[0m\u001b[1;33m\u001b[0m\u001b[1;33m\u001b[0m\u001b[0m\n",
      "\u001b[1;32m~\\anaconda3\\lib\\site-packages\\sklearn\\utils\\fixes.py\u001b[0m in \u001b[0;36m__call__\u001b[1;34m(self, *args, **kwargs)\u001b[0m\n\u001b[0;32m    214\u001b[0m     \u001b[1;32mdef\u001b[0m \u001b[0m__call__\u001b[0m\u001b[1;33m(\u001b[0m\u001b[0mself\u001b[0m\u001b[1;33m,\u001b[0m \u001b[1;33m*\u001b[0m\u001b[0margs\u001b[0m\u001b[1;33m,\u001b[0m \u001b[1;33m**\u001b[0m\u001b[0mkwargs\u001b[0m\u001b[1;33m)\u001b[0m\u001b[1;33m:\u001b[0m\u001b[1;33m\u001b[0m\u001b[1;33m\u001b[0m\u001b[0m\n\u001b[0;32m    215\u001b[0m         \u001b[1;32mwith\u001b[0m \u001b[0mconfig_context\u001b[0m\u001b[1;33m(\u001b[0m\u001b[1;33m**\u001b[0m\u001b[0mself\u001b[0m\u001b[1;33m.\u001b[0m\u001b[0mconfig\u001b[0m\u001b[1;33m)\u001b[0m\u001b[1;33m:\u001b[0m\u001b[1;33m\u001b[0m\u001b[1;33m\u001b[0m\u001b[0m\n\u001b[1;32m--> 216\u001b[1;33m             \u001b[1;32mreturn\u001b[0m \u001b[0mself\u001b[0m\u001b[1;33m.\u001b[0m\u001b[0mfunction\u001b[0m\u001b[1;33m(\u001b[0m\u001b[1;33m*\u001b[0m\u001b[0margs\u001b[0m\u001b[1;33m,\u001b[0m \u001b[1;33m**\u001b[0m\u001b[0mkwargs\u001b[0m\u001b[1;33m)\u001b[0m\u001b[1;33m\u001b[0m\u001b[1;33m\u001b[0m\u001b[0m\n\u001b[0m\u001b[0;32m    217\u001b[0m \u001b[1;33m\u001b[0m\u001b[0m\n\u001b[0;32m    218\u001b[0m \u001b[1;33m\u001b[0m\u001b[0m\n",
      "\u001b[1;32m~\\anaconda3\\lib\\site-packages\\sklearn\\model_selection\\_validation.py\u001b[0m in \u001b[0;36m_fit_and_score\u001b[1;34m(estimator, X, y, scorer, train, test, verbose, parameters, fit_params, return_train_score, return_parameters, return_n_test_samples, return_times, return_estimator, split_progress, candidate_progress, error_score)\u001b[0m\n\u001b[0;32m    678\u001b[0m             \u001b[0mestimator\u001b[0m\u001b[1;33m.\u001b[0m\u001b[0mfit\u001b[0m\u001b[1;33m(\u001b[0m\u001b[0mX_train\u001b[0m\u001b[1;33m,\u001b[0m \u001b[1;33m**\u001b[0m\u001b[0mfit_params\u001b[0m\u001b[1;33m)\u001b[0m\u001b[1;33m\u001b[0m\u001b[1;33m\u001b[0m\u001b[0m\n\u001b[0;32m    679\u001b[0m         \u001b[1;32melse\u001b[0m\u001b[1;33m:\u001b[0m\u001b[1;33m\u001b[0m\u001b[1;33m\u001b[0m\u001b[0m\n\u001b[1;32m--> 680\u001b[1;33m             \u001b[0mestimator\u001b[0m\u001b[1;33m.\u001b[0m\u001b[0mfit\u001b[0m\u001b[1;33m(\u001b[0m\u001b[0mX_train\u001b[0m\u001b[1;33m,\u001b[0m \u001b[0my_train\u001b[0m\u001b[1;33m,\u001b[0m \u001b[1;33m**\u001b[0m\u001b[0mfit_params\u001b[0m\u001b[1;33m)\u001b[0m\u001b[1;33m\u001b[0m\u001b[1;33m\u001b[0m\u001b[0m\n\u001b[0m\u001b[0;32m    681\u001b[0m \u001b[1;33m\u001b[0m\u001b[0m\n\u001b[0;32m    682\u001b[0m     \u001b[1;32mexcept\u001b[0m \u001b[0mException\u001b[0m\u001b[1;33m:\u001b[0m\u001b[1;33m\u001b[0m\u001b[1;33m\u001b[0m\u001b[0m\n",
      "\u001b[1;32m~\\anaconda3\\lib\\site-packages\\xgboost\\core.py\u001b[0m in \u001b[0;36minner_f\u001b[1;34m(*args, **kwargs)\u001b[0m\n\u001b[0;32m    728\u001b[0m             \u001b[1;32mfor\u001b[0m \u001b[0mk\u001b[0m\u001b[1;33m,\u001b[0m \u001b[0marg\u001b[0m \u001b[1;32min\u001b[0m \u001b[0mzip\u001b[0m\u001b[1;33m(\u001b[0m\u001b[0msig\u001b[0m\u001b[1;33m.\u001b[0m\u001b[0mparameters\u001b[0m\u001b[1;33m,\u001b[0m \u001b[0margs\u001b[0m\u001b[1;33m)\u001b[0m\u001b[1;33m:\u001b[0m\u001b[1;33m\u001b[0m\u001b[1;33m\u001b[0m\u001b[0m\n\u001b[0;32m    729\u001b[0m                 \u001b[0mkwargs\u001b[0m\u001b[1;33m[\u001b[0m\u001b[0mk\u001b[0m\u001b[1;33m]\u001b[0m \u001b[1;33m=\u001b[0m \u001b[0marg\u001b[0m\u001b[1;33m\u001b[0m\u001b[1;33m\u001b[0m\u001b[0m\n\u001b[1;32m--> 730\u001b[1;33m             \u001b[1;32mreturn\u001b[0m \u001b[0mfunc\u001b[0m\u001b[1;33m(\u001b[0m\u001b[1;33m**\u001b[0m\u001b[0mkwargs\u001b[0m\u001b[1;33m)\u001b[0m\u001b[1;33m\u001b[0m\u001b[1;33m\u001b[0m\u001b[0m\n\u001b[0m\u001b[0;32m    731\u001b[0m \u001b[1;33m\u001b[0m\u001b[0m\n\u001b[0;32m    732\u001b[0m         \u001b[1;32mreturn\u001b[0m \u001b[0minner_f\u001b[0m\u001b[1;33m\u001b[0m\u001b[1;33m\u001b[0m\u001b[0m\n",
      "\u001b[1;32m~\\anaconda3\\lib\\site-packages\\xgboost\\sklearn.py\u001b[0m in \u001b[0;36mfit\u001b[1;34m(self, X, y, sample_weight, base_margin, eval_set, eval_metric, early_stopping_rounds, verbose, xgb_model, sample_weight_eval_set, base_margin_eval_set, feature_weights, callbacks)\u001b[0m\n\u001b[0;32m   1517\u001b[0m             )\n\u001b[0;32m   1518\u001b[0m \u001b[1;33m\u001b[0m\u001b[0m\n\u001b[1;32m-> 1519\u001b[1;33m             self._Booster = train(\n\u001b[0m\u001b[0;32m   1520\u001b[0m                 \u001b[0mparams\u001b[0m\u001b[1;33m,\u001b[0m\u001b[1;33m\u001b[0m\u001b[1;33m\u001b[0m\u001b[0m\n\u001b[0;32m   1521\u001b[0m                 \u001b[0mtrain_dmatrix\u001b[0m\u001b[1;33m,\u001b[0m\u001b[1;33m\u001b[0m\u001b[1;33m\u001b[0m\u001b[0m\n",
      "\u001b[1;32m~\\anaconda3\\lib\\site-packages\\xgboost\\core.py\u001b[0m in \u001b[0;36minner_f\u001b[1;34m(*args, **kwargs)\u001b[0m\n\u001b[0;32m    728\u001b[0m             \u001b[1;32mfor\u001b[0m \u001b[0mk\u001b[0m\u001b[1;33m,\u001b[0m \u001b[0marg\u001b[0m \u001b[1;32min\u001b[0m \u001b[0mzip\u001b[0m\u001b[1;33m(\u001b[0m\u001b[0msig\u001b[0m\u001b[1;33m.\u001b[0m\u001b[0mparameters\u001b[0m\u001b[1;33m,\u001b[0m \u001b[0margs\u001b[0m\u001b[1;33m)\u001b[0m\u001b[1;33m:\u001b[0m\u001b[1;33m\u001b[0m\u001b[1;33m\u001b[0m\u001b[0m\n\u001b[0;32m    729\u001b[0m                 \u001b[0mkwargs\u001b[0m\u001b[1;33m[\u001b[0m\u001b[0mk\u001b[0m\u001b[1;33m]\u001b[0m \u001b[1;33m=\u001b[0m \u001b[0marg\u001b[0m\u001b[1;33m\u001b[0m\u001b[1;33m\u001b[0m\u001b[0m\n\u001b[1;32m--> 730\u001b[1;33m             \u001b[1;32mreturn\u001b[0m \u001b[0mfunc\u001b[0m\u001b[1;33m(\u001b[0m\u001b[1;33m**\u001b[0m\u001b[0mkwargs\u001b[0m\u001b[1;33m)\u001b[0m\u001b[1;33m\u001b[0m\u001b[1;33m\u001b[0m\u001b[0m\n\u001b[0m\u001b[0;32m    731\u001b[0m \u001b[1;33m\u001b[0m\u001b[0m\n\u001b[0;32m    732\u001b[0m         \u001b[1;32mreturn\u001b[0m \u001b[0minner_f\u001b[0m\u001b[1;33m\u001b[0m\u001b[1;33m\u001b[0m\u001b[0m\n",
      "\u001b[1;32m~\\anaconda3\\lib\\site-packages\\xgboost\\training.py\u001b[0m in \u001b[0;36mtrain\u001b[1;34m(params, dtrain, num_boost_round, evals, obj, feval, maximize, early_stopping_rounds, evals_result, verbose_eval, xgb_model, callbacks, custom_metric)\u001b[0m\n\u001b[0;32m    179\u001b[0m         \u001b[1;32mif\u001b[0m \u001b[0mcb_container\u001b[0m\u001b[1;33m.\u001b[0m\u001b[0mbefore_iteration\u001b[0m\u001b[1;33m(\u001b[0m\u001b[0mbst\u001b[0m\u001b[1;33m,\u001b[0m \u001b[0mi\u001b[0m\u001b[1;33m,\u001b[0m \u001b[0mdtrain\u001b[0m\u001b[1;33m,\u001b[0m \u001b[0mevals\u001b[0m\u001b[1;33m)\u001b[0m\u001b[1;33m:\u001b[0m\u001b[1;33m\u001b[0m\u001b[1;33m\u001b[0m\u001b[0m\n\u001b[0;32m    180\u001b[0m             \u001b[1;32mbreak\u001b[0m\u001b[1;33m\u001b[0m\u001b[1;33m\u001b[0m\u001b[0m\n\u001b[1;32m--> 181\u001b[1;33m         \u001b[0mbst\u001b[0m\u001b[1;33m.\u001b[0m\u001b[0mupdate\u001b[0m\u001b[1;33m(\u001b[0m\u001b[0mdtrain\u001b[0m\u001b[1;33m,\u001b[0m \u001b[0mi\u001b[0m\u001b[1;33m,\u001b[0m \u001b[0mobj\u001b[0m\u001b[1;33m)\u001b[0m\u001b[1;33m\u001b[0m\u001b[1;33m\u001b[0m\u001b[0m\n\u001b[0m\u001b[0;32m    182\u001b[0m         \u001b[1;32mif\u001b[0m \u001b[0mcb_container\u001b[0m\u001b[1;33m.\u001b[0m\u001b[0mafter_iteration\u001b[0m\u001b[1;33m(\u001b[0m\u001b[0mbst\u001b[0m\u001b[1;33m,\u001b[0m \u001b[0mi\u001b[0m\u001b[1;33m,\u001b[0m \u001b[0mdtrain\u001b[0m\u001b[1;33m,\u001b[0m \u001b[0mevals\u001b[0m\u001b[1;33m)\u001b[0m\u001b[1;33m:\u001b[0m\u001b[1;33m\u001b[0m\u001b[1;33m\u001b[0m\u001b[0m\n\u001b[0;32m    183\u001b[0m             \u001b[1;32mbreak\u001b[0m\u001b[1;33m\u001b[0m\u001b[1;33m\u001b[0m\u001b[0m\n",
      "\u001b[1;32m~\\anaconda3\\lib\\site-packages\\xgboost\\core.py\u001b[0m in \u001b[0;36mupdate\u001b[1;34m(self, dtrain, iteration, fobj)\u001b[0m\n\u001b[0;32m   2049\u001b[0m         \u001b[1;32mif\u001b[0m \u001b[0mfobj\u001b[0m \u001b[1;32mis\u001b[0m \u001b[1;32mNone\u001b[0m\u001b[1;33m:\u001b[0m\u001b[1;33m\u001b[0m\u001b[1;33m\u001b[0m\u001b[0m\n\u001b[0;32m   2050\u001b[0m             _check_call(\n\u001b[1;32m-> 2051\u001b[1;33m                 _LIB.XGBoosterUpdateOneIter(\n\u001b[0m\u001b[0;32m   2052\u001b[0m                     \u001b[0mself\u001b[0m\u001b[1;33m.\u001b[0m\u001b[0mhandle\u001b[0m\u001b[1;33m,\u001b[0m \u001b[0mctypes\u001b[0m\u001b[1;33m.\u001b[0m\u001b[0mc_int\u001b[0m\u001b[1;33m(\u001b[0m\u001b[0miteration\u001b[0m\u001b[1;33m)\u001b[0m\u001b[1;33m,\u001b[0m \u001b[0mdtrain\u001b[0m\u001b[1;33m.\u001b[0m\u001b[0mhandle\u001b[0m\u001b[1;33m\u001b[0m\u001b[1;33m\u001b[0m\u001b[0m\n\u001b[0;32m   2053\u001b[0m                 )\n",
      "\u001b[1;31mKeyboardInterrupt\u001b[0m: "
     ]
    }
   ],
   "source": [
    "study = optuna.create_study(direction='maximize')\n",
    "study.optimize(objective, n_trials=100)"
   ]
  },
  {
   "cell_type": "code",
   "execution_count": null,
   "metadata": {},
   "outputs": [],
   "source": [
    "from sklearn.metrics import classification_report, confusion_matrix\n",
    "\n",
    "# Use the best hyperparameters found by Optuna\n",
    "best_params = study.best_params\n",
    "model = XGBClassifier(**best_params)\n",
    "\n",
    "# Fit the model on the training data\n",
    "model.fit(X_train, y_train)\n",
    "\n",
    "# Predict on the training and test sets\n",
    "y_train_pred = model.predict(X_train)\n",
    "y_test_pred = model.predict(X_test)\n",
    "\n",
    "# Calculate accuracies\n",
    "train_accuracy = accuracy_score(y_train, y_train_pred)\n",
    "test_accuracy = accuracy_score(y_test, y_test_pred)\n",
    "\n",
    "# Generate confusion matrices\n",
    "train_conf_matrix = confusion_matrix(y_train, y_train_pred)\n",
    "test_conf_matrix = confusion_matrix(y_test, y_test_pred)\n",
    "\n",
    "# Generate classification reports\n",
    "train_classification_report = classification_report(y_train, y_train_pred)\n",
    "test_classification_report = classification_report(y_test, y_test_pred)\n",
    "\n",
    "# Print the results\n",
    "print(\"Train Accuracy:\", train_accuracy)\n",
    "print(\"Test Accuracy:\", test_accuracy)\n",
    "\n",
    "print(\"\\nTrain Confusion Matrix:\")\n",
    "print(train_conf_matrix)\n",
    "\n",
    "print(\"\\nTest Confusion Matrix:\")\n",
    "print(test_conf_matrix)\n",
    "\n",
    "print(\"\\nTrain Classification Report:\")\n",
    "print(train_classification_report)\n",
    "\n",
    "print(\"\\nTest Classification Report:\")\n",
    "print(test_classification_report)\n"
   ]
  },
  {
   "cell_type": "markdown",
   "metadata": {},
   "source": [
    "## Clustering"
   ]
  },
  {
   "cell_type": "code",
   "execution_count": 44,
   "metadata": {},
   "outputs": [
    {
     "data": {
      "image/png": "[encoded data removed]",
      "text/plain": [
       "<Figure size 640x480 with 1 Axes>"
      ]
     },
     "metadata": {},
     "output_type": "display_data"
    }
   ],
   "source": [
    "from sklearn.cluster import KMeans\n",
    "import matplotlib.pyplot as plt\n",
    "\n",
    "wcss = []\n",
    "for k in range(1, 11):\n",
    "    kmeans = KMeans(n_clusters=k, random_state=42)\n",
    "    kmeans.fit(X)\n",
    "    wcss.append(kmeans.inertia_)\n",
    "\n",
    "plt.plot(range(1, 11), wcss, marker='o')\n",
    "plt.xlabel('Number of Clusters')\n",
    "plt.ylabel('Within-Cluster Sum of Squares (WCSS)')\n",
    "plt.title('Elbow Method for Optimal k')\n",
    "plt.show()"
   ]
  },
  {
   "cell_type": "code",
   "execution_count": 45,
   "metadata": {},
   "outputs": [],
   "source": [
    "kmeans = KMeans(n_clusters=3, random_state=42)\n",
    "weather_hist_clust = weather_hist\n",
    "weather_hist_clust['cluster'] = kmeans.fit_predict(X)"
   ]
  },
  {
   "cell_type": "code",
   "execution_count": 47,
   "metadata": {},
   "outputs": [],
   "source": [
    "cluster_0 = weather_hist_clust[weather_hist_clust['cluster'] == 0]\n",
    "cluster_1 = weather_hist_clust[weather_hist_clust['cluster'] == 1]\n",
    "cluster_2 = weather_hist_clust[weather_hist_clust['cluster'] == 2]"
   ]
  },
  {
   "cell_type": "code",
   "execution_count": 49,
   "metadata": {},
   "outputs": [
    {
     "data": {
      "text/plain": [
       "0    35415\n",
       "3     3964\n",
       "1     2597\n",
       "2      890\n",
       "5      116\n",
       "6       92\n",
       "7       42\n",
       "4       30\n",
       "Name: Summary, dtype: int64"
      ]
     },
     "execution_count": 49,
     "metadata": {},
     "output_type": "execute_result"
    }
   ],
   "source": [
    "cluster_0[\"Summary\"].value_counts()"
   ]
  },
  {
   "cell_type": "code",
   "execution_count": 51,
   "metadata": {},
   "outputs": [
    {
     "data": {
      "text/plain": [
       "3    728\n",
       "0    410\n",
       "1     98\n",
       "2     39\n",
       "5     12\n",
       "Name: Summary, dtype: int64"
      ]
     },
     "execution_count": 51,
     "metadata": {},
     "output_type": "execute_result"
    }
   ],
   "source": [
    "cluster_1[\"Summary\"].value_counts()"
   ]
  },
  {
   "cell_type": "code",
   "execution_count": 52,
   "metadata": {},
   "outputs": [
    {
     "data": {
      "text/plain": [
       "0    40210\n",
       "3     6052\n",
       "1     4460\n",
       "2      555\n",
       "7       70\n",
       "6       42\n",
       "4       34\n",
       "5       27\n",
       "Name: Summary, dtype: int64"
      ]
     },
     "execution_count": 52,
     "metadata": {},
     "output_type": "execute_result"
    }
   ],
   "source": [
    "cluster_2[\"Summary\"].value_counts()"
   ]
  },
  {
   "cell_type": "code",
   "execution_count": 53,
   "metadata": {},
   "outputs": [
    {
     "data": {
      "image/png": "[encoded data removed]",
      "text/plain": [
       "<Figure size 640x480 with 1 Axes>"
      ]
     },
     "metadata": {},
     "output_type": "display_data"
    }
   ],
   "source": [
    "from sklearn.neighbors import NearestNeighbors\n",
    "nbrs=NearestNeighbors().fit(X)\n",
    "distances, indices = nbrs.kneighbors(X,20)\n",
    "kDis = distances[:,10]\n",
    "kDis.sort()\n",
    "kDis = kDis[range(len(kDis)-1,0,-1)]\n",
    "plt.plot(range(0,len(kDis)),kDis)\n",
    "plt.xlabel('Distance')\n",
    "plt.ylabel('eps')\n",
    "plt.show()"
   ]
  },
  {
   "cell_type": "code",
   "execution_count": 55,
   "metadata": {},
   "outputs": [],
   "source": [
    "from sklearn.cluster import DBSCAN\n",
    "dbs_1= DBSCAN(eps=13, min_samples=4)\n",
    "results = dbs_1.fit(X).labels_"
   ]
  },
  {
   "cell_type": "code",
   "execution_count": 58,
   "metadata": {},
   "outputs": [
    {
     "name": "stdout",
     "output_type": "stream",
     "text": [
      " 0     94298\n",
      "-1       452\n",
      " 1       401\n",
      " 2       379\n",
      " 3       117\n",
      " 21       30\n",
      " 26       28\n",
      " 12       23\n",
      " 9        22\n",
      " 7        12\n",
      " 14       11\n",
      " 17       11\n",
      " 8         9\n",
      " 24        8\n",
      " 25        7\n",
      " 28        7\n",
      " 27        6\n",
      " 5         6\n",
      " 23        6\n",
      " 20        6\n",
      " 10        5\n",
      " 11        5\n",
      " 6         5\n",
      " 18        4\n",
      " 19        4\n",
      " 22        4\n",
      " 16        4\n",
      " 4         4\n",
      " 15        3\n",
      " 13        3\n",
      " 29        3\n",
      "Name: Cluster_id_DBSCAN, dtype: int64\n"
     ]
    },
    {
     "ename": "KeyboardInterrupt",
     "evalue": "",
     "output_type": "error",
     "traceback": [
      "\u001b[1;31m---------------------------------------------------------------------------\u001b[0m",
      "\u001b[1;31mKeyboardInterrupt\u001b[0m                         Traceback (most recent call last)",
      "\u001b[1;32m~\\AppData\\Local\\Temp\\ipykernel_9960\\2710311835.py\u001b[0m in \u001b[0;36m<module>\u001b[1;34m\u001b[0m\n\u001b[0;32m      3\u001b[0m \u001b[0mdf_DBSCAN\u001b[0m\u001b[1;33m[\u001b[0m\u001b[1;34m'Cluster_id_DBSCAN'\u001b[0m\u001b[1;33m]\u001b[0m\u001b[1;33m=\u001b[0m\u001b[0mresults\u001b[0m\u001b[1;33m\u001b[0m\u001b[1;33m\u001b[0m\u001b[0m\n\u001b[0;32m      4\u001b[0m \u001b[0mprint\u001b[0m \u001b[1;33m(\u001b[0m\u001b[0mdf_DBSCAN\u001b[0m\u001b[1;33m[\u001b[0m\u001b[1;34m'Cluster_id_DBSCAN'\u001b[0m\u001b[1;33m]\u001b[0m\u001b[1;33m.\u001b[0m\u001b[0mvalue_counts\u001b[0m\u001b[1;33m(\u001b[0m\u001b[1;33m)\u001b[0m\u001b[1;33m)\u001b[0m\u001b[1;33m\u001b[0m\u001b[1;33m\u001b[0m\u001b[0m\n\u001b[1;32m----> 5\u001b[1;33m \u001b[0msns\u001b[0m\u001b[1;33m.\u001b[0m\u001b[0mpairplot\u001b[0m\u001b[1;33m(\u001b[0m\u001b[0mdf_DBSCAN\u001b[0m\u001b[1;33m,\u001b[0m\u001b[0mhue\u001b[0m\u001b[1;33m=\u001b[0m\u001b[1;34m'Cluster_id_DBSCAN'\u001b[0m\u001b[1;33m,\u001b[0m\u001b[0mpalette\u001b[0m\u001b[1;33m=\u001b[0m\u001b[1;34m'Dark2'\u001b[0m\u001b[1;33m,\u001b[0m\u001b[0mdiag_kind\u001b[0m\u001b[1;33m=\u001b[0m\u001b[1;34m'kde'\u001b[0m\u001b[1;33m)\u001b[0m\u001b[1;33m\u001b[0m\u001b[1;33m\u001b[0m\u001b[0m\n\u001b[0m",
      "\u001b[1;32m~\\anaconda3\\lib\\site-packages\\seaborn\\_decorators.py\u001b[0m in \u001b[0;36minner_f\u001b[1;34m(*args, **kwargs)\u001b[0m\n\u001b[0;32m     44\u001b[0m             )\n\u001b[0;32m     45\u001b[0m         \u001b[0mkwargs\u001b[0m\u001b[1;33m.\u001b[0m\u001b[0mupdate\u001b[0m\u001b[1;33m(\u001b[0m\u001b[1;33m{\u001b[0m\u001b[0mk\u001b[0m\u001b[1;33m:\u001b[0m \u001b[0marg\u001b[0m \u001b[1;32mfor\u001b[0m \u001b[0mk\u001b[0m\u001b[1;33m,\u001b[0m \u001b[0marg\u001b[0m \u001b[1;32min\u001b[0m \u001b[0mzip\u001b[0m\u001b[1;33m(\u001b[0m\u001b[0msig\u001b[0m\u001b[1;33m.\u001b[0m\u001b[0mparameters\u001b[0m\u001b[1;33m,\u001b[0m \u001b[0margs\u001b[0m\u001b[1;33m)\u001b[0m\u001b[1;33m}\u001b[0m\u001b[1;33m)\u001b[0m\u001b[1;33m\u001b[0m\u001b[1;33m\u001b[0m\u001b[0m\n\u001b[1;32m---> 46\u001b[1;33m         \u001b[1;32mreturn\u001b[0m \u001b[0mf\u001b[0m\u001b[1;33m(\u001b[0m\u001b[1;33m**\u001b[0m\u001b[0mkwargs\u001b[0m\u001b[1;33m)\u001b[0m\u001b[1;33m\u001b[0m\u001b[1;33m\u001b[0m\u001b[0m\n\u001b[0m\u001b[0;32m     47\u001b[0m     \u001b[1;32mreturn\u001b[0m \u001b[0minner_f\u001b[0m\u001b[1;33m\u001b[0m\u001b[1;33m\u001b[0m\u001b[0m\n\u001b[0;32m     48\u001b[0m \u001b[1;33m\u001b[0m\u001b[0m\n",
      "\u001b[1;32m~\\anaconda3\\lib\\site-packages\\seaborn\\axisgrid.py\u001b[0m in \u001b[0;36mpairplot\u001b[1;34m(data, hue, hue_order, palette, vars, x_vars, y_vars, kind, diag_kind, markers, height, aspect, corner, dropna, plot_kws, diag_kws, grid_kws, size)\u001b[0m\n\u001b[0;32m   2138\u001b[0m     \u001b[1;32mif\u001b[0m \u001b[0mkind\u001b[0m \u001b[1;33m==\u001b[0m \u001b[1;34m\"scatter\"\u001b[0m\u001b[1;33m:\u001b[0m\u001b[1;33m\u001b[0m\u001b[1;33m\u001b[0m\u001b[0m\n\u001b[0;32m   2139\u001b[0m         \u001b[1;32mfrom\u001b[0m \u001b[1;33m.\u001b[0m\u001b[0mrelational\u001b[0m \u001b[1;32mimport\u001b[0m \u001b[0mscatterplot\u001b[0m  \u001b[1;31m# Avoid circular import\u001b[0m\u001b[1;33m\u001b[0m\u001b[1;33m\u001b[0m\u001b[0m\n\u001b[1;32m-> 2140\u001b[1;33m         \u001b[0mplotter\u001b[0m\u001b[1;33m(\u001b[0m\u001b[0mscatterplot\u001b[0m\u001b[1;33m,\u001b[0m \u001b[1;33m**\u001b[0m\u001b[0mplot_kws\u001b[0m\u001b[1;33m)\u001b[0m\u001b[1;33m\u001b[0m\u001b[1;33m\u001b[0m\u001b[0m\n\u001b[0m\u001b[0;32m   2141\u001b[0m     \u001b[1;32melif\u001b[0m \u001b[0mkind\u001b[0m \u001b[1;33m==\u001b[0m \u001b[1;34m\"reg\"\u001b[0m\u001b[1;33m:\u001b[0m\u001b[1;33m\u001b[0m\u001b[1;33m\u001b[0m\u001b[0m\n\u001b[0;32m   2142\u001b[0m         \u001b[1;32mfrom\u001b[0m \u001b[1;33m.\u001b[0m\u001b[0mregression\u001b[0m \u001b[1;32mimport\u001b[0m \u001b[0mregplot\u001b[0m  \u001b[1;31m# Avoid circular import\u001b[0m\u001b[1;33m\u001b[0m\u001b[1;33m\u001b[0m\u001b[0m\n",
      "\u001b[1;32m~\\anaconda3\\lib\\site-packages\\seaborn\\axisgrid.py\u001b[0m in \u001b[0;36mmap_offdiag\u001b[1;34m(self, func, **kwargs)\u001b[0m\n\u001b[0;32m   1385\u001b[0m         \"\"\"\n\u001b[0;32m   1386\u001b[0m         \u001b[1;32mif\u001b[0m \u001b[0mself\u001b[0m\u001b[1;33m.\u001b[0m\u001b[0msquare_grid\u001b[0m\u001b[1;33m:\u001b[0m\u001b[1;33m\u001b[0m\u001b[1;33m\u001b[0m\u001b[0m\n\u001b[1;32m-> 1387\u001b[1;33m             \u001b[0mself\u001b[0m\u001b[1;33m.\u001b[0m\u001b[0mmap_lower\u001b[0m\u001b[1;33m(\u001b[0m\u001b[0mfunc\u001b[0m\u001b[1;33m,\u001b[0m \u001b[1;33m**\u001b[0m\u001b[0mkwargs\u001b[0m\u001b[1;33m)\u001b[0m\u001b[1;33m\u001b[0m\u001b[1;33m\u001b[0m\u001b[0m\n\u001b[0m\u001b[0;32m   1388\u001b[0m             \u001b[1;32mif\u001b[0m \u001b[1;32mnot\u001b[0m \u001b[0mself\u001b[0m\u001b[1;33m.\u001b[0m\u001b[0m_corner\u001b[0m\u001b[1;33m:\u001b[0m\u001b[1;33m\u001b[0m\u001b[1;33m\u001b[0m\u001b[0m\n\u001b[0;32m   1389\u001b[0m                 \u001b[0mself\u001b[0m\u001b[1;33m.\u001b[0m\u001b[0mmap_upper\u001b[0m\u001b[1;33m(\u001b[0m\u001b[0mfunc\u001b[0m\u001b[1;33m,\u001b[0m \u001b[1;33m**\u001b[0m\u001b[0mkwargs\u001b[0m\u001b[1;33m)\u001b[0m\u001b[1;33m\u001b[0m\u001b[1;33m\u001b[0m\u001b[0m\n",
      "\u001b[1;32m~\\anaconda3\\lib\\site-packages\\seaborn\\axisgrid.py\u001b[0m in \u001b[0;36mmap_lower\u001b[1;34m(self, func, **kwargs)\u001b[0m\n\u001b[0;32m   1355\u001b[0m         \"\"\"\n\u001b[0;32m   1356\u001b[0m         \u001b[0mindices\u001b[0m \u001b[1;33m=\u001b[0m \u001b[0mzip\u001b[0m\u001b[1;33m(\u001b[0m\u001b[1;33m*\u001b[0m\u001b[0mnp\u001b[0m\u001b[1;33m.\u001b[0m\u001b[0mtril_indices_from\u001b[0m\u001b[1;33m(\u001b[0m\u001b[0mself\u001b[0m\u001b[1;33m.\u001b[0m\u001b[0maxes\u001b[0m\u001b[1;33m,\u001b[0m \u001b[1;33m-\u001b[0m\u001b[1;36m1\u001b[0m\u001b[1;33m)\u001b[0m\u001b[1;33m)\u001b[0m\u001b[1;33m\u001b[0m\u001b[1;33m\u001b[0m\u001b[0m\n\u001b[1;32m-> 1357\u001b[1;33m         \u001b[0mself\u001b[0m\u001b[1;33m.\u001b[0m\u001b[0m_map_bivariate\u001b[0m\u001b[1;33m(\u001b[0m\u001b[0mfunc\u001b[0m\u001b[1;33m,\u001b[0m \u001b[0mindices\u001b[0m\u001b[1;33m,\u001b[0m \u001b[1;33m**\u001b[0m\u001b[0mkwargs\u001b[0m\u001b[1;33m)\u001b[0m\u001b[1;33m\u001b[0m\u001b[1;33m\u001b[0m\u001b[0m\n\u001b[0m\u001b[0;32m   1358\u001b[0m         \u001b[1;32mreturn\u001b[0m \u001b[0mself\u001b[0m\u001b[1;33m\u001b[0m\u001b[1;33m\u001b[0m\u001b[0m\n\u001b[0;32m   1359\u001b[0m \u001b[1;33m\u001b[0m\u001b[0m\n",
      "\u001b[1;32m~\\anaconda3\\lib\\site-packages\\seaborn\\axisgrid.py\u001b[0m in \u001b[0;36m_map_bivariate\u001b[1;34m(self, func, indices, **kwargs)\u001b[0m\n\u001b[0;32m   1537\u001b[0m             \u001b[1;32mif\u001b[0m \u001b[0max\u001b[0m \u001b[1;32mis\u001b[0m \u001b[1;32mNone\u001b[0m\u001b[1;33m:\u001b[0m  \u001b[1;31m# i.e. we are in corner mode\u001b[0m\u001b[1;33m\u001b[0m\u001b[1;33m\u001b[0m\u001b[0m\n\u001b[0;32m   1538\u001b[0m                 \u001b[1;32mcontinue\u001b[0m\u001b[1;33m\u001b[0m\u001b[1;33m\u001b[0m\u001b[0m\n\u001b[1;32m-> 1539\u001b[1;33m             \u001b[0mself\u001b[0m\u001b[1;33m.\u001b[0m\u001b[0m_plot_bivariate\u001b[0m\u001b[1;33m(\u001b[0m\u001b[0mx_var\u001b[0m\u001b[1;33m,\u001b[0m \u001b[0my_var\u001b[0m\u001b[1;33m,\u001b[0m \u001b[0max\u001b[0m\u001b[1;33m,\u001b[0m \u001b[0mfunc\u001b[0m\u001b[1;33m,\u001b[0m \u001b[1;33m**\u001b[0m\u001b[0mkws\u001b[0m\u001b[1;33m)\u001b[0m\u001b[1;33m\u001b[0m\u001b[1;33m\u001b[0m\u001b[0m\n\u001b[0m\u001b[0;32m   1540\u001b[0m         \u001b[0mself\u001b[0m\u001b[1;33m.\u001b[0m\u001b[0m_add_axis_labels\u001b[0m\u001b[1;33m(\u001b[0m\u001b[1;33m)\u001b[0m\u001b[1;33m\u001b[0m\u001b[1;33m\u001b[0m\u001b[0m\n\u001b[0;32m   1541\u001b[0m \u001b[1;33m\u001b[0m\u001b[0m\n",
      "\u001b[1;32m~\\anaconda3\\lib\\site-packages\\seaborn\\axisgrid.py\u001b[0m in \u001b[0;36m_plot_bivariate\u001b[1;34m(self, x_var, y_var, ax, func, **kwargs)\u001b[0m\n\u001b[0;32m   1577\u001b[0m         \u001b[0mkwargs\u001b[0m\u001b[1;33m.\u001b[0m\u001b[0msetdefault\u001b[0m\u001b[1;33m(\u001b[0m\u001b[1;34m\"hue_order\"\u001b[0m\u001b[1;33m,\u001b[0m \u001b[0mself\u001b[0m\u001b[1;33m.\u001b[0m\u001b[0m_hue_order\u001b[0m\u001b[1;33m)\u001b[0m\u001b[1;33m\u001b[0m\u001b[1;33m\u001b[0m\u001b[0m\n\u001b[0;32m   1578\u001b[0m         \u001b[0mkwargs\u001b[0m\u001b[1;33m.\u001b[0m\u001b[0msetdefault\u001b[0m\u001b[1;33m(\u001b[0m\u001b[1;34m\"palette\"\u001b[0m\u001b[1;33m,\u001b[0m \u001b[0mself\u001b[0m\u001b[1;33m.\u001b[0m\u001b[0m_orig_palette\u001b[0m\u001b[1;33m)\u001b[0m\u001b[1;33m\u001b[0m\u001b[1;33m\u001b[0m\u001b[0m\n\u001b[1;32m-> 1579\u001b[1;33m         \u001b[0mfunc\u001b[0m\u001b[1;33m(\u001b[0m\u001b[0mx\u001b[0m\u001b[1;33m=\u001b[0m\u001b[0mx\u001b[0m\u001b[1;33m,\u001b[0m \u001b[0my\u001b[0m\u001b[1;33m=\u001b[0m\u001b[0my\u001b[0m\u001b[1;33m,\u001b[0m \u001b[1;33m**\u001b[0m\u001b[0mkwargs\u001b[0m\u001b[1;33m)\u001b[0m\u001b[1;33m\u001b[0m\u001b[1;33m\u001b[0m\u001b[0m\n\u001b[0m\u001b[0;32m   1580\u001b[0m \u001b[1;33m\u001b[0m\u001b[0m\n\u001b[0;32m   1581\u001b[0m         \u001b[0mself\u001b[0m\u001b[1;33m.\u001b[0m\u001b[0m_update_legend_data\u001b[0m\u001b[1;33m(\u001b[0m\u001b[0max\u001b[0m\u001b[1;33m)\u001b[0m\u001b[1;33m\u001b[0m\u001b[1;33m\u001b[0m\u001b[0m\n",
      "\u001b[1;32m~\\anaconda3\\lib\\site-packages\\seaborn\\_decorators.py\u001b[0m in \u001b[0;36minner_f\u001b[1;34m(*args, **kwargs)\u001b[0m\n\u001b[0;32m     44\u001b[0m             )\n\u001b[0;32m     45\u001b[0m         \u001b[0mkwargs\u001b[0m\u001b[1;33m.\u001b[0m\u001b[0mupdate\u001b[0m\u001b[1;33m(\u001b[0m\u001b[1;33m{\u001b[0m\u001b[0mk\u001b[0m\u001b[1;33m:\u001b[0m \u001b[0marg\u001b[0m \u001b[1;32mfor\u001b[0m \u001b[0mk\u001b[0m\u001b[1;33m,\u001b[0m \u001b[0marg\u001b[0m \u001b[1;32min\u001b[0m \u001b[0mzip\u001b[0m\u001b[1;33m(\u001b[0m\u001b[0msig\u001b[0m\u001b[1;33m.\u001b[0m\u001b[0mparameters\u001b[0m\u001b[1;33m,\u001b[0m \u001b[0margs\u001b[0m\u001b[1;33m)\u001b[0m\u001b[1;33m}\u001b[0m\u001b[1;33m)\u001b[0m\u001b[1;33m\u001b[0m\u001b[1;33m\u001b[0m\u001b[0m\n\u001b[1;32m---> 46\u001b[1;33m         \u001b[1;32mreturn\u001b[0m \u001b[0mf\u001b[0m\u001b[1;33m(\u001b[0m\u001b[1;33m**\u001b[0m\u001b[0mkwargs\u001b[0m\u001b[1;33m)\u001b[0m\u001b[1;33m\u001b[0m\u001b[1;33m\u001b[0m\u001b[0m\n\u001b[0m\u001b[0;32m     47\u001b[0m     \u001b[1;32mreturn\u001b[0m \u001b[0minner_f\u001b[0m\u001b[1;33m\u001b[0m\u001b[1;33m\u001b[0m\u001b[0m\n\u001b[0;32m     48\u001b[0m \u001b[1;33m\u001b[0m\u001b[0m\n",
      "\u001b[1;32m~\\anaconda3\\lib\\site-packages\\seaborn\\relational.py\u001b[0m in \u001b[0;36mscatterplot\u001b[1;34m(x, y, hue, style, size, data, palette, hue_order, hue_norm, sizes, size_order, size_norm, markers, style_order, x_bins, y_bins, units, estimator, ci, n_boot, alpha, x_jitter, y_jitter, legend, ax, **kwargs)\u001b[0m\n\u001b[0;32m    825\u001b[0m     \u001b[0mp\u001b[0m\u001b[1;33m.\u001b[0m\u001b[0m_attach\u001b[0m\u001b[1;33m(\u001b[0m\u001b[0max\u001b[0m\u001b[1;33m)\u001b[0m\u001b[1;33m\u001b[0m\u001b[1;33m\u001b[0m\u001b[0m\n\u001b[0;32m    826\u001b[0m \u001b[1;33m\u001b[0m\u001b[0m\n\u001b[1;32m--> 827\u001b[1;33m     \u001b[0mp\u001b[0m\u001b[1;33m.\u001b[0m\u001b[0mplot\u001b[0m\u001b[1;33m(\u001b[0m\u001b[0max\u001b[0m\u001b[1;33m,\u001b[0m \u001b[0mkwargs\u001b[0m\u001b[1;33m)\u001b[0m\u001b[1;33m\u001b[0m\u001b[1;33m\u001b[0m\u001b[0m\n\u001b[0m\u001b[0;32m    828\u001b[0m \u001b[1;33m\u001b[0m\u001b[0m\n\u001b[0;32m    829\u001b[0m     \u001b[1;32mreturn\u001b[0m \u001b[0max\u001b[0m\u001b[1;33m\u001b[0m\u001b[1;33m\u001b[0m\u001b[0m\n",
      "\u001b[1;32m~\\anaconda3\\lib\\site-packages\\seaborn\\relational.py\u001b[0m in \u001b[0;36mplot\u001b[1;34m(self, ax, kws)\u001b[0m\n\u001b[0;32m    668\u001b[0m         \u001b[0mself\u001b[0m\u001b[1;33m.\u001b[0m\u001b[0m_add_axis_labels\u001b[0m\u001b[1;33m(\u001b[0m\u001b[0max\u001b[0m\u001b[1;33m)\u001b[0m\u001b[1;33m\u001b[0m\u001b[1;33m\u001b[0m\u001b[0m\n\u001b[0;32m    669\u001b[0m         \u001b[1;32mif\u001b[0m \u001b[0mself\u001b[0m\u001b[1;33m.\u001b[0m\u001b[0mlegend\u001b[0m\u001b[1;33m:\u001b[0m\u001b[1;33m\u001b[0m\u001b[1;33m\u001b[0m\u001b[0m\n\u001b[1;32m--> 670\u001b[1;33m             \u001b[0mself\u001b[0m\u001b[1;33m.\u001b[0m\u001b[0madd_legend_data\u001b[0m\u001b[1;33m(\u001b[0m\u001b[0max\u001b[0m\u001b[1;33m)\u001b[0m\u001b[1;33m\u001b[0m\u001b[1;33m\u001b[0m\u001b[0m\n\u001b[0m\u001b[0;32m    671\u001b[0m             \u001b[0mhandles\u001b[0m\u001b[1;33m,\u001b[0m \u001b[0m_\u001b[0m \u001b[1;33m=\u001b[0m \u001b[0max\u001b[0m\u001b[1;33m.\u001b[0m\u001b[0mget_legend_handles_labels\u001b[0m\u001b[1;33m(\u001b[0m\u001b[1;33m)\u001b[0m\u001b[1;33m\u001b[0m\u001b[1;33m\u001b[0m\u001b[0m\n\u001b[0;32m    672\u001b[0m             \u001b[1;32mif\u001b[0m \u001b[0mhandles\u001b[0m\u001b[1;33m:\u001b[0m\u001b[1;33m\u001b[0m\u001b[1;33m\u001b[0m\u001b[0m\n",
      "\u001b[1;32m~\\anaconda3\\lib\\site-packages\\seaborn\\relational.py\u001b[0m in \u001b[0;36madd_legend_data\u001b[1;34m(self, ax)\u001b[0m\n\u001b[0;32m    335\u001b[0m                 \u001b[1;32mif\u001b[0m \u001b[0mattr\u001b[0m \u001b[1;32min\u001b[0m \u001b[0mkws\u001b[0m\u001b[1;33m:\u001b[0m\u001b[1;33m\u001b[0m\u001b[1;33m\u001b[0m\u001b[0m\n\u001b[0;32m    336\u001b[0m                     \u001b[0muse_kws\u001b[0m\u001b[1;33m[\u001b[0m\u001b[0mattr\u001b[0m\u001b[1;33m]\u001b[0m \u001b[1;33m=\u001b[0m \u001b[0mkws\u001b[0m\u001b[1;33m[\u001b[0m\u001b[0mattr\u001b[0m\u001b[1;33m]\u001b[0m\u001b[1;33m\u001b[0m\u001b[1;33m\u001b[0m\u001b[0m\n\u001b[1;32m--> 337\u001b[1;33m             \u001b[0martist\u001b[0m \u001b[1;33m=\u001b[0m \u001b[0mfunc\u001b[0m\u001b[1;33m(\u001b[0m\u001b[1;33m[\u001b[0m\u001b[1;33m]\u001b[0m\u001b[1;33m,\u001b[0m \u001b[1;33m[\u001b[0m\u001b[1;33m]\u001b[0m\u001b[1;33m,\u001b[0m \u001b[0mlabel\u001b[0m\u001b[1;33m=\u001b[0m\u001b[0mlabel\u001b[0m\u001b[1;33m,\u001b[0m \u001b[1;33m**\u001b[0m\u001b[0muse_kws\u001b[0m\u001b[1;33m)\u001b[0m\u001b[1;33m\u001b[0m\u001b[1;33m\u001b[0m\u001b[0m\n\u001b[0m\u001b[0;32m    338\u001b[0m             \u001b[1;32mif\u001b[0m \u001b[0mself\u001b[0m\u001b[1;33m.\u001b[0m\u001b[0m_legend_func\u001b[0m \u001b[1;33m==\u001b[0m \u001b[1;34m\"plot\"\u001b[0m\u001b[1;33m:\u001b[0m\u001b[1;33m\u001b[0m\u001b[1;33m\u001b[0m\u001b[0m\n\u001b[0;32m    339\u001b[0m                 \u001b[0martist\u001b[0m \u001b[1;33m=\u001b[0m \u001b[0martist\u001b[0m\u001b[1;33m[\u001b[0m\u001b[1;36m0\u001b[0m\u001b[1;33m]\u001b[0m\u001b[1;33m\u001b[0m\u001b[1;33m\u001b[0m\u001b[0m\n",
      "\u001b[1;32m~\\anaconda3\\lib\\site-packages\\matplotlib\\__init__.py\u001b[0m in \u001b[0;36minner\u001b[1;34m(ax, data, *args, **kwargs)\u001b[0m\n\u001b[0;32m   1410\u001b[0m     \u001b[1;32mdef\u001b[0m \u001b[0minner\u001b[0m\u001b[1;33m(\u001b[0m\u001b[0max\u001b[0m\u001b[1;33m,\u001b[0m \u001b[1;33m*\u001b[0m\u001b[0margs\u001b[0m\u001b[1;33m,\u001b[0m \u001b[0mdata\u001b[0m\u001b[1;33m=\u001b[0m\u001b[1;32mNone\u001b[0m\u001b[1;33m,\u001b[0m \u001b[1;33m**\u001b[0m\u001b[0mkwargs\u001b[0m\u001b[1;33m)\u001b[0m\u001b[1;33m:\u001b[0m\u001b[1;33m\u001b[0m\u001b[1;33m\u001b[0m\u001b[0m\n\u001b[0;32m   1411\u001b[0m         \u001b[1;32mif\u001b[0m \u001b[0mdata\u001b[0m \u001b[1;32mis\u001b[0m \u001b[1;32mNone\u001b[0m\u001b[1;33m:\u001b[0m\u001b[1;33m\u001b[0m\u001b[1;33m\u001b[0m\u001b[0m\n\u001b[1;32m-> 1412\u001b[1;33m             \u001b[1;32mreturn\u001b[0m \u001b[0mfunc\u001b[0m\u001b[1;33m(\u001b[0m\u001b[0max\u001b[0m\u001b[1;33m,\u001b[0m \u001b[1;33m*\u001b[0m\u001b[0mmap\u001b[0m\u001b[1;33m(\u001b[0m\u001b[0msanitize_sequence\u001b[0m\u001b[1;33m,\u001b[0m \u001b[0margs\u001b[0m\u001b[1;33m)\u001b[0m\u001b[1;33m,\u001b[0m \u001b[1;33m**\u001b[0m\u001b[0mkwargs\u001b[0m\u001b[1;33m)\u001b[0m\u001b[1;33m\u001b[0m\u001b[1;33m\u001b[0m\u001b[0m\n\u001b[0m\u001b[0;32m   1413\u001b[0m \u001b[1;33m\u001b[0m\u001b[0m\n\u001b[0;32m   1414\u001b[0m         \u001b[0mbound\u001b[0m \u001b[1;33m=\u001b[0m \u001b[0mnew_sig\u001b[0m\u001b[1;33m.\u001b[0m\u001b[0mbind\u001b[0m\u001b[1;33m(\u001b[0m\u001b[0max\u001b[0m\u001b[1;33m,\u001b[0m \u001b[1;33m*\u001b[0m\u001b[0margs\u001b[0m\u001b[1;33m,\u001b[0m \u001b[1;33m**\u001b[0m\u001b[0mkwargs\u001b[0m\u001b[1;33m)\u001b[0m\u001b[1;33m\u001b[0m\u001b[1;33m\u001b[0m\u001b[0m\n",
      "\u001b[1;32m~\\anaconda3\\lib\\site-packages\\matplotlib\\axes\\_axes.py\u001b[0m in \u001b[0;36mscatter\u001b[1;34m(self, x, y, s, c, marker, cmap, norm, vmin, vmax, alpha, linewidths, edgecolors, plotnonfinite, **kwargs)\u001b[0m\n\u001b[0;32m   4478\u001b[0m                 \u001b[0mself\u001b[0m\u001b[1;33m.\u001b[0m\u001b[0mset_ymargin\u001b[0m\u001b[1;33m(\u001b[0m\u001b[1;36m0.05\u001b[0m\u001b[1;33m)\u001b[0m\u001b[1;33m\u001b[0m\u001b[1;33m\u001b[0m\u001b[0m\n\u001b[0;32m   4479\u001b[0m \u001b[1;33m\u001b[0m\u001b[0m\n\u001b[1;32m-> 4480\u001b[1;33m         \u001b[0mself\u001b[0m\u001b[1;33m.\u001b[0m\u001b[0madd_collection\u001b[0m\u001b[1;33m(\u001b[0m\u001b[0mcollection\u001b[0m\u001b[1;33m)\u001b[0m\u001b[1;33m\u001b[0m\u001b[1;33m\u001b[0m\u001b[0m\n\u001b[0m\u001b[0;32m   4481\u001b[0m         \u001b[0mself\u001b[0m\u001b[1;33m.\u001b[0m\u001b[0m_request_autoscale_view\u001b[0m\u001b[1;33m(\u001b[0m\u001b[1;33m)\u001b[0m\u001b[1;33m\u001b[0m\u001b[1;33m\u001b[0m\u001b[0m\n\u001b[0;32m   4482\u001b[0m \u001b[1;33m\u001b[0m\u001b[0m\n",
      "\u001b[1;32m~\\anaconda3\\lib\\site-packages\\matplotlib\\axes\\_base.py\u001b[0m in \u001b[0;36madd_collection\u001b[1;34m(self, collection, autolim)\u001b[0m\n\u001b[0;32m   2245\u001b[0m             \u001b[1;31m# Make sure viewLim is not stale (mostly to match\u001b[0m\u001b[1;33m\u001b[0m\u001b[1;33m\u001b[0m\u001b[0m\n\u001b[0;32m   2246\u001b[0m             \u001b[1;31m# pre-lazy-autoscale behavior, which is not really better).\u001b[0m\u001b[1;33m\u001b[0m\u001b[1;33m\u001b[0m\u001b[0m\n\u001b[1;32m-> 2247\u001b[1;33m             \u001b[0mself\u001b[0m\u001b[1;33m.\u001b[0m\u001b[0m_unstale_viewLim\u001b[0m\u001b[1;33m(\u001b[0m\u001b[1;33m)\u001b[0m\u001b[1;33m\u001b[0m\u001b[1;33m\u001b[0m\u001b[0m\n\u001b[0m\u001b[0;32m   2248\u001b[0m             \u001b[0mdatalim\u001b[0m \u001b[1;33m=\u001b[0m \u001b[0mcollection\u001b[0m\u001b[1;33m.\u001b[0m\u001b[0mget_datalim\u001b[0m\u001b[1;33m(\u001b[0m\u001b[0mself\u001b[0m\u001b[1;33m.\u001b[0m\u001b[0mtransData\u001b[0m\u001b[1;33m)\u001b[0m\u001b[1;33m\u001b[0m\u001b[1;33m\u001b[0m\u001b[0m\n\u001b[0;32m   2249\u001b[0m             \u001b[0mpoints\u001b[0m \u001b[1;33m=\u001b[0m \u001b[0mdatalim\u001b[0m\u001b[1;33m.\u001b[0m\u001b[0mget_points\u001b[0m\u001b[1;33m(\u001b[0m\u001b[1;33m)\u001b[0m\u001b[1;33m\u001b[0m\u001b[1;33m\u001b[0m\u001b[0m\n",
      "\u001b[1;32m~\\anaconda3\\lib\\site-packages\\matplotlib\\axes\\_base.py\u001b[0m in \u001b[0;36m_unstale_viewLim\u001b[1;34m(self)\u001b[0m\n\u001b[0;32m    775\u001b[0m                 \u001b[1;32mfor\u001b[0m \u001b[0max\u001b[0m \u001b[1;32min\u001b[0m \u001b[0mself\u001b[0m\u001b[1;33m.\u001b[0m\u001b[0m_shared_axes\u001b[0m\u001b[1;33m[\u001b[0m\u001b[0mname\u001b[0m\u001b[1;33m]\u001b[0m\u001b[1;33m.\u001b[0m\u001b[0mget_siblings\u001b[0m\u001b[1;33m(\u001b[0m\u001b[0mself\u001b[0m\u001b[1;33m)\u001b[0m\u001b[1;33m:\u001b[0m\u001b[1;33m\u001b[0m\u001b[1;33m\u001b[0m\u001b[0m\n\u001b[0;32m    776\u001b[0m                     \u001b[0max\u001b[0m\u001b[1;33m.\u001b[0m\u001b[0m_stale_viewlims\u001b[0m\u001b[1;33m[\u001b[0m\u001b[0mname\u001b[0m\u001b[1;33m]\u001b[0m \u001b[1;33m=\u001b[0m \u001b[1;32mFalse\u001b[0m\u001b[1;33m\u001b[0m\u001b[1;33m\u001b[0m\u001b[0m\n\u001b[1;32m--> 777\u001b[1;33m             self.autoscale_view(**{f\"scale{name}\": scale\n\u001b[0m\u001b[0;32m    778\u001b[0m                                    for name, scale in need_scale.items()})\n\u001b[0;32m    779\u001b[0m \u001b[1;33m\u001b[0m\u001b[0m\n",
      "\u001b[1;32m~\\anaconda3\\lib\\site-packages\\matplotlib\\axes\\_base.py\u001b[0m in \u001b[0;36mautoscale_view\u001b[1;34m(self, tight, scalex, scaley)\u001b[0m\n\u001b[0;32m   2854\u001b[0m             \u001b[1;31m# `get_children` would raise an AttributeError.\u001b[0m\u001b[1;33m\u001b[0m\u001b[1;33m\u001b[0m\u001b[0m\n\u001b[0;32m   2855\u001b[0m             \u001b[1;32mif\u001b[0m \u001b[0mself\u001b[0m\u001b[1;33m.\u001b[0m\u001b[0m_xmargin\u001b[0m \u001b[1;32mand\u001b[0m \u001b[0mscalex\u001b[0m \u001b[1;32mand\u001b[0m \u001b[0mself\u001b[0m\u001b[1;33m.\u001b[0m\u001b[0m_autoscaleXon\u001b[0m\u001b[1;33m:\u001b[0m\u001b[1;33m\u001b[0m\u001b[1;33m\u001b[0m\u001b[0m\n\u001b[1;32m-> 2856\u001b[1;33m                 x_stickies = np.sort(np.concatenate([\n\u001b[0m\u001b[0;32m   2857\u001b[0m                     \u001b[0martist\u001b[0m\u001b[1;33m.\u001b[0m\u001b[0msticky_edges\u001b[0m\u001b[1;33m.\u001b[0m\u001b[0mx\u001b[0m\u001b[1;33m\u001b[0m\u001b[1;33m\u001b[0m\u001b[0m\n\u001b[0;32m   2858\u001b[0m                     \u001b[1;32mfor\u001b[0m \u001b[0max\u001b[0m \u001b[1;32min\u001b[0m \u001b[0mself\u001b[0m\u001b[1;33m.\u001b[0m\u001b[0m_shared_axes\u001b[0m\u001b[1;33m[\u001b[0m\u001b[1;34m\"x\"\u001b[0m\u001b[1;33m]\u001b[0m\u001b[1;33m.\u001b[0m\u001b[0mget_siblings\u001b[0m\u001b[1;33m(\u001b[0m\u001b[0mself\u001b[0m\u001b[1;33m)\u001b[0m\u001b[1;33m\u001b[0m\u001b[1;33m\u001b[0m\u001b[0m\n",
      "\u001b[1;32m<__array_function__ internals>\u001b[0m in \u001b[0;36mconcatenate\u001b[1;34m(*args, **kwargs)\u001b[0m\n",
      "\u001b[1;31mKeyboardInterrupt\u001b[0m: "
     ]
    },
    {
     "name": "stdout",
     "output_type": "stream",
     "text": [
      "Error in callback <function flush_figures at 0x000001F9397D9160> (for post_execute):\n"
     ]
    },
    {
     "ename": "KeyboardInterrupt",
     "evalue": "",
     "output_type": "error",
     "traceback": [
      "\u001b[1;31m---------------------------------------------------------------------------\u001b[0m",
      "\u001b[1;31mKeyboardInterrupt\u001b[0m                         Traceback (most recent call last)",
      "\u001b[1;32m~\\anaconda3\\lib\\site-packages\\matplotlib_inline\\backend_inline.py\u001b[0m in \u001b[0;36mflush_figures\u001b[1;34m()\u001b[0m\n\u001b[0;32m    124\u001b[0m             \u001b[1;31m# ignore the tracking, just draw and close all figures\u001b[0m\u001b[1;33m\u001b[0m\u001b[1;33m\u001b[0m\u001b[0m\n\u001b[0;32m    125\u001b[0m             \u001b[1;32mtry\u001b[0m\u001b[1;33m:\u001b[0m\u001b[1;33m\u001b[0m\u001b[1;33m\u001b[0m\u001b[0m\n\u001b[1;32m--> 126\u001b[1;33m                 \u001b[1;32mreturn\u001b[0m \u001b[0mshow\u001b[0m\u001b[1;33m(\u001b[0m\u001b[1;32mTrue\u001b[0m\u001b[1;33m)\u001b[0m\u001b[1;33m\u001b[0m\u001b[1;33m\u001b[0m\u001b[0m\n\u001b[0m\u001b[0;32m    127\u001b[0m             \u001b[1;32mexcept\u001b[0m \u001b[0mException\u001b[0m \u001b[1;32mas\u001b[0m \u001b[0me\u001b[0m\u001b[1;33m:\u001b[0m\u001b[1;33m\u001b[0m\u001b[1;33m\u001b[0m\u001b[0m\n\u001b[0;32m    128\u001b[0m                 \u001b[1;31m# safely show traceback if in IPython, else raise\u001b[0m\u001b[1;33m\u001b[0m\u001b[1;33m\u001b[0m\u001b[0m\n",
      "\u001b[1;32m~\\anaconda3\\lib\\site-packages\\matplotlib_inline\\backend_inline.py\u001b[0m in \u001b[0;36mshow\u001b[1;34m(close, block)\u001b[0m\n\u001b[0;32m     88\u001b[0m     \u001b[1;32mtry\u001b[0m\u001b[1;33m:\u001b[0m\u001b[1;33m\u001b[0m\u001b[1;33m\u001b[0m\u001b[0m\n\u001b[0;32m     89\u001b[0m         \u001b[1;32mfor\u001b[0m \u001b[0mfigure_manager\u001b[0m \u001b[1;32min\u001b[0m \u001b[0mGcf\u001b[0m\u001b[1;33m.\u001b[0m\u001b[0mget_all_fig_managers\u001b[0m\u001b[1;33m(\u001b[0m\u001b[1;33m)\u001b[0m\u001b[1;33m:\u001b[0m\u001b[1;33m\u001b[0m\u001b[1;33m\u001b[0m\u001b[0m\n\u001b[1;32m---> 90\u001b[1;33m             display(\n\u001b[0m\u001b[0;32m     91\u001b[0m                 \u001b[0mfigure_manager\u001b[0m\u001b[1;33m.\u001b[0m\u001b[0mcanvas\u001b[0m\u001b[1;33m.\u001b[0m\u001b[0mfigure\u001b[0m\u001b[1;33m,\u001b[0m\u001b[1;33m\u001b[0m\u001b[1;33m\u001b[0m\u001b[0m\n\u001b[0;32m     92\u001b[0m                 \u001b[0mmetadata\u001b[0m\u001b[1;33m=\u001b[0m\u001b[0m_fetch_figure_metadata\u001b[0m\u001b[1;33m(\u001b[0m\u001b[0mfigure_manager\u001b[0m\u001b[1;33m.\u001b[0m\u001b[0mcanvas\u001b[0m\u001b[1;33m.\u001b[0m\u001b[0mfigure\u001b[0m\u001b[1;33m)\u001b[0m\u001b[1;33m\u001b[0m\u001b[1;33m\u001b[0m\u001b[0m\n",
      "\u001b[1;32m~\\anaconda3\\lib\\site-packages\\IPython\\core\\display.py\u001b[0m in \u001b[0;36mdisplay\u001b[1;34m(include, exclude, metadata, transient, display_id, *objs, **kwargs)\u001b[0m\n\u001b[0;32m    318\u001b[0m             \u001b[0mpublish_display_data\u001b[0m\u001b[1;33m(\u001b[0m\u001b[0mdata\u001b[0m\u001b[1;33m=\u001b[0m\u001b[0mobj\u001b[0m\u001b[1;33m,\u001b[0m \u001b[0mmetadata\u001b[0m\u001b[1;33m=\u001b[0m\u001b[0mmetadata\u001b[0m\u001b[1;33m,\u001b[0m \u001b[1;33m**\u001b[0m\u001b[0mkwargs\u001b[0m\u001b[1;33m)\u001b[0m\u001b[1;33m\u001b[0m\u001b[1;33m\u001b[0m\u001b[0m\n\u001b[0;32m    319\u001b[0m         \u001b[1;32melse\u001b[0m\u001b[1;33m:\u001b[0m\u001b[1;33m\u001b[0m\u001b[1;33m\u001b[0m\u001b[0m\n\u001b[1;32m--> 320\u001b[1;33m             \u001b[0mformat_dict\u001b[0m\u001b[1;33m,\u001b[0m \u001b[0mmd_dict\u001b[0m \u001b[1;33m=\u001b[0m \u001b[0mformat\u001b[0m\u001b[1;33m(\u001b[0m\u001b[0mobj\u001b[0m\u001b[1;33m,\u001b[0m \u001b[0minclude\u001b[0m\u001b[1;33m=\u001b[0m\u001b[0minclude\u001b[0m\u001b[1;33m,\u001b[0m \u001b[0mexclude\u001b[0m\u001b[1;33m=\u001b[0m\u001b[0mexclude\u001b[0m\u001b[1;33m)\u001b[0m\u001b[1;33m\u001b[0m\u001b[1;33m\u001b[0m\u001b[0m\n\u001b[0m\u001b[0;32m    321\u001b[0m             \u001b[1;32mif\u001b[0m \u001b[1;32mnot\u001b[0m \u001b[0mformat_dict\u001b[0m\u001b[1;33m:\u001b[0m\u001b[1;33m\u001b[0m\u001b[1;33m\u001b[0m\u001b[0m\n\u001b[0;32m    322\u001b[0m                 \u001b[1;31m# nothing to display (e.g. _ipython_display_ took over)\u001b[0m\u001b[1;33m\u001b[0m\u001b[1;33m\u001b[0m\u001b[0m\n",
      "\u001b[1;32m~\\anaconda3\\lib\\site-packages\\IPython\\core\\formatters.py\u001b[0m in \u001b[0;36mformat\u001b[1;34m(self, obj, include, exclude)\u001b[0m\n\u001b[0;32m    178\u001b[0m             \u001b[0mmd\u001b[0m \u001b[1;33m=\u001b[0m \u001b[1;32mNone\u001b[0m\u001b[1;33m\u001b[0m\u001b[1;33m\u001b[0m\u001b[0m\n\u001b[0;32m    179\u001b[0m             \u001b[1;32mtry\u001b[0m\u001b[1;33m:\u001b[0m\u001b[1;33m\u001b[0m\u001b[1;33m\u001b[0m\u001b[0m\n\u001b[1;32m--> 180\u001b[1;33m                 \u001b[0mdata\u001b[0m \u001b[1;33m=\u001b[0m \u001b[0mformatter\u001b[0m\u001b[1;33m(\u001b[0m\u001b[0mobj\u001b[0m\u001b[1;33m)\u001b[0m\u001b[1;33m\u001b[0m\u001b[1;33m\u001b[0m\u001b[0m\n\u001b[0m\u001b[0;32m    181\u001b[0m             \u001b[1;32mexcept\u001b[0m\u001b[1;33m:\u001b[0m\u001b[1;33m\u001b[0m\u001b[1;33m\u001b[0m\u001b[0m\n\u001b[0;32m    182\u001b[0m                 \u001b[1;31m# FIXME: log the exception\u001b[0m\u001b[1;33m\u001b[0m\u001b[1;33m\u001b[0m\u001b[0m\n",
      "\u001b[1;32m~\\anaconda3\\lib\\site-packages\\decorator.py\u001b[0m in \u001b[0;36mfun\u001b[1;34m(*args, **kw)\u001b[0m\n\u001b[0;32m    230\u001b[0m             \u001b[1;32mif\u001b[0m \u001b[1;32mnot\u001b[0m \u001b[0mkwsyntax\u001b[0m\u001b[1;33m:\u001b[0m\u001b[1;33m\u001b[0m\u001b[1;33m\u001b[0m\u001b[0m\n\u001b[0;32m    231\u001b[0m                 \u001b[0margs\u001b[0m\u001b[1;33m,\u001b[0m \u001b[0mkw\u001b[0m \u001b[1;33m=\u001b[0m \u001b[0mfix\u001b[0m\u001b[1;33m(\u001b[0m\u001b[0margs\u001b[0m\u001b[1;33m,\u001b[0m \u001b[0mkw\u001b[0m\u001b[1;33m,\u001b[0m \u001b[0msig\u001b[0m\u001b[1;33m)\u001b[0m\u001b[1;33m\u001b[0m\u001b[1;33m\u001b[0m\u001b[0m\n\u001b[1;32m--> 232\u001b[1;33m             \u001b[1;32mreturn\u001b[0m \u001b[0mcaller\u001b[0m\u001b[1;33m(\u001b[0m\u001b[0mfunc\u001b[0m\u001b[1;33m,\u001b[0m \u001b[1;33m*\u001b[0m\u001b[1;33m(\u001b[0m\u001b[0mextras\u001b[0m \u001b[1;33m+\u001b[0m \u001b[0margs\u001b[0m\u001b[1;33m)\u001b[0m\u001b[1;33m,\u001b[0m \u001b[1;33m**\u001b[0m\u001b[0mkw\u001b[0m\u001b[1;33m)\u001b[0m\u001b[1;33m\u001b[0m\u001b[1;33m\u001b[0m\u001b[0m\n\u001b[0m\u001b[0;32m    233\u001b[0m     \u001b[0mfun\u001b[0m\u001b[1;33m.\u001b[0m\u001b[0m__name__\u001b[0m \u001b[1;33m=\u001b[0m \u001b[0mfunc\u001b[0m\u001b[1;33m.\u001b[0m\u001b[0m__name__\u001b[0m\u001b[1;33m\u001b[0m\u001b[1;33m\u001b[0m\u001b[0m\n\u001b[0;32m    234\u001b[0m     \u001b[0mfun\u001b[0m\u001b[1;33m.\u001b[0m\u001b[0m__doc__\u001b[0m \u001b[1;33m=\u001b[0m \u001b[0mfunc\u001b[0m\u001b[1;33m.\u001b[0m\u001b[0m__doc__\u001b[0m\u001b[1;33m\u001b[0m\u001b[1;33m\u001b[0m\u001b[0m\n",
      "\u001b[1;32m~\\anaconda3\\lib\\site-packages\\IPython\\core\\formatters.py\u001b[0m in \u001b[0;36mcatch_format_error\u001b[1;34m(method, self, *args, **kwargs)\u001b[0m\n\u001b[0;32m    222\u001b[0m     \u001b[1;34m\"\"\"show traceback on failed format call\"\"\"\u001b[0m\u001b[1;33m\u001b[0m\u001b[1;33m\u001b[0m\u001b[0m\n\u001b[0;32m    223\u001b[0m     \u001b[1;32mtry\u001b[0m\u001b[1;33m:\u001b[0m\u001b[1;33m\u001b[0m\u001b[1;33m\u001b[0m\u001b[0m\n\u001b[1;32m--> 224\u001b[1;33m         \u001b[0mr\u001b[0m \u001b[1;33m=\u001b[0m \u001b[0mmethod\u001b[0m\u001b[1;33m(\u001b[0m\u001b[0mself\u001b[0m\u001b[1;33m,\u001b[0m \u001b[1;33m*\u001b[0m\u001b[0margs\u001b[0m\u001b[1;33m,\u001b[0m \u001b[1;33m**\u001b[0m\u001b[0mkwargs\u001b[0m\u001b[1;33m)\u001b[0m\u001b[1;33m\u001b[0m\u001b[1;33m\u001b[0m\u001b[0m\n\u001b[0m\u001b[0;32m    225\u001b[0m     \u001b[1;32mexcept\u001b[0m \u001b[0mNotImplementedError\u001b[0m\u001b[1;33m:\u001b[0m\u001b[1;33m\u001b[0m\u001b[1;33m\u001b[0m\u001b[0m\n\u001b[0;32m    226\u001b[0m         \u001b[1;31m# don't warn on NotImplementedErrors\u001b[0m\u001b[1;33m\u001b[0m\u001b[1;33m\u001b[0m\u001b[0m\n",
      "\u001b[1;32m~\\anaconda3\\lib\\site-packages\\IPython\\core\\formatters.py\u001b[0m in \u001b[0;36m__call__\u001b[1;34m(self, obj)\u001b[0m\n\u001b[0;32m    339\u001b[0m                 \u001b[1;32mpass\u001b[0m\u001b[1;33m\u001b[0m\u001b[1;33m\u001b[0m\u001b[0m\n\u001b[0;32m    340\u001b[0m             \u001b[1;32melse\u001b[0m\u001b[1;33m:\u001b[0m\u001b[1;33m\u001b[0m\u001b[1;33m\u001b[0m\u001b[0m\n\u001b[1;32m--> 341\u001b[1;33m                 \u001b[1;32mreturn\u001b[0m \u001b[0mprinter\u001b[0m\u001b[1;33m(\u001b[0m\u001b[0mobj\u001b[0m\u001b[1;33m)\u001b[0m\u001b[1;33m\u001b[0m\u001b[1;33m\u001b[0m\u001b[0m\n\u001b[0m\u001b[0;32m    342\u001b[0m             \u001b[1;31m# Finally look for special method names\u001b[0m\u001b[1;33m\u001b[0m\u001b[1;33m\u001b[0m\u001b[0m\n\u001b[0;32m    343\u001b[0m             \u001b[0mmethod\u001b[0m \u001b[1;33m=\u001b[0m \u001b[0mget_real_method\u001b[0m\u001b[1;33m(\u001b[0m\u001b[0mobj\u001b[0m\u001b[1;33m,\u001b[0m \u001b[0mself\u001b[0m\u001b[1;33m.\u001b[0m\u001b[0mprint_method\u001b[0m\u001b[1;33m)\u001b[0m\u001b[1;33m\u001b[0m\u001b[1;33m\u001b[0m\u001b[0m\n",
      "\u001b[1;32m~\\anaconda3\\lib\\site-packages\\IPython\\core\\pylabtools.py\u001b[0m in \u001b[0;36mprint_figure\u001b[1;34m(fig, fmt, bbox_inches, base64, **kwargs)\u001b[0m\n\u001b[0;32m    149\u001b[0m         \u001b[0mFigureCanvasBase\u001b[0m\u001b[1;33m(\u001b[0m\u001b[0mfig\u001b[0m\u001b[1;33m)\u001b[0m\u001b[1;33m\u001b[0m\u001b[1;33m\u001b[0m\u001b[0m\n\u001b[0;32m    150\u001b[0m \u001b[1;33m\u001b[0m\u001b[0m\n\u001b[1;32m--> 151\u001b[1;33m     \u001b[0mfig\u001b[0m\u001b[1;33m.\u001b[0m\u001b[0mcanvas\u001b[0m\u001b[1;33m.\u001b[0m\u001b[0mprint_figure\u001b[0m\u001b[1;33m(\u001b[0m\u001b[0mbytes_io\u001b[0m\u001b[1;33m,\u001b[0m \u001b[1;33m**\u001b[0m\u001b[0mkw\u001b[0m\u001b[1;33m)\u001b[0m\u001b[1;33m\u001b[0m\u001b[1;33m\u001b[0m\u001b[0m\n\u001b[0m\u001b[0;32m    152\u001b[0m     \u001b[0mdata\u001b[0m \u001b[1;33m=\u001b[0m \u001b[0mbytes_io\u001b[0m\u001b[1;33m.\u001b[0m\u001b[0mgetvalue\u001b[0m\u001b[1;33m(\u001b[0m\u001b[1;33m)\u001b[0m\u001b[1;33m\u001b[0m\u001b[1;33m\u001b[0m\u001b[0m\n\u001b[0;32m    153\u001b[0m     \u001b[1;32mif\u001b[0m \u001b[0mfmt\u001b[0m \u001b[1;33m==\u001b[0m \u001b[1;34m'svg'\u001b[0m\u001b[1;33m:\u001b[0m\u001b[1;33m\u001b[0m\u001b[1;33m\u001b[0m\u001b[0m\n",
      "\u001b[1;32m~\\anaconda3\\lib\\site-packages\\matplotlib\\backend_bases.py\u001b[0m in \u001b[0;36mprint_figure\u001b[1;34m(self, filename, dpi, facecolor, edgecolor, orientation, format, bbox_inches, pad_inches, bbox_extra_artists, backend, **kwargs)\u001b[0m\n\u001b[0;32m   2317\u001b[0m                 \u001b[1;31m# force the figure dpi to 72), so we need to set it again here.\u001b[0m\u001b[1;33m\u001b[0m\u001b[1;33m\u001b[0m\u001b[0m\n\u001b[0;32m   2318\u001b[0m                 \u001b[1;32mwith\u001b[0m \u001b[0mcbook\u001b[0m\u001b[1;33m.\u001b[0m\u001b[0m_setattr_cm\u001b[0m\u001b[1;33m(\u001b[0m\u001b[0mself\u001b[0m\u001b[1;33m.\u001b[0m\u001b[0mfigure\u001b[0m\u001b[1;33m,\u001b[0m \u001b[0mdpi\u001b[0m\u001b[1;33m=\u001b[0m\u001b[0mdpi\u001b[0m\u001b[1;33m)\u001b[0m\u001b[1;33m:\u001b[0m\u001b[1;33m\u001b[0m\u001b[1;33m\u001b[0m\u001b[0m\n\u001b[1;32m-> 2319\u001b[1;33m                     result = print_method(\n\u001b[0m\u001b[0;32m   2320\u001b[0m                         \u001b[0mfilename\u001b[0m\u001b[1;33m,\u001b[0m\u001b[1;33m\u001b[0m\u001b[1;33m\u001b[0m\u001b[0m\n\u001b[0;32m   2321\u001b[0m                         \u001b[0mfacecolor\u001b[0m\u001b[1;33m=\u001b[0m\u001b[0mfacecolor\u001b[0m\u001b[1;33m,\u001b[0m\u001b[1;33m\u001b[0m\u001b[1;33m\u001b[0m\u001b[0m\n",
      "\u001b[1;32m~\\anaconda3\\lib\\site-packages\\matplotlib\\backend_bases.py\u001b[0m in \u001b[0;36mwrapper\u001b[1;34m(*args, **kwargs)\u001b[0m\n\u001b[0;32m   1646\u001b[0m             \u001b[0mkwargs\u001b[0m\u001b[1;33m.\u001b[0m\u001b[0mpop\u001b[0m\u001b[1;33m(\u001b[0m\u001b[0marg\u001b[0m\u001b[1;33m)\u001b[0m\u001b[1;33m\u001b[0m\u001b[1;33m\u001b[0m\u001b[0m\n\u001b[0;32m   1647\u001b[0m \u001b[1;33m\u001b[0m\u001b[0m\n\u001b[1;32m-> 1648\u001b[1;33m         \u001b[1;32mreturn\u001b[0m \u001b[0mfunc\u001b[0m\u001b[1;33m(\u001b[0m\u001b[1;33m*\u001b[0m\u001b[0margs\u001b[0m\u001b[1;33m,\u001b[0m \u001b[1;33m**\u001b[0m\u001b[0mkwargs\u001b[0m\u001b[1;33m)\u001b[0m\u001b[1;33m\u001b[0m\u001b[1;33m\u001b[0m\u001b[0m\n\u001b[0m\u001b[0;32m   1649\u001b[0m \u001b[1;33m\u001b[0m\u001b[0m\n\u001b[0;32m   1650\u001b[0m     \u001b[1;32mreturn\u001b[0m \u001b[0mwrapper\u001b[0m\u001b[1;33m\u001b[0m\u001b[1;33m\u001b[0m\u001b[0m\n",
      "\u001b[1;32m~\\anaconda3\\lib\\site-packages\\matplotlib\\_api\\deprecation.py\u001b[0m in \u001b[0;36mwrapper\u001b[1;34m(*inner_args, **inner_kwargs)\u001b[0m\n\u001b[0;32m    413\u001b[0m                          \u001b[1;32melse\u001b[0m \u001b[0mdeprecation_addendum\u001b[0m\u001b[1;33m,\u001b[0m\u001b[1;33m\u001b[0m\u001b[1;33m\u001b[0m\u001b[0m\n\u001b[0;32m    414\u001b[0m                 **kwargs)\n\u001b[1;32m--> 415\u001b[1;33m         \u001b[1;32mreturn\u001b[0m \u001b[0mfunc\u001b[0m\u001b[1;33m(\u001b[0m\u001b[1;33m*\u001b[0m\u001b[0minner_args\u001b[0m\u001b[1;33m,\u001b[0m \u001b[1;33m**\u001b[0m\u001b[0minner_kwargs\u001b[0m\u001b[1;33m)\u001b[0m\u001b[1;33m\u001b[0m\u001b[1;33m\u001b[0m\u001b[0m\n\u001b[0m\u001b[0;32m    416\u001b[0m \u001b[1;33m\u001b[0m\u001b[0m\n\u001b[0;32m    417\u001b[0m     \u001b[0mDECORATORS\u001b[0m\u001b[1;33m[\u001b[0m\u001b[0mwrapper\u001b[0m\u001b[1;33m]\u001b[0m \u001b[1;33m=\u001b[0m \u001b[0mdecorator\u001b[0m\u001b[1;33m\u001b[0m\u001b[1;33m\u001b[0m\u001b[0m\n",
      "\u001b[1;32m~\\anaconda3\\lib\\site-packages\\matplotlib\\backends\\backend_agg.py\u001b[0m in \u001b[0;36mprint_png\u001b[1;34m(self, filename_or_obj, metadata, pil_kwargs, *args)\u001b[0m\n\u001b[0;32m    538\u001b[0m             \u001b[1;33m*\u001b[0m\u001b[0mmetadata\u001b[0m\u001b[1;33m*\u001b[0m\u001b[1;33m,\u001b[0m \u001b[0mincluding\u001b[0m \u001b[0mthe\u001b[0m \u001b[0mdefault\u001b[0m \u001b[1;34m'Software'\u001b[0m \u001b[0mkey\u001b[0m\u001b[1;33m.\u001b[0m\u001b[1;33m\u001b[0m\u001b[1;33m\u001b[0m\u001b[0m\n\u001b[0;32m    539\u001b[0m         \"\"\"\n\u001b[1;32m--> 540\u001b[1;33m         \u001b[0mFigureCanvasAgg\u001b[0m\u001b[1;33m.\u001b[0m\u001b[0mdraw\u001b[0m\u001b[1;33m(\u001b[0m\u001b[0mself\u001b[0m\u001b[1;33m)\u001b[0m\u001b[1;33m\u001b[0m\u001b[1;33m\u001b[0m\u001b[0m\n\u001b[0m\u001b[0;32m    541\u001b[0m         mpl.image.imsave(\n\u001b[0;32m    542\u001b[0m             \u001b[0mfilename_or_obj\u001b[0m\u001b[1;33m,\u001b[0m \u001b[0mself\u001b[0m\u001b[1;33m.\u001b[0m\u001b[0mbuffer_rgba\u001b[0m\u001b[1;33m(\u001b[0m\u001b[1;33m)\u001b[0m\u001b[1;33m,\u001b[0m \u001b[0mformat\u001b[0m\u001b[1;33m=\u001b[0m\u001b[1;34m\"png\"\u001b[0m\u001b[1;33m,\u001b[0m \u001b[0morigin\u001b[0m\u001b[1;33m=\u001b[0m\u001b[1;34m\"upper\"\u001b[0m\u001b[1;33m,\u001b[0m\u001b[1;33m\u001b[0m\u001b[1;33m\u001b[0m\u001b[0m\n",
      "\u001b[1;32m~\\anaconda3\\lib\\site-packages\\matplotlib\\backends\\backend_agg.py\u001b[0m in \u001b[0;36mdraw\u001b[1;34m(self)\u001b[0m\n\u001b[0;32m    434\u001b[0m              (self.toolbar._wait_cursor_for_draw_cm() if self.toolbar\n\u001b[0;32m    435\u001b[0m               else nullcontext()):\n\u001b[1;32m--> 436\u001b[1;33m             \u001b[0mself\u001b[0m\u001b[1;33m.\u001b[0m\u001b[0mfigure\u001b[0m\u001b[1;33m.\u001b[0m\u001b[0mdraw\u001b[0m\u001b[1;33m(\u001b[0m\u001b[0mself\u001b[0m\u001b[1;33m.\u001b[0m\u001b[0mrenderer\u001b[0m\u001b[1;33m)\u001b[0m\u001b[1;33m\u001b[0m\u001b[1;33m\u001b[0m\u001b[0m\n\u001b[0m\u001b[0;32m    437\u001b[0m             \u001b[1;31m# A GUI class may be need to update a window using this draw, so\u001b[0m\u001b[1;33m\u001b[0m\u001b[1;33m\u001b[0m\u001b[0m\n\u001b[0;32m    438\u001b[0m             \u001b[1;31m# don't forget to call the superclass.\u001b[0m\u001b[1;33m\u001b[0m\u001b[1;33m\u001b[0m\u001b[0m\n",
      "\u001b[1;32m~\\anaconda3\\lib\\site-packages\\matplotlib\\artist.py\u001b[0m in \u001b[0;36mdraw_wrapper\u001b[1;34m(artist, renderer, *args, **kwargs)\u001b[0m\n\u001b[0;32m     71\u001b[0m     \u001b[1;33m@\u001b[0m\u001b[0mwraps\u001b[0m\u001b[1;33m(\u001b[0m\u001b[0mdraw\u001b[0m\u001b[1;33m)\u001b[0m\u001b[1;33m\u001b[0m\u001b[1;33m\u001b[0m\u001b[0m\n\u001b[0;32m     72\u001b[0m     \u001b[1;32mdef\u001b[0m \u001b[0mdraw_wrapper\u001b[0m\u001b[1;33m(\u001b[0m\u001b[0martist\u001b[0m\u001b[1;33m,\u001b[0m \u001b[0mrenderer\u001b[0m\u001b[1;33m,\u001b[0m \u001b[1;33m*\u001b[0m\u001b[0margs\u001b[0m\u001b[1;33m,\u001b[0m \u001b[1;33m**\u001b[0m\u001b[0mkwargs\u001b[0m\u001b[1;33m)\u001b[0m\u001b[1;33m:\u001b[0m\u001b[1;33m\u001b[0m\u001b[1;33m\u001b[0m\u001b[0m\n\u001b[1;32m---> 73\u001b[1;33m         \u001b[0mresult\u001b[0m \u001b[1;33m=\u001b[0m \u001b[0mdraw\u001b[0m\u001b[1;33m(\u001b[0m\u001b[0martist\u001b[0m\u001b[1;33m,\u001b[0m \u001b[0mrenderer\u001b[0m\u001b[1;33m,\u001b[0m \u001b[1;33m*\u001b[0m\u001b[0margs\u001b[0m\u001b[1;33m,\u001b[0m \u001b[1;33m**\u001b[0m\u001b[0mkwargs\u001b[0m\u001b[1;33m)\u001b[0m\u001b[1;33m\u001b[0m\u001b[1;33m\u001b[0m\u001b[0m\n\u001b[0m\u001b[0;32m     74\u001b[0m         \u001b[1;32mif\u001b[0m \u001b[0mrenderer\u001b[0m\u001b[1;33m.\u001b[0m\u001b[0m_rasterizing\u001b[0m\u001b[1;33m:\u001b[0m\u001b[1;33m\u001b[0m\u001b[1;33m\u001b[0m\u001b[0m\n\u001b[0;32m     75\u001b[0m             \u001b[0mrenderer\u001b[0m\u001b[1;33m.\u001b[0m\u001b[0mstop_rasterizing\u001b[0m\u001b[1;33m(\u001b[0m\u001b[1;33m)\u001b[0m\u001b[1;33m\u001b[0m\u001b[1;33m\u001b[0m\u001b[0m\n",
      "\u001b[1;32m~\\anaconda3\\lib\\site-packages\\matplotlib\\artist.py\u001b[0m in \u001b[0;36mdraw_wrapper\u001b[1;34m(artist, renderer)\u001b[0m\n\u001b[0;32m     48\u001b[0m                 \u001b[0mrenderer\u001b[0m\u001b[1;33m.\u001b[0m\u001b[0mstart_filter\u001b[0m\u001b[1;33m(\u001b[0m\u001b[1;33m)\u001b[0m\u001b[1;33m\u001b[0m\u001b[1;33m\u001b[0m\u001b[0m\n\u001b[0;32m     49\u001b[0m \u001b[1;33m\u001b[0m\u001b[0m\n\u001b[1;32m---> 50\u001b[1;33m             \u001b[1;32mreturn\u001b[0m \u001b[0mdraw\u001b[0m\u001b[1;33m(\u001b[0m\u001b[0martist\u001b[0m\u001b[1;33m,\u001b[0m \u001b[0mrenderer\u001b[0m\u001b[1;33m)\u001b[0m\u001b[1;33m\u001b[0m\u001b[1;33m\u001b[0m\u001b[0m\n\u001b[0m\u001b[0;32m     51\u001b[0m         \u001b[1;32mfinally\u001b[0m\u001b[1;33m:\u001b[0m\u001b[1;33m\u001b[0m\u001b[1;33m\u001b[0m\u001b[0m\n\u001b[0;32m     52\u001b[0m             \u001b[1;32mif\u001b[0m \u001b[0martist\u001b[0m\u001b[1;33m.\u001b[0m\u001b[0mget_agg_filter\u001b[0m\u001b[1;33m(\u001b[0m\u001b[1;33m)\u001b[0m \u001b[1;32mis\u001b[0m \u001b[1;32mnot\u001b[0m \u001b[1;32mNone\u001b[0m\u001b[1;33m:\u001b[0m\u001b[1;33m\u001b[0m\u001b[1;33m\u001b[0m\u001b[0m\n",
      "\u001b[1;32m~\\anaconda3\\lib\\site-packages\\matplotlib\\figure.py\u001b[0m in \u001b[0;36mdraw\u001b[1;34m(self, renderer)\u001b[0m\n\u001b[0;32m   2835\u001b[0m \u001b[1;33m\u001b[0m\u001b[0m\n\u001b[0;32m   2836\u001b[0m             \u001b[0mself\u001b[0m\u001b[1;33m.\u001b[0m\u001b[0mpatch\u001b[0m\u001b[1;33m.\u001b[0m\u001b[0mdraw\u001b[0m\u001b[1;33m(\u001b[0m\u001b[0mrenderer\u001b[0m\u001b[1;33m)\u001b[0m\u001b[1;33m\u001b[0m\u001b[1;33m\u001b[0m\u001b[0m\n\u001b[1;32m-> 2837\u001b[1;33m             mimage._draw_list_compositing_images(\n\u001b[0m\u001b[0;32m   2838\u001b[0m                 renderer, self, artists, self.suppressComposite)\n\u001b[0;32m   2839\u001b[0m \u001b[1;33m\u001b[0m\u001b[0m\n",
      "\u001b[1;32m~\\anaconda3\\lib\\site-packages\\matplotlib\\image.py\u001b[0m in \u001b[0;36m_draw_list_compositing_images\u001b[1;34m(renderer, parent, artists, suppress_composite)\u001b[0m\n\u001b[0;32m    130\u001b[0m     \u001b[1;32mif\u001b[0m \u001b[0mnot_composite\u001b[0m \u001b[1;32mor\u001b[0m \u001b[1;32mnot\u001b[0m \u001b[0mhas_images\u001b[0m\u001b[1;33m:\u001b[0m\u001b[1;33m\u001b[0m\u001b[1;33m\u001b[0m\u001b[0m\n\u001b[0;32m    131\u001b[0m         \u001b[1;32mfor\u001b[0m \u001b[0ma\u001b[0m \u001b[1;32min\u001b[0m \u001b[0martists\u001b[0m\u001b[1;33m:\u001b[0m\u001b[1;33m\u001b[0m\u001b[1;33m\u001b[0m\u001b[0m\n\u001b[1;32m--> 132\u001b[1;33m             \u001b[0ma\u001b[0m\u001b[1;33m.\u001b[0m\u001b[0mdraw\u001b[0m\u001b[1;33m(\u001b[0m\u001b[0mrenderer\u001b[0m\u001b[1;33m)\u001b[0m\u001b[1;33m\u001b[0m\u001b[1;33m\u001b[0m\u001b[0m\n\u001b[0m\u001b[0;32m    133\u001b[0m     \u001b[1;32melse\u001b[0m\u001b[1;33m:\u001b[0m\u001b[1;33m\u001b[0m\u001b[1;33m\u001b[0m\u001b[0m\n\u001b[0;32m    134\u001b[0m         \u001b[1;31m# Composite any adjacent images together\u001b[0m\u001b[1;33m\u001b[0m\u001b[1;33m\u001b[0m\u001b[0m\n",
      "\u001b[1;32m~\\anaconda3\\lib\\site-packages\\matplotlib\\artist.py\u001b[0m in \u001b[0;36mdraw_wrapper\u001b[1;34m(artist, renderer)\u001b[0m\n\u001b[0;32m     48\u001b[0m                 \u001b[0mrenderer\u001b[0m\u001b[1;33m.\u001b[0m\u001b[0mstart_filter\u001b[0m\u001b[1;33m(\u001b[0m\u001b[1;33m)\u001b[0m\u001b[1;33m\u001b[0m\u001b[1;33m\u001b[0m\u001b[0m\n\u001b[0;32m     49\u001b[0m \u001b[1;33m\u001b[0m\u001b[0m\n\u001b[1;32m---> 50\u001b[1;33m             \u001b[1;32mreturn\u001b[0m \u001b[0mdraw\u001b[0m\u001b[1;33m(\u001b[0m\u001b[0martist\u001b[0m\u001b[1;33m,\u001b[0m \u001b[0mrenderer\u001b[0m\u001b[1;33m)\u001b[0m\u001b[1;33m\u001b[0m\u001b[1;33m\u001b[0m\u001b[0m\n\u001b[0m\u001b[0;32m     51\u001b[0m         \u001b[1;32mfinally\u001b[0m\u001b[1;33m:\u001b[0m\u001b[1;33m\u001b[0m\u001b[1;33m\u001b[0m\u001b[0m\n\u001b[0;32m     52\u001b[0m             \u001b[1;32mif\u001b[0m \u001b[0martist\u001b[0m\u001b[1;33m.\u001b[0m\u001b[0mget_agg_filter\u001b[0m\u001b[1;33m(\u001b[0m\u001b[1;33m)\u001b[0m \u001b[1;32mis\u001b[0m \u001b[1;32mnot\u001b[0m \u001b[1;32mNone\u001b[0m\u001b[1;33m:\u001b[0m\u001b[1;33m\u001b[0m\u001b[1;33m\u001b[0m\u001b[0m\n",
      "\u001b[1;32m~\\anaconda3\\lib\\site-packages\\matplotlib\\axes\\_base.py\u001b[0m in \u001b[0;36mdraw\u001b[1;34m(self, renderer)\u001b[0m\n\u001b[0;32m   3089\u001b[0m             \u001b[0mrenderer\u001b[0m\u001b[1;33m.\u001b[0m\u001b[0mstop_rasterizing\u001b[0m\u001b[1;33m(\u001b[0m\u001b[1;33m)\u001b[0m\u001b[1;33m\u001b[0m\u001b[1;33m\u001b[0m\u001b[0m\n\u001b[0;32m   3090\u001b[0m \u001b[1;33m\u001b[0m\u001b[0m\n\u001b[1;32m-> 3091\u001b[1;33m         mimage._draw_list_compositing_images(\n\u001b[0m\u001b[0;32m   3092\u001b[0m             renderer, self, artists, self.figure.suppressComposite)\n\u001b[0;32m   3093\u001b[0m \u001b[1;33m\u001b[0m\u001b[0m\n",
      "\u001b[1;32m~\\anaconda3\\lib\\site-packages\\matplotlib\\image.py\u001b[0m in \u001b[0;36m_draw_list_compositing_images\u001b[1;34m(renderer, parent, artists, suppress_composite)\u001b[0m\n\u001b[0;32m    130\u001b[0m     \u001b[1;32mif\u001b[0m \u001b[0mnot_composite\u001b[0m \u001b[1;32mor\u001b[0m \u001b[1;32mnot\u001b[0m \u001b[0mhas_images\u001b[0m\u001b[1;33m:\u001b[0m\u001b[1;33m\u001b[0m\u001b[1;33m\u001b[0m\u001b[0m\n\u001b[0;32m    131\u001b[0m         \u001b[1;32mfor\u001b[0m \u001b[0ma\u001b[0m \u001b[1;32min\u001b[0m \u001b[0martists\u001b[0m\u001b[1;33m:\u001b[0m\u001b[1;33m\u001b[0m\u001b[1;33m\u001b[0m\u001b[0m\n\u001b[1;32m--> 132\u001b[1;33m             \u001b[0ma\u001b[0m\u001b[1;33m.\u001b[0m\u001b[0mdraw\u001b[0m\u001b[1;33m(\u001b[0m\u001b[0mrenderer\u001b[0m\u001b[1;33m)\u001b[0m\u001b[1;33m\u001b[0m\u001b[1;33m\u001b[0m\u001b[0m\n\u001b[0m\u001b[0;32m    133\u001b[0m     \u001b[1;32melse\u001b[0m\u001b[1;33m:\u001b[0m\u001b[1;33m\u001b[0m\u001b[1;33m\u001b[0m\u001b[0m\n\u001b[0;32m    134\u001b[0m         \u001b[1;31m# Composite any adjacent images together\u001b[0m\u001b[1;33m\u001b[0m\u001b[1;33m\u001b[0m\u001b[0m\n",
      "\u001b[1;32m~\\anaconda3\\lib\\site-packages\\matplotlib\\artist.py\u001b[0m in \u001b[0;36mdraw_wrapper\u001b[1;34m(artist, renderer)\u001b[0m\n\u001b[0;32m     48\u001b[0m                 \u001b[0mrenderer\u001b[0m\u001b[1;33m.\u001b[0m\u001b[0mstart_filter\u001b[0m\u001b[1;33m(\u001b[0m\u001b[1;33m)\u001b[0m\u001b[1;33m\u001b[0m\u001b[1;33m\u001b[0m\u001b[0m\n\u001b[0;32m     49\u001b[0m \u001b[1;33m\u001b[0m\u001b[0m\n\u001b[1;32m---> 50\u001b[1;33m             \u001b[1;32mreturn\u001b[0m \u001b[0mdraw\u001b[0m\u001b[1;33m(\u001b[0m\u001b[0martist\u001b[0m\u001b[1;33m,\u001b[0m \u001b[0mrenderer\u001b[0m\u001b[1;33m)\u001b[0m\u001b[1;33m\u001b[0m\u001b[1;33m\u001b[0m\u001b[0m\n\u001b[0m\u001b[0;32m     51\u001b[0m         \u001b[1;32mfinally\u001b[0m\u001b[1;33m:\u001b[0m\u001b[1;33m\u001b[0m\u001b[1;33m\u001b[0m\u001b[0m\n\u001b[0;32m     52\u001b[0m             \u001b[1;32mif\u001b[0m \u001b[0martist\u001b[0m\u001b[1;33m.\u001b[0m\u001b[0mget_agg_filter\u001b[0m\u001b[1;33m(\u001b[0m\u001b[1;33m)\u001b[0m \u001b[1;32mis\u001b[0m \u001b[1;32mnot\u001b[0m \u001b[1;32mNone\u001b[0m\u001b[1;33m:\u001b[0m\u001b[1;33m\u001b[0m\u001b[1;33m\u001b[0m\u001b[0m\n",
      "\u001b[1;32m~\\anaconda3\\lib\\site-packages\\matplotlib\\collections.py\u001b[0m in \u001b[0;36mdraw\u001b[1;34m(self, renderer)\u001b[0m\n\u001b[0;32m    988\u001b[0m     \u001b[1;32mdef\u001b[0m \u001b[0mdraw\u001b[0m\u001b[1;33m(\u001b[0m\u001b[0mself\u001b[0m\u001b[1;33m,\u001b[0m \u001b[0mrenderer\u001b[0m\u001b[1;33m)\u001b[0m\u001b[1;33m:\u001b[0m\u001b[1;33m\u001b[0m\u001b[1;33m\u001b[0m\u001b[0m\n\u001b[0;32m    989\u001b[0m         \u001b[0mself\u001b[0m\u001b[1;33m.\u001b[0m\u001b[0mset_sizes\u001b[0m\u001b[1;33m(\u001b[0m\u001b[0mself\u001b[0m\u001b[1;33m.\u001b[0m\u001b[0m_sizes\u001b[0m\u001b[1;33m,\u001b[0m \u001b[0mself\u001b[0m\u001b[1;33m.\u001b[0m\u001b[0mfigure\u001b[0m\u001b[1;33m.\u001b[0m\u001b[0mdpi\u001b[0m\u001b[1;33m)\u001b[0m\u001b[1;33m\u001b[0m\u001b[1;33m\u001b[0m\u001b[0m\n\u001b[1;32m--> 990\u001b[1;33m         \u001b[0msuper\u001b[0m\u001b[1;33m(\u001b[0m\u001b[1;33m)\u001b[0m\u001b[1;33m.\u001b[0m\u001b[0mdraw\u001b[0m\u001b[1;33m(\u001b[0m\u001b[0mrenderer\u001b[0m\u001b[1;33m)\u001b[0m\u001b[1;33m\u001b[0m\u001b[1;33m\u001b[0m\u001b[0m\n\u001b[0m\u001b[0;32m    991\u001b[0m \u001b[1;33m\u001b[0m\u001b[0m\n\u001b[0;32m    992\u001b[0m \u001b[1;33m\u001b[0m\u001b[0m\n",
      "\u001b[1;32m~\\anaconda3\\lib\\site-packages\\matplotlib\\artist.py\u001b[0m in \u001b[0;36mdraw_wrapper\u001b[1;34m(artist, renderer)\u001b[0m\n\u001b[0;32m     48\u001b[0m                 \u001b[0mrenderer\u001b[0m\u001b[1;33m.\u001b[0m\u001b[0mstart_filter\u001b[0m\u001b[1;33m(\u001b[0m\u001b[1;33m)\u001b[0m\u001b[1;33m\u001b[0m\u001b[1;33m\u001b[0m\u001b[0m\n\u001b[0;32m     49\u001b[0m \u001b[1;33m\u001b[0m\u001b[0m\n\u001b[1;32m---> 50\u001b[1;33m             \u001b[1;32mreturn\u001b[0m \u001b[0mdraw\u001b[0m\u001b[1;33m(\u001b[0m\u001b[0martist\u001b[0m\u001b[1;33m,\u001b[0m \u001b[0mrenderer\u001b[0m\u001b[1;33m)\u001b[0m\u001b[1;33m\u001b[0m\u001b[1;33m\u001b[0m\u001b[0m\n\u001b[0m\u001b[0;32m     51\u001b[0m         \u001b[1;32mfinally\u001b[0m\u001b[1;33m:\u001b[0m\u001b[1;33m\u001b[0m\u001b[1;33m\u001b[0m\u001b[0m\n\u001b[0;32m     52\u001b[0m             \u001b[1;32mif\u001b[0m \u001b[0martist\u001b[0m\u001b[1;33m.\u001b[0m\u001b[0mget_agg_filter\u001b[0m\u001b[1;33m(\u001b[0m\u001b[1;33m)\u001b[0m \u001b[1;32mis\u001b[0m \u001b[1;32mnot\u001b[0m \u001b[1;32mNone\u001b[0m\u001b[1;33m:\u001b[0m\u001b[1;33m\u001b[0m\u001b[1;33m\u001b[0m\u001b[0m\n",
      "\u001b[1;32m~\\anaconda3\\lib\\site-packages\\matplotlib\\collections.py\u001b[0m in \u001b[0;36mdraw\u001b[1;34m(self, renderer)\u001b[0m\n\u001b[0;32m    422\u001b[0m                 mpath.Path(offsets), transOffset, tuple(facecolors[0]))\n\u001b[0;32m    423\u001b[0m         \u001b[1;32melse\u001b[0m\u001b[1;33m:\u001b[0m\u001b[1;33m\u001b[0m\u001b[1;33m\u001b[0m\u001b[0m\n\u001b[1;32m--> 424\u001b[1;33m             renderer.draw_path_collection(\n\u001b[0m\u001b[0;32m    425\u001b[0m                 \u001b[0mgc\u001b[0m\u001b[1;33m,\u001b[0m \u001b[0mtransform\u001b[0m\u001b[1;33m.\u001b[0m\u001b[0mfrozen\u001b[0m\u001b[1;33m(\u001b[0m\u001b[1;33m)\u001b[0m\u001b[1;33m,\u001b[0m \u001b[0mpaths\u001b[0m\u001b[1;33m,\u001b[0m\u001b[1;33m\u001b[0m\u001b[1;33m\u001b[0m\u001b[0m\n\u001b[0;32m    426\u001b[0m                 \u001b[0mself\u001b[0m\u001b[1;33m.\u001b[0m\u001b[0mget_transforms\u001b[0m\u001b[1;33m(\u001b[0m\u001b[1;33m)\u001b[0m\u001b[1;33m,\u001b[0m \u001b[0moffsets\u001b[0m\u001b[1;33m,\u001b[0m \u001b[0mtransOffset\u001b[0m\u001b[1;33m,\u001b[0m\u001b[1;33m\u001b[0m\u001b[1;33m\u001b[0m\u001b[0m\n",
      "\u001b[1;32m~\\anaconda3\\lib\\site-packages\\matplotlib\\path.py\u001b[0m in \u001b[0;36mvertices\u001b[1;34m(self)\u001b[0m\n\u001b[0;32m    198\u001b[0m         )\n\u001b[0;32m    199\u001b[0m \u001b[1;33m\u001b[0m\u001b[0m\n\u001b[1;32m--> 200\u001b[1;33m     \u001b[1;33m@\u001b[0m\u001b[0mproperty\u001b[0m\u001b[1;33m\u001b[0m\u001b[1;33m\u001b[0m\u001b[0m\n\u001b[0m\u001b[0;32m    201\u001b[0m     \u001b[1;32mdef\u001b[0m \u001b[0mvertices\u001b[0m\u001b[1;33m(\u001b[0m\u001b[0mself\u001b[0m\u001b[1;33m)\u001b[0m\u001b[1;33m:\u001b[0m\u001b[1;33m\u001b[0m\u001b[1;33m\u001b[0m\u001b[0m\n\u001b[0;32m    202\u001b[0m         \"\"\"\n",
      "\u001b[1;31mKeyboardInterrupt\u001b[0m: "
     ]
    }
   ],
   "source": [
    "import seaborn as sns\n",
    "df_DBSCAN=weather_hist\n",
    "df_DBSCAN['Cluster_id_DBSCAN']=results\n",
    "print (df_DBSCAN['Cluster_id_DBSCAN'].value_counts())\n",
    "sns.pairplot(df_DBSCAN,hue='Cluster_id_DBSCAN',palette='Dark2',diag_kind='kde')"
   ]
  },
  {
   "cell_type": "markdown",
   "metadata": {},
   "source": [
    "#### Two cluster model(0 -> 0,1,2, 1 -> Rest)"
   ]
  },
  {
   "cell_type": "code",
   "execution_count": 136,
   "metadata": {},
   "outputs": [],
   "source": [
    "cl0 = weather_hist.query('Summary == 0 or Summary == 1 or Summary == 2')\n",
    "cl1 = weather_hist.query('Summary == 3 or Summary == 4 or Summary == 5 or Summary == 6 or Summary == 7')"
   ]
  },
  {
   "cell_type": "code",
   "execution_count": 137,
   "metadata": {},
   "outputs": [
    {
     "name": "stderr",
     "output_type": "stream",
     "text": [
      "C:\\Users\\student\\AppData\\Local\\Temp\\ipykernel_11308\\3072624506.py:1: SettingWithCopyWarning: \n",
      "A value is trying to be set on a copy of a slice from a DataFrame.\n",
      "Try using .loc[row_indexer,col_indexer] = value instead\n",
      "\n",
      "See the caveats in the documentation: https://pandas.pydata.org/pandas-docs/stable/user_guide/indexing.html#returning-a-view-versus-a-copy\n",
      "  cl1['Summary'] = cl1['Summary'].map({3:0,4:1,5:2,6:3,7:4})\n"
     ]
    }
   ],
   "source": [
    "cl1['Summary'] = cl1['Summary'].map({3:0,4:1,5:2,6:3,7:4})"
   ]
  },
  {
   "cell_type": "markdown",
   "metadata": {},
   "source": [
    "# fOR CL0"
   ]
  },
  {
   "cell_type": "code",
   "execution_count": 141,
   "metadata": {},
   "outputs": [],
   "source": [
    "from sklearn.model_selection import train_test_split\n",
    "from xgboost import XGBClassifier\n",
    "from sklearn.metrics import accuracy_score\n",
    "from sklearn.model_selection import GridSearchCV\n",
    "import optuna\n",
    "from sklearn.model_selection import cross_val_score\n",
    "\n",
    "# Split the dataset into features (X) and target variable (y)\n",
    "X = cl0.drop(['Summary'], axis=1)\n",
    "y = cl0['Summary']\n",
    "\n",
    "\n",
    "\n",
    "# Split the dataset into training and testing sets\n",
    "X_train, X_test, y_train, y_test = train_test_split(X, y, test_size=0.2, random_state=42)\n",
    "\n",
    "\n",
    "def objective(trial):\n",
    "    param = {\n",
    "        'objective': 'multi:softmax',\n",
    "        'num_class': 3,\n",
    "        'eval_metric': 'mlogloss',\n",
    "        'eta': trial.suggest_float('eta', 0.01, 0.3),\n",
    "        'max_depth': trial.suggest_int('max_depth', 3, 10),\n",
    "        'min_child_weight': trial.suggest_int('min_child_weight', 1, 10),\n",
    "        'subsample': trial.suggest_float('subsample', 0.5, 1.0),\n",
    "        'colsample_bytree': trial.suggest_float('colsample_bytree', 0.5, 1.0),\n",
    "        'gamma': trial.suggest_float('gamma', 0, 0.5),\n",
    "        'verbosity': 0\n",
    "    }\n",
    "\n",
    "    model = XGBClassifier(**param)\n",
    "    scores = cross_val_score(model, X, y, cv=5)\n",
    "    accuracy = scores.mean()\n",
    "    return accuracy"
   ]
  },
  {
   "cell_type": "code",
   "execution_count": 142,
   "metadata": {
    "scrolled": true
   },
   "outputs": [
    {
     "name": "stderr",
     "output_type": "stream",
     "text": [
      "[I 2024-03-26 14:40:55,740] A new study created in memory with name: no-name-21e101f5-9f8b-4f86-92b2-e3205cac2226\n",
      "[I 2024-03-26 14:41:01,232] Trial 0 finished with value: 0.9969412020038266 and parameters: {'eta': 0.10011874785092797, 'max_depth': 9, 'min_child_weight': 5, 'subsample': 0.5444176534247254, 'colsample_bytree': 0.8357802366879609, 'gamma': 0.06652424384931055}. Best is trial 0 with value: 0.9969412020038266.\n",
      "[I 2024-03-26 14:41:06,408] Trial 1 finished with value: 0.997071112569618 and parameters: {'eta': 0.07363299227129479, 'max_depth': 5, 'min_child_weight': 1, 'subsample': 0.699615381533363, 'colsample_bytree': 0.9719453851862678, 'gamma': 0.09840155810700774}. Best is trial 1 with value: 0.997071112569618.\n",
      "[I 2024-03-26 14:41:11,437] Trial 2 finished with value: 0.9969057779993667 and parameters: {'eta': 0.2777039238783679, 'max_depth': 9, 'min_child_weight': 7, 'subsample': 0.9610929309142593, 'colsample_bytree': 0.9228610178882268, 'gamma': 0.19839048492505112}. Best is trial 1 with value: 0.997071112569618.\n",
      "[I 2024-03-26 14:41:18,336] Trial 3 finished with value: 0.9967758632491435 and parameters: {'eta': 0.1685327709106668, 'max_depth': 8, 'min_child_weight': 5, 'subsample': 0.775054827153859, 'colsample_bytree': 0.9648273170526042, 'gamma': 0.23461721180424283}. Best is trial 1 with value: 0.997071112569618.\n",
      "[I 2024-03-26 14:41:25,311] Trial 4 finished with value: 0.9967994850638279 and parameters: {'eta': 0.262886051397711, 'max_depth': 10, 'min_child_weight': 4, 'subsample': 0.7317581767147497, 'colsample_bytree': 0.581932476260504, 'gamma': 0.35730000428775066}. Best is trial 1 with value: 0.997071112569618.\n",
      "[I 2024-03-26 14:41:32,761] Trial 5 finished with value: 0.996882152697656 and parameters: {'eta': 0.04738708153191435, 'max_depth': 9, 'min_child_weight': 9, 'subsample': 0.6977802738755197, 'colsample_bytree': 0.8950313033579168, 'gamma': 0.08022137392325801}. Best is trial 1 with value: 0.997071112569618.\n",
      "[I 2024-03-26 14:41:39,264] Trial 6 finished with value: 0.996315270292149 and parameters: {'eta': 0.01697743626743068, 'max_depth': 4, 'min_child_weight': 4, 'subsample': 0.5084522539042577, 'colsample_bytree': 0.8681334795005033, 'gamma': 0.008535146262174609}. Best is trial 1 with value: 0.997071112569618.\n",
      "[I 2024-03-26 14:41:46,319] Trial 7 finished with value: 0.9967876752025937 and parameters: {'eta': 0.1645586244515845, 'max_depth': 7, 'min_child_weight': 6, 'subsample': 0.7345163756758428, 'colsample_bytree': 0.9561138689978868, 'gamma': 0.2323359144464106}. Best is trial 1 with value: 0.997071112569618.\n",
      "[I 2024-03-26 14:41:53,955] Trial 8 finished with value: 0.9968231033914854 and parameters: {'eta': 0.2069580671164382, 'max_depth': 5, 'min_child_weight': 3, 'subsample': 0.903777332093523, 'colsample_bytree': 0.8949909989344191, 'gamma': 0.04157790578612863}. Best is trial 1 with value: 0.997071112569618.\n",
      "[I 2024-03-26 14:42:01,603] Trial 9 finished with value: 0.9970002520074027 and parameters: {'eta': 0.11965624807301632, 'max_depth': 5, 'min_child_weight': 1, 'subsample': 0.9069368906961703, 'colsample_bytree': 0.8306479674227082, 'gamma': 0.01850807200808713}. Best is trial 1 with value: 0.997071112569618.\n",
      "[I 2024-03-26 14:42:08,227] Trial 10 finished with value: 0.9962916547541125 and parameters: {'eta': 0.07179121149575492, 'max_depth': 3, 'min_child_weight': 2, 'subsample': 0.6304971692121403, 'colsample_bytree': 0.6788263890690065, 'gamma': 0.4724104777691654}. Best is trial 1 with value: 0.997071112569618.\n",
      "[I 2024-03-26 14:42:15,941] Trial 11 finished with value: 0.9970356794988892 and parameters: {'eta': 0.11478189875798753, 'max_depth': 6, 'min_child_weight': 1, 'subsample': 0.863762145113835, 'colsample_bytree': 0.7619745409689092, 'gamma': 0.10827703265339071}. Best is trial 1 with value: 0.997071112569618.\n",
      "[I 2024-03-26 14:42:23,771] Trial 12 finished with value: 0.996917581583953 and parameters: {'eta': 0.11354623700297102, 'max_depth': 6, 'min_child_weight': 1, 'subsample': 0.8265224417786927, 'colsample_bytree': 0.7312014192881707, 'gamma': 0.14633392044223162}. Best is trial 1 with value: 0.997071112569618.\n",
      "[I 2024-03-26 14:42:31,815] Trial 13 finished with value: 0.9965396639322451 and parameters: {'eta': 0.06551600123741488, 'max_depth': 6, 'min_child_weight': 2, 'subsample': 0.8321462409911323, 'colsample_bytree': 0.5354572816020992, 'gamma': 0.12808121320567636}. Best is trial 1 with value: 0.997071112569618.\n",
      "[I 2024-03-26 14:42:38,778] Trial 14 finished with value: 0.9962207955867077 and parameters: {'eta': 0.013134831301548397, 'max_depth': 4, 'min_child_weight': 10, 'subsample': 0.6399707001498396, 'colsample_bytree': 0.6387931806441677, 'gamma': 0.31543837503938676}. Best is trial 1 with value: 0.997071112569618.\n",
      "[I 2024-03-26 14:42:45,879] Trial 15 finished with value: 0.9967876703207565 and parameters: {'eta': 0.2124683834657894, 'max_depth': 7, 'min_child_weight': 1, 'subsample': 0.829956332948777, 'colsample_bytree': 0.7634478974848123, 'gamma': 0.1391036464880031}. Best is trial 1 with value: 0.997071112569618.\n",
      "[I 2024-03-26 14:42:53,171] Trial 16 finished with value: 0.9968467245087643 and parameters: {'eta': 0.135177541916318, 'max_depth': 5, 'min_child_weight': 3, 'subsample': 0.6546678251228301, 'colsample_bytree': 0.7688769114383727, 'gamma': 0.305398392271105}. Best is trial 1 with value: 0.997071112569618.\n",
      "[I 2024-03-26 14:42:59,722] Trial 17 finished with value: 0.9969648224237003 and parameters: {'eta': 0.09779143207845835, 'max_depth': 3, 'min_child_weight': 7, 'subsample': 0.9868439948067197, 'colsample_bytree': 0.984322600152369, 'gamma': 0.17577710248005132}. Best is trial 1 with value: 0.997071112569618.\n",
      "[I 2024-03-26 14:43:07,078] Trial 18 finished with value: 0.9969175808865479 and parameters: {'eta': 0.2002798287066845, 'max_depth': 6, 'min_child_weight': 2, 'subsample': 0.8840816266586837, 'colsample_bytree': 0.7070350177361062, 'gamma': 0.11675626132184114}. Best is trial 1 with value: 0.997071112569618.\n",
      "[I 2024-03-26 14:43:14,066] Trial 19 finished with value: 0.9970120639608527 and parameters: {'eta': 0.0738240122945096, 'max_depth': 4, 'min_child_weight': 3, 'subsample': 0.7834633507746808, 'colsample_bytree': 0.7994338398088008, 'gamma': 0.42249757976947006}. Best is trial 1 with value: 0.997071112569618.\n",
      "[I 2024-03-26 14:43:22,467] Trial 20 finished with value: 0.9968467224165485 and parameters: {'eta': 0.1436607091887869, 'max_depth': 7, 'min_child_weight': 1, 'subsample': 0.5705048357217961, 'colsample_bytree': 0.6304217695608526, 'gamma': 0.09110341848876126}. Best is trial 1 with value: 0.997071112569618.\n",
      "[I 2024-03-26 14:43:29,505] Trial 21 finished with value: 0.9970593027083838 and parameters: {'eta': 0.07878342546147638, 'max_depth': 4, 'min_child_weight': 3, 'subsample': 0.7630581227081192, 'colsample_bytree': 0.8304506300012999, 'gamma': 0.4661805763190171}. Best is trial 1 with value: 0.997071112569618.\n",
      "[I 2024-03-26 14:43:36,812] Trial 22 finished with value: 0.9970238703350602 and parameters: {'eta': 0.04736217481782242, 'max_depth': 5, 'min_child_weight': 2, 'subsample': 0.693849649146423, 'colsample_bytree': 0.8156252651351528, 'gamma': 0.479371543692038}. Best is trial 1 with value: 0.997071112569618.\n",
      "[I 2024-03-26 14:43:43,621] Trial 23 finished with value: 0.9970829238256627 and parameters: {'eta': 0.09117752651622604, 'max_depth': 4, 'min_child_weight': 4, 'subsample': 0.789509662616836, 'colsample_bytree': 0.9282047672792422, 'gamma': 0.4086914582517577}. Best is trial 23 with value: 0.9970829238256627.\n",
      "[I 2024-03-26 14:43:51,970] Trial 24 finished with value: 0.9968585315803772 and parameters: {'eta': 0.04346421560533795, 'max_depth': 4, 'min_child_weight': 4, 'subsample': 0.7798227531407568, 'colsample_bytree': 0.9272938578665681, 'gamma': 0.4115726238768322}. Best is trial 23 with value: 0.9970829238256627.\n",
      "[I 2024-03-26 14:44:00,150] Trial 25 finished with value: 0.9969530160494926 and parameters: {'eta': 0.0888202674387917, 'max_depth': 3, 'min_child_weight': 3, 'subsample': 0.6757715921129025, 'colsample_bytree': 0.998808890026722, 'gamma': 0.4158691545062879}. Best is trial 23 with value: 0.9970829238256627.\n",
      "[I 2024-03-26 14:44:07,537] Trial 26 finished with value: 0.9967758639465488 and parameters: {'eta': 0.033138896383873157, 'max_depth': 4, 'min_child_weight': 6, 'subsample': 0.7439970191241353, 'colsample_bytree': 0.8699755668573727, 'gamma': 0.36974141186357623}. Best is trial 23 with value: 0.9970829238256627.\n"
     ]
    },
    {
     "name": "stderr",
     "output_type": "stream",
     "text": [
      "[I 2024-03-26 14:44:14,785] Trial 27 finished with value: 0.9969884428435739 and parameters: {'eta': 0.07850382627247447, 'max_depth': 5, 'min_child_weight': 4, 'subsample': 0.5968915998349918, 'colsample_bytree': 0.9437872972752256, 'gamma': 0.4907349352814355}. Best is trial 23 with value: 0.9970829238256627.\n",
      "[I 2024-03-26 14:44:21,221] Trial 28 finished with value: 0.9965042371381638 and parameters: {'eta': 0.06227028691898687, 'max_depth': 3, 'min_child_weight': 5, 'subsample': 0.709796071960758, 'colsample_bytree': 0.8688974298840392, 'gamma': 0.27105884272348957}. Best is trial 23 with value: 0.9970829238256627.\n",
      "[I 2024-03-26 14:44:28,146] Trial 29 finished with value: 0.997082924523068 and parameters: {'eta': 0.10282233876267283, 'max_depth': 4, 'min_child_weight': 2, 'subsample': 0.8063015695851102, 'colsample_bytree': 0.9065750160477247, 'gamma': 0.4591317223341382}. Best is trial 29 with value: 0.997082924523068.\n",
      "[I 2024-03-26 14:44:36,208] Trial 30 finished with value: 0.997130162573194 and parameters: {'eta': 0.10199939011779285, 'max_depth': 5, 'min_child_weight': 2, 'subsample': 0.8035789780430754, 'colsample_bytree': 0.9108472076623696, 'gamma': 0.37678404725663944}. Best is trial 30 with value: 0.997130162573194.\n",
      "[I 2024-03-26 14:44:44,411] Trial 31 finished with value: 0.9971065435481309 and parameters: {'eta': 0.10780168667933726, 'max_depth': 5, 'min_child_weight': 2, 'subsample': 0.8086844221447725, 'colsample_bytree': 0.9131524865987405, 'gamma': 0.36903844309671496}. Best is trial 30 with value: 0.997130162573194.\n",
      "[I 2024-03-26 14:44:52,885] Trial 32 finished with value: 0.9970002534022132 and parameters: {'eta': 0.12878126008951607, 'max_depth': 5, 'min_child_weight': 2, 'subsample': 0.8104858271553711, 'colsample_bytree': 0.9075675581728554, 'gamma': 0.37405176660727013}. Best is trial 30 with value: 0.997130162573194.\n",
      "[I 2024-03-26 14:44:59,904] Trial 33 finished with value: 0.9971065435481309 and parameters: {'eta': 0.10335321401383349, 'max_depth': 4, 'min_child_weight': 2, 'subsample': 0.8681153915852908, 'colsample_bytree': 0.928951419846254, 'gamma': 0.43384542546355925}. Best is trial 30 with value: 0.997130162573194.\n",
      "[I 2024-03-26 14:45:09,374] Trial 34 finished with value: 0.9970238703350605 and parameters: {'eta': 0.14794256380193857, 'max_depth': 5, 'min_child_weight': 2, 'subsample': 0.9335617521917604, 'colsample_bytree': 0.8611309945591018, 'gamma': 0.4460039372051389}. Best is trial 30 with value: 0.997130162573194.\n",
      "[I 2024-03-26 14:45:18,137] Trial 35 finished with value: 0.9970002561918344 and parameters: {'eta': 0.10242803052790694, 'max_depth': 3, 'min_child_weight': 2, 'subsample': 0.8659100360861479, 'colsample_bytree': 0.9629038456575226, 'gamma': 0.3334843782322512}. Best is trial 30 with value: 0.997130162573194.\n",
      "[I 2024-03-26 14:45:26,460] Trial 36 finished with value: 0.996988445633195 and parameters: {'eta': 0.15801454641112692, 'max_depth': 6, 'min_child_weight': 8, 'subsample': 0.8534847137495502, 'colsample_bytree': 0.9084544582037009, 'gamma': 0.38750153683196686}. Best is trial 30 with value: 0.997130162573194.\n",
      "[I 2024-03-26 14:45:35,001] Trial 37 finished with value: 0.9968821520002509 and parameters: {'eta': 0.17768447049716976, 'max_depth': 4, 'min_child_weight': 5, 'subsample': 0.8059425644343088, 'colsample_bytree': 0.8027383852110046, 'gamma': 0.4486516889717426}. Best is trial 30 with value: 0.997130162573194.\n",
      "[I 2024-03-26 14:45:42,431] Trial 38 finished with value: 0.9969175864657902 and parameters: {'eta': 0.29785211089768426, 'max_depth': 8, 'min_child_weight': 3, 'subsample': 0.954454606319076, 'colsample_bytree': 0.8517703750370568, 'gamma': 0.3492822439498172}. Best is trial 30 with value: 0.997130162573194.\n",
      "[I 2024-03-26 14:45:51,161] Trial 39 finished with value: 0.9970356801962945 and parameters: {'eta': 0.10708929362524984, 'max_depth': 10, 'min_child_weight': 1, 'subsample': 0.9265418122045921, 'colsample_bytree': 0.8844163942731456, 'gamma': 0.2831363292454269}. Best is trial 30 with value: 0.997130162573194.\n",
      "[I 2024-03-26 14:45:59,136] Trial 40 finished with value: 0.9969648210288897 and parameters: {'eta': 0.17766572897993588, 'max_depth': 5, 'min_child_weight': 3, 'subsample': 0.8438137008127995, 'colsample_bytree': 0.9452001974947072, 'gamma': 0.4395647702566831}. Best is trial 30 with value: 0.997130162573194.\n",
      "[I 2024-03-26 14:46:06,226] Trial 41 finished with value: 0.9970474942419603 and parameters: {'eta': 0.0911655305738572, 'max_depth': 4, 'min_child_weight': 4, 'subsample': 0.7988159058970655, 'colsample_bytree': 0.926929887682662, 'gamma': 0.40091661940703194}. Best is trial 30 with value: 0.997130162573194.\n",
      "[I 2024-03-26 14:46:13,363] Trial 42 finished with value: 0.9971183520145546 and parameters: {'eta': 0.12232463221231779, 'max_depth': 4, 'min_child_weight': 2, 'subsample': 0.8930381865441929, 'colsample_bytree': 0.933038769059844, 'gamma': 0.4993377151146397}. Best is trial 30 with value: 0.997130162573194.\n",
      "[I 2024-03-26 14:46:20,021] Trial 43 finished with value: 0.9971301660602204 and parameters: {'eta': 0.12983918124012356, 'max_depth': 3, 'min_child_weight': 2, 'subsample': 0.8927331703722453, 'colsample_bytree': 0.9612470434082117, 'gamma': 0.49415449795601457}. Best is trial 43 with value: 0.9971301660602204.\n",
      "[I 2024-03-26 14:46:26,772] Trial 44 finished with value: 0.9971183568963917 and parameters: {'eta': 0.12906794311777675, 'max_depth': 3, 'min_child_weight': 1, 'subsample': 0.8836891415081142, 'colsample_bytree': 0.9774557268821084, 'gamma': 0.4997864844989816}. Best is trial 43 with value: 0.9971301660602204.\n",
      "[I 2024-03-26 14:46:34,292] Trial 45 finished with value: 0.9970238752168974 and parameters: {'eta': 0.12663122822481748, 'max_depth': 3, 'min_child_weight': 1, 'subsample': 0.9049418356342858, 'colsample_bytree': 0.9797261287319431, 'gamma': 0.4957155806559728}. Best is trial 43 with value: 0.9971301660602204.\n",
      "[I 2024-03-26 14:46:41,009] Trial 46 finished with value: 0.9970593041031945 and parameters: {'eta': 0.14245813459114154, 'max_depth': 3, 'min_child_weight': 1, 'subsample': 0.8814859524789287, 'colsample_bytree': 0.9627532522627805, 'gamma': 0.4982692129454692}. Best is trial 43 with value: 0.9971301660602204.\n",
      "[I 2024-03-26 14:46:47,325] Trial 47 finished with value: 0.9971301646654099 and parameters: {'eta': 0.11982906573519463, 'max_depth': 3, 'min_child_weight': 1, 'subsample': 0.9959077459101214, 'colsample_bytree': 0.9813763070353584, 'gamma': 0.468171174321364}. Best is trial 43 with value: 0.9971301660602204.\n",
      "[I 2024-03-26 14:46:53,704] Trial 48 finished with value: 0.9971183548041758 and parameters: {'eta': 0.12284722512522736, 'max_depth': 3, 'min_child_weight': 1, 'subsample': 0.9878306153486232, 'colsample_bytree': 0.9832493514766008, 'gamma': 0.4727741888708205}. Best is trial 43 with value: 0.9971301660602204.\n",
      "[I 2024-03-26 14:47:00,511] Trial 49 finished with value: 0.997118353409365 and parameters: {'eta': 0.17433860980530144, 'max_depth': 3, 'min_child_weight': 1, 'subsample': 0.9951051296299724, 'colsample_bytree': 0.989873434162509, 'gamma': 0.4702226301867594}. Best is trial 43 with value: 0.9971301660602204.\n",
      "[I 2024-03-26 14:47:07,591] Trial 50 finished with value: 0.9970711132670234 and parameters: {'eta': 0.1595634830214569, 'max_depth': 3, 'min_child_weight': 1, 'subsample': 0.9716090014112092, 'colsample_bytree': 0.9739354859754455, 'gamma': 0.45857027143467805}. Best is trial 43 with value: 0.9971301660602204.\n",
      "[I 2024-03-26 14:47:13,933] Trial 51 finished with value: 0.9970829231282575 and parameters: {'eta': 0.1918935593682413, 'max_depth': 3, 'min_child_weight': 1, 'subsample': 0.9936900567863447, 'colsample_bytree': 0.9908389031644689, 'gamma': 0.4696128200941031}. Best is trial 43 with value: 0.9971301660602204.\n",
      "[I 2024-03-26 14:47:20,360] Trial 52 finished with value: 0.9970474921497445 and parameters: {'eta': 0.13499877580020525, 'max_depth': 3, 'min_child_weight': 1, 'subsample': 0.9512841636287492, 'colsample_bytree': 0.9545690957068556, 'gamma': 0.48071428083298845}. Best is trial 43 with value: 0.9971301660602204.\n",
      "[I 2024-03-26 14:47:27,221] Trial 53 finished with value: 0.9971419717370228 and parameters: {'eta': 0.17987788886601958, 'max_depth': 3, 'min_child_weight': 1, 'subsample': 0.9297649938660416, 'colsample_bytree': 0.9929892175182641, 'gamma': 0.4435454397551437}. Best is trial 53 with value: 0.9971419717370228.\n"
     ]
    },
    {
     "name": "stderr",
     "output_type": "stream",
     "text": [
      "[I 2024-03-26 14:47:33,868] Trial 54 finished with value: 0.9970356822885105 and parameters: {'eta': 0.2289245423703633, 'max_depth': 3, 'min_child_weight': 1, 'subsample': 0.9287955317956674, 'colsample_bytree': 0.9689760347890153, 'gamma': 0.428371322907954}. Best is trial 53 with value: 0.9971419717370228.\n",
      "[I 2024-03-26 14:47:40,664] Trial 55 finished with value: 0.997153781598257 and parameters: {'eta': 0.14801354082887125, 'max_depth': 3, 'min_child_weight': 1, 'subsample': 0.96419352227381, 'colsample_bytree': 0.9974881969335838, 'gamma': 0.2207635048993331}. Best is trial 55 with value: 0.997153781598257.\n",
      "[I 2024-03-26 14:47:47,292] Trial 56 finished with value: 0.9970947350817074 and parameters: {'eta': 0.22885085592178378, 'max_depth': 9, 'min_child_weight': 2, 'subsample': 0.941270195460238, 'colsample_bytree': 0.9483754035873962, 'gamma': 0.22527203249700012}. Best is trial 55 with value: 0.997153781598257.\n",
      "[I 2024-03-26 14:47:54,164] Trial 57 finished with value: 0.9970238731246817 and parameters: {'eta': 0.18804789790077533, 'max_depth': 3, 'min_child_weight': 1, 'subsample': 0.9701680377456072, 'colsample_bytree': 0.8914513252580573, 'gamma': 0.2123001157295857}. Best is trial 55 with value: 0.997153781598257.\n",
      "[I 2024-03-26 14:48:00,877] Trial 58 finished with value: 0.9969175850709796 and parameters: {'eta': 0.1514293620248183, 'max_depth': 3, 'min_child_weight': 10, 'subsample': 0.9178065223904766, 'colsample_bytree': 0.967899609232212, 'gamma': 0.25342308352194315}. Best is trial 55 with value: 0.997153781598257.\n",
      "[I 2024-03-26 14:48:08,016] Trial 59 finished with value: 0.997118353409365 and parameters: {'eta': 0.16656598773062067, 'max_depth': 4, 'min_child_weight': 2, 'subsample': 0.9589044502094684, 'colsample_bytree': 0.9926723675409247, 'gamma': 0.1824677843503603}. Best is trial 55 with value: 0.997153781598257.\n",
      "[I 2024-03-26 14:48:14,535] Trial 60 finished with value: 0.9970829266152839 and parameters: {'eta': 0.1357208730339043, 'max_depth': 3, 'min_child_weight': 3, 'subsample': 0.9144876756634642, 'colsample_bytree': 0.956807237931154, 'gamma': 0.3901224337719199}. Best is trial 55 with value: 0.997153781598257.\n",
      "[I 2024-03-26 14:48:21,008] Trial 61 finished with value: 0.9971183541067704 and parameters: {'eta': 0.11930375732273893, 'max_depth': 3, 'min_child_weight': 1, 'subsample': 0.9840953249475637, 'colsample_bytree': 0.9973896576159224, 'gamma': 0.4525117669235824}. Best is trial 55 with value: 0.997153781598257.\n",
      "[I 2024-03-26 14:48:27,528] Trial 62 finished with value: 0.9971183548041758 and parameters: {'eta': 0.11817588782697551, 'max_depth': 3, 'min_child_weight': 1, 'subsample': 0.9801043304699069, 'colsample_bytree': 0.9782626445948006, 'gamma': 0.480901257539273}. Best is trial 55 with value: 0.997153781598257.\n",
      "[I 2024-03-26 14:48:34,753] Trial 63 finished with value: 0.9967758632491435 and parameters: {'eta': 0.13484117165673878, 'max_depth': 4, 'min_child_weight': 1, 'subsample': 0.939904040052016, 'colsample_bytree': 0.5088706763481975, 'gamma': 0.1643244441879793}. Best is trial 55 with value: 0.997153781598257.\n",
      "[I 2024-03-26 14:48:41,682] Trial 64 finished with value: 0.9970711132670231 and parameters: {'eta': 0.14454845477993922, 'max_depth': 3, 'min_child_weight': 2, 'subsample': 0.8909394096111575, 'colsample_bytree': 0.9436276813474143, 'gamma': 0.43258930843708493}. Best is trial 55 with value: 0.997153781598257.\n",
      "[I 2024-03-26 14:48:48,433] Trial 65 finished with value: 0.9971183555015811 and parameters: {'eta': 0.11430135299253658, 'max_depth': 3, 'min_child_weight': 2, 'subsample': 0.9985939804104182, 'colsample_bytree': 0.9788812331374038, 'gamma': 0.48220836279488216}. Best is trial 55 with value: 0.997153781598257.\n",
      "[I 2024-03-26 14:48:55,369] Trial 66 finished with value: 0.9971301639680045 and parameters: {'eta': 0.08766411288272309, 'max_depth': 4, 'min_child_weight': 3, 'subsample': 0.9556508773294685, 'colsample_bytree': 0.9996577004460221, 'gamma': 0.48228578568789865}. Best is trial 55 with value: 0.997153781598257.\n",
      "[I 2024-03-26 14:49:02,259] Trial 67 finished with value: 0.9970947336868969 and parameters: {'eta': 0.058412222506745146, 'max_depth': 4, 'min_child_weight': 3, 'subsample': 0.9655290279620613, 'colsample_bytree': 0.9452899337406522, 'gamma': 0.45985619242840287}. Best is trial 55 with value: 0.997153781598257.\n",
      "[I 2024-03-26 14:49:09,244] Trial 68 finished with value: 0.9971655928543017 and parameters: {'eta': 0.08313770649044833, 'max_depth': 4, 'min_child_weight': 2, 'subsample': 0.9029580403481736, 'colsample_bytree': 0.9957670428247853, 'gamma': 0.4222441708820486}. Best is trial 68 with value: 0.9971655928543017.\n",
      "[I 2024-03-26 14:49:16,372] Trial 69 finished with value: 0.9971301632705993 and parameters: {'eta': 0.08439771166493515, 'max_depth': 4, 'min_child_weight': 3, 'subsample': 0.9483366738208648, 'colsample_bytree': 0.9984493493990272, 'gamma': 0.4172461279848525}. Best is trial 68 with value: 0.9971655928543017.\n",
      "[I 2024-03-26 14:49:24,823] Trial 70 finished with value: 0.9970711153592392 and parameters: {'eta': 0.08504292291389287, 'max_depth': 4, 'min_child_weight': 4, 'subsample': 0.9480488185700306, 'colsample_bytree': 0.9993829429019814, 'gamma': 0.06292482102827684}. Best is trial 68 with value: 0.9971655928543017.\n",
      "[I 2024-03-26 14:49:31,901] Trial 71 finished with value: 0.9970120618686368 and parameters: {'eta': 0.09610223636918787, 'max_depth': 4, 'min_child_weight': 3, 'subsample': 0.5016490668789958, 'colsample_bytree': 0.999218509712889, 'gamma': 0.4174368835377738}. Best is trial 68 with value: 0.9971655928543017.\n",
      "[I 2024-03-26 14:49:38,792] Trial 72 finished with value: 0.9971892118793647 and parameters: {'eta': 0.07149319258581256, 'max_depth': 5, 'min_child_weight': 2, 'subsample': 0.9699104549099691, 'colsample_bytree': 0.9631245982171185, 'gamma': 0.4013989940919217}. Best is trial 72 with value: 0.9971892118793647.\n",
      "[I 2024-03-26 14:49:45,769] Trial 73 finished with value: 0.9966813843592706 and parameters: {'eta': 0.053504097406309944, 'max_depth': 4, 'min_child_weight': 3, 'subsample': 0.9185063426358189, 'colsample_bytree': 0.5718455546064142, 'gamma': 0.44273885457382933}. Best is trial 72 with value: 0.9971892118793647.\n",
      "[I 2024-03-26 14:49:52,265] Trial 74 finished with value: 0.9967640547827201 and parameters: {'eta': 0.02777517579978074, 'max_depth': 4, 'min_child_weight': 2, 'subsample': 0.9662276196146145, 'colsample_bytree': 0.9622021213265862, 'gamma': 0.3996171395027142}. Best is trial 72 with value: 0.9971892118793647.\n",
      "[I 2024-03-26 14:49:59,552] Trial 75 finished with value: 0.9970002561918344 and parameters: {'eta': 0.07550150014616092, 'max_depth': 5, 'min_child_weight': 6, 'subsample': 0.9361287990440048, 'colsample_bytree': 0.6826483624063364, 'gamma': 0.41959518200607715}. Best is trial 72 with value: 0.9971892118793647.\n",
      "[I 2024-03-26 14:50:06,609] Trial 76 finished with value: 0.9971655907620859 and parameters: {'eta': 0.08418003161215819, 'max_depth': 6, 'min_child_weight': 2, 'subsample': 0.9058394813181359, 'colsample_bytree': 0.9410260934271768, 'gamma': 0.3526138453201694}. Best is trial 72 with value: 0.9971892118793647.\n",
      "[I 2024-03-26 14:50:13,575] Trial 77 finished with value: 0.9971537809008517 and parameters: {'eta': 0.06934537367955136, 'max_depth': 6, 'min_child_weight': 2, 'subsample': 0.9093707954807649, 'colsample_bytree': 0.9391501213917544, 'gamma': 0.36016831010725237}. Best is trial 72 with value: 0.9971892118793647.\n",
      "[I 2024-03-26 14:50:20,651] Trial 78 finished with value: 0.9971537802034464 and parameters: {'eta': 0.06424409649010757, 'max_depth': 6, 'min_child_weight': 2, 'subsample': 0.9083431491407928, 'colsample_bytree': 0.9194138113395063, 'gamma': 0.3512718451363734}. Best is trial 72 with value: 0.9971892118793647.\n",
      "[I 2024-03-26 14:50:27,679] Trial 79 finished with value: 0.9971537802034464 and parameters: {'eta': 0.06504703637015176, 'max_depth': 6, 'min_child_weight': 2, 'subsample': 0.9031819622903489, 'colsample_bytree': 0.9343040823444824, 'gamma': 0.3464706263506079}. Best is trial 72 with value: 0.9971892118793647.\n",
      "[I 2024-03-26 14:50:35,134] Trial 80 finished with value: 0.9968939597692689 and parameters: {'eta': 0.04034441833083432, 'max_depth': 6, 'min_child_weight': 9, 'subsample': 0.9050426250170104, 'colsample_bytree': 0.8791597068826548, 'gamma': 0.32252635644485395}. Best is trial 72 with value: 0.9971892118793647.\n"
     ]
    },
    {
     "name": "stderr",
     "output_type": "stream",
     "text": [
      "[I 2024-03-26 14:50:42,538] Trial 81 finished with value: 0.9971892111819594 and parameters: {'eta': 0.06780951002501066, 'max_depth': 6, 'min_child_weight': 2, 'subsample': 0.877945819009018, 'colsample_bytree': 0.9187377623046766, 'gamma': 0.35727261118272746}. Best is trial 72 with value: 0.9971892118793647.\n",
      "[I 2024-03-26 14:50:49,484] Trial 82 finished with value: 0.9971419717370228 and parameters: {'eta': 0.06966745360995252, 'max_depth': 6, 'min_child_weight': 2, 'subsample': 0.8572960436827093, 'colsample_bytree': 0.9356806914632605, 'gamma': 0.3489163394854073}. Best is trial 72 with value: 0.9971892118793647.\n",
      "[I 2024-03-26 14:50:56,835] Trial 83 finished with value: 0.9971301597835728 and parameters: {'eta': 0.055430950372638545, 'max_depth': 7, 'min_child_weight': 2, 'subsample': 0.8696187764601944, 'colsample_bytree': 0.9154146988652109, 'gamma': 0.2963027759131576}. Best is trial 72 with value: 0.9971892118793647.\n",
      "[I 2024-03-26 14:51:03,891] Trial 84 finished with value: 0.9972010210431936 and parameters: {'eta': 0.06478696230502505, 'max_depth': 6, 'min_child_weight': 2, 'subsample': 0.8394193592305628, 'colsample_bytree': 0.9015769756211457, 'gamma': 0.33622769642672706}. Best is trial 84 with value: 0.9972010210431936.\n",
      "[I 2024-03-26 14:51:11,191] Trial 85 finished with value: 0.9971301604809781 and parameters: {'eta': 0.0665009477726348, 'max_depth': 7, 'min_child_weight': 2, 'subsample': 0.8417379920229704, 'colsample_bytree': 0.9032452341089097, 'gamma': 0.3375353344943681}. Best is trial 84 with value: 0.9972010210431936.\n",
      "[I 2024-03-26 14:51:18,249] Trial 86 finished with value: 0.9969648189366739 and parameters: {'eta': 0.02055614240338579, 'max_depth': 6, 'min_child_weight': 2, 'subsample': 0.87582096776251, 'colsample_bytree': 0.9221952366532984, 'gamma': 0.35950113248308113}. Best is trial 84 with value: 0.9972010210431936.\n",
      "[I 2024-03-26 14:51:25,381] Trial 87 finished with value: 0.997106538666294 and parameters: {'eta': 0.03504317068912178, 'max_depth': 6, 'min_child_weight': 2, 'subsample': 0.9064702986064295, 'colsample_bytree': 0.8935231397648499, 'gamma': 0.31164032201828906}. Best is trial 84 with value: 0.9972010210431936.\n",
      "[I 2024-03-26 14:51:32,915] Trial 88 finished with value: 0.9970947329894916 and parameters: {'eta': 0.07961421144205008, 'max_depth': 6, 'min_child_weight': 3, 'subsample': 0.8302855777720405, 'colsample_bytree': 0.8401369933664903, 'gamma': 0.32537940542469557}. Best is trial 84 with value: 0.9972010210431936.\n",
      "[I 2024-03-26 14:51:39,989] Trial 89 finished with value: 0.9969648203314844 and parameters: {'eta': 0.04738252245759872, 'max_depth': 7, 'min_child_weight': 7, 'subsample': 0.8929412734113136, 'colsample_bytree': 0.9369600335360109, 'gamma': 0.3831018590750857}. Best is trial 84 with value: 0.9972010210431936.\n",
      "[I 2024-03-26 14:51:47,345] Trial 90 finished with value: 0.9971419703422123 and parameters: {'eta': 0.06215973367663693, 'max_depth': 7, 'min_child_weight': 2, 'subsample': 0.8461216598249511, 'colsample_bytree': 0.9182755897459536, 'gamma': 0.3593673574839461}. Best is trial 84 with value: 0.9972010210431936.\n",
      "[I 2024-03-26 14:51:54,388] Trial 91 finished with value: 0.9972010203457883 and parameters: {'eta': 0.07283599034531747, 'max_depth': 6, 'min_child_weight': 2, 'subsample': 0.9201158865861627, 'colsample_bytree': 0.9514934154553838, 'gamma': 0.3452827279112959}. Best is trial 84 with value: 0.9972010210431936.\n",
      "[I 2024-03-26 14:52:01,482] Trial 92 finished with value: 0.9971301604809781 and parameters: {'eta': 0.07113578692899362, 'max_depth': 6, 'min_child_weight': 2, 'subsample': 0.9222362914526253, 'colsample_bytree': 0.9001845122728266, 'gamma': 0.34499008196338715}. Best is trial 84 with value: 0.9972010210431936.\n",
      "[I 2024-03-26 14:52:08,444] Trial 93 finished with value: 0.9971774006233198 and parameters: {'eta': 0.05223683688986643, 'max_depth': 6, 'min_child_weight': 2, 'subsample': 0.9114407156943113, 'colsample_bytree': 0.9272255036978937, 'gamma': 0.28985570330874266}. Best is trial 84 with value: 0.9972010210431936.\n",
      "[I 2024-03-26 14:52:15,846] Trial 94 finished with value: 0.9972246407656618 and parameters: {'eta': 0.05437970830807232, 'max_depth': 6, 'min_child_weight': 3, 'subsample': 0.8764243640490448, 'colsample_bytree': 0.9520842745307408, 'gamma': 0.2915840156416578}. Best is trial 94 with value: 0.9972246407656618.\n",
      "[I 2024-03-26 14:52:23,098] Trial 95 finished with value: 0.99724826048813 and parameters: {'eta': 0.05349088910289093, 'max_depth': 6, 'min_child_weight': 3, 'subsample': 0.8797334147237219, 'colsample_bytree': 0.9476967822328186, 'gamma': 0.2645314212006523}. Best is trial 95 with value: 0.99724826048813.\n",
      "[I 2024-03-26 14:52:30,008] Trial 96 finished with value: 0.9971065414559153 and parameters: {'eta': 0.05302516184122732, 'max_depth': 5, 'min_child_weight': 4, 'subsample': 0.8191667507773368, 'colsample_bytree': 0.9535401747543664, 'gamma': 0.27715609067519964}. Best is trial 95 with value: 0.99724826048813.\n",
      "[I 2024-03-26 14:52:36,992] Trial 97 finished with value: 0.9971892097871488 and parameters: {'eta': 0.03945111800683533, 'max_depth': 6, 'min_child_weight': 3, 'subsample': 0.8595652648388653, 'colsample_bytree': 0.9683196620391128, 'gamma': 0.2549705516618894}. Best is trial 95 with value: 0.99724826048813.\n",
      "[I 2024-03-26 14:52:44,544] Trial 98 finished with value: 0.9969412033986373 and parameters: {'eta': 0.03955421909740468, 'max_depth': 6, 'min_child_weight': 3, 'subsample': 0.856913890953846, 'colsample_bytree': 0.7500179732776981, 'gamma': 0.25555660784052525}. Best is trial 95 with value: 0.99724826048813.\n",
      "[I 2024-03-26 14:52:52,155] Trial 99 finished with value: 0.9970592985239521 and parameters: {'eta': 0.017937694166330675, 'max_depth': 7, 'min_child_weight': 3, 'subsample': 0.877946556757135, 'colsample_bytree': 0.9519622084607865, 'gamma': 0.2981518305224313}. Best is trial 95 with value: 0.99724826048813.\n"
     ]
    }
   ],
   "source": [
    "study = optuna.create_study(direction='maximize')\n",
    "study.optimize(objective, n_trials=100)"
   ]
  },
  {
   "cell_type": "code",
   "execution_count": 143,
   "metadata": {},
   "outputs": [
    {
     "name": "stdout",
     "output_type": "stream",
     "text": [
      "Train Accuracy: 0.9995423611213629\n",
      "Test Accuracy: 0.9985828166519043\n",
      "\n",
      "Train Confusion Matrix:\n",
      "[[60809     0    13]\n",
      " [   17  5708     0]\n",
      " [    1     0  1191]]\n",
      "\n",
      "Test Confusion Matrix:\n",
      "[[15203     3     7]\n",
      " [   12  1418     0]\n",
      " [    2     0   290]]\n",
      "\n",
      "Train Classification Report:\n",
      "              precision    recall  f1-score   support\n",
      "\n",
      "           0       1.00      1.00      1.00     60822\n",
      "           1       1.00      1.00      1.00      5725\n",
      "           2       0.99      1.00      0.99      1192\n",
      "\n",
      "    accuracy                           1.00     67739\n",
      "   macro avg       1.00      1.00      1.00     67739\n",
      "weighted avg       1.00      1.00      1.00     67739\n",
      "\n",
      "\n",
      "Test Classification Report:\n",
      "              precision    recall  f1-score   support\n",
      "\n",
      "           0       1.00      1.00      1.00     15213\n",
      "           1       1.00      0.99      0.99      1430\n",
      "           2       0.98      0.99      0.98       292\n",
      "\n",
      "    accuracy                           1.00     16935\n",
      "   macro avg       0.99      0.99      0.99     16935\n",
      "weighted avg       1.00      1.00      1.00     16935\n",
      "\n"
     ]
    }
   ],
   "source": [
    "from sklearn.metrics import classification_report, confusion_matrix\n",
    "\n",
    "# Use the best hyperparameters found by Optuna\n",
    "best_params = study.best_params\n",
    "model = XGBClassifier(**best_params)\n",
    "\n",
    "# Fit the model on the training data\n",
    "model.fit(X_train, y_train)\n",
    "\n",
    "# Predict on the training and test sets\n",
    "y_train_pred = model.predict(X_train)\n",
    "y_test_pred = model.predict(X_test)\n",
    "\n",
    "# Calculate accuracies\n",
    "train_accuracy = accuracy_score(y_train, y_train_pred)\n",
    "test_accuracy = accuracy_score(y_test, y_test_pred)\n",
    "\n",
    "# Generate confusion matrices\n",
    "train_conf_matrix = confusion_matrix(y_train, y_train_pred)\n",
    "test_conf_matrix = confusion_matrix(y_test, y_test_pred)\n",
    "\n",
    "# Generate classification reports\n",
    "train_classification_report = classification_report(y_train, y_train_pred)\n",
    "test_classification_report = classification_report(y_test, y_test_pred)\n",
    "\n",
    "# Print the results\n",
    "print(\"Train Accuracy:\", train_accuracy)\n",
    "print(\"Test Accuracy:\", test_accuracy)\n",
    "\n",
    "print(\"\\nTrain Confusion Matrix:\")\n",
    "print(train_conf_matrix)\n",
    "\n",
    "print(\"\\nTest Confusion Matrix:\")\n",
    "print(test_conf_matrix)\n",
    "\n",
    "print(\"\\nTrain Classification Report:\")\n",
    "print(train_classification_report)\n",
    "\n",
    "print(\"\\nTest Classification Report:\")\n",
    "print(test_classification_report)\n"
   ]
  },
  {
   "cell_type": "code",
   "execution_count": 138,
   "metadata": {},
   "outputs": [],
   "source": [
    "from sklearn.model_selection import train_test_split\n",
    "from xgboost import XGBClassifier\n",
    "from sklearn.metrics import accuracy_score\n",
    "from sklearn.model_selection import GridSearchCV\n",
    "import optuna\n",
    "from sklearn.model_selection import cross_val_score\n",
    "\n",
    "# Split the dataset into features (X) and target variable (y)\n",
    "X = cl1.drop(['Summary'], axis=1)\n",
    "y = cl1['Summary']\n",
    "\n",
    "\n",
    "\n",
    "# Split the dataset into training and testing sets\n",
    "X_train, X_test, y_train, y_test = train_test_split(X, y, test_size=0.2, random_state=42)\n",
    "\n",
    "\n",
    "def objective(trial):\n",
    "    param = {\n",
    "        'objective': 'multi:softmax',\n",
    "        'num_class': 5,\n",
    "        'eval_metric': 'mlogloss',\n",
    "        'eta': trial.suggest_float('eta', 0.01, 0.3),\n",
    "        'max_depth': trial.suggest_int('max_depth', 3, 10),\n",
    "        'min_child_weight': trial.suggest_int('min_child_weight', 1, 10),\n",
    "        'subsample': trial.suggest_float('subsample', 0.5, 1.0),\n",
    "        'colsample_bytree': trial.suggest_float('colsample_bytree', 0.5, 1.0),\n",
    "        'gamma': trial.suggest_float('gamma', 0, 0.5),\n",
    "        'verbosity': 0\n",
    "    }\n",
    "\n",
    "    model = XGBClassifier(**param)\n",
    "    scores = cross_val_score(model, X, y, cv=5)\n",
    "    accuracy = scores.mean()\n",
    "    return accuracy"
   ]
  },
  {
   "cell_type": "code",
   "execution_count": 139,
   "metadata": {
    "scrolled": true
   },
   "outputs": [
    {
     "name": "stderr",
     "output_type": "stream",
     "text": [
      "[I 2024-03-26 14:36:26,634] A new study created in memory with name: no-name-67c3a829-ff87-4fdd-914e-3996992d0ea4\n",
      "[I 2024-03-26 14:36:28,062] Trial 0 finished with value: 0.9156704128437628 and parameters: {'eta': 0.01854287402930091, 'max_depth': 4, 'min_child_weight': 8, 'subsample': 0.5132764905972358, 'colsample_bytree': 0.9550918588892874, 'gamma': 0.32162616992321946}. Best is trial 0 with value: 0.9156704128437628.\n",
      "[I 2024-03-26 14:36:29,320] Trial 1 finished with value: 0.9455669839632094 and parameters: {'eta': 0.21690282358503904, 'max_depth': 4, 'min_child_weight': 4, 'subsample': 0.6717669049338935, 'colsample_bytree': 0.6090558716280468, 'gamma': 0.4665754367489357}. Best is trial 1 with value: 0.9455669839632094.\n",
      "[I 2024-03-26 14:36:30,641] Trial 2 finished with value: 0.9553839901184678 and parameters: {'eta': 0.1862222501391925, 'max_depth': 4, 'min_child_weight': 7, 'subsample': 0.7528842563929745, 'colsample_bytree': 0.530607577909413, 'gamma': 0.36427693369850656}. Best is trial 2 with value: 0.9553839901184678.\n",
      "[I 2024-03-26 14:36:31,878] Trial 3 finished with value: 0.9464590446233343 and parameters: {'eta': 0.23400189844089353, 'max_depth': 6, 'min_child_weight': 9, 'subsample': 0.9426992058244871, 'colsample_bytree': 0.9820521369202616, 'gamma': 0.4863965401149363}. Best is trial 2 with value: 0.9553839901184678.\n",
      "[I 2024-03-26 14:36:33,439] Trial 4 finished with value: 0.9321812574910606 and parameters: {'eta': 0.016837071731203846, 'max_depth': 6, 'min_child_weight': 10, 'subsample': 0.5700837780847672, 'colsample_bytree': 0.8522825330707648, 'gamma': 0.29018130069643966}. Best is trial 2 with value: 0.9553839901184678.\n",
      "[I 2024-03-26 14:36:34,782] Trial 5 finished with value: 0.9627019128153013 and parameters: {'eta': 0.18797171276284538, 'max_depth': 5, 'min_child_weight': 9, 'subsample': 0.7968609858650728, 'colsample_bytree': 0.7102470235163523, 'gamma': 0.4076607296915402}. Best is trial 5 with value: 0.9627019128153013.\n",
      "[I 2024-03-26 14:36:36,203] Trial 6 finished with value: 0.9261122993311336 and parameters: {'eta': 0.04765005801475106, 'max_depth': 3, 'min_child_weight': 5, 'subsample': 0.6412065990955151, 'colsample_bytree': 0.907430483285099, 'gamma': 0.08195260950051009}. Best is trial 5 with value: 0.9627019128153013.\n",
      "[I 2024-03-26 14:36:37,566] Trial 7 finished with value: 0.9615418358934799 and parameters: {'eta': 0.26435112195965754, 'max_depth': 7, 'min_child_weight': 5, 'subsample': 0.5116381500907071, 'colsample_bytree': 0.5717603715168423, 'gamma': 0.45753025525182145}. Best is trial 5 with value: 0.9627019128153013.\n",
      "[I 2024-03-26 14:36:39,565] Trial 8 finished with value: 0.9378923962277895 and parameters: {'eta': 0.03466975984460907, 'max_depth': 7, 'min_child_weight': 3, 'subsample': 0.8749067093212066, 'colsample_bytree': 0.6040635683487492, 'gamma': 0.12487207260156252}. Best is trial 5 with value: 0.9627019128153013.\n",
      "[I 2024-03-26 14:36:41,049] Trial 9 finished with value: 0.9262929804260157 and parameters: {'eta': 0.015455267460216809, 'max_depth': 3, 'min_child_weight': 9, 'subsample': 0.624707507276412, 'colsample_bytree': 0.705048531507874, 'gamma': 0.046554624291963664}. Best is trial 5 with value: 0.9627019128153013.\n",
      "[I 2024-03-26 14:36:43,013] Trial 10 finished with value: 0.9361958489125499 and parameters: {'eta': 0.10730179062509594, 'max_depth': 10, 'min_child_weight': 1, 'subsample': 0.7973739435008417, 'colsample_bytree': 0.7607934517069239, 'gamma': 0.21441845388514763}. Best is trial 5 with value: 0.9627019128153013.\n",
      "[I 2024-03-26 14:36:44,465] Trial 11 finished with value: 0.9478870980004863 and parameters: {'eta': 0.26619284750229727, 'max_depth': 8, 'min_child_weight': 6, 'subsample': 0.8300837915335137, 'colsample_bytree': 0.7285898552367127, 'gamma': 0.4056782607718337}. Best is trial 5 with value: 0.9627019128153013.\n",
      "[I 2024-03-26 14:36:46,229] Trial 12 finished with value: 0.9546704212030995 and parameters: {'eta': 0.2864315972635125, 'max_depth': 8, 'min_child_weight': 6, 'subsample': 0.9948406452100045, 'colsample_bytree': 0.5162567055127572, 'gamma': 0.4288534832916466}. Best is trial 5 with value: 0.9627019128153013.\n",
      "[I 2024-03-26 14:36:48,417] Trial 13 finished with value: 0.9507422892083748 and parameters: {'eta': 0.16065165055330638, 'max_depth': 5, 'min_child_weight': 2, 'subsample': 0.675843195839525, 'colsample_bytree': 0.6329554847699077, 'gamma': 0.22211726439526844}. Best is trial 5 with value: 0.9627019128153013.\n",
      "[I 2024-03-26 14:36:50,883] Trial 14 finished with value: 0.9400333816184551 and parameters: {'eta': 0.1114588555410537, 'max_depth': 8, 'min_child_weight': 4, 'subsample': 0.7324389826193862, 'colsample_bytree': 0.8183569436807672, 'gamma': 0.3753359183299881}. Best is trial 5 with value: 0.9627019128153013.\n",
      "[I 2024-03-26 14:36:52,845] Trial 15 finished with value: 0.9647548465245659 and parameters: {'eta': 0.24168792510460538, 'max_depth': 10, 'min_child_weight': 7, 'subsample': 0.5055949453191424, 'colsample_bytree': 0.6702292813079826, 'gamma': 0.4560786527673428}. Best is trial 15 with value: 0.9647548465245659.\n",
      "[I 2024-03-26 14:36:54,813] Trial 16 finished with value: 0.9602924334865481 and parameters: {'eta': 0.20028971723225117, 'max_depth': 10, 'min_child_weight': 8, 'subsample': 0.8828121418904074, 'colsample_bytree': 0.664360857980968, 'gamma': 0.49991938829207155}. Best is trial 15 with value: 0.9647548465245659.\n",
      "[I 2024-03-26 14:36:57,046] Trial 17 finished with value: 0.9680566651580055 and parameters: {'eta': 0.13440809327697378, 'max_depth': 9, 'min_child_weight': 10, 'subsample': 0.7355501758344355, 'colsample_bytree': 0.7719486482664617, 'gamma': 0.32198649713060284}. Best is trial 17 with value: 0.9680566651580055.\n",
      "[I 2024-03-26 14:36:59,278] Trial 18 finished with value: 0.9676109134725044 and parameters: {'eta': 0.11933443344723499, 'max_depth': 9, 'min_child_weight': 10, 'subsample': 0.5819029767897044, 'colsample_bytree': 0.8232478557998847, 'gamma': 0.1724797919343871}. Best is trial 17 with value: 0.9680566651580055.\n",
      "[I 2024-03-26 14:37:01,512] Trial 19 finished with value: 0.9672540494020886 and parameters: {'eta': 0.1100947636466, 'max_depth': 9, 'min_child_weight': 10, 'subsample': 0.5896294899334719, 'colsample_bytree': 0.7837864878888142, 'gamma': 0.17253549402438612}. Best is trial 17 with value: 0.9680566651580055.\n",
      "[I 2024-03-26 14:37:03,753] Trial 20 finished with value: 0.9681457518049201 and parameters: {'eta': 0.1416995431696113, 'max_depth': 9, 'min_child_weight': 10, 'subsample': 0.6983003608137124, 'colsample_bytree': 0.8779346542196371, 'gamma': 0.277384480905111}. Best is trial 20 with value: 0.9681457518049201.\n",
      "[I 2024-03-26 14:37:06,019] Trial 21 finished with value: 0.9680565059325417 and parameters: {'eta': 0.13456455359100802, 'max_depth': 9, 'min_child_weight': 10, 'subsample': 0.720505003068904, 'colsample_bytree': 0.8653321228550718, 'gamma': 0.2733225799466342}. Best is trial 20 with value: 0.9681457518049201.\n",
      "[I 2024-03-26 14:37:08,320] Trial 22 finished with value: 0.9592209655352504 and parameters: {'eta': 0.141135325775972, 'max_depth': 9, 'min_child_weight': 8, 'subsample': 0.7519889810758358, 'colsample_bytree': 0.8765745014265655, 'gamma': 0.2822719935032897}. Best is trial 20 with value: 0.9681457518049201.\n",
      "[I 2024-03-26 14:37:10,739] Trial 23 finished with value: 0.9641296079351601 and parameters: {'eta': 0.0723062468686508, 'max_depth': 9, 'min_child_weight': 10, 'subsample': 0.7081795116521222, 'colsample_bytree': 0.9069479922219683, 'gamma': 0.3293057916540011}. Best is trial 20 with value: 0.9681457518049201.\n",
      "[I 2024-03-26 14:37:12,875] Trial 24 finished with value: 0.9690381309159724 and parameters: {'eta': 0.15672683401250445, 'max_depth': 8, 'min_child_weight': 9, 'subsample': 0.6847820838984379, 'colsample_bytree': 0.7855734408887953, 'gamma': 0.2591084288395354}. Best is trial 24 with value: 0.9690381309159724.\n",
      "[I 2024-03-26 14:37:14,989] Trial 25 finished with value: 0.9657361928634352 and parameters: {'eta': 0.16174883745568958, 'max_depth': 8, 'min_child_weight': 9, 'subsample': 0.6746392346919488, 'colsample_bytree': 0.7790205366572435, 'gamma': 0.23652805002883137}. Best is trial 24 with value: 0.9690381309159724.\n"
     ]
    },
    {
     "name": "stderr",
     "output_type": "stream",
     "text": [
      "[I 2024-03-26 14:37:17,369] Trial 26 finished with value: 0.9496714581589316 and parameters: {'eta': 0.0897928499329295, 'max_depth': 7, 'min_child_weight': 7, 'subsample': 0.7742204949847571, 'colsample_bytree': 0.8072786746386778, 'gamma': 0.32033189568184256}. Best is trial 24 with value: 0.9690381309159724.\n",
      "[I 2024-03-26 14:37:19,540] Trial 27 finished with value: 0.9602920752292547 and parameters: {'eta': 0.16123125834089905, 'max_depth': 8, 'min_child_weight': 8, 'subsample': 0.6289944998685973, 'colsample_bytree': 0.9264795176782541, 'gamma': 0.19192567160329133}. Best is trial 24 with value: 0.9690381309159724.\n",
      "[I 2024-03-26 14:37:22,174] Trial 28 finished with value: 0.970376580163453 and parameters: {'eta': 0.08434408934494096, 'max_depth': 10, 'min_child_weight': 9, 'subsample': 0.83455024366385, 'colsample_bytree': 0.7455838683206353, 'gamma': 0.2549533150189527}. Best is trial 28 with value: 0.970376580163453.\n",
      "[I 2024-03-26 14:37:24,673] Trial 29 finished with value: 0.9444955558182775 and parameters: {'eta': 0.06926833283490628, 'max_depth': 10, 'min_child_weight': 9, 'subsample': 0.8464580004548504, 'colsample_bytree': 0.9857674616361255, 'gamma': 0.1504442203306599}. Best is trial 28 with value: 0.970376580163453.\n",
      "[I 2024-03-26 14:37:27,199] Trial 30 finished with value: 0.9652897246633476 and parameters: {'eta': 0.08972892100351348, 'max_depth': 10, 'min_child_weight': 8, 'subsample': 0.8909140529094343, 'colsample_bytree': 0.7443020685186307, 'gamma': 0.2584494883669297}. Best is trial 28 with value: 0.970376580163453.\n",
      "[I 2024-03-26 14:37:29,419] Trial 31 finished with value: 0.9652899236951773 and parameters: {'eta': 0.13796192660833617, 'max_depth': 9, 'min_child_weight': 9, 'subsample': 0.7020633555538655, 'colsample_bytree': 0.8300894828132989, 'gamma': 0.32521486423809604}. Best is trial 28 with value: 0.970376580163453.\n",
      "[I 2024-03-26 14:37:31,599] Trial 32 finished with value: 0.965825199897618 and parameters: {'eta': 0.1822408272607294, 'max_depth': 9, 'min_child_weight': 10, 'subsample': 0.8018839904729206, 'colsample_bytree': 0.7826309634532906, 'gamma': 0.3044697931365127}. Best is trial 28 with value: 0.970376580163453.\n",
      "[I 2024-03-26 14:37:34,052] Trial 33 finished with value: 0.9694842806651325 and parameters: {'eta': 0.08530609328835805, 'max_depth': 10, 'min_child_weight': 9, 'subsample': 0.7717260698048864, 'colsample_bytree': 0.7071731119166114, 'gamma': 0.2543924563187386}. Best is trial 28 with value: 0.970376580163453.\n",
      "[I 2024-03-26 14:37:36,574] Trial 34 finished with value: 0.9442279376202402 and parameters: {'eta': 0.0607752145556586, 'max_depth': 10, 'min_child_weight': 8, 'subsample': 0.7745590116247308, 'colsample_bytree': 0.6804215901078784, 'gamma': 0.24206032087834178}. Best is trial 28 with value: 0.970376580163453.\n",
      "[I 2024-03-26 14:37:39,195] Trial 35 finished with value: 0.9558295427721392 and parameters: {'eta': 0.08659538571157972, 'max_depth': 10, 'min_child_weight': 7, 'subsample': 0.8341209018992967, 'colsample_bytree': 0.7316229043208876, 'gamma': 0.3545658922966717}. Best is trial 28 with value: 0.970376580163453.\n",
      "[I 2024-03-26 14:37:41,318] Trial 36 finished with value: 0.9628805239791557 and parameters: {'eta': 0.21692610343255112, 'max_depth': 8, 'min_child_weight': 9, 'subsample': 0.6918752380615751, 'colsample_bytree': 0.9365754438307814, 'gamma': 0.2601312592157426}. Best is trial 28 with value: 0.970376580163453.\n",
      "[I 2024-03-26 14:37:43,920] Trial 37 finished with value: 0.9347686314690817 and parameters: {'eta': 0.04236602123930261, 'max_depth': 10, 'min_child_weight': 8, 'subsample': 0.5539448839699996, 'colsample_bytree': 0.7087001463185921, 'gamma': 0.19848956188478029}. Best is trial 28 with value: 0.970376580163453.\n",
      "[I 2024-03-26 14:37:46,120] Trial 38 finished with value: 0.9645764343925409 and parameters: {'eta': 0.18430189767618538, 'max_depth': 6, 'min_child_weight': 9, 'subsample': 0.6545375994844889, 'colsample_bytree': 0.8871693466674355, 'gamma': 0.12976318236082401}. Best is trial 28 with value: 0.970376580163453.\n",
      "[I 2024-03-26 14:37:48,691] Trial 39 finished with value: 0.9465482904957125 and parameters: {'eta': 0.10059820454687969, 'max_depth': 7, 'min_child_weight': 6, 'subsample': 0.9303275277196463, 'colsample_bytree': 0.8453039308650764, 'gamma': 0.29304574499566466}. Best is trial 28 with value: 0.970376580163453.\n",
      "[I 2024-03-26 14:37:51,131] Trial 40 finished with value: 0.9689490840754236 and parameters: {'eta': 0.1233688719067516, 'max_depth': 9, 'min_child_weight': 9, 'subsample': 0.7678268996121173, 'colsample_bytree': 0.6443794061603876, 'gamma': 0.35486235394466914}. Best is trial 28 with value: 0.970376580163453.\n",
      "[I 2024-03-26 14:37:53,535] Trial 41 finished with value: 0.9668963493979884 and parameters: {'eta': 0.11955516968868674, 'max_depth': 9, 'min_child_weight': 9, 'subsample': 0.7682836451856049, 'colsample_bytree': 0.6285009358113933, 'gamma': 0.36500084601375304}. Best is trial 28 with value: 0.970376580163453.\n",
      "[I 2024-03-26 14:37:55,774] Trial 42 finished with value: 0.9716264602467757 and parameters: {'eta': 0.1477841144708761, 'max_depth': 10, 'min_child_weight': 10, 'subsample': 0.8048763258037407, 'colsample_bytree': 0.5908332267197419, 'gamma': 0.35082096687546155}. Best is trial 42 with value: 0.9716264602467757.\n",
      "[I 2024-03-26 14:37:57,840] Trial 43 finished with value: 0.9687707913624962 and parameters: {'eta': 0.17138858399470525, 'max_depth': 10, 'min_child_weight': 9, 'subsample': 0.8057316255397462, 'colsample_bytree': 0.5707754067266454, 'gamma': 0.39112542742272116}. Best is trial 42 with value: 0.9716264602467757.\n",
      "[I 2024-03-26 14:37:59,946] Trial 44 finished with value: 0.9684136486475191 and parameters: {'eta': 0.15051497363239572, 'max_depth': 10, 'min_child_weight': 8, 'subsample': 0.8529882687332369, 'colsample_bytree': 0.553906936007813, 'gamma': 0.4326142837651279}. Best is trial 42 with value: 0.9716264602467757.\n",
      "[I 2024-03-26 14:38:02,534] Trial 45 finished with value: 0.936731961048675 and parameters: {'eta': 0.028261795655384496, 'max_depth': 10, 'min_child_weight': 9, 'subsample': 0.9096757179072201, 'colsample_bytree': 0.6379142625295718, 'gamma': 0.3551076697476837}. Best is trial 42 with value: 0.9716264602467757.\n",
      "[I 2024-03-26 14:38:05,104] Trial 46 finished with value: 0.9446744058203276 and parameters: {'eta': 0.05803555307636714, 'max_depth': 9, 'min_child_weight': 7, 'subsample': 0.755592591109459, 'colsample_bytree': 0.5988085701440797, 'gamma': 0.23744708933562503}. Best is trial 42 with value: 0.9716264602467757.\n",
      "[I 2024-03-26 14:38:07,518] Trial 47 finished with value: 0.953777285771095 and parameters: {'eta': 0.12629999185712953, 'max_depth': 8, 'min_child_weight': 4, 'subsample': 0.8121212920388469, 'colsample_bytree': 0.6525239286037848, 'gamma': 0.3409628408819598}. Best is trial 42 with value: 0.9716264602467757.\n",
      "[I 2024-03-26 14:38:10,062] Trial 48 finished with value: 0.9634159196006944 and parameters: {'eta': 0.07552749466979881, 'max_depth': 10, 'min_child_weight': 10, 'subsample': 0.8575839758802833, 'colsample_bytree': 0.6908134359887523, 'gamma': 0.0878121548882706}. Best is trial 42 with value: 0.9716264602467757.\n",
      "[I 2024-03-26 14:38:12,331] Trial 49 finished with value: 0.9553837114739064 and parameters: {'eta': 0.10148402628224304, 'max_depth': 4, 'min_child_weight': 7, 'subsample': 0.7886818876430117, 'colsample_bytree': 0.610293367058227, 'gamma': 0.3057433815277265}. Best is trial 42 with value: 0.9716264602467757.\n",
      "[I 2024-03-26 14:38:14,621] Trial 50 finished with value: 0.9663609139700841 and parameters: {'eta': 0.20482675806942813, 'max_depth': 7, 'min_child_weight': 9, 'subsample': 0.8280079751582438, 'colsample_bytree': 0.7270387550787989, 'gamma': 0.009743212119046718}. Best is trial 42 with value: 0.9716264602467757.\n",
      "[I 2024-03-26 14:38:16,688] Trial 51 finished with value: 0.9664505180997557 and parameters: {'eta': 0.1730994923857335, 'max_depth': 10, 'min_child_weight': 9, 'subsample': 0.8111329650414575, 'colsample_bytree': 0.5462312240104679, 'gamma': 0.38816382932827526}. Best is trial 42 with value: 0.9716264602467757.\n",
      "[I 2024-03-26 14:38:18,825] Trial 52 finished with value: 0.9674324217277475 and parameters: {'eta': 0.17320172651955387, 'max_depth': 10, 'min_child_weight': 10, 'subsample': 0.7386669121515199, 'colsample_bytree': 0.5913253427711873, 'gamma': 0.3875433563765178}. Best is trial 42 with value: 0.9716264602467757.\n"
     ]
    },
    {
     "name": "stderr",
     "output_type": "stream",
     "text": [
      "[I 2024-03-26 14:38:21,069] Trial 53 finished with value: 0.9710018983655904 and parameters: {'eta': 0.15642248826070235, 'max_depth': 10, 'min_child_weight': 9, 'subsample': 0.786641425240606, 'colsample_bytree': 0.5066533820780991, 'gamma': 0.4116228965723963}. Best is trial 42 with value: 0.9716264602467757.\n",
      "[I 2024-03-26 14:38:23,357] Trial 54 finished with value: 0.9713587624360063 and parameters: {'eta': 0.12475031537756552, 'max_depth': 9, 'min_child_weight': 8, 'subsample': 0.7855659592139453, 'colsample_bytree': 0.5126337856626868, 'gamma': 0.4222794558677854}. Best is trial 42 with value: 0.9716264602467757.\n",
      "[I 2024-03-26 14:38:25,887] Trial 55 finished with value: 0.9718052704424597 and parameters: {'eta': 0.09728338292916965, 'max_depth': 10, 'min_child_weight': 8, 'subsample': 0.7869699051354297, 'colsample_bytree': 0.5109796664866062, 'gamma': 0.43688565893075393}. Best is trial 55 with value: 0.9718052704424597.\n",
      "[I 2024-03-26 14:38:28,360] Trial 56 finished with value: 0.9720730478659607 and parameters: {'eta': 0.09703607905413963, 'max_depth': 10, 'min_child_weight': 8, 'subsample': 0.7848076343102399, 'colsample_bytree': 0.5209121002106251, 'gamma': 0.4296379498685612}. Best is trial 56 with value: 0.9720730478659607.\n",
      "[I 2024-03-26 14:38:30,860] Trial 57 finished with value: 0.9673429768235395 and parameters: {'eta': 0.09945051658602796, 'max_depth': 10, 'min_child_weight': 8, 'subsample': 0.8670077887022577, 'colsample_bytree': 0.503696668998955, 'gamma': 0.47259890392720993}. Best is trial 56 with value: 0.9720730478659607.\n",
      "[I 2024-03-26 14:38:33,114] Trial 58 finished with value: 0.962255802872507 and parameters: {'eta': 0.14931190398034605, 'max_depth': 10, 'min_child_weight': 5, 'subsample': 0.836665337898697, 'colsample_bytree': 0.515230240539677, 'gamma': 0.4350937643548933}. Best is trial 56 with value: 0.9720730478659607.\n",
      "[I 2024-03-26 14:38:35,334] Trial 59 finished with value: 0.9642192916775636 and parameters: {'eta': 0.1294651980451087, 'max_depth': 9, 'min_child_weight': 6, 'subsample': 0.8209453041697112, 'colsample_bytree': 0.5366520351980456, 'gamma': 0.4157671469276576}. Best is trial 56 with value: 0.9720730478659607.\n",
      "[I 2024-03-26 14:38:37,612] Trial 60 finished with value: 0.9641297671606239 and parameters: {'eta': 0.1080430623153737, 'max_depth': 10, 'min_child_weight': 7, 'subsample': 0.7864994718585047, 'colsample_bytree': 0.5679178912958376, 'gamma': 0.45168360192019064}. Best is trial 56 with value: 0.9720730478659607.\n",
      "[I 2024-03-26 14:38:39,971] Trial 61 finished with value: 0.9717161041828131 and parameters: {'eta': 0.0871541111306279, 'max_depth': 10, 'min_child_weight': 8, 'subsample': 0.7208744752151127, 'colsample_bytree': 0.5200451793705188, 'gamma': 0.4861837722996597}. Best is trial 56 with value: 0.9720730478659607.\n",
      "[I 2024-03-26 14:38:42,205] Trial 62 finished with value: 0.9718944765084722 and parameters: {'eta': 0.11533490856646035, 'max_depth': 10, 'min_child_weight': 8, 'subsample': 0.7254820691146662, 'colsample_bytree': 0.5231881013133568, 'gamma': 0.49302039759505545}. Best is trial 56 with value: 0.9720730478659607.\n",
      "[I 2024-03-26 14:38:44,524] Trial 63 finished with value: 0.9663611130019134 and parameters: {'eta': 0.11275965109001601, 'max_depth': 9, 'min_child_weight': 7, 'subsample': 0.7510121922625109, 'colsample_bytree': 0.5249697606959188, 'gamma': 0.48410769785101226}. Best is trial 56 with value: 0.9720730478659607.\n",
      "[I 2024-03-26 14:38:46,954] Trial 64 finished with value: 0.971269914627287 and parameters: {'eta': 0.09665855803968332, 'max_depth': 10, 'min_child_weight': 8, 'subsample': 0.7175337836657116, 'colsample_bytree': 0.5010679102029526, 'gamma': 0.4491631876795158}. Best is trial 56 with value: 0.9720730478659607.\n",
      "[I 2024-03-26 14:38:49,209] Trial 65 finished with value: 0.9714485655975075 and parameters: {'eta': 0.09620299575105376, 'max_depth': 9, 'min_child_weight': 8, 'subsample': 0.7186472679956715, 'colsample_bytree': 0.5383988703027276, 'gamma': 0.4959733081761728}. Best is trial 56 with value: 0.9720730478659607.\n",
      "[I 2024-03-26 14:38:51,611] Trial 66 finished with value: 0.9685926180686668 and parameters: {'eta': 0.07746604059997686, 'max_depth': 9, 'min_child_weight': 8, 'subsample': 0.6538218622753077, 'colsample_bytree': 0.5308956471956602, 'gamma': 0.49548897475443876}. Best is trial 56 with value: 0.9720730478659607.\n",
      "[I 2024-03-26 14:38:54,133] Trial 67 finished with value: 0.9403903651079688 and parameters: {'eta': 0.06429654908393605, 'max_depth': 9, 'min_child_weight': 3, 'subsample': 0.7251371832453031, 'colsample_bytree': 0.5602734162666884, 'gamma': 0.4720819339880747}. Best is trial 56 with value: 0.9720730478659607.\n",
      "[I 2024-03-26 14:38:56,359] Trial 68 finished with value: 0.9619877468044444 and parameters: {'eta': 0.11714307585433621, 'max_depth': 5, 'min_child_weight': 6, 'subsample': 0.7376754786136175, 'colsample_bytree': 0.5857924570725532, 'gamma': 0.46358176954123587}. Best is trial 56 with value: 0.9720730478659607.\n",
      "[I 2024-03-26 14:38:58,797] Trial 69 finished with value: 0.9383382673323883 and parameters: {'eta': 0.054506748826795605, 'max_depth': 9, 'min_child_weight': 7, 'subsample': 0.7127853559902638, 'colsample_bytree': 0.53991731815524, 'gamma': 0.4841396732996652}. Best is trial 56 with value: 0.9720730478659607.\n",
      "[I 2024-03-26 14:39:00,952] Trial 70 finished with value: 0.9673428175980758 and parameters: {'eta': 0.1449603360953518, 'max_depth': 10, 'min_child_weight': 8, 'subsample': 0.7460007171924586, 'colsample_bytree': 0.5202654989377453, 'gamma': 0.442109810297202}. Best is trial 56 with value: 0.9720730478659607.\n",
      "[I 2024-03-26 14:39:03,233] Trial 71 finished with value: 0.971894556121204 and parameters: {'eta': 0.09539757294252711, 'max_depth': 10, 'min_child_weight': 8, 'subsample': 0.7265298100850086, 'colsample_bytree': 0.5017363019716257, 'gamma': 0.4496449538284666}. Best is trial 56 with value: 0.9720730478659607.\n",
      "[I 2024-03-26 14:39:05,612] Trial 72 finished with value: 0.9680568243834691 and parameters: {'eta': 0.07968541277939417, 'max_depth': 10, 'min_child_weight': 8, 'subsample': 0.7578994990664577, 'colsample_bytree': 0.5503138970696997, 'gamma': 0.4244415307700101}. Best is trial 56 with value: 0.9720730478659607.\n",
      "[I 2024-03-26 14:39:07,911] Trial 73 finished with value: 0.9687709107815939 and parameters: {'eta': 0.0945739400421181, 'max_depth': 10, 'min_child_weight': 7, 'subsample': 0.6619871376028423, 'colsample_bytree': 0.5263970765178909, 'gamma': 0.4966320209769663}. Best is trial 56 with value: 0.9720730478659607.\n",
      "[I 2024-03-26 14:39:10,105] Trial 74 finished with value: 0.966985913721294 and parameters: {'eta': 0.10764111600267105, 'max_depth': 9, 'min_child_weight': 8, 'subsample': 0.6873968150919763, 'colsample_bytree': 0.5769029859208246, 'gamma': 0.4737240526770994}. Best is trial 56 with value: 0.9720730478659607.\n",
      "[I 2024-03-26 14:39:12,310] Trial 75 finished with value: 0.9625236201023739 and parameters: {'eta': 0.13564413746734374, 'max_depth': 10, 'min_child_weight': 5, 'subsample': 0.7259487912458674, 'colsample_bytree': 0.5155179761960839, 'gamma': 0.460814442560721}. Best is trial 56 with value: 0.9720730478659607.\n",
      "[I 2024-03-26 14:39:14,784] Trial 76 finished with value: 0.9410149269891541 and parameters: {'eta': 0.11631905853927868, 'max_depth': 10, 'min_child_weight': 1, 'subsample': 0.7024071786419769, 'colsample_bytree': 0.5390664095994976, 'gamma': 0.40578577553079814}. Best is trial 56 with value: 0.9720730478659607.\n",
      "[I 2024-03-26 14:39:17,149] Trial 77 finished with value: 0.9697522173140973 and parameters: {'eta': 0.0931390192181224, 'max_depth': 9, 'min_child_weight': 8, 'subsample': 0.7952883640370637, 'colsample_bytree': 0.6145916193525441, 'gamma': 0.42202965041137425}. Best is trial 56 with value: 0.9720730478659607.\n",
      "[I 2024-03-26 14:39:19,518] Trial 78 finished with value: 0.9619880254490057 and parameters: {'eta': 0.08219469724259298, 'max_depth': 10, 'min_child_weight': 7, 'subsample': 0.7773155014602366, 'colsample_bytree': 0.5592591126880336, 'gamma': 0.4831845305291002}. Best is trial 56 with value: 0.9720730478659607.\n",
      "[I 2024-03-26 14:39:21,654] Trial 79 finished with value: 0.9462816276504571 and parameters: {'eta': 0.06822864511287416, 'max_depth': 3, 'min_child_weight': 8, 'subsample': 0.7627208699075014, 'colsample_bytree': 0.5000581902756369, 'gamma': 0.44576010843309316}. Best is trial 56 with value: 0.9720730478659607.\n"
     ]
    },
    {
     "name": "stderr",
     "output_type": "stream",
     "text": [
      "[I 2024-03-26 14:39:23,970] Trial 80 finished with value: 0.9679677377365543 and parameters: {'eta': 0.10451938601073131, 'max_depth': 6, 'min_child_weight': 8, 'subsample': 0.7317193210788779, 'colsample_bytree': 0.5178869757147428, 'gamma': 0.46349333751205046}. Best is trial 56 with value: 0.9720730478659607.\n",
      "[I 2024-03-26 14:39:26,274] Trial 81 finished with value: 0.9720732468977904 and parameters: {'eta': 0.09395100459437979, 'max_depth': 10, 'min_child_weight': 8, 'subsample': 0.7132840661671742, 'colsample_bytree': 0.5021725542733736, 'gamma': 0.4470708245484658}. Best is trial 81 with value: 0.9720732468977904.\n",
      "[I 2024-03-26 14:39:28,513] Trial 82 finished with value: 0.9735007827921857 and parameters: {'eta': 0.12951181428634784, 'max_depth': 10, 'min_child_weight': 8, 'subsample': 0.6851739084134664, 'colsample_bytree': 0.5329592446675191, 'gamma': 0.39696111536299084}. Best is trial 82 with value: 0.9735007827921857.\n",
      "[I 2024-03-26 14:39:30,690] Trial 83 finished with value: 0.967432222695918 and parameters: {'eta': 0.1323001471403886, 'max_depth': 10, 'min_child_weight': 7, 'subsample': 0.6240145380651825, 'colsample_bytree': 0.5294445889657388, 'gamma': 0.39802302969874176}. Best is trial 82 with value: 0.9735007827921857.\n",
      "[I 2024-03-26 14:39:33,040] Trial 84 finished with value: 0.9672538503702588 and parameters: {'eta': 0.08860486167241115, 'max_depth': 10, 'min_child_weight': 8, 'subsample': 0.686374321906748, 'colsample_bytree': 0.5783479039696597, 'gamma': 0.43870171018736104}. Best is trial 82 with value: 0.9735007827921857.\n",
      "[I 2024-03-26 14:39:35,418] Trial 85 finished with value: 0.9642192120648317 and parameters: {'eta': 0.10572875523080513, 'max_depth': 10, 'min_child_weight': 7, 'subsample': 0.7103114318052904, 'colsample_bytree': 0.5475491036392913, 'gamma': 0.37712009647982525}. Best is trial 82 with value: 0.9735007827921857.\n",
      "[I 2024-03-26 14:39:37,623] Trial 86 finished with value: 0.9598460050928266 and parameters: {'eta': 0.11252945022256158, 'max_depth': 10, 'min_child_weight': 6, 'subsample': 0.7470159562277849, 'colsample_bytree': 0.5597207488781326, 'gamma': 0.49602656971519143}. Best is trial 82 with value: 0.9735007827921857.\n",
      "[I 2024-03-26 14:39:40,017] Trial 87 finished with value: 0.9681465081258726 and parameters: {'eta': 0.07265289715500511, 'max_depth': 10, 'min_child_weight': 8, 'subsample': 0.6767533597948785, 'colsample_bytree': 0.5375535864426461, 'gamma': 0.4528200256050429}. Best is trial 82 with value: 0.9735007827921857.\n",
      "[I 2024-03-26 14:39:42,281] Trial 88 finished with value: 0.9711807085612746 and parameters: {'eta': 0.09484736043938, 'max_depth': 10, 'min_child_weight': 9, 'subsample': 0.6967375772628184, 'colsample_bytree': 0.5274358292813741, 'gamma': 0.4764053884152777}. Best is trial 82 with value: 0.9735007827921857.\n",
      "[I 2024-03-26 14:39:44,815] Trial 89 finished with value: 0.9371789069251533 and parameters: {'eta': 0.04493614122805239, 'max_depth': 10, 'min_child_weight': 7, 'subsample': 0.6349862715438033, 'colsample_bytree': 0.5142521499914934, 'gamma': 0.3747844967522487}. Best is trial 82 with value: 0.9735007827921857.\n",
      "[I 2024-03-26 14:39:46,577] Trial 90 finished with value: 0.9525284008469204 and parameters: {'eta': 0.2985515718303404, 'max_depth': 4, 'min_child_weight': 8, 'subsample': 0.9749069597572835, 'colsample_bytree': 0.5003363098853468, 'gamma': 0.4323821251596009}. Best is trial 82 with value: 0.9735007827921857.\n",
      "[I 2024-03-26 14:39:48,779] Trial 91 finished with value: 0.9712696757890915 and parameters: {'eta': 0.1201522812905066, 'max_depth': 9, 'min_child_weight': 8, 'subsample': 0.6651791498831046, 'colsample_bytree': 0.5123818343033015, 'gamma': 0.4161402887745336}. Best is trial 82 with value: 0.9735007827921857.\n",
      "[I 2024-03-26 14:39:51,163] Trial 92 finished with value: 0.9735899092454664 and parameters: {'eta': 0.12496642866528124, 'max_depth': 9, 'min_child_weight': 8, 'subsample': 0.722213374543849, 'colsample_bytree': 0.5354324370949586, 'gamma': 0.3996254480140649}. Best is trial 92 with value: 0.9735899092454664.\n",
      "[I 2024-03-26 14:39:53,485] Trial 93 finished with value: 0.969395472662779 and parameters: {'eta': 0.12783646344049981, 'max_depth': 10, 'min_child_weight': 8, 'subsample': 0.7157616056550387, 'colsample_bytree': 0.5464505708403247, 'gamma': 0.39719211761947637}. Best is trial 92 with value: 0.9735899092454664.\n",
      "[I 2024-03-26 14:39:55,636] Trial 94 finished with value: 0.9700203928012575 and parameters: {'eta': 0.14322897310766428, 'max_depth': 10, 'min_child_weight': 9, 'subsample': 0.7261962621518536, 'colsample_bytree': 0.5647945024413203, 'gamma': 0.4631638062412424}. Best is trial 92 with value: 0.9735899092454664.\n",
      "[I 2024-03-26 14:39:57,942] Trial 95 finished with value: 0.9715375328253245 and parameters: {'eta': 0.10076854402668708, 'max_depth': 9, 'min_child_weight': 9, 'subsample': 0.7440147173774112, 'colsample_bytree': 0.5334655567881844, 'gamma': 0.4864929430193155}. Best is trial 92 with value: 0.9735899092454664.\n",
      "[I 2024-03-26 14:40:00,207] Trial 96 finished with value: 0.9710026944929087 and parameters: {'eta': 0.08460950407744691, 'max_depth': 8, 'min_child_weight': 10, 'subsample': 0.6125159213634681, 'colsample_bytree': 0.5885128922255141, 'gamma': 0.4386060659213509}. Best is trial 92 with value: 0.9735899092454664.\n",
      "[I 2024-03-26 14:40:02,438] Trial 97 finished with value: 0.9730547922684891 and parameters: {'eta': 0.10134252685136445, 'max_depth': 10, 'min_child_weight': 10, 'subsample': 0.7416077204613457, 'colsample_bytree': 0.5270682180241664, 'gamma': 0.48572117345699567}. Best is trial 92 with value: 0.9735899092454664.\n",
      "[I 2024-03-26 14:40:04,724] Trial 98 finished with value: 0.9714480481147506 and parameters: {'eta': 0.11120262527884606, 'max_depth': 10, 'min_child_weight': 10, 'subsample': 0.7561142777344743, 'colsample_bytree': 0.5510386573067058, 'gamma': 0.40645703423934804}. Best is trial 92 with value: 0.9735899092454664.\n",
      "[I 2024-03-26 14:40:06,892] Trial 99 finished with value: 0.9754641919845106 and parameters: {'eta': 0.1243444227257614, 'max_depth': 10, 'min_child_weight': 10, 'subsample': 0.6989673715486691, 'colsample_bytree': 0.5198073806104138, 'gamma': 0.45261343058474585}. Best is trial 99 with value: 0.9754641919845106.\n"
     ]
    }
   ],
   "source": [
    "study = optuna.create_study(direction='maximize')\n",
    "study.optimize(objective, n_trials=100)"
   ]
  },
  {
   "cell_type": "code",
   "execution_count": 140,
   "metadata": {},
   "outputs": [
    {
     "name": "stdout",
     "output_type": "stream",
     "text": [
      "Train Accuracy: 0.9968774395003903\n",
      "Test Accuracy: 0.9910793933987511\n",
      "\n",
      "Train Confusion Matrix:\n",
      "[[8596    0    1    3    1]\n",
      " [   1   51    0    0    0]\n",
      " [   0    1  127    0    0]\n",
      " [  14    0    0   88    0]\n",
      " [   7    0    0    0   77]]\n",
      "\n",
      "Test Confusion Matrix:\n",
      "[[2138    0    1    3    1]\n",
      " [   1   11    0    0    0]\n",
      " [   1    0   26    0    0]\n",
      " [  11    0    0   21    0]\n",
      " [   2    0    0    0   26]]\n",
      "\n",
      "Train Classification Report:\n",
      "              precision    recall  f1-score   support\n",
      "\n",
      "           0       1.00      1.00      1.00      8601\n",
      "           1       0.98      0.98      0.98        52\n",
      "           2       0.99      0.99      0.99       128\n",
      "           3       0.97      0.86      0.91       102\n",
      "           4       0.99      0.92      0.95        84\n",
      "\n",
      "    accuracy                           1.00      8967\n",
      "   macro avg       0.98      0.95      0.97      8967\n",
      "weighted avg       1.00      1.00      1.00      8967\n",
      "\n",
      "\n",
      "Test Classification Report:\n",
      "              precision    recall  f1-score   support\n",
      "\n",
      "           0       0.99      1.00      1.00      2143\n",
      "           1       1.00      0.92      0.96        12\n",
      "           2       0.96      0.96      0.96        27\n",
      "           3       0.88      0.66      0.75        32\n",
      "           4       0.96      0.93      0.95        28\n",
      "\n",
      "    accuracy                           0.99      2242\n",
      "   macro avg       0.96      0.89      0.92      2242\n",
      "weighted avg       0.99      0.99      0.99      2242\n",
      "\n"
     ]
    }
   ],
   "source": [
    "from sklearn.metrics import classification_report, confusion_matrix\n",
    "\n",
    "# Use the best hyperparameters found by Optuna\n",
    "best_params = study.best_params\n",
    "model = XGBClassifier(**best_params)\n",
    "\n",
    "# Fit the model on the training data\n",
    "model.fit(X_train, y_train)\n",
    "\n",
    "# Predict on the training and test sets\n",
    "y_train_pred = model.predict(X_train)\n",
    "y_test_pred = model.predict(X_test)\n",
    "\n",
    "# Calculate accuracies\n",
    "train_accuracy = accuracy_score(y_train, y_train_pred)\n",
    "test_accuracy = accuracy_score(y_test, y_test_pred)\n",
    "\n",
    "# Generate confusion matrices\n",
    "train_conf_matrix = confusion_matrix(y_train, y_train_pred)\n",
    "test_conf_matrix = confusion_matrix(y_test, y_test_pred)\n",
    "\n",
    "# Generate classification reports\n",
    "train_classification_report = classification_report(y_train, y_train_pred)\n",
    "test_classification_report = classification_report(y_test, y_test_pred)\n",
    "\n",
    "# Print the results\n",
    "print(\"Train Accuracy:\", train_accuracy)\n",
    "print(\"Test Accuracy:\", test_accuracy)\n",
    "\n",
    "print(\"\\nTrain Confusion Matrix:\")\n",
    "print(train_conf_matrix)\n",
    "\n",
    "print(\"\\nTest Confusion Matrix:\")\n",
    "print(test_conf_matrix)\n",
    "\n",
    "print(\"\\nTrain Classification Report:\")\n",
    "print(train_classification_report)\n",
    "\n",
    "print(\"\\nTest Classification Report:\")\n",
    "print(test_classification_report)\n"
   ]
  },
  {
   "cell_type": "code",
   "execution_count": null,
   "metadata": {},
   "outputs": [],
   "source": [
    "### Initial 2 classification models"
   ]
  },
  {
   "cell_type": "code",
   "execution_count": 144,
   "metadata": {},
   "outputs": [],
   "source": [
    "fsCls = weather_hist\n",
    "fsCls['Summary'] = fsCls['Summary'].map({0:0,1:0,2:0,3:1,4:1,5:1,6:1,7:1})"
   ]
  },
  {
   "cell_type": "code",
   "execution_count": 146,
   "metadata": {},
   "outputs": [],
   "source": [
    "from sklearn.model_selection import train_test_split\n",
    "from xgboost import XGBClassifier\n",
    "from sklearn.metrics import accuracy_score\n",
    "from sklearn.model_selection import GridSearchCV\n",
    "import optuna\n",
    "from sklearn.model_selection import cross_val_score\n",
    "\n",
    "# Split the dataset into features (X) and target variable (y)\n",
    "X = fsCls.drop(['Summary'], axis=1)\n",
    "y = fsCls['Summary']\n",
    "\n",
    "\n",
    "\n",
    "# Split the dataset into training and testing sets\n",
    "X_train, X_test, y_train, y_test = train_test_split(X, y, test_size=0.2, random_state=42)\n",
    "\n",
    "\n",
    "def objective(trial):\n",
    "    param = {\n",
    "        'objective': 'multi:softmax',\n",
    "        'num_class': 2,\n",
    "        'eval_metric': 'mlogloss',\n",
    "        'eta': trial.suggest_float('eta', 0.01, 0.3),\n",
    "        'max_depth': trial.suggest_int('max_depth', 3, 10),\n",
    "        'min_child_weight': trial.suggest_int('min_child_weight', 1, 10),\n",
    "        'subsample': trial.suggest_float('subsample', 0.5, 1.0),\n",
    "        'colsample_bytree': trial.suggest_float('colsample_bytree', 0.5, 1.0),\n",
    "        'gamma': trial.suggest_float('gamma', 0, 0.5),\n",
    "        'verbosity': 0\n",
    "    }\n",
    "\n",
    "    model = XGBClassifier(**param)\n",
    "    scores = cross_val_score(model, X, y, cv=5)\n",
    "    accuracy = scores.mean()\n",
    "    return accuracy"
   ]
  },
  {
   "cell_type": "code",
   "execution_count": 147,
   "metadata": {
    "scrolled": true
   },
   "outputs": [
    {
     "name": "stderr",
     "output_type": "stream",
     "text": [
      "[I 2024-03-26 14:54:19,776] A new study created in memory with name: no-name-a38305ac-fab2-4e36-8cc4-0cef0bb55a11\n",
      "[I 2024-03-26 14:54:24,939] Trial 0 finished with value: 0.5699482581834479 and parameters: {'eta': 0.13571147426738317, 'max_depth': 7, 'min_child_weight': 4, 'subsample': 0.7948176618177605, 'colsample_bytree': 0.5885101507392256, 'gamma': 0.26806915786761404}. Best is trial 0 with value: 0.5699482581834479.\n",
      "[I 2024-03-26 14:54:32,559] Trial 1 finished with value: 0.5644517178081647 and parameters: {'eta': 0.12762375242278745, 'max_depth': 10, 'min_child_weight': 10, 'subsample': 0.7204926307611177, 'colsample_bytree': 0.7862440919937301, 'gamma': 0.05988489602188918}. Best is trial 0 with value: 0.5699482581834479.\n",
      "[I 2024-03-26 14:54:37,053] Trial 2 finished with value: 0.6207706150652543 and parameters: {'eta': 0.17122995368306165, 'max_depth': 4, 'min_child_weight': 10, 'subsample': 0.5235061493857347, 'colsample_bytree': 0.9317267601618101, 'gamma': 0.3992656093849395}. Best is trial 2 with value: 0.6207706150652543.\n",
      "[I 2024-03-26 14:54:44,659] Trial 3 finished with value: 0.5937893341020543 and parameters: {'eta': 0.0994044392266346, 'max_depth': 7, 'min_child_weight': 5, 'subsample': 0.7928281418222458, 'colsample_bytree': 0.983973333848744, 'gamma': 0.016048300381622693}. Best is trial 2 with value: 0.6207706150652543.\n",
      "[I 2024-03-26 14:54:51,713] Trial 4 finished with value: 0.5859469598900905 and parameters: {'eta': 0.14135729036647743, 'max_depth': 6, 'min_child_weight': 2, 'subsample': 0.6844866979791262, 'colsample_bytree': 0.5367595247486323, 'gamma': 0.09968845442155944}. Best is trial 2 with value: 0.6207706150652543.\n",
      "[I 2024-03-26 14:54:58,834] Trial 5 finished with value: 0.5650047912352592 and parameters: {'eta': 0.15501323051702187, 'max_depth': 6, 'min_child_weight': 7, 'subsample': 0.9301810797163907, 'colsample_bytree': 0.7170208905912648, 'gamma': 0.1543935624473659}. Best is trial 2 with value: 0.6207706150652543.\n",
      "[I 2024-03-26 14:55:07,788] Trial 6 finished with value: 0.5500386176955607 and parameters: {'eta': 0.24737026682202498, 'max_depth': 9, 'min_child_weight': 3, 'subsample': 0.7424766154222044, 'colsample_bytree': 0.5691544345127806, 'gamma': 0.4121118585434352}. Best is trial 2 with value: 0.6207706150652543.\n",
      "[I 2024-03-26 14:55:13,568] Trial 7 finished with value: 0.7424493512982031 and parameters: {'eta': 0.03558776907257096, 'max_depth': 4, 'min_child_weight': 5, 'subsample': 0.8476485376746755, 'colsample_bytree': 0.6788320809836792, 'gamma': 0.3772614142210555}. Best is trial 7 with value: 0.7424493512982031.\n",
      "[I 2024-03-26 14:55:18,970] Trial 8 finished with value: 0.7536816631416584 and parameters: {'eta': 0.0252728650836414, 'max_depth': 3, 'min_child_weight': 9, 'subsample': 0.6023019501246943, 'colsample_bytree': 0.672804749626676, 'gamma': 0.3023313922031311}. Best is trial 8 with value: 0.7536816631416584.\n",
      "[I 2024-03-26 14:55:25,332] Trial 9 finished with value: 0.5721905052701739 and parameters: {'eta': 0.16877288685005415, 'max_depth': 5, 'min_child_weight': 7, 'subsample': 0.8148146482503137, 'colsample_bytree': 0.7839669627779859, 'gamma': 0.052105892708374235}. Best is trial 8 with value: 0.7536816631416584.\n",
      "[I 2024-03-26 14:55:30,822] Trial 10 finished with value: 0.7537859596357575 and parameters: {'eta': 0.020786566006296803, 'max_depth': 3, 'min_child_weight': 8, 'subsample': 0.5729825274234428, 'colsample_bytree': 0.8806399616110705, 'gamma': 0.25684074624931563}. Best is trial 10 with value: 0.7537859596357575.\n",
      "[I 2024-03-26 14:55:36,318] Trial 11 finished with value: 0.7541614126564709 and parameters: {'eta': 0.010389797465041456, 'max_depth': 3, 'min_child_weight': 8, 'subsample': 0.5645349793779854, 'colsample_bytree': 0.8656071732038303, 'gamma': 0.2616266414504657}. Best is trial 11 with value: 0.7541614126564709.\n",
      "[I 2024-03-26 14:55:41,857] Trial 12 finished with value: 0.7362335921022412 and parameters: {'eta': 0.06821662258731295, 'max_depth': 3, 'min_child_weight': 8, 'subsample': 0.5098967349359177, 'colsample_bytree': 0.8848464520089689, 'gamma': 0.17081126953088396}. Best is trial 11 with value: 0.7541614126564709.\n",
      "[I 2024-03-26 14:55:47,342] Trial 13 finished with value: 0.7537963860763623 and parameters: {'eta': 0.019527256031060633, 'max_depth': 3, 'min_child_weight': 7, 'subsample': 0.6133939395469752, 'colsample_bytree': 0.8664446407257754, 'gamma': 0.4888255737726848}. Best is trial 11 with value: 0.7541614126564709.\n",
      "[I 2024-03-26 14:55:53,802] Trial 14 finished with value: 0.6645736447818991 and parameters: {'eta': 0.06913488176666008, 'max_depth': 5, 'min_child_weight': 6, 'subsample': 0.6450810710754445, 'colsample_bytree': 0.8280501200708144, 'gamma': 0.48407317726957844}. Best is trial 11 with value: 0.7541614126564709.\n",
      "[I 2024-03-26 14:55:59,848] Trial 15 finished with value: 0.5733584237949834 and parameters: {'eta': 0.24384401535354494, 'max_depth': 4, 'min_child_weight': 7, 'subsample': 0.6045532669550133, 'colsample_bytree': 0.858565077789277, 'gamma': 0.4628677549849336}. Best is trial 11 with value: 0.7541614126564709.\n",
      "[I 2024-03-26 14:56:08,496] Trial 16 finished with value: 0.6158581468044142 and parameters: {'eta': 0.06979545255468048, 'max_depth': 8, 'min_child_weight': 9, 'subsample': 0.6810692969993217, 'colsample_bytree': 0.9851499263755296, 'gamma': 0.33897367794360633}. Best is trial 11 with value: 0.7541614126564709.\n",
      "[I 2024-03-26 14:56:14,967] Trial 17 finished with value: 0.712829818103834 and parameters: {'eta': 0.049177502584840174, 'max_depth': 5, 'min_child_weight': 1, 'subsample': 0.5611362016118147, 'colsample_bytree': 0.9307528495423426, 'gamma': 0.192040239951061}. Best is trial 11 with value: 0.7541614126564709.\n",
      "[I 2024-03-26 14:56:20,360] Trial 18 finished with value: 0.590453130900598 and parameters: {'eta': 0.2997805830095924, 'max_depth': 3, 'min_child_weight': 6, 'subsample': 0.6343895422257047, 'colsample_bytree': 0.8193989052508658, 'gamma': 0.43662822301607307}. Best is trial 11 with value: 0.7541614126564709.\n",
      "[I 2024-03-26 14:56:26,075] Trial 19 finished with value: 0.6712485165259654 and parameters: {'eta': 0.09992749555365447, 'max_depth': 4, 'min_child_weight': 8, 'subsample': 0.9578528482302171, 'colsample_bytree': 0.733880991623729, 'gamma': 0.3362481712476827}. Best is trial 11 with value: 0.7541614126564709.\n",
      "[I 2024-03-26 14:56:32,402] Trial 20 finished with value: 0.7512098771845681 and parameters: {'eta': 0.011228547234381967, 'max_depth': 5, 'min_child_weight': 4, 'subsample': 0.5497654515945991, 'colsample_bytree': 0.9234874581395082, 'gamma': 0.21765819690229238}. Best is trial 11 with value: 0.7541614126564709.\n",
      "[I 2024-03-26 14:56:37,783] Trial 21 finished with value: 0.7538276675736382 and parameters: {'eta': 0.01565215669397911, 'max_depth': 3, 'min_child_weight': 8, 'subsample': 0.5825595943063586, 'colsample_bytree': 0.8857781923719386, 'gamma': 0.2572571679852753}. Best is trial 11 with value: 0.7541614126564709.\n",
      "[I 2024-03-26 14:56:43,146] Trial 22 finished with value: 0.746162199672989 and parameters: {'eta': 0.047820781806382405, 'max_depth': 3, 'min_child_weight': 9, 'subsample': 0.6510296400573321, 'colsample_bytree': 0.8376682583764745, 'gamma': 0.2853474667560571}. Best is trial 11 with value: 0.7541614126564709.\n",
      "[I 2024-03-26 14:56:49,037] Trial 23 finished with value: 0.7545681634904176 and parameters: {'eta': 0.010721040713089259, 'max_depth': 4, 'min_child_weight': 7, 'subsample': 0.5967082414261546, 'colsample_bytree': 0.909539997120015, 'gamma': 0.136350357023794}. Best is trial 23 with value: 0.7545681634904176.\n",
      "[I 2024-03-26 14:56:54,939] Trial 24 finished with value: 0.6745234984484286 and parameters: {'eta': 0.09574526879680463, 'max_depth': 4, 'min_child_weight': 8, 'subsample': 0.5106162133328136, 'colsample_bytree': 0.9124576035908945, 'gamma': 0.1342007310166556}. Best is trial 23 with value: 0.7545681634904176.\n",
      "[I 2024-03-26 14:57:00,799] Trial 25 finished with value: 0.7309456697329572 and parameters: {'eta': 0.04880750032930038, 'max_depth': 4, 'min_child_weight': 9, 'subsample': 0.5782430609659192, 'colsample_bytree': 0.9539828088907318, 'gamma': 0.21834794882777672}. Best is trial 23 with value: 0.7545681634904176.\n"
     ]
    },
    {
     "name": "stderr",
     "output_type": "stream",
     "text": [
      "[I 2024-03-26 14:57:07,716] Trial 26 finished with value: 0.5598418376780226 and parameters: {'eta': 0.21520695734255627, 'max_depth': 6, 'min_child_weight': 6, 'subsample': 0.5420324696127349, 'colsample_bytree': 0.7958767256913427, 'gamma': 0.10800974074671804}. Best is trial 23 with value: 0.7545681634904176.\n",
      "[I 2024-03-26 14:57:13,080] Trial 27 finished with value: 0.7542344200391804 and parameters: {'eta': 0.010644952375122104, 'max_depth': 3, 'min_child_weight': 10, 'subsample': 0.691226495745536, 'colsample_bytree': 0.8941424736865236, 'gamma': 0.22306461807656547}. Best is trial 23 with value: 0.7545681634904176.\n",
      "[I 2024-03-26 14:57:19,499] Trial 28 finished with value: 0.6538107316099201 and parameters: {'eta': 0.08063208464839987, 'max_depth': 5, 'min_child_weight': 10, 'subsample': 0.6950305968932622, 'colsample_bytree': 0.9594860154874638, 'gamma': 0.21510718767041992}. Best is trial 23 with value: 0.7545681634904176.\n",
      "[I 2024-03-26 14:57:28,075] Trial 29 finished with value: 0.6558961127318659 and parameters: {'eta': 0.04276843665690751, 'max_depth': 8, 'min_child_weight': 10, 'subsample': 0.7813611410315197, 'colsample_bytree': 0.995011143343575, 'gamma': 0.3199559269037623}. Best is trial 23 with value: 0.7545681634904176.\n",
      "[I 2024-03-26 14:57:33,835] Trial 30 finished with value: 0.6470318902347668 and parameters: {'eta': 0.1245433929817951, 'max_depth': 4, 'min_child_weight': 9, 'subsample': 0.6672004583903859, 'colsample_bytree': 0.7541478377939592, 'gamma': 0.18911179435016104}. Best is trial 23 with value: 0.7545681634904176.\n",
      "[I 2024-03-26 14:57:39,291] Trial 31 finished with value: 0.7542448497429769 and parameters: {'eta': 0.010592538261145548, 'max_depth': 3, 'min_child_weight': 8, 'subsample': 0.5893813519538024, 'colsample_bytree': 0.8900368132585544, 'gamma': 0.24828099512036161}. Best is trial 23 with value: 0.7545681634904176.\n",
      "[I 2024-03-26 14:57:44,676] Trial 32 finished with value: 0.7460891933780098 and parameters: {'eta': 0.056054040365686245, 'max_depth': 3, 'min_child_weight': 7, 'subsample': 0.7273395740845117, 'colsample_bytree': 0.905098611000064, 'gamma': 0.24397832879299242}. Best is trial 23 with value: 0.7545681634904176.\n",
      "[I 2024-03-26 14:57:50,554] Trial 33 finished with value: 0.7545890228980104 and parameters: {'eta': 0.010450333587999197, 'max_depth': 4, 'min_child_weight': 10, 'subsample': 0.6166931085103526, 'colsample_bytree': 0.8549861555737678, 'gamma': 0.12590968470967545}. Best is trial 33 with value: 0.7545890228980104.\n",
      "[I 2024-03-26 14:57:56,533] Trial 34 finished with value: 0.7459117790965568 and parameters: {'eta': 0.03668926632325101, 'max_depth': 4, 'min_child_weight': 10, 'subsample': 0.6264253317771333, 'colsample_bytree': 0.9535991431973638, 'gamma': 0.07814455372760487}. Best is trial 33 with value: 0.7545890228980104.\n",
      "[I 2024-03-26 14:58:07,939] Trial 35 finished with value: 0.6752739248007098 and parameters: {'eta': 0.03010825194015429, 'max_depth': 10, 'min_child_weight': 10, 'subsample': 0.706945903409996, 'colsample_bytree': 0.8037002317899555, 'gamma': 0.006485757804786968}. Best is trial 33 with value: 0.7545890228980104.\n",
      "[I 2024-03-26 14:58:15,574] Trial 36 finished with value: 0.6006314389701942 and parameters: {'eta': 0.0886551710502807, 'max_depth': 7, 'min_child_weight': 9, 'subsample': 0.7589441901353521, 'colsample_bytree': 0.7682105535069585, 'gamma': 0.13002292834894588}. Best is trial 33 with value: 0.7545890228980104.\n",
      "[I 2024-03-26 14:58:21,410] Trial 37 finished with value: 0.7471320419318364 and parameters: {'eta': 0.032224315492879185, 'max_depth': 4, 'min_child_weight': 10, 'subsample': 0.6611367557062798, 'colsample_bytree': 0.8450194352488909, 'gamma': 0.04015627280849959}. Best is trial 33 with value: 0.7545890228980104.\n",
      "[I 2024-03-26 14:58:28,567] Trial 38 finished with value: 0.5868960542337202 and parameters: {'eta': 0.11383838272938025, 'max_depth': 6, 'min_child_weight': 9, 'subsample': 0.8720265218207627, 'colsample_bytree': 0.9536250433707295, 'gamma': 0.16099710544772222}. Best is trial 33 with value: 0.7545890228980104.\n",
      "[I 2024-03-26 14:58:35,250] Trial 39 finished with value: 0.6977804658136206 and parameters: {'eta': 0.05827629609050011, 'max_depth': 5, 'min_child_weight': 5, 'subsample': 0.5349870120699542, 'colsample_bytree': 0.9044532222525752, 'gamma': 0.08069166189911933}. Best is trial 33 with value: 0.7545890228980104.\n",
      "[I 2024-03-26 14:58:41,088] Trial 40 finished with value: 0.7466523533299314 and parameters: {'eta': 0.03202803674706517, 'max_depth': 4, 'min_child_weight': 10, 'subsample': 0.5958494399667204, 'colsample_bytree': 0.6509003345198106, 'gamma': 0.12487770113966848}. Best is trial 33 with value: 0.7545890228980104.\n",
      "[I 2024-03-26 14:58:46,569] Trial 41 finished with value: 0.7538068087099105 and parameters: {'eta': 0.01330247576264281, 'max_depth': 3, 'min_child_weight': 8, 'subsample': 0.628234489557894, 'colsample_bytree': 0.8629438150172388, 'gamma': 0.2764806307084543}. Best is trial 33 with value: 0.7545890228980104.\n",
      "[I 2024-03-26 14:58:52,007] Trial 42 finished with value: 0.7532749487466832 and parameters: {'eta': 0.024704754129382687, 'max_depth': 3, 'min_child_weight': 8, 'subsample': 0.558531986539105, 'colsample_bytree': 0.9018050274836853, 'gamma': 0.22641495046060017}. Best is trial 33 with value: 0.7545890228980104.\n",
      "[I 2024-03-26 14:58:57,457] Trial 43 finished with value: 0.7541092646813541 and parameters: {'eta': 0.012067843239275415, 'max_depth': 3, 'min_child_weight': 7, 'subsample': 0.5838052131137033, 'colsample_bytree': 0.8481305332542827, 'gamma': 0.19157226776453873}. Best is trial 33 with value: 0.7545890228980104.\n",
      "[I 2024-03-26 14:59:03,419] Trial 44 finished with value: 0.7468191926955677 and parameters: {'eta': 0.03556655329511019, 'max_depth': 4, 'min_child_weight': 6, 'subsample': 0.6114291171799845, 'colsample_bytree': 0.8160396385041958, 'gamma': 0.3608473652017753}. Best is trial 33 with value: 0.7545890228980104.\n",
      "[I 2024-03-26 14:59:09,147] Trial 45 finished with value: 0.7539945422905154 and parameters: {'eta': 0.012009152801294769, 'max_depth': 3, 'min_child_weight': 9, 'subsample': 0.52862542208127, 'colsample_bytree': 0.885346421761912, 'gamma': 0.2904151801209733}. Best is trial 33 with value: 0.7545890228980104.\n",
      "[I 2024-03-26 14:59:14,556] Trial 46 finished with value: 0.7391954931018416 and parameters: {'eta': 0.06305706217284456, 'max_depth': 3, 'min_child_weight': 7, 'subsample': 0.502425503586405, 'colsample_bytree': 0.8757132628797828, 'gamma': 0.14621661864084895}. Best is trial 33 with value: 0.7545890228980104.\n",
      "[I 2024-03-26 14:59:20,388] Trial 47 finished with value: 0.6985940849564067 and parameters: {'eta': 0.07782107853563563, 'max_depth': 4, 'min_child_weight': 8, 'subsample': 0.672756148800437, 'colsample_bytree': 0.9369132963383403, 'gamma': 0.10473412691721001}. Best is trial 33 with value: 0.7545890228980104.\n",
      "[I 2024-03-26 14:59:26,659] Trial 48 finished with value: 0.5524579027089906 and parameters: {'eta': 0.19885780207220788, 'max_depth': 5, 'min_child_weight': 5, 'subsample': 0.707665395595369, 'colsample_bytree': 0.7813120703184085, 'gamma': 0.24087868078106375}. Best is trial 33 with value: 0.7545890228980104.\n",
      "[I 2024-03-26 14:59:33,804] Trial 49 finished with value: 0.5939256832943458 and parameters: {'eta': 0.1432910395741634, 'max_depth': 6, 'min_child_weight': 9, 'subsample': 0.6402609387907833, 'colsample_bytree': 0.5161119218547159, 'gamma': 0.1746825027058369}. Best is trial 33 with value: 0.7545890228980104.\n",
      "[I 2024-03-26 14:59:39,241] Trial 50 finished with value: 0.7534939611052378 and parameters: {'eta': 0.023297018753740545, 'max_depth': 3, 'min_child_weight': 7, 'subsample': 0.596296506168434, 'colsample_bytree': 0.933069137770142, 'gamma': 0.19701868252670868}. Best is trial 33 with value: 0.7545890228980104.\n",
      "[I 2024-03-26 14:59:44,662] Trial 51 finished with value: 0.7541092630497583 and parameters: {'eta': 0.01194885821805082, 'max_depth': 3, 'min_child_weight': 7, 'subsample': 0.5735231066714046, 'colsample_bytree': 0.8493769274085841, 'gamma': 0.17828666114038355}. Best is trial 33 with value: 0.7545890228980104.\n",
      "[I 2024-03-26 14:59:50,005] Trial 52 finished with value: 0.7491866930358643 and parameters: {'eta': 0.04049229412575932, 'max_depth': 3, 'min_child_weight': 6, 'subsample': 0.618868060975589, 'colsample_bytree': 0.82882075285201, 'gamma': 0.30566383191801205}. Best is trial 33 with value: 0.7545890228980104.\n"
     ]
    },
    {
     "name": "stderr",
     "output_type": "stream",
     "text": [
      "[I 2024-03-26 14:59:55,965] Trial 53 finished with value: 0.7525240323718166 and parameters: {'eta': 0.024725126145526004, 'max_depth': 4, 'min_child_weight': 8, 'subsample': 0.5870812112403372, 'colsample_bytree': 0.8621290192231785, 'gamma': 0.2043139414330401}. Best is trial 33 with value: 0.7545890228980104.\n",
      "[I 2024-03-26 15:00:01,585] Trial 54 finished with value: 0.7458180613253312 and parameters: {'eta': 0.05481045351889616, 'max_depth': 3, 'min_child_weight': 4, 'subsample': 0.5602055459978356, 'colsample_bytree': 0.9717721657505214, 'gamma': 0.15211488773886506}. Best is trial 33 with value: 0.7545890228980104.\n",
      "[I 2024-03-26 15:00:07,663] Trial 55 finished with value: 0.7530663454250458 and parameters: {'eta': 0.023257363374129945, 'max_depth': 4, 'min_child_weight': 3, 'subsample': 0.9983743656537758, 'colsample_bytree': 0.8971528261304909, 'gamma': 0.2696427804295516}. Best is trial 33 with value: 0.7545890228980104.\n",
      "[I 2024-03-26 15:00:13,500] Trial 56 finished with value: 0.7487903615722744 and parameters: {'eta': 0.04439075529808116, 'max_depth': 3, 'min_child_weight': 7, 'subsample': 0.6055511316770184, 'colsample_bytree': 0.8419635885943068, 'gamma': 0.2368931847996457}. Best is trial 33 with value: 0.7545890228980104.\n",
      "[I 2024-03-26 15:00:19,543] Trial 57 finished with value: 0.5681964464758609 and parameters: {'eta': 0.29331137518178346, 'max_depth': 4, 'min_child_weight': 8, 'subsample': 0.5221948661946593, 'colsample_bytree': 0.9199507890279492, 'gamma': 0.26055346539252966}. Best is trial 33 with value: 0.7545890228980104.\n",
      "[I 2024-03-26 15:00:25,130] Trial 58 finished with value: 0.753879813373294 and parameters: {'eta': 0.01190285314494722, 'max_depth': 3, 'min_child_weight': 6, 'subsample': 0.6500833168727351, 'colsample_bytree': 0.875574436336921, 'gamma': 0.11496308553170553}. Best is trial 33 with value: 0.7545890228980104.\n",
      "[I 2024-03-26 15:00:30,589] Trial 59 finished with value: 0.7543282928120008 and parameters: {'eta': 0.021634441475306798, 'max_depth': 3, 'min_child_weight': 8, 'subsample': 0.5680530081542704, 'colsample_bytree': 0.7123623095076692, 'gamma': 0.08556762359172328}. Best is trial 33 with value: 0.7545890228980104.\n",
      "[I 2024-03-26 15:00:37,169] Trial 60 finished with value: 0.7481228708627436 and parameters: {'eta': 0.02339038115966778, 'max_depth': 5, 'min_child_weight': 9, 'subsample': 0.5487136363796625, 'colsample_bytree': 0.7019767200467567, 'gamma': 0.0400097662351227}. Best is trial 33 with value: 0.7545890228980104.\n",
      "[I 2024-03-26 15:00:42,821] Trial 61 finished with value: 0.7542344216707763 and parameters: {'eta': 0.019618835570100968, 'max_depth': 3, 'min_child_weight': 7, 'subsample': 0.5755301488479055, 'colsample_bytree': 0.6379481261230544, 'gamma': 0.08068195717883579}. Best is trial 33 with value: 0.7545890228980104.\n",
      "[I 2024-03-26 15:00:48,344] Trial 62 finished with value: 0.7486443631228125 and parameters: {'eta': 0.04079503559584097, 'max_depth': 3, 'min_child_weight': 8, 'subsample': 0.571818530477585, 'colsample_bytree': 0.6191577878885277, 'gamma': 0.07975805804629685}. Best is trial 33 with value: 0.7545890228980104.\n",
      "[I 2024-03-26 15:00:54,220] Trial 63 finished with value: 0.7487277746476521 and parameters: {'eta': 0.030450129886037593, 'max_depth': 4, 'min_child_weight': 10, 'subsample': 0.5229533437939937, 'colsample_bytree': 0.6405437061270882, 'gamma': 0.06652984997478756}. Best is trial 33 with value: 0.7545890228980104.\n",
      "[I 2024-03-26 15:00:59,820] Trial 64 finished with value: 0.7534522183599813 and parameters: {'eta': 0.020768530319526204, 'max_depth': 3, 'min_child_weight': 7, 'subsample': 0.5672250843954297, 'colsample_bytree': 0.59154781228798, 'gamma': 0.09749137212579542}. Best is trial 33 with value: 0.7545890228980104.\n",
      "[I 2024-03-26 15:01:08,360] Trial 65 finished with value: 0.6501287519386894 and parameters: {'eta': 0.04603429156517408, 'max_depth': 8, 'min_child_weight': 8, 'subsample': 0.6174301221468307, 'colsample_bytree': 0.702995561229627, 'gamma': 0.052368504093301876}. Best is trial 33 with value: 0.7545890228980104.\n",
      "[I 2024-03-26 15:01:14,224] Trial 66 finished with value: 0.7474762923157345 and parameters: {'eta': 0.033532161066148924, 'max_depth': 4, 'min_child_weight': 9, 'subsample': 0.5436233916718629, 'colsample_bytree': 0.732179090923944, 'gamma': 0.02012149260194905}. Best is trial 33 with value: 0.7545890228980104.\n",
      "[I 2024-03-26 15:01:19,665] Trial 67 finished with value: 0.7521589715281977 and parameters: {'eta': 0.05235234062824415, 'max_depth': 3, 'min_child_weight': 1, 'subsample': 0.5915579366171255, 'colsample_bytree': 0.5527444070116947, 'gamma': 0.14067236624768512}. Best is trial 33 with value: 0.7545890228980104.\n",
      "[I 2024-03-26 15:01:28,928] Trial 68 finished with value: 0.6060752929437683 and parameters: {'eta': 0.06721252233544106, 'max_depth': 9, 'min_child_weight': 10, 'subsample': 0.6897631146970172, 'colsample_bytree': 0.6847675411388443, 'gamma': 0.11978932974169776}. Best is trial 33 with value: 0.7545890228980104.\n",
      "[I 2024-03-26 15:01:34,252] Trial 69 finished with value: 0.7534313589523884 and parameters: {'eta': 0.019193447146348096, 'max_depth': 3, 'min_child_weight': 7, 'subsample': 0.6364793440033808, 'colsample_bytree': 0.6056464582430198, 'gamma': 0.09485759576333198}. Best is trial 33 with value: 0.7545890228980104.\n",
      "[I 2024-03-26 15:01:40,010] Trial 70 finished with value: 0.6978745322024678 and parameters: {'eta': 0.07799585986974636, 'max_depth': 4, 'min_child_weight': 8, 'subsample': 0.7447749039734295, 'colsample_bytree': 0.6539176129926805, 'gamma': 0.023237155478269246}. Best is trial 33 with value: 0.7545890228980104.\n",
      "[I 2024-03-26 15:01:45,335] Trial 71 finished with value: 0.7542239908792494 and parameters: {'eta': 0.012004872096510796, 'max_depth': 3, 'min_child_weight': 7, 'subsample': 0.5927798449735676, 'colsample_bytree': 0.8118592884101237, 'gamma': 0.16770386669306647}. Best is trial 33 with value: 0.7545890228980104.\n",
      "[I 2024-03-26 15:01:50,759] Trial 72 finished with value: 0.7544534443627704 and parameters: {'eta': 0.010172448436448715, 'max_depth': 3, 'min_child_weight': 6, 'subsample': 0.5561977845302604, 'colsample_bytree': 0.8082246096711163, 'gamma': 0.16471390675903863}. Best is trial 33 with value: 0.7545890228980104.\n",
      "[I 2024-03-26 15:01:56,488] Trial 73 finished with value: 0.7544847416321383 and parameters: {'eta': 0.010305028116883747, 'max_depth': 3, 'min_child_weight': 6, 'subsample': 0.6060501241369651, 'colsample_bytree': 0.7655680588656641, 'gamma': 0.17412770249019932}. Best is trial 33 with value: 0.7545890228980104.\n",
      "[I 2024-03-26 15:02:02,382] Trial 74 finished with value: 0.7525761792592028 and parameters: {'eta': 0.028978312298265252, 'max_depth': 3, 'min_child_weight': 6, 'subsample': 0.5542959071724466, 'colsample_bytree': 0.7578953710063298, 'gamma': 0.15428666010855513}. Best is trial 33 with value: 0.7545890228980104.\n",
      "[I 2024-03-26 15:02:07,973] Trial 75 finished with value: 0.6434240491859545 and parameters: {'eta': 0.17422861051985844, 'max_depth': 3, 'min_child_weight': 5, 'subsample': 0.6605255639652999, 'colsample_bytree': 0.720727254774187, 'gamma': 0.20872218789781602}. Best is trial 33 with value: 0.7545890228980104.\n",
      "[I 2024-03-26 15:02:14,048] Trial 76 finished with value: 0.7407284191714761 and parameters: {'eta': 0.0397158058529444, 'max_depth': 4, 'min_child_weight': 6, 'subsample': 0.8352226393096349, 'colsample_bytree': 0.789894746349591, 'gamma': 0.09071628871672249}. Best is trial 33 with value: 0.7545890228980104.\n",
      "[I 2024-03-26 15:02:19,494] Trial 77 finished with value: 0.7540049730820424 and parameters: {'eta': 0.02023835048572046, 'max_depth': 3, 'min_child_weight': 5, 'subsample': 0.6059316607999162, 'colsample_bytree': 0.7732693503982723, 'gamma': 0.18225142317032939}. Best is trial 33 with value: 0.7545890228980104.\n",
      "[I 2024-03-26 15:02:25,608] Trial 78 finished with value: 0.754630746064118 and parameters: {'eta': 0.018857553718491266, 'max_depth': 4, 'min_child_weight': 6, 'subsample': 0.6281522627528119, 'colsample_bytree': 0.8296925521562443, 'gamma': 0.07005160719406428}. Best is trial 78 with value: 0.754630746064118.\n",
      "[I 2024-03-26 15:02:34,756] Trial 79 finished with value: 0.740300794245575 and parameters: {'eta': 0.030290133708520295, 'max_depth': 5, 'min_child_weight': 6, 'subsample': 0.6261087508964011, 'colsample_bytree': 0.7397314308300604, 'gamma': 0.06118738836658064}. Best is trial 78 with value: 0.754630746064118.\n"
     ]
    },
    {
     "name": "stderr",
     "output_type": "stream",
     "text": [
      "[I 2024-03-26 15:02:41,301] Trial 80 finished with value: 0.7547350409266211 and parameters: {'eta': 0.01644650366707363, 'max_depth': 4, 'min_child_weight': 5, 'subsample': 0.5772903337569874, 'colsample_bytree': 0.800224200614483, 'gamma': 0.13262580813056973}. Best is trial 80 with value: 0.7547350409266211.\n",
      "[I 2024-03-26 15:02:47,423] Trial 81 finished with value: 0.7515436799171167 and parameters: {'eta': 0.02618840559576475, 'max_depth': 4, 'min_child_weight': 5, 'subsample': 0.5792815099042711, 'colsample_bytree': 0.8025365861757141, 'gamma': 0.1283651607432445}. Best is trial 80 with value: 0.7547350409266211.\n",
      "[I 2024-03-26 15:02:53,598] Trial 82 finished with value: 0.7545681716483962 and parameters: {'eta': 0.01817909629939881, 'max_depth': 4, 'min_child_weight': 6, 'subsample': 0.5391180332996128, 'colsample_bytree': 0.8245141107045635, 'gamma': 0.13346032212390915}. Best is trial 80 with value: 0.7547350409266211.\n",
      "[I 2024-03-26 15:03:00,168] Trial 83 finished with value: 0.7507093008940775 and parameters: {'eta': 0.017459261691443424, 'max_depth': 5, 'min_child_weight': 5, 'subsample': 0.5373088836335405, 'colsample_bytree': 0.8252617600441766, 'gamma': 0.136387024244904}. Best is trial 80 with value: 0.7547350409266211.\n",
      "[I 2024-03-26 15:03:06,030] Trial 84 finished with value: 0.7455155237741011 and parameters: {'eta': 0.03523990906898246, 'max_depth': 4, 'min_child_weight': 6, 'subsample': 0.5099597687429803, 'colsample_bytree': 0.7641266728874938, 'gamma': 0.1628169079840232}. Best is trial 80 with value: 0.7547350409266211.\n",
      "[I 2024-03-26 15:03:12,014] Trial 85 finished with value: 0.7547037463765793 and parameters: {'eta': 0.010420480746904881, 'max_depth': 4, 'min_child_weight': 6, 'subsample': 0.556663434154558, 'colsample_bytree': 0.781149976492972, 'gamma': 0.1147729292212796}. Best is trial 80 with value: 0.7547350409266211.\n",
      "[I 2024-03-26 15:03:18,355] Trial 86 finished with value: 0.7157709929428264 and parameters: {'eta': 0.04726463442563518, 'max_depth': 5, 'min_child_weight': 6, 'subsample': 0.5529665281977242, 'colsample_bytree': 0.7818470367532545, 'gamma': 0.11609045583585359}. Best is trial 80 with value: 0.7547350409266211.\n",
      "[I 2024-03-26 15:03:24,237] Trial 87 finished with value: 0.7546724621599774 and parameters: {'eta': 0.01811568311042333, 'max_depth': 4, 'min_child_weight': 5, 'subsample': 0.5234117888311044, 'colsample_bytree': 0.8023043483048202, 'gamma': 0.13977080260198663}. Best is trial 80 with value: 0.7547350409266211.\n",
      "[I 2024-03-26 15:03:30,240] Trial 88 finished with value: 0.7215696977777818 and parameters: {'eta': 0.059200891943896675, 'max_depth': 4, 'min_child_weight': 4, 'subsample': 0.5217681640629416, 'colsample_bytree': 0.8086571706696067, 'gamma': 0.10992222184776032}. Best is trial 80 with value: 0.7547350409266211.\n",
      "[I 2024-03-26 15:03:37,128] Trial 89 finished with value: 0.7509387456757547 and parameters: {'eta': 0.017294081342471592, 'max_depth': 5, 'min_child_weight': 5, 'subsample': 0.5340188305384579, 'colsample_bytree': 0.8249771676392398, 'gamma': 0.14477334449076526}. Best is trial 80 with value: 0.7547350409266211.\n",
      "[I 2024-03-26 15:03:43,127] Trial 90 finished with value: 0.750438211262888 and parameters: {'eta': 0.02837504601678834, 'max_depth': 4, 'min_child_weight': 4, 'subsample': 0.6040031846794546, 'colsample_bytree': 0.7458992322561024, 'gamma': 0.12757047783810577}. Best is trial 80 with value: 0.7547350409266211.\n",
      "[I 2024-03-26 15:03:49,088] Trial 91 finished with value: 0.7448793526324133 and parameters: {'eta': 0.03678444582613255, 'max_depth': 4, 'min_child_weight': 6, 'subsample': 0.5625002924796321, 'colsample_bytree': 0.7953057238272571, 'gamma': 0.1019943081180939}. Best is trial 80 with value: 0.7547350409266211.\n",
      "[I 2024-03-26 15:03:55,213] Trial 92 finished with value: 0.7546828880567171 and parameters: {'eta': 0.010401617273475952, 'max_depth': 4, 'min_child_weight': 5, 'subsample': 0.5152185616881837, 'colsample_bytree': 0.7759027601777762, 'gamma': 0.15811983159474408}. Best is trial 80 with value: 0.7547350409266211.\n",
      "[I 2024-03-26 15:04:01,261] Trial 93 finished with value: 0.7542031477876139 and parameters: {'eta': 0.018452143140468683, 'max_depth': 4, 'min_child_weight': 5, 'subsample': 0.508978718122998, 'colsample_bytree': 0.8315194331630053, 'gamma': 0.15852918542131322}. Best is trial 80 with value: 0.7547350409266211.\n",
      "[I 2024-03-26 15:04:07,365] Trial 94 finished with value: 0.7547871829192203 and parameters: {'eta': 0.010509840674012894, 'max_depth': 4, 'min_child_weight': 5, 'subsample': 0.5439302629281461, 'colsample_bytree': 0.7721990218113397, 'gamma': 0.14147357483816264}. Best is trial 94 with value: 0.7547871829192203.\n",
      "[I 2024-03-26 15:04:14,152] Trial 95 finished with value: 0.740978707588654 and parameters: {'eta': 0.02732689374200073, 'max_depth': 5, 'min_child_weight': 5, 'subsample': 0.5178849489549897, 'colsample_bytree': 0.7874280973584107, 'gamma': 0.13810983017033612}. Best is trial 94 with value: 0.7547871829192203.\n",
      "[I 2024-03-26 15:04:20,407] Trial 96 finished with value: 0.7458179824648709 and parameters: {'eta': 0.03752503014477428, 'max_depth': 4, 'min_child_weight': 4, 'subsample': 0.5428861857819323, 'colsample_bytree': 0.8491020414886221, 'gamma': 0.07131155412321566}. Best is trial 94 with value: 0.7547871829192203.\n",
      "[I 2024-03-26 15:04:26,487] Trial 97 finished with value: 0.7547037485520404 and parameters: {'eta': 0.016786097071460383, 'max_depth': 4, 'min_child_weight': 5, 'subsample': 0.5029546688224564, 'colsample_bytree': 0.7720319208574437, 'gamma': 0.1477009660193772}. Best is trial 94 with value: 0.7547871829192203.\n",
      "[I 2024-03-26 15:04:32,528] Trial 98 finished with value: 0.7547767553908848 and parameters: {'eta': 0.017421223281154648, 'max_depth': 4, 'min_child_weight': 3, 'subsample': 0.5301694188109767, 'colsample_bytree': 0.7762206216767712, 'gamma': 0.12009583462857634}. Best is trial 94 with value: 0.7547871829192203.\n",
      "[I 2024-03-26 15:04:38,633] Trial 99 finished with value: 0.7548393308943371 and parameters: {'eta': 0.015917211677221946, 'max_depth': 4, 'min_child_weight': 2, 'subsample': 0.5307387784596617, 'colsample_bytree': 0.7769959452920684, 'gamma': 0.10893608811175144}. Best is trial 99 with value: 0.7548393308943371.\n"
     ]
    }
   ],
   "source": [
    "study = optuna.create_study(direction='maximize')\n",
    "study.optimize(objective, n_trials=100)"
   ]
  },
  {
   "cell_type": "code",
   "execution_count": 148,
   "metadata": {},
   "outputs": [
    {
     "name": "stdout",
     "output_type": "stream",
     "text": [
      "Train Accuracy: 0.8875316142153156\n",
      "Test Accuracy: 0.8890858841320332\n",
      "\n",
      "Train Confusion Matrix:\n",
      "[[67679    12]\n",
      " [ 8615   400]]\n",
      "\n",
      "Test Confusion Matrix:\n",
      "[[16977     6]\n",
      " [ 2121    73]]\n",
      "\n",
      "Train Classification Report:\n",
      "              precision    recall  f1-score   support\n",
      "\n",
      "           0       0.89      1.00      0.94     67691\n",
      "           1       0.97      0.04      0.08      9015\n",
      "\n",
      "    accuracy                           0.89     76706\n",
      "   macro avg       0.93      0.52      0.51     76706\n",
      "weighted avg       0.90      0.89      0.84     76706\n",
      "\n",
      "\n",
      "Test Classification Report:\n",
      "              precision    recall  f1-score   support\n",
      "\n",
      "           0       0.89      1.00      0.94     16983\n",
      "           1       0.92      0.03      0.06      2194\n",
      "\n",
      "    accuracy                           0.89     19177\n",
      "   macro avg       0.91      0.52      0.50     19177\n",
      "weighted avg       0.89      0.89      0.84     19177\n",
      "\n"
     ]
    }
   ],
   "source": [
    "from sklearn.metrics import classification_report, confusion_matrix\n",
    "\n",
    "# Use the best hyperparameters found by Optuna\n",
    "best_params = study.best_params\n",
    "model = XGBClassifier(**best_params)\n",
    "\n",
    "# Fit the model on the training data\n",
    "model.fit(X_train, y_train)\n",
    "\n",
    "# Predict on the training and test sets\n",
    "y_train_pred = model.predict(X_train)\n",
    "y_test_pred = model.predict(X_test)\n",
    "\n",
    "# Calculate accuracies\n",
    "train_accuracy = accuracy_score(y_train, y_train_pred)\n",
    "test_accuracy = accuracy_score(y_test, y_test_pred)\n",
    "\n",
    "# Generate confusion matrices\n",
    "train_conf_matrix = confusion_matrix(y_train, y_train_pred)\n",
    "test_conf_matrix = confusion_matrix(y_test, y_test_pred)\n",
    "\n",
    "# Generate classification reports\n",
    "train_classification_report = classification_report(y_train, y_train_pred)\n",
    "test_classification_report = classification_report(y_test, y_test_pred)\n",
    "\n",
    "# Print the results\n",
    "print(\"Train Accuracy:\", train_accuracy)\n",
    "print(\"Test Accuracy:\", test_accuracy)\n",
    "\n",
    "print(\"\\nTrain Confusion Matrix:\")\n",
    "print(train_conf_matrix)\n",
    "\n",
    "print(\"\\nTest Confusion Matrix:\")\n",
    "print(test_conf_matrix)\n",
    "\n",
    "print(\"\\nTrain Classification Report:\")\n",
    "print(train_classification_report)\n",
    "\n",
    "print(\"\\nTest Classification Report:\")\n",
    "print(test_classification_report)\n"
   ]
  },
  {
   "cell_type": "markdown",
   "metadata": {},
   "source": [
    "### Smote for initial 2 class classification"
   ]
  },
  {
   "cell_type": "code",
   "execution_count": 149,
   "metadata": {},
   "outputs": [],
   "source": [
    "from imblearn.over_sampling import SMOTE\n",
    "from sklearn.model_selection import train_test_split\n",
    "import pandas as pd\n",
    "\n",
    "# Assuming weather_hist is your DataFrame containing the data\n",
    "# Separate features and target variable\n",
    "X = fsCls.drop(['Summary'], axis=1)\n",
    "y = fsCls['Summary']\n",
    "\n",
    "# Apply SMOTE\n",
    "smote = SMOTE(random_state=42)\n",
    "X_smote, y_smote = smote.fit_resample(X, y)\n",
    "\n",
    "\n"
   ]
  },
  {
   "cell_type": "code",
   "execution_count": 150,
   "metadata": {},
   "outputs": [],
   "source": [
    "X_train, X_test, y_train, y_test = train_test_split(X_smote, y_smote, test_size=0.2, random_state=42)\n",
    "\n",
    "\n",
    "def objective(trial):\n",
    "    param = {\n",
    "        'objective': 'multi:softmax',\n",
    "        'num_class': 2,\n",
    "        'eval_metric': 'mlogloss',\n",
    "        'eta': trial.suggest_float('eta', 0.01, 0.3),\n",
    "        'max_depth': trial.suggest_int('max_depth', 3, 10),\n",
    "        'min_child_weight': trial.suggest_int('min_child_weight', 1, 10),\n",
    "        'subsample': trial.suggest_float('subsample', 0.5, 1.0),\n",
    "        'colsample_bytree': trial.suggest_float('colsample_bytree', 0.5, 1.0),\n",
    "        'gamma': trial.suggest_float('gamma', 0, 0.5),\n",
    "        'verbosity': 0\n",
    "    }\n",
    "\n",
    "    model = XGBClassifier(**param)\n",
    "    scores = cross_val_score(model, X, y, cv=5)\n",
    "    accuracy = scores.mean()\n",
    "    return accuracy"
   ]
  },
  {
   "cell_type": "code",
   "execution_count": 151,
   "metadata": {},
   "outputs": [
    {
     "name": "stderr",
     "output_type": "stream",
     "text": [
      "[I 2024-03-26 15:07:04,542] A new study created in memory with name: no-name-7960650c-61a4-4887-86a0-f41ef07c4878\n",
      "[I 2024-03-26 15:07:11,624] Trial 0 finished with value: 0.5699484033954682 and parameters: {'eta': 0.13427597583651862, 'max_depth': 10, 'min_child_weight': 9, 'subsample': 0.675055574870949, 'colsample_bytree': 0.7034636565194268, 'gamma': 0.1356164563738983}. Best is trial 0 with value: 0.5699484033954682.\n",
      "[I 2024-03-26 15:07:16,187] Trial 1 finished with value: 0.7478828653057461 and parameters: {'eta': 0.01790738951965859, 'max_depth': 5, 'min_child_weight': 8, 'subsample': 0.6960091042288579, 'colsample_bytree': 0.9948186878303231, 'gamma': 0.036219297161478925}. Best is trial 1 with value: 0.7478828653057461.\n",
      "[I 2024-03-26 15:07:20,151] Trial 2 finished with value: 0.6251834762034699 and parameters: {'eta': 0.21966860038668456, 'max_depth': 3, 'min_child_weight': 10, 'subsample': 0.8485529176481765, 'colsample_bytree': 0.5658945926395131, 'gamma': 0.305323946500356}. Best is trial 1 with value: 0.7478828653057461.\n",
      "[I 2024-03-26 15:07:30,842] Trial 3 finished with value: 0.5809402033433834 and parameters: {'eta': 0.08965244201789854, 'max_depth': 10, 'min_child_weight': 2, 'subsample': 0.9276634408127198, 'colsample_bytree': 0.8020847348511351, 'gamma': 0.22896911138601067}. Best is trial 1 with value: 0.7478828653057461.\n",
      "[I 2024-03-26 15:07:40,070] Trial 4 finished with value: 0.7094921910631671 and parameters: {'eta': 0.023037027869506982, 'max_depth': 8, 'min_child_weight': 2, 'subsample': 0.772086272264584, 'colsample_bytree': 0.9454180442171994, 'gamma': 0.0825545229787163}. Best is trial 1 with value: 0.7478828653057461.\n",
      "[I 2024-03-26 15:07:45,856] Trial 5 finished with value: 0.5719503485186384 and parameters: {'eta': 0.2776897717696267, 'max_depth': 4, 'min_child_weight': 2, 'subsample': 0.6654675467489009, 'colsample_bytree': 0.9314692878482471, 'gamma': 0.2331900669759372}. Best is trial 1 with value: 0.7478828653057461.\n",
      "[I 2024-03-26 15:07:53,933] Trial 6 finished with value: 0.5906817876215357 and parameters: {'eta': 0.15004204345310532, 'max_depth': 5, 'min_child_weight': 3, 'subsample': 0.6735409894948846, 'colsample_bytree': 0.5672128652817297, 'gamma': 0.15376094361489373}. Best is trial 1 with value: 0.7478828653057461.\n",
      "[I 2024-03-26 15:08:08,321] Trial 7 finished with value: 0.5670489082133637 and parameters: {'eta': 0.105138611337636, 'max_depth': 10, 'min_child_weight': 4, 'subsample': 0.7908402230558147, 'colsample_bytree': 0.5671330287275684, 'gamma': 0.4419858317889244}. Best is trial 1 with value: 0.7478828653057461.\n",
      "[I 2024-03-26 15:08:16,131] Trial 8 finished with value: 0.7397168173075499 and parameters: {'eta': 0.013452154456720058, 'max_depth': 7, 'min_child_weight': 10, 'subsample': 0.5711549437462478, 'colsample_bytree': 0.6616058095495198, 'gamma': 0.1656999926506117}. Best is trial 1 with value: 0.7478828653057461.\n",
      "[I 2024-03-26 15:08:24,475] Trial 9 finished with value: 0.592777921503233 and parameters: {'eta': 0.08034699530286968, 'max_depth': 8, 'min_child_weight': 7, 'subsample': 0.8677608898191417, 'colsample_bytree': 0.7622486406974143, 'gamma': 0.3482673192548386}. Best is trial 1 with value: 0.7478828653057461.\n",
      "[I 2024-03-26 15:08:31,101] Trial 10 finished with value: 0.5797103994801172 and parameters: {'eta': 0.2089026578507104, 'max_depth': 5, 'min_child_weight': 7, 'subsample': 0.5071458689324226, 'colsample_bytree': 0.8647115184641119, 'gamma': 0.002479254202783769}. Best is trial 1 with value: 0.7478828653057461.\n",
      "[I 2024-03-26 15:08:38,877] Trial 11 finished with value: 0.7330419080367816 and parameters: {'eta': 0.016736379170206934, 'max_depth': 7, 'min_child_weight': 8, 'subsample': 0.5309242918101436, 'colsample_bytree': 0.7040079741911006, 'gamma': 0.0035105033561587673}. Best is trial 1 with value: 0.7478828653057461.\n",
      "[I 2024-03-26 15:08:46,033] Trial 12 finished with value: 0.6843997356031746 and parameters: {'eta': 0.05231502602530169, 'max_depth': 6, 'min_child_weight': 10, 'subsample': 0.6011786515862372, 'colsample_bytree': 0.9993295381322527, 'gamma': 0.09727845934707607}. Best is trial 1 with value: 0.7478828653057461.\n",
      "[I 2024-03-26 15:08:53,601] Trial 13 finished with value: 0.646144725826544 and parameters: {'eta': 0.05127515299037164, 'max_depth': 7, 'min_child_weight': 6, 'subsample': 0.5921393412365532, 'colsample_bytree': 0.6474069979944469, 'gamma': 0.1747758516404651}. Best is trial 1 with value: 0.7478828653057461.\n",
      "[I 2024-03-26 15:09:00,569] Trial 14 finished with value: 0.7408952220981412 and parameters: {'eta': 0.01581113465640736, 'max_depth': 6, 'min_child_weight': 8, 'subsample': 0.5878377560461147, 'colsample_bytree': 0.8402022230918376, 'gamma': 0.0698264864074568}. Best is trial 1 with value: 0.7478828653057461.\n",
      "[I 2024-03-26 15:09:06,813] Trial 15 finished with value: 0.5701254581819948 and parameters: {'eta': 0.1908779762837039, 'max_depth': 5, 'min_child_weight': 5, 'subsample': 0.7054387009894659, 'colsample_bytree': 0.8844081477658827, 'gamma': 0.060264314690718}. Best is trial 1 with value: 0.7478828653057461.\n",
      "[I 2024-03-26 15:09:12,124] Trial 16 finished with value: 0.7376311066032659 and parameters: {'eta': 0.059961830574961295, 'max_depth': 3, 'min_child_weight': 8, 'subsample': 0.9913783213117981, 'colsample_bytree': 0.8272037339674658, 'gamma': 0.04223365822267119}. Best is trial 1 with value: 0.7478828653057461.\n",
      "[I 2024-03-26 15:09:19,038] Trial 17 finished with value: 0.5839548598155788 and parameters: {'eta': 0.12377861858697553, 'max_depth': 6, 'min_child_weight': 6, 'subsample': 0.6248494364519277, 'colsample_bytree': 0.9969271984858401, 'gamma': 0.31201011475399104}. Best is trial 1 with value: 0.7478828653057461.\n",
      "[I 2024-03-26 15:09:24,775] Trial 18 finished with value: 0.5446360300412888 and parameters: {'eta': 0.29045339262864966, 'max_depth': 4, 'min_child_weight': 8, 'subsample': 0.7235673742922704, 'colsample_bytree': 0.9185960984900234, 'gamma': 0.4552322048392643}. Best is trial 1 with value: 0.7478828653057461.\n",
      "[I 2024-03-26 15:09:32,927] Trial 19 finished with value: 0.5647334372855608 and parameters: {'eta': 0.17609920398361928, 'max_depth': 8, 'min_child_weight': 9, 'subsample': 0.6379948209511688, 'colsample_bytree': 0.7933450528352537, 'gamma': 0.11033345598077984}. Best is trial 1 with value: 0.7478828653057461.\n",
      "[I 2024-03-26 15:09:38,754] Trial 20 finished with value: 0.7367861184008996 and parameters: {'eta': 0.04334367366867363, 'max_depth': 4, 'min_child_weight': 5, 'subsample': 0.5452837332182894, 'colsample_bytree': 0.8570045528727751, 'gamma': 0.20384773255149735}. Best is trial 1 with value: 0.7478828653057461.\n",
      "[I 2024-03-26 15:09:45,530] Trial 21 finished with value: 0.747643149628924 and parameters: {'eta': 0.010769683443309785, 'max_depth': 6, 'min_child_weight': 9, 'subsample': 0.5621833473478013, 'colsample_bytree': 0.6824337359424343, 'gamma': 0.03833084352414777}. Best is trial 1 with value: 0.7478828653057461.\n",
      "[I 2024-03-26 15:09:52,336] Trial 22 finished with value: 0.7477161597309598 and parameters: {'eta': 0.01057631455273958, 'max_depth': 6, 'min_child_weight': 9, 'subsample': 0.5504004810580488, 'colsample_bytree': 0.630391664878872, 'gamma': 0.045115465507932884}. Best is trial 1 with value: 0.7478828653057461.\n",
      "[I 2024-03-26 15:09:58,645] Trial 23 finished with value: 0.6647094185647618 and parameters: {'eta': 0.07434280722093072, 'max_depth': 5, 'min_child_weight': 9, 'subsample': 0.5121688735559689, 'colsample_bytree': 0.5005024503772308, 'gamma': 0.03543350734277931}. Best is trial 1 with value: 0.7478828653057461.\n",
      "[I 2024-03-26 15:10:05,475] Trial 24 finished with value: 0.7077091691046513 and parameters: {'eta': 0.03592052028547169, 'max_depth': 6, 'min_child_weight': 7, 'subsample': 0.8048033054404513, 'colsample_bytree': 0.626484508628512, 'gamma': 0.12855217858841222}. Best is trial 1 with value: 0.7478828653057461.\n",
      "[I 2024-03-26 15:10:14,388] Trial 25 finished with value: 0.5913073397943218 and parameters: {'eta': 0.10581800596736007, 'max_depth': 9, 'min_child_weight': 9, 'subsample': 0.5562565782609299, 'colsample_bytree': 0.7078577981165561, 'gamma': 0.027132078606318468}. Best is trial 1 with value: 0.7478828653057461.\n"
     ]
    },
    {
     "name": "stderr",
     "output_type": "stream",
     "text": [
      "[I 2024-03-26 15:10:20,534] Trial 26 finished with value: 0.7346168710827697 and parameters: {'eta': 0.03542026763321199, 'max_depth': 5, 'min_child_weight': 10, 'subsample': 0.6322682453636261, 'colsample_bytree': 0.6023357470981905, 'gamma': 0.09622786896010507}. Best is trial 1 with value: 0.7478828653057461.\n",
      "[I 2024-03-26 15:10:28,033] Trial 27 finished with value: 0.6186008864263831 and parameters: {'eta': 0.06976401668969542, 'max_depth': 7, 'min_child_weight': 7, 'subsample': 0.7110962451652636, 'colsample_bytree': 0.738451047618075, 'gamma': 0.06161214483335806}. Best is trial 1 with value: 0.7478828653057461.\n",
      "[I 2024-03-26 15:10:33,729] Trial 28 finished with value: 0.5922256932427288 and parameters: {'eta': 0.2630628175689419, 'max_depth': 4, 'min_child_weight': 9, 'subsample': 0.5545652832970721, 'colsample_bytree': 0.6717103123533739, 'gamma': 0.39681423459790316}. Best is trial 1 with value: 0.7478828653057461.\n",
      "[I 2024-03-26 15:10:40,577] Trial 29 finished with value: 0.7457971284959305 and parameters: {'eta': 0.010366539070425777, 'max_depth': 6, 'min_child_weight': 8, 'subsample': 0.7560336405774234, 'colsample_bytree': 0.7550700414675205, 'gamma': 0.12981238976899903}. Best is trial 1 with value: 0.7478828653057461.\n",
      "[I 2024-03-26 15:10:46,694] Trial 30 finished with value: 0.6162962514697142 and parameters: {'eta': 0.12898161332655933, 'max_depth': 5, 'min_child_weight': 9, 'subsample': 0.6628342831203072, 'colsample_bytree': 0.607723292323165, 'gamma': 0.2717859284645002}. Best is trial 1 with value: 0.7478828653057461.\n",
      "[I 2024-03-26 15:10:53,548] Trial 31 finished with value: 0.713685212623791 and parameters: {'eta': 0.03304958356107005, 'max_depth': 6, 'min_child_weight': 8, 'subsample': 0.7459911194685225, 'colsample_bytree': 0.7326363832193288, 'gamma': 0.02317638614197268}. Best is trial 1 with value: 0.7478828653057461.\n",
      "[I 2024-03-26 15:11:00,281] Trial 32 finished with value: 0.7506050484530634 and parameters: {'eta': 0.011133131760222145, 'max_depth': 6, 'min_child_weight': 10, 'subsample': 0.8376116448185285, 'colsample_bytree': 0.5032815549490688, 'gamma': 0.1346162895614984}. Best is trial 32 with value: 0.7506050484530634.\n",
      "[I 2024-03-26 15:11:07,647] Trial 33 finished with value: 0.6422235531329912 and parameters: {'eta': 0.05092157559031206, 'max_depth': 7, 'min_child_weight': 10, 'subsample': 0.848168784122453, 'colsample_bytree': 0.5148397489683928, 'gamma': 0.05565395029833086}. Best is trial 32 with value: 0.7506050484530634.\n",
      "[I 2024-03-26 15:11:14,382] Trial 34 finished with value: 0.7215386670023838 and parameters: {'eta': 0.03261034912754106, 'max_depth': 6, 'min_child_weight': 10, 'subsample': 0.9079013159956046, 'colsample_bytree': 0.5260308329620526, 'gamma': 0.20139654620610614}. Best is trial 32 with value: 0.7506050484530634.\n",
      "[I 2024-03-26 15:11:22,181] Trial 35 finished with value: 0.5449074280440719 and parameters: {'eta': 0.2479927110076236, 'max_depth': 8, 'min_child_weight': 9, 'subsample': 0.8480383608090609, 'colsample_bytree': 0.5474152555435686, 'gamma': 0.08734074275964254}. Best is trial 32 with value: 0.7506050484530634.\n",
      "[I 2024-03-26 15:11:27,820] Trial 36 finished with value: 0.6896563791945091 and parameters: {'eta': 0.09583652777188309, 'max_depth': 4, 'min_child_weight': 1, 'subsample': 0.8164388508247529, 'colsample_bytree': 0.5937838987794152, 'gamma': 0.11927498468158139}. Best is trial 32 with value: 0.7506050484530634.\n",
      "[I 2024-03-26 15:11:33,078] Trial 37 finished with value: 0.7525344544614996 and parameters: {'eta': 0.030746436700835593, 'max_depth': 3, 'min_child_weight': 9, 'subsample': 0.8898464495494051, 'colsample_bytree': 0.6345827242775672, 'gamma': 0.15519673374471965}. Best is trial 37 with value: 0.7525344544614996.\n",
      "[I 2024-03-26 15:11:38,357] Trial 38 finished with value: 0.7536503740302691 and parameters: {'eta': 0.028210363747327515, 'max_depth': 3, 'min_child_weight': 10, 'subsample': 0.9366260848367114, 'colsample_bytree': 0.548369227541448, 'gamma': 0.15228866322849646}. Best is trial 38 with value: 0.7536503740302691.\n",
      "[I 2024-03-26 15:11:43,567] Trial 39 finished with value: 0.7320304595428543 and parameters: {'eta': 0.06834511608701307, 'max_depth': 3, 'min_child_weight': 10, 'subsample': 0.9660149939289906, 'colsample_bytree': 0.5389777299975823, 'gamma': 0.1957013503219469}. Best is trial 38 with value: 0.7536503740302691.\n",
      "[I 2024-03-26 15:11:48,794] Trial 40 finished with value: 0.6640424428956178 and parameters: {'eta': 0.15512396974943224, 'max_depth': 3, 'min_child_weight': 10, 'subsample': 0.9136090201568594, 'colsample_bytree': 0.5648305064647516, 'gamma': 0.2647030875851085}. Best is trial 38 with value: 0.7536503740302691.\n",
      "[I 2024-03-26 15:11:54,134] Trial 41 finished with value: 0.7527743273153774 and parameters: {'eta': 0.02917637903202966, 'max_depth': 3, 'min_child_weight': 9, 'subsample': 0.8716468409625089, 'colsample_bytree': 0.6362344341123572, 'gamma': 0.15314002687634548}. Best is trial 38 with value: 0.7536503740302691.\n",
      "[I 2024-03-26 15:11:59,449] Trial 42 finished with value: 0.7535669402069547 and parameters: {'eta': 0.025729836493404913, 'max_depth': 3, 'min_child_weight': 10, 'subsample': 0.890272903923087, 'colsample_bytree': 0.5807960780845637, 'gamma': 0.15204751340946956}. Best is trial 38 with value: 0.7536503740302691.\n",
      "[I 2024-03-26 15:12:05,179] Trial 43 finished with value: 0.7533687861682624 and parameters: {'eta': 0.027331401145818703, 'max_depth': 3, 'min_child_weight': 10, 'subsample': 0.8843261073011295, 'colsample_bytree': 0.5853043054452393, 'gamma': 0.15615279348631778}. Best is trial 38 with value: 0.7536503740302691.\n",
      "[I 2024-03-26 15:12:10,447] Trial 44 finished with value: 0.7528056137074404 and parameters: {'eta': 0.032225639149542046, 'max_depth': 3, 'min_child_weight': 10, 'subsample': 0.8823455237141931, 'colsample_bytree': 0.5928755927620223, 'gamma': 0.16000481383292875}. Best is trial 38 with value: 0.7536503740302691.\n",
      "[I 2024-03-26 15:12:15,675] Trial 45 finished with value: 0.7312796497655756 and parameters: {'eta': 0.08669917046517095, 'max_depth': 3, 'min_child_weight': 10, 'subsample': 0.9622293882991112, 'colsample_bytree': 0.5821442185146269, 'gamma': 0.22014200700257514}. Best is trial 38 with value: 0.7536503740302691.\n",
      "[I 2024-03-26 15:12:21,343] Trial 46 finished with value: 0.721027570182601 and parameters: {'eta': 0.06092939848192851, 'max_depth': 4, 'min_child_weight': 10, 'subsample': 0.878392035867647, 'colsample_bytree': 0.5559609159970851, 'gamma': 0.17173645360309303}. Best is trial 38 with value: 0.7536503740302691.\n",
      "[I 2024-03-26 15:12:26,744] Trial 47 finished with value: 0.7535877990706823 and parameters: {'eta': 0.025374987546508708, 'max_depth': 3, 'min_child_weight': 3, 'subsample': 0.9463798043595747, 'colsample_bytree': 0.5825034287650022, 'gamma': 0.23226040469257286}. Best is trial 38 with value: 0.7536503740302691.\n",
      "[I 2024-03-26 15:12:32,002] Trial 48 finished with value: 0.7484044804793603 and parameters: {'eta': 0.044909965479214047, 'max_depth': 3, 'min_child_weight': 4, 'subsample': 0.9389974875886284, 'colsample_bytree': 0.5795837086636363, 'gamma': 0.2388205126974199}. Best is trial 38 with value: 0.7536503740302691.\n",
      "[I 2024-03-26 15:12:37,660] Trial 49 finished with value: 0.7527534613814016 and parameters: {'eta': 0.02273692670700173, 'max_depth': 4, 'min_child_weight': 3, 'subsample': 0.9958999587742842, 'colsample_bytree': 0.5303671230475021, 'gamma': 0.2824846889601724}. Best is trial 38 with value: 0.7536503740302691.\n",
      "[I 2024-03-26 15:12:42,918] Trial 50 finished with value: 0.7462977417692576 and parameters: {'eta': 0.06260727621697024, 'max_depth': 3, 'min_child_weight': 1, 'subsample': 0.9434180348357191, 'colsample_bytree': 0.6147628185962529, 'gamma': 0.1786746941610738}. Best is trial 38 with value: 0.7536503740302691.\n",
      "[I 2024-03-26 15:12:48,172] Trial 51 finished with value: 0.7536816625977932 and parameters: {'eta': 0.02674934309171937, 'max_depth': 3, 'min_child_weight': 2, 'subsample': 0.9003103143928354, 'colsample_bytree': 0.6468847554727908, 'gamma': 0.15295466670256072}. Best is trial 51 with value: 0.7536816625977932.\n",
      "[I 2024-03-26 15:12:54,179] Trial 52 finished with value: 0.7382984907152087 and parameters: {'eta': 0.04394264915810572, 'max_depth': 4, 'min_child_weight': 2, 'subsample': 0.9014826738731192, 'colsample_bytree': 0.5802849567377925, 'gamma': 0.2211637820912777}. Best is trial 51 with value: 0.7536816625977932.\n"
     ]
    },
    {
     "name": "stderr",
     "output_type": "stream",
     "text": [
      "[I 2024-03-26 15:12:59,448] Trial 53 finished with value: 0.7536399437826076 and parameters: {'eta': 0.021981234210420263, 'max_depth': 3, 'min_child_weight': 3, 'subsample': 0.9589110755666186, 'colsample_bytree': 0.5530674106796739, 'gamma': 0.15163326434987293}. Best is trial 51 with value: 0.7536816625977932.\n",
      "[I 2024-03-26 15:13:04,716] Trial 54 finished with value: 0.7412396242204425 and parameters: {'eta': 0.05537121656765296, 'max_depth': 3, 'min_child_weight': 3, 'subsample': 0.9652798453390031, 'colsample_bytree': 0.6527196213703272, 'gamma': 0.19361711917028085}. Best is trial 51 with value: 0.7536816625977932.\n",
      "[I 2024-03-26 15:13:10,410] Trial 55 finished with value: 0.7536086552150836 and parameters: {'eta': 0.01914888292554232, 'max_depth': 4, 'min_child_weight': 2, 'subsample': 0.9234439638150831, 'colsample_bytree': 0.5550020819560059, 'gamma': 0.14319017079493673}. Best is trial 51 with value: 0.7536816625977932.\n",
      "[I 2024-03-26 15:13:16,077] Trial 56 finished with value: 0.7530246168202858 and parameters: {'eta': 0.02293892927386136, 'max_depth': 4, 'min_child_weight': 2, 'subsample': 0.9223234017721349, 'colsample_bytree': 0.5466033336326588, 'gamma': 0.10779003909069468}. Best is trial 51 with value: 0.7536816625977932.\n",
      "[I 2024-03-26 15:13:21,335] Trial 57 finished with value: 0.7503547371935453 and parameters: {'eta': 0.04790924579118999, 'max_depth': 3, 'min_child_weight': 3, 'subsample': 0.9434858630340869, 'colsample_bytree': 0.5201680238769105, 'gamma': 0.14214322725567746}. Best is trial 51 with value: 0.7536816625977932.\n",
      "[I 2024-03-26 15:13:27,040] Trial 58 finished with value: 0.7529098922539863 and parameters: {'eta': 0.022896469850619425, 'max_depth': 4, 'min_child_weight': 4, 'subsample': 0.978360670650891, 'colsample_bytree': 0.5647094374157324, 'gamma': 0.3417750433716777}. Best is trial 51 with value: 0.7536816625977932.\n",
      "[I 2024-03-26 15:13:33,409] Trial 59 finished with value: 0.751929550132726 and parameters: {'eta': 0.042117432717503275, 'max_depth': 3, 'min_child_weight': 2, 'subsample': 0.9359040418955438, 'colsample_bytree': 0.6146641981504507, 'gamma': 0.18624299559098165}. Best is trial 51 with value: 0.7536816625977932.\n",
      "[I 2024-03-26 15:13:39,079] Trial 60 finished with value: 0.7004715164827391 and parameters: {'eta': 0.08121140991699352, 'max_depth': 4, 'min_child_weight': 4, 'subsample': 0.9553146858940488, 'colsample_bytree': 0.5447560027692457, 'gamma': 0.07626113513049326}. Best is trial 51 with value: 0.7536816625977932.\n",
      "[I 2024-03-26 15:13:44,405] Trial 61 finished with value: 0.7535982293183439 and parameters: {'eta': 0.020841692923231698, 'max_depth': 3, 'min_child_weight': 3, 'subsample': 0.9004801137185025, 'colsample_bytree': 0.5772917712429959, 'gamma': 0.14376037143085618}. Best is trial 51 with value: 0.7536816625977932.\n",
      "[I 2024-03-26 15:13:49,654] Trial 62 finished with value: 0.7536608015586047 and parameters: {'eta': 0.02311753585584909, 'max_depth': 3, 'min_child_weight': 3, 'subsample': 0.900450148621079, 'colsample_bytree': 0.5665179801570093, 'gamma': 0.10683666981566786}. Best is trial 51 with value: 0.7536816625977932.\n",
      "[I 2024-03-26 15:13:55,070] Trial 63 finished with value: 0.7534835058397749 and parameters: {'eta': 0.01844336573128117, 'max_depth': 3, 'min_child_weight': 3, 'subsample': 0.9813746578378564, 'colsample_bytree': 0.5630720734423099, 'gamma': 0.1078664799650218}. Best is trial 51 with value: 0.7536816625977932.\n",
      "[I 2024-03-26 15:14:00,818] Trial 64 finished with value: 0.740843319950115 and parameters: {'eta': 0.040790355626473596, 'max_depth': 4, 'min_child_weight': 2, 'subsample': 0.9236103851315417, 'colsample_bytree': 0.5327643453081882, 'gamma': 0.2132037082600157}. Best is trial 51 with value: 0.7536816625977932.\n",
      "[I 2024-03-26 15:14:06,122] Trial 65 finished with value: 0.7544430157467045 and parameters: {'eta': 0.018511524879728833, 'max_depth': 3, 'min_child_weight': 3, 'subsample': 0.8601200280757383, 'colsample_bytree': 0.6882780077728741, 'gamma': 0.2453560488802265}. Best is trial 65 with value: 0.7544430157467045.\n",
      "[I 2024-03-26 15:14:11,394] Trial 66 finished with value: 0.7505841308518895 and parameters: {'eta': 0.055370748936466894, 'max_depth': 3, 'min_child_weight': 1, 'subsample': 0.8192426185044913, 'colsample_bytree': 0.6784792405850172, 'gamma': 0.11653660063493951}. Best is trial 65 with value: 0.7544430157467045.\n",
      "[I 2024-03-26 15:14:17,121] Trial 67 finished with value: 0.754609877410816 and parameters: {'eta': 0.015962101285256, 'max_depth': 4, 'min_child_weight': 2, 'subsample': 0.8663364729464731, 'colsample_bytree': 0.7831969048728555, 'gamma': 0.08874618724924224}. Best is trial 67 with value: 0.754609877410816.\n",
      "[I 2024-03-26 15:14:23,330] Trial 68 finished with value: 0.7545368809054113 and parameters: {'eta': 0.010245009858642672, 'max_depth': 5, 'min_child_weight': 2, 'subsample': 0.8602422826903935, 'colsample_bytree': 0.7921164727223668, 'gamma': 0.07852119733949885}. Best is trial 67 with value: 0.754609877410816.\n",
      "[I 2024-03-26 15:14:29,564] Trial 69 finished with value: 0.7541718526937069 and parameters: {'eta': 0.011104738573109939, 'max_depth': 5, 'min_child_weight': 4, 'subsample': 0.7914418198726729, 'colsample_bytree': 0.7810521456528825, 'gamma': 0.09134422387239341}. Best is trial 67 with value: 0.754609877410816.\n",
      "[I 2024-03-26 15:14:36,080] Trial 70 finished with value: 0.7541197101572426 and parameters: {'eta': 0.010533538101214527, 'max_depth': 5, 'min_child_weight': 5, 'subsample': 0.7837788298849997, 'colsample_bytree': 0.7834595446760535, 'gamma': 0.08983003694966543}. Best is trial 67 with value: 0.754609877410816.\n",
      "[I 2024-03-26 15:14:42,287] Trial 71 finished with value: 0.7541718543253026 and parameters: {'eta': 0.010805709418617198, 'max_depth': 5, 'min_child_weight': 5, 'subsample': 0.7791270702025288, 'colsample_bytree': 0.7858367808130434, 'gamma': 0.08987856461270452}. Best is trial 67 with value: 0.754609877410816.\n",
      "[I 2024-03-26 15:14:48,496] Trial 72 finished with value: 0.7541614224460453 and parameters: {'eta': 0.010932997964809182, 'max_depth': 5, 'min_child_weight': 5, 'subsample': 0.7853382636046942, 'colsample_bytree': 0.7806388341867817, 'gamma': 0.08999060049292203}. Best is trial 67 with value: 0.754609877410816.\n",
      "[I 2024-03-26 15:14:54,876] Trial 73 finished with value: 0.7531914996951418 and parameters: {'eta': 0.012459226817631173, 'max_depth': 5, 'min_child_weight': 5, 'subsample': 0.7883518984111864, 'colsample_bytree': 0.7835985571377982, 'gamma': 0.08475458062842298}. Best is trial 67 with value: 0.754609877410816.\n",
      "[I 2024-03-26 15:15:01,137] Trial 74 finished with value: 0.7284217858363524 and parameters: {'eta': 0.03824250960732451, 'max_depth': 5, 'min_child_weight': 5, 'subsample': 0.7659380455444886, 'colsample_bytree': 0.7702053296768884, 'gamma': 0.06368134204334915}. Best is trial 67 with value: 0.754609877410816.\n",
      "[I 2024-03-26 15:15:07,359] Trial 75 finished with value: 0.7541614229899105 and parameters: {'eta': 0.010794207310625964, 'max_depth': 5, 'min_child_weight': 6, 'subsample': 0.7979908687128564, 'colsample_bytree': 0.806471823458363, 'gamma': 0.021187228111590975}. Best is trial 67 with value: 0.754609877410816.\n",
      "[I 2024-03-26 15:15:13,555] Trial 76 finished with value: 0.7516479111473862 and parameters: {'eta': 0.01662656176287984, 'max_depth': 5, 'min_child_weight': 6, 'subsample': 0.7849657589080108, 'colsample_bytree': 0.814752875146616, 'gamma': 0.41183991528095176}. Best is trial 67 with value: 0.754609877410816.\n",
      "[I 2024-03-26 15:15:19,737] Trial 77 finished with value: 0.7536503881707656 and parameters: {'eta': 0.01274661900480579, 'max_depth': 5, 'min_child_weight': 6, 'subsample': 0.7310156701446714, 'colsample_bytree': 0.8067144193830211, 'gamma': 0.011451909589159759}. Best is trial 67 with value: 0.754609877410816.\n",
      "[I 2024-03-26 15:15:25,984] Trial 78 finished with value: 0.7275456656996525 and parameters: {'eta': 0.03678260920424008, 'max_depth': 5, 'min_child_weight': 4, 'subsample': 0.8247910345823819, 'colsample_bytree': 0.7206409745616452, 'gamma': 0.05360437107057738}. Best is trial 67 with value: 0.754609877410816.\n",
      "[I 2024-03-26 15:15:32,168] Trial 79 finished with value: 0.7542344260216982 and parameters: {'eta': 0.011303413177811675, 'max_depth': 5, 'min_child_weight': 5, 'subsample': 0.8025255467328186, 'colsample_bytree': 0.8390273752635504, 'gamma': 0.0910838152595273}. Best is trial 67 with value: 0.754609877410816.\n"
     ]
    },
    {
     "name": "stderr",
     "output_type": "stream",
     "text": [
      "[I 2024-03-26 15:15:38,428] Trial 80 finished with value: 0.7333340022875843 and parameters: {'eta': 0.03496473906410343, 'max_depth': 5, 'min_child_weight': 5, 'subsample': 0.8057477950152363, 'colsample_bytree': 0.8478935132978855, 'gamma': 0.07256195628564549}. Best is trial 67 with value: 0.754609877410816.\n",
      "[I 2024-03-26 15:15:44,630] Trial 81 finished with value: 0.7536086845838068 and parameters: {'eta': 0.010281422902607466, 'max_depth': 5, 'min_child_weight': 5, 'subsample': 0.8576276464551231, 'colsample_bytree': 0.8837664141802793, 'gamma': 0.09382195109131602}. Best is trial 67 with value: 0.754609877410816.\n",
      "[I 2024-03-26 15:15:50,810] Trial 82 finished with value: 0.7540988518373802 and parameters: {'eta': 0.010519384883112475, 'max_depth': 5, 'min_child_weight': 6, 'subsample': 0.772042227032495, 'colsample_bytree': 0.8297737920005838, 'gamma': 0.03554903785811774}. Best is trial 67 with value: 0.754609877410816.\n",
      "[I 2024-03-26 15:15:57,142] Trial 83 finished with value: 0.5385347729707414 and parameters: {'eta': 0.23098313397093465, 'max_depth': 5, 'min_child_weight': 5, 'subsample': 0.8320467026067658, 'colsample_bytree': 0.782869346091522, 'gamma': 0.04666402356726976}. Best is trial 67 with value: 0.754609877410816.\n",
      "[I 2024-03-26 15:16:03,984] Trial 84 finished with value: 0.7394143031425251 and parameters: {'eta': 0.016970484518169793, 'max_depth': 6, 'min_child_weight': 4, 'subsample': 0.8014601632962711, 'colsample_bytree': 0.7472192627972001, 'gamma': 0.07445566597185116}. Best is trial 67 with value: 0.754609877410816.\n",
      "[I 2024-03-26 15:16:10,270] Trial 85 finished with value: 0.5844347654197163 and parameters: {'eta': 0.15458006989963316, 'max_depth': 5, 'min_child_weight': 6, 'subsample': 0.7458256057675161, 'colsample_bytree': 0.7666992730225259, 'gamma': 0.023243275586640147}. Best is trial 67 with value: 0.754609877410816.\n",
      "[I 2024-03-26 15:16:17,136] Trial 86 finished with value: 0.7147488439002109 and parameters: {'eta': 0.03308654709587906, 'max_depth': 6, 'min_child_weight': 5, 'subsample': 0.8554225724711657, 'colsample_bytree': 0.7977959944182009, 'gamma': 0.09665916880437954}. Best is trial 67 with value: 0.754609877410816.\n",
      "[I 2024-03-26 15:16:23,376] Trial 87 finished with value: 0.5930808424794608 and parameters: {'eta': 0.1406998075692314, 'max_depth': 5, 'min_child_weight': 4, 'subsample': 0.7784995607154676, 'colsample_bytree': 0.8184469652753888, 'gamma': 0.1222793206467592}. Best is trial 67 with value: 0.754609877410816.\n",
      "[I 2024-03-26 15:16:29,589] Trial 88 finished with value: 0.7516062217009238 and parameters: {'eta': 0.016681906261633017, 'max_depth': 5, 'min_child_weight': 5, 'subsample': 0.7595076007424618, 'colsample_bytree': 0.7832955059675878, 'gamma': 0.4901277862526637}. Best is trial 67 with value: 0.754609877410816.\n",
      "[I 2024-03-26 15:16:36,560] Trial 89 finished with value: 0.690552876874195 and parameters: {'eta': 0.05127867686962442, 'max_depth': 6, 'min_child_weight': 7, 'subsample': 0.8380646429001671, 'colsample_bytree': 0.8683606004198788, 'gamma': 0.0855214800251939}. Best is trial 67 with value: 0.754609877410816.\n",
      "[I 2024-03-26 15:16:42,780] Trial 90 finished with value: 0.7373074823087706 and parameters: {'eta': 0.02996905589243356, 'max_depth': 5, 'min_child_weight': 6, 'subsample': 0.7968254539066475, 'colsample_bytree': 0.834759733851699, 'gamma': 0.016047712341361556}. Best is trial 67 with value: 0.754609877410816.\n",
      "[I 2024-03-26 15:16:48,999] Trial 91 finished with value: 0.753994556974877 and parameters: {'eta': 0.01145619647267803, 'max_depth': 5, 'min_child_weight': 6, 'subsample': 0.7365413761674297, 'colsample_bytree': 0.8220387526778988, 'gamma': 0.050908430518724616}. Best is trial 67 with value: 0.754609877410816.\n",
      "[I 2024-03-26 15:16:55,200] Trial 92 finished with value: 0.7523154279624487 and parameters: {'eta': 0.015177263309312454, 'max_depth': 5, 'min_child_weight': 6, 'subsample': 0.7706880399085776, 'colsample_bytree': 0.7542022253003821, 'gamma': 0.0008695481939503362}. Best is trial 67 with value: 0.754609877410816.\n",
      "[I 2024-03-26 15:17:01,065] Trial 93 finished with value: 0.7543804358923303 and parameters: {'eta': 0.01872581813413768, 'max_depth': 4, 'min_child_weight': 5, 'subsample': 0.8153014514455542, 'colsample_bytree': 0.8080782298810602, 'gamma': 0.033603134877021885}. Best is trial 67 with value: 0.754609877410816.\n",
      "[I 2024-03-26 15:17:06,789] Trial 94 finished with value: 0.5987128961261545 and parameters: {'eta': 0.1681283627673627, 'max_depth': 4, 'min_child_weight': 4, 'subsample': 0.8092833010315299, 'colsample_bytree': 0.8059423362925121, 'gamma': 0.03831805657131854}. Best is trial 67 with value: 0.754609877410816.\n",
      "[I 2024-03-26 15:17:12,500] Trial 95 finished with value: 0.7392786968701578 and parameters: {'eta': 0.03930329212172173, 'max_depth': 4, 'min_child_weight': 5, 'subsample': 0.8296607118365346, 'colsample_bytree': 0.7741539474347211, 'gamma': 0.06540803650977138}. Best is trial 67 with value: 0.754609877410816.\n",
      "[I 2024-03-26 15:17:19,738] Trial 96 finished with value: 0.5372625090039611 and parameters: {'eta': 0.19837688728002867, 'max_depth': 6, 'min_child_weight': 5, 'subsample': 0.8636324891193625, 'colsample_bytree': 0.7370994437128007, 'gamma': 0.029405060418675924}. Best is trial 67 with value: 0.754609877410816.\n",
      "[I 2024-03-26 15:17:25,520] Trial 97 finished with value: 0.7504486050715782 and parameters: {'eta': 0.028094849520837316, 'max_depth': 4, 'min_child_weight': 4, 'subsample': 0.8428324793011892, 'colsample_bytree': 0.7913849701078289, 'gamma': 0.09637432349160605}. Best is trial 67 with value: 0.754609877410816.\n",
      "[I 2024-03-26 15:17:37,201] Trial 98 finished with value: 0.6929308384624722 and parameters: {'eta': 0.019533327074782586, 'max_depth': 10, 'min_child_weight': 5, 'subsample': 0.7954646978694749, 'colsample_bytree': 0.6959919656617306, 'gamma': 0.12939837867765783}. Best is trial 67 with value: 0.754609877410816.\n",
      "[I 2024-03-26 15:17:46,719] Trial 99 finished with value: 0.5711266162016282 and parameters: {'eta': 0.10958298127023833, 'max_depth': 9, 'min_child_weight': 4, 'subsample': 0.8187754788508187, 'colsample_bytree': 0.8407603007745246, 'gamma': 0.0769812926473523}. Best is trial 67 with value: 0.754609877410816.\n"
     ]
    }
   ],
   "source": [
    "study = optuna.create_study(direction='maximize')\n",
    "study.optimize(objective, n_trials=100)"
   ]
  },
  {
   "cell_type": "code",
   "execution_count": 152,
   "metadata": {},
   "outputs": [
    {
     "name": "stdout",
     "output_type": "stream",
     "text": [
      "Train Accuracy: 0.766080101566306\n",
      "Test Accuracy: 0.7660761736049602\n",
      "\n",
      "Train Confusion Matrix:\n",
      "[[50752 17040]\n",
      " [14651 53035]]\n",
      "\n",
      "Test Confusion Matrix:\n",
      "[[12673  4209]\n",
      " [ 3714 13274]]\n",
      "\n",
      "Train Classification Report:\n",
      "              precision    recall  f1-score   support\n",
      "\n",
      "           0       0.78      0.75      0.76     67792\n",
      "           1       0.76      0.78      0.77     67686\n",
      "\n",
      "    accuracy                           0.77    135478\n",
      "   macro avg       0.77      0.77      0.77    135478\n",
      "weighted avg       0.77      0.77      0.77    135478\n",
      "\n",
      "\n",
      "Test Classification Report:\n",
      "              precision    recall  f1-score   support\n",
      "\n",
      "           0       0.77      0.75      0.76     16882\n",
      "           1       0.76      0.78      0.77     16988\n",
      "\n",
      "    accuracy                           0.77     33870\n",
      "   macro avg       0.77      0.77      0.77     33870\n",
      "weighted avg       0.77      0.77      0.77     33870\n",
      "\n"
     ]
    }
   ],
   "source": [
    "from sklearn.metrics import classification_report, confusion_matrix\n",
    "\n",
    "# Use the best hyperparameters found by Optuna\n",
    "best_params = study.best_params\n",
    "model = XGBClassifier(**best_params)\n",
    "\n",
    "# Fit the model on the training data\n",
    "model.fit(X_train, y_train)\n",
    "\n",
    "# Predict on the training and test sets\n",
    "y_train_pred = model.predict(X_train)\n",
    "y_test_pred = model.predict(X_test)\n",
    "\n",
    "# Calculate accuracies\n",
    "train_accuracy = accuracy_score(y_train, y_train_pred)\n",
    "test_accuracy = accuracy_score(y_test, y_test_pred)\n",
    "\n",
    "# Generate confusion matrices\n",
    "train_conf_matrix = confusion_matrix(y_train, y_train_pred)\n",
    "test_conf_matrix = confusion_matrix(y_test, y_test_pred)\n",
    "\n",
    "# Generate classification reports\n",
    "train_classification_report = classification_report(y_train, y_train_pred)\n",
    "test_classification_report = classification_report(y_test, y_test_pred)\n",
    "\n",
    "# Print the results\n",
    "print(\"Train Accuracy:\", train_accuracy)\n",
    "print(\"Test Accuracy:\", test_accuracy)\n",
    "\n",
    "print(\"\\nTrain Confusion Matrix:\")\n",
    "print(train_conf_matrix)\n",
    "\n",
    "print(\"\\nTest Confusion Matrix:\")\n",
    "print(test_conf_matrix)\n",
    "\n",
    "print(\"\\nTrain Classification Report:\")\n",
    "print(train_classification_report)\n",
    "\n",
    "print(\"\\nTest Classification Report:\")\n",
    "print(test_classification_report)\n"
   ]
  },
  {
   "cell_type": "code",
   "execution_count": null,
   "metadata": {},
   "outputs": [],
   "source": []
  }
 ],
 "metadata": {
  "colab": {
   "provenance": []
  },
  "kernelspec": {
   "display_name": "Python 3 (ipykernel)",
   "language": "python",
   "name": "python3"
  },
  "language_info": {
   "codemirror_mode": {
    "name": "ipython",
    "version": 3
   },
   "file_extension": ".py",
   "mimetype": "text/x-python",
   "name": "python",
   "nbconvert_exporter": "python",
   "pygments_lexer": "ipython3",
   "version": "3.9.13"
  }
 },
 "nbformat": 4,
 "nbformat_minor": 1
}
