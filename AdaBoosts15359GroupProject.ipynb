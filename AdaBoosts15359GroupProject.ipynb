{
 "cells": [
  {
   "cell_type": "code",
   "execution_count": 363,
   "metadata": {
    "id": "V_-ytJNavOQP"
   },
   "outputs": [],
   "source": [
    "import numpy as np\n",
    "import pandas as pd"
   ]
  },
  {
   "cell_type": "code",
   "execution_count": 364,
   "metadata": {
    "id": "SnLA9bzByyaq"
   },
   "outputs": [],
   "source": [
    "weather_hist = pd.read_csv('weatherHistory.csv')"
   ]
  },
  {
   "cell_type": "code",
   "execution_count": 365,
   "metadata": {
    "colab": {
     "base_uri": "https://localhost:8080/"
    },
    "id": "07SFhxQTy58Q",
    "outputId": "bb7eac64-dedc-43ed-9a8a-08bd4975f093"
   },
   "outputs": [
    {
     "name": "stdout",
     "output_type": "stream",
     "text": [
      "<class 'pandas.core.frame.DataFrame'>\n",
      "RangeIndex: 96450 entries, 0 to 96449\n",
      "Data columns (total 12 columns):\n",
      " #   Column                    Non-Null Count  Dtype  \n",
      "---  ------                    --------------  -----  \n",
      " 0   Formatted Date            96450 non-null  object \n",
      " 1   Summary                   96450 non-null  object \n",
      " 2   Precip Type               95930 non-null  object \n",
      " 3   Temperature (C)           96450 non-null  float64\n",
      " 4   Apparent Temperature (C)  96450 non-null  float64\n",
      " 5   Humidity                  96450 non-null  float64\n",
      " 6   Wind Speed (km/h)         96445 non-null  float64\n",
      " 7   Wind Bearing (degrees)    96450 non-null  int64  \n",
      " 8   Visibility (km)           96442 non-null  float64\n",
      " 9   Loud Cover                96450 non-null  int64  \n",
      " 10  Pressure (millibars)      96443 non-null  float64\n",
      " 11  Daily Summary             96450 non-null  object \n",
      "dtypes: float64(6), int64(2), object(4)\n",
      "memory usage: 8.8+ MB\n"
     ]
    }
   ],
   "source": [
    "weather_hist.info()"
   ]
  },
  {
   "cell_type": "code",
   "execution_count": 366,
   "metadata": {
    "colab": {
     "base_uri": "https://localhost:8080/",
     "height": 414
    },
    "id": "Br5siQoly-zw",
    "outputId": "26922ee5-7277-4889-a7c8-52fde9e3e6c5"
   },
   "outputs": [
    {
     "data": {
      "text/html": [
       "<div>\n",
       "<style scoped>\n",
       "    .dataframe tbody tr th:only-of-type {\n",
       "        vertical-align: middle;\n",
       "    }\n",
       "\n",
       "    .dataframe tbody tr th {\n",
       "        vertical-align: top;\n",
       "    }\n",
       "\n",
       "    .dataframe thead th {\n",
       "        text-align: right;\n",
       "    }\n",
       "</style>\n",
       "<table border=\"1\" class=\"dataframe\">\n",
       "  <thead>\n",
       "    <tr style=\"text-align: right;\">\n",
       "      <th></th>\n",
       "      <th>Formatted Date</th>\n",
       "      <th>Summary</th>\n",
       "      <th>Precip Type</th>\n",
       "      <th>Temperature (C)</th>\n",
       "      <th>Apparent Temperature (C)</th>\n",
       "      <th>Humidity</th>\n",
       "      <th>Wind Speed (km/h)</th>\n",
       "      <th>Wind Bearing (degrees)</th>\n",
       "      <th>Visibility (km)</th>\n",
       "      <th>Loud Cover</th>\n",
       "      <th>Pressure (millibars)</th>\n",
       "      <th>Daily Summary</th>\n",
       "    </tr>\n",
       "  </thead>\n",
       "  <tbody>\n",
       "    <tr>\n",
       "      <th>0</th>\n",
       "      <td>2006-04-01 00:00:00.000 +0200</td>\n",
       "      <td>Partly Cloudy</td>\n",
       "      <td>rain</td>\n",
       "      <td>9.472222</td>\n",
       "      <td>7.388889</td>\n",
       "      <td>0.89</td>\n",
       "      <td>14.1197</td>\n",
       "      <td>251</td>\n",
       "      <td>15.8263</td>\n",
       "      <td>0</td>\n",
       "      <td>1015.13</td>\n",
       "      <td>Partly cloudy throughout the day.</td>\n",
       "    </tr>\n",
       "    <tr>\n",
       "      <th>1</th>\n",
       "      <td>2006-04-01 01:00:00.000 +0200</td>\n",
       "      <td>Partly Cloudy</td>\n",
       "      <td>rain</td>\n",
       "      <td>9.355556</td>\n",
       "      <td>7.227778</td>\n",
       "      <td>0.86</td>\n",
       "      <td>14.2646</td>\n",
       "      <td>259</td>\n",
       "      <td>15.8263</td>\n",
       "      <td>0</td>\n",
       "      <td>1015.63</td>\n",
       "      <td>Partly cloudy throughout the day.</td>\n",
       "    </tr>\n",
       "    <tr>\n",
       "      <th>2</th>\n",
       "      <td>2006-04-01 02:00:00.000 +0200</td>\n",
       "      <td>Mostly Cloudy</td>\n",
       "      <td>rain</td>\n",
       "      <td>9.377778</td>\n",
       "      <td>9.377778</td>\n",
       "      <td>0.89</td>\n",
       "      <td>3.9284</td>\n",
       "      <td>204</td>\n",
       "      <td>14.9569</td>\n",
       "      <td>0</td>\n",
       "      <td>1015.94</td>\n",
       "      <td>Partly cloudy throughout the day.</td>\n",
       "    </tr>\n",
       "    <tr>\n",
       "      <th>3</th>\n",
       "      <td>2006-04-01 03:00:00.000 +0200</td>\n",
       "      <td>Partly Cloudy</td>\n",
       "      <td>rain</td>\n",
       "      <td>8.288889</td>\n",
       "      <td>5.944444</td>\n",
       "      <td>0.83</td>\n",
       "      <td>14.1036</td>\n",
       "      <td>269</td>\n",
       "      <td>15.8263</td>\n",
       "      <td>0</td>\n",
       "      <td>1016.41</td>\n",
       "      <td>Partly cloudy throughout the day.</td>\n",
       "    </tr>\n",
       "    <tr>\n",
       "      <th>4</th>\n",
       "      <td>2006-04-01 04:00:00.000 +0200</td>\n",
       "      <td>Mostly Cloudy</td>\n",
       "      <td>rain</td>\n",
       "      <td>8.755556</td>\n",
       "      <td>6.977778</td>\n",
       "      <td>0.83</td>\n",
       "      <td>11.0446</td>\n",
       "      <td>259</td>\n",
       "      <td>15.8263</td>\n",
       "      <td>0</td>\n",
       "      <td>1016.51</td>\n",
       "      <td>Partly cloudy throughout the day.</td>\n",
       "    </tr>\n",
       "  </tbody>\n",
       "</table>\n",
       "</div>"
      ],
      "text/plain": [
       "                  Formatted Date        Summary Precip Type  Temperature (C)  \\\n",
       "0  2006-04-01 00:00:00.000 +0200  Partly Cloudy        rain         9.472222   \n",
       "1  2006-04-01 01:00:00.000 +0200  Partly Cloudy        rain         9.355556   \n",
       "2  2006-04-01 02:00:00.000 +0200  Mostly Cloudy        rain         9.377778   \n",
       "3  2006-04-01 03:00:00.000 +0200  Partly Cloudy        rain         8.288889   \n",
       "4  2006-04-01 04:00:00.000 +0200  Mostly Cloudy        rain         8.755556   \n",
       "\n",
       "   Apparent Temperature (C)  Humidity  Wind Speed (km/h)  \\\n",
       "0                  7.388889      0.89            14.1197   \n",
       "1                  7.227778      0.86            14.2646   \n",
       "2                  9.377778      0.89             3.9284   \n",
       "3                  5.944444      0.83            14.1036   \n",
       "4                  6.977778      0.83            11.0446   \n",
       "\n",
       "   Wind Bearing (degrees)  Visibility (km)  Loud Cover  Pressure (millibars)  \\\n",
       "0                     251          15.8263           0               1015.13   \n",
       "1                     259          15.8263           0               1015.63   \n",
       "2                     204          14.9569           0               1015.94   \n",
       "3                     269          15.8263           0               1016.41   \n",
       "4                     259          15.8263           0               1016.51   \n",
       "\n",
       "                       Daily Summary  \n",
       "0  Partly cloudy throughout the day.  \n",
       "1  Partly cloudy throughout the day.  \n",
       "2  Partly cloudy throughout the day.  \n",
       "3  Partly cloudy throughout the day.  \n",
       "4  Partly cloudy throughout the day.  "
      ]
     },
     "execution_count": 366,
     "metadata": {},
     "output_type": "execute_result"
    }
   ],
   "source": [
    "weather_hist.head()"
   ]
  },
  {
   "cell_type": "code",
   "execution_count": 367,
   "metadata": {
    "colab": {
     "base_uri": "https://localhost:8080/",
     "height": 317
    },
    "id": "uZmlDMeazRSQ",
    "outputId": "40719160-35e8-4536-e4ed-00898ba0a976"
   },
   "outputs": [
    {
     "data": {
      "text/html": [
       "<div>\n",
       "<style scoped>\n",
       "    .dataframe tbody tr th:only-of-type {\n",
       "        vertical-align: middle;\n",
       "    }\n",
       "\n",
       "    .dataframe tbody tr th {\n",
       "        vertical-align: top;\n",
       "    }\n",
       "\n",
       "    .dataframe thead th {\n",
       "        text-align: right;\n",
       "    }\n",
       "</style>\n",
       "<table border=\"1\" class=\"dataframe\">\n",
       "  <thead>\n",
       "    <tr style=\"text-align: right;\">\n",
       "      <th></th>\n",
       "      <th>Temperature (C)</th>\n",
       "      <th>Apparent Temperature (C)</th>\n",
       "      <th>Humidity</th>\n",
       "      <th>Wind Speed (km/h)</th>\n",
       "      <th>Wind Bearing (degrees)</th>\n",
       "      <th>Visibility (km)</th>\n",
       "      <th>Loud Cover</th>\n",
       "      <th>Pressure (millibars)</th>\n",
       "    </tr>\n",
       "  </thead>\n",
       "  <tbody>\n",
       "    <tr>\n",
       "      <th>count</th>\n",
       "      <td>96450.000000</td>\n",
       "      <td>96450.000000</td>\n",
       "      <td>96450.000000</td>\n",
       "      <td>96445.000000</td>\n",
       "      <td>96450.000000</td>\n",
       "      <td>96442.000000</td>\n",
       "      <td>96450.0</td>\n",
       "      <td>96443.000000</td>\n",
       "    </tr>\n",
       "    <tr>\n",
       "      <th>mean</th>\n",
       "      <td>11.932456</td>\n",
       "      <td>10.854838</td>\n",
       "      <td>0.734912</td>\n",
       "      <td>10.809563</td>\n",
       "      <td>187.507838</td>\n",
       "      <td>10.347331</td>\n",
       "      <td>0.0</td>\n",
       "      <td>1003.235465</td>\n",
       "    </tr>\n",
       "    <tr>\n",
       "      <th>std</th>\n",
       "      <td>9.551517</td>\n",
       "      <td>10.696820</td>\n",
       "      <td>0.195462</td>\n",
       "      <td>6.910700</td>\n",
       "      <td>107.384208</td>\n",
       "      <td>4.192359</td>\n",
       "      <td>0.0</td>\n",
       "      <td>116.975940</td>\n",
       "    </tr>\n",
       "    <tr>\n",
       "      <th>min</th>\n",
       "      <td>-21.822222</td>\n",
       "      <td>-27.716667</td>\n",
       "      <td>0.000000</td>\n",
       "      <td>0.000000</td>\n",
       "      <td>0.000000</td>\n",
       "      <td>0.000000</td>\n",
       "      <td>0.0</td>\n",
       "      <td>0.000000</td>\n",
       "    </tr>\n",
       "    <tr>\n",
       "      <th>25%</th>\n",
       "      <td>4.688889</td>\n",
       "      <td>2.311111</td>\n",
       "      <td>0.600000</td>\n",
       "      <td>5.828200</td>\n",
       "      <td>116.000000</td>\n",
       "      <td>8.339800</td>\n",
       "      <td>0.0</td>\n",
       "      <td>1011.900000</td>\n",
       "    </tr>\n",
       "    <tr>\n",
       "      <th>50%</th>\n",
       "      <td>12.000000</td>\n",
       "      <td>12.000000</td>\n",
       "      <td>0.780000</td>\n",
       "      <td>9.965900</td>\n",
       "      <td>180.000000</td>\n",
       "      <td>10.046400</td>\n",
       "      <td>0.0</td>\n",
       "      <td>1016.450000</td>\n",
       "    </tr>\n",
       "    <tr>\n",
       "      <th>75%</th>\n",
       "      <td>18.838889</td>\n",
       "      <td>18.838889</td>\n",
       "      <td>0.890000</td>\n",
       "      <td>14.135800</td>\n",
       "      <td>290.000000</td>\n",
       "      <td>14.812000</td>\n",
       "      <td>0.0</td>\n",
       "      <td>1021.090000</td>\n",
       "    </tr>\n",
       "    <tr>\n",
       "      <th>max</th>\n",
       "      <td>39.905556</td>\n",
       "      <td>39.344444</td>\n",
       "      <td>1.000000</td>\n",
       "      <td>55.931400</td>\n",
       "      <td>359.000000</td>\n",
       "      <td>16.100000</td>\n",
       "      <td>0.0</td>\n",
       "      <td>1046.380000</td>\n",
       "    </tr>\n",
       "  </tbody>\n",
       "</table>\n",
       "</div>"
      ],
      "text/plain": [
       "       Temperature (C)  Apparent Temperature (C)      Humidity  \\\n",
       "count     96450.000000              96450.000000  96450.000000   \n",
       "mean         11.932456                 10.854838      0.734912   \n",
       "std           9.551517                 10.696820      0.195462   \n",
       "min         -21.822222                -27.716667      0.000000   \n",
       "25%           4.688889                  2.311111      0.600000   \n",
       "50%          12.000000                 12.000000      0.780000   \n",
       "75%          18.838889                 18.838889      0.890000   \n",
       "max          39.905556                 39.344444      1.000000   \n",
       "\n",
       "       Wind Speed (km/h)  Wind Bearing (degrees)  Visibility (km)  Loud Cover  \\\n",
       "count       96445.000000            96450.000000     96442.000000     96450.0   \n",
       "mean           10.809563              187.507838        10.347331         0.0   \n",
       "std             6.910700              107.384208         4.192359         0.0   \n",
       "min             0.000000                0.000000         0.000000         0.0   \n",
       "25%             5.828200              116.000000         8.339800         0.0   \n",
       "50%             9.965900              180.000000        10.046400         0.0   \n",
       "75%            14.135800              290.000000        14.812000         0.0   \n",
       "max            55.931400              359.000000        16.100000         0.0   \n",
       "\n",
       "       Pressure (millibars)  \n",
       "count          96443.000000  \n",
       "mean            1003.235465  \n",
       "std              116.975940  \n",
       "min                0.000000  \n",
       "25%             1011.900000  \n",
       "50%             1016.450000  \n",
       "75%             1021.090000  \n",
       "max             1046.380000  "
      ]
     },
     "execution_count": 367,
     "metadata": {},
     "output_type": "execute_result"
    }
   ],
   "source": [
    "weather_hist.describe()"
   ]
  },
  {
   "cell_type": "code",
   "execution_count": 368,
   "metadata": {
    "colab": {
     "base_uri": "https://localhost:8080/"
    },
    "id": "mtxD5USVzW3I",
    "outputId": "420a2f9f-dcc6-40a8-f91c-6eb5953af6b8"
   },
   "outputs": [
    {
     "name": "stdout",
     "output_type": "stream",
     "text": [
      "Number of Columns in the Weather History Data frame: 12\n",
      "Number of records in the Weather History data frame: 96450\n"
     ]
    }
   ],
   "source": [
    "print(\"Number of Columns in the Weather History Data frame:\", weather_hist.shape[1])\n",
    "print(\"Number of records in the Weather History data frame:\", weather_hist.shape[0])"
   ]
  },
  {
   "cell_type": "code",
   "execution_count": 369,
   "metadata": {
    "colab": {
     "base_uri": "https://localhost:8080/"
    },
    "id": "QHVd-RlPzdDP",
    "outputId": "a480af6c-fe0b-4510-df70-490d2167758b"
   },
   "outputs": [
    {
     "name": "stdout",
     "output_type": "stream",
     "text": [
      "Unique values are:\n",
      " Formatted Date              96426\n",
      "Summary                        24\n",
      "Precip Type                     4\n",
      "Temperature (C)              7574\n",
      "Apparent Temperature (C)     8984\n",
      "Humidity                       90\n",
      "Wind Speed (km/h)            2483\n",
      "Wind Bearing (degrees)        360\n",
      "Visibility (km)               949\n",
      "Loud Cover                      1\n",
      "Pressure (millibars)         4979\n",
      "Daily Summary                 214\n",
      "dtype: int64\n"
     ]
    }
   ],
   "source": [
    "print (\"Unique values are:\\n\",weather_hist.nunique())"
   ]
  },
  {
   "cell_type": "code",
   "execution_count": 370,
   "metadata": {
    "colab": {
     "base_uri": "https://localhost:8080/"
    },
    "id": "tUfn5y8gzivw",
    "outputId": "41304c6a-a45e-47cc-cbb1-7115c5d65659"
   },
   "outputs": [
    {
     "name": "stdout",
     "output_type": "stream",
     "text": [
      "\n",
      "\n",
      "24 duplicate rows found in Weathe History Dataset.\n",
      "\n",
      "\n",
      "                      Formatted Date        Summary Precip Type  \\\n",
      "36071  2010-08-02 00:00:00.000 +0200          Clear        rain   \n",
      "36072  2010-08-02 01:00:00.000 +0200          Clear        rain   \n",
      "36073  2010-08-02 02:00:00.000 +0200          Clear        rain   \n",
      "36074  2010-08-02 03:00:00.000 +0200          Clear        rain   \n",
      "36075  2010-08-02 04:00:00.000 +0200          Clear        rain   \n",
      "36076  2010-08-02 05:00:00.000 +0200          Clear        rain   \n",
      "36077  2010-08-02 06:00:00.000 +0200          Clear        rain   \n",
      "36078  2010-08-02 07:00:00.000 +0200          Clear        rain   \n",
      "36079  2010-08-02 08:00:00.000 +0200          Clear        rain   \n",
      "36080  2010-08-02 09:00:00.000 +0200          Clear        rain   \n",
      "36081  2010-08-02 10:00:00.000 +0200          Clear        rain   \n",
      "36082  2010-08-02 11:00:00.000 +0200          Clear        rain   \n",
      "36083  2010-08-02 12:00:00.000 +0200          Clear        rain   \n",
      "36084  2010-08-02 13:00:00.000 +0200  Partly Cloudy        rain   \n",
      "36085  2010-08-02 14:00:00.000 +0200  Partly Cloudy        rain   \n",
      "36086  2010-08-02 15:00:00.000 +0200  Partly Cloudy        rain   \n",
      "36087  2010-08-02 16:00:00.000 +0200  Partly Cloudy        rain   \n",
      "36088  2010-08-02 17:00:00.000 +0200  Partly Cloudy        rain   \n",
      "36089  2010-08-02 18:00:00.000 +0200  Partly Cloudy        rain   \n",
      "36090  2010-08-02 19:00:00.000 +0200          Clear        rain   \n",
      "36091  2010-08-02 20:00:00.000 +0200          Clear        rain   \n",
      "36092  2010-08-02 21:00:00.000 +0200          Clear        rain   \n",
      "36093  2010-08-02 22:00:00.000 +0200  Partly Cloudy        rain   \n",
      "36094  2010-08-02 23:00:00.000 +0200          Clear        rain   \n",
      "\n",
      "       Temperature (C)  Apparent Temperature (C)  Humidity  Wind Speed (km/h)  \\\n",
      "36071        18.800000                 18.800000      0.93             6.2790   \n",
      "36072        18.222222                 18.222222      0.97             6.2790   \n",
      "36073        18.072222                 18.072222      0.98            11.2700   \n",
      "36074        16.622222                 16.622222      0.99             6.4400   \n",
      "36075        16.094444                 16.094444      0.99             3.0751   \n",
      "36076        15.955556                 15.955556      0.99             3.8801   \n",
      "36077        17.088889                 17.088889      1.00             6.4400   \n",
      "36078        20.822222                 20.822222      0.87             3.2200   \n",
      "36079        23.405556                 23.405556      0.74             1.8837   \n",
      "36080        26.050000                 26.050000      0.59             1.5939   \n",
      "36081        27.688889                 28.077778      0.50             0.2254   \n",
      "36082        28.561111                 29.588889      0.54             3.2039   \n",
      "36083        28.816667                 29.338889      0.49             1.6100   \n",
      "36084        28.866667                 29.044444      0.46             2.8175   \n",
      "36085        29.827778                 30.338889      0.47             8.0339   \n",
      "36086        30.072222                 30.527778      0.46             2.5921   \n",
      "36087        31.066667                 31.627778      0.44             1.3846   \n",
      "36088        30.861111                 31.361111      0.44             2.2540   \n",
      "36089        29.950000                 30.416667      0.46             3.0751   \n",
      "36090        28.811111                 30.616667      0.59             3.2039   \n",
      "36091        25.250000                 25.250000      0.75             2.4955   \n",
      "36092        22.172222                 22.172222      0.87             1.6100   \n",
      "36093        21.061111                 21.061111      0.90             0.0000   \n",
      "36094        20.255556                 20.255556      0.92             1.0787   \n",
      "\n",
      "       Wind Bearing (degrees)  Visibility (km)  Loud Cover  \\\n",
      "36071                     270          14.9086           0   \n",
      "36072                     291          14.9086           0   \n",
      "36073                     290           6.8425           0   \n",
      "36074                     300          11.9784           0   \n",
      "36075                     280          11.9784           0   \n",
      "36076                     276           9.9820           0   \n",
      "36077                     310           9.9820           0   \n",
      "36078                     300           9.9820           0   \n",
      "36079                     334           9.9820           0   \n",
      "36080                       5           9.9820           0   \n",
      "36081                     338           9.9820           0   \n",
      "36082                     288          10.3523           0   \n",
      "36083                      20           9.9820           0   \n",
      "36084                      33           9.9820           0   \n",
      "36085                     267          10.3523           0   \n",
      "36086                      92           9.9820           0   \n",
      "36087                     297           9.9820           0   \n",
      "36088                     325          10.3523           0   \n",
      "36089                     303           9.9820           0   \n",
      "36090                     351           9.9820           0   \n",
      "36091                     335          10.3523           0   \n",
      "36092                       0           9.9820           0   \n",
      "36093                       0          11.9784           0   \n",
      "36094                     326          14.1680           0   \n",
      "\n",
      "       Pressure (millibars)                                      Daily Summary  \n",
      "36071               1016.99  Partly cloudy starting in the afternoon contin...  \n",
      "36072               1017.09  Partly cloudy starting in the afternoon contin...  \n",
      "36073               1013.23  Partly cloudy starting in the afternoon contin...  \n",
      "36074               1016.78  Partly cloudy starting in the afternoon contin...  \n",
      "36075               1016.67  Partly cloudy starting in the afternoon contin...  \n",
      "36076               1016.69  Partly cloudy starting in the afternoon contin...  \n",
      "36077               1017.08  Partly cloudy starting in the afternoon contin...  \n",
      "36078               1017.27  Partly cloudy starting in the afternoon contin...  \n",
      "36079               1017.27  Partly cloudy starting in the afternoon contin...  \n",
      "36080               1017.15  Partly cloudy starting in the afternoon contin...  \n",
      "36081               1016.68  Partly cloudy starting in the afternoon contin...  \n",
      "36082               1016.58  Partly cloudy starting in the afternoon contin...  \n",
      "36083               1016.55  Partly cloudy starting in the afternoon contin...  \n",
      "36084               1015.99  Partly cloudy starting in the afternoon contin...  \n",
      "36085               1015.50  Partly cloudy starting in the afternoon contin...  \n",
      "36086               1014.97  Partly cloudy starting in the afternoon contin...  \n",
      "36087               1014.47  Partly cloudy starting in the afternoon contin...  \n",
      "36088               1014.08  Partly cloudy starting in the afternoon contin...  \n",
      "36089               1013.59  Partly cloudy starting in the afternoon contin...  \n",
      "36090               1013.19  Partly cloudy starting in the afternoon contin...  \n",
      "36091               1013.20  Partly cloudy starting in the afternoon contin...  \n",
      "36092               1013.49  Partly cloudy starting in the afternoon contin...  \n",
      "36093               1013.37  Partly cloudy starting in the afternoon contin...  \n",
      "36094               1013.00  Partly cloudy starting in the afternoon contin...  \n"
     ]
    }
   ],
   "source": [
    "\n",
    "duplicates = weather_hist[weather_hist.duplicated()]\n",
    "\n",
    "# Print the number of duplicate rows, if any\n",
    "num_duplicates = len(duplicates)\n",
    "if num_duplicates > 0:\n",
    "    print(\"\\n\")\n",
    "    print(f\"{num_duplicates} duplicate rows found in Weathe History Dataset.\")\n",
    "    print(\"\\n\")\n",
    "    print(duplicates)\n",
    "else:\n",
    "    print(\"No duplicate rows found in WeatherHistory.\")"
   ]
  },
  {
   "cell_type": "code",
   "execution_count": 371,
   "metadata": {
    "colab": {
     "base_uri": "https://localhost:8080/"
    },
    "id": "zq1ONxXXzooY",
    "outputId": "ad342d41-1904-409d-b82f-12c80cac0218"
   },
   "outputs": [
    {
     "name": "stdout",
     "output_type": "stream",
     "text": [
      "Duplicated Values:  0\n"
     ]
    }
   ],
   "source": [
    "# Removing duplicated values\n",
    "weather_hist.drop_duplicates(inplace=True)\n",
    "# Again checking for duplicated values\n",
    "print(\"Duplicated Values: \", weather_hist.duplicated().sum())"
   ]
  },
  {
   "cell_type": "code",
   "execution_count": 372,
   "metadata": {
    "colab": {
     "base_uri": "https://localhost:8080/"
    },
    "id": "D4bVUXb6zyx3",
    "outputId": "0babdd1d-1c8f-430b-fca4-634c847c044f"
   },
   "outputs": [
    {
     "name": "stdout",
     "output_type": "stream",
     "text": [
      "Number of Columns in the Weather History Data frame: 12\n",
      "Number of records in the Weather History data frame: 96426\n"
     ]
    }
   ],
   "source": [
    "#Printing the shape of dataset after deleting Duplicates\n",
    "print(\"Number of Columns in the Weather History Data frame:\", weather_hist.shape[1])\n",
    "print(\"Number of records in the Weather History data frame:\", weather_hist.shape[0])"
   ]
  },
  {
   "cell_type": "code",
   "execution_count": 373,
   "metadata": {
    "colab": {
     "base_uri": "https://localhost:8080/"
    },
    "id": "Uma5ZXoBz4NV",
    "outputId": "69dcd08b-614a-4af0-97b7-a5aae0bab5a3"
   },
   "outputs": [
    {
     "name": "stdout",
     "output_type": "stream",
     "text": [
      "Checking the NULL Values in  WeatherHistory Dataset..\n",
      "\n",
      "Column 'Precip Type' has 520 null values.\n",
      "Column 'Wind Speed (km/h)' has 5 null values.\n",
      "Column 'Visibility (km)' has 8 null values.\n",
      "Column 'Pressure (millibars)' has 7 null values.\n"
     ]
    }
   ],
   "source": [
    "# Checking missing values\n",
    "\n",
    "# Check for null values in the DataFrame\n",
    "null_values = weather_hist.isnull().sum()\n",
    "\n",
    "# Print the count of null values in each column\n",
    "print('Checking the NULL Values in  WeatherHistory Dataset..\\n')\n",
    "\n",
    "# Check if there are any null values\n",
    "if null_values.sum() == 0:\n",
    "    print(f'\\n There are no null values in the given dataset.')\n",
    "else:\n",
    "    columns_with_null_values = null_values[null_values > 0].index.tolist()\n",
    "    # Loop over the columns with null values and print the count of null values for each column\n",
    "    for column in columns_with_null_values:\n",
    "        count = null_values[column]\n",
    "        print(f\"Column '{column}' has {count} null values.\")"
   ]
  },
  {
   "cell_type": "code",
   "execution_count": 374,
   "metadata": {
    "colab": {
     "base_uri": "https://localhost:8080/"
    },
    "id": "WH39rXZqz8xQ",
    "outputId": "f3ceae52-5588-47c9-80ad-838639d6f7c0"
   },
   "outputs": [
    {
     "data": {
      "text/plain": [
       "rain    85191\n",
       "snow    10712\n",
       "?           2\n",
       "%           1\n",
       "Name: Precip Type, dtype: int64"
      ]
     },
     "execution_count": 374,
     "metadata": {},
     "output_type": "execute_result"
    }
   ],
   "source": [
    "# Handling missing values\n",
    "weather_hist['Precip Type'].value_counts()"
   ]
  },
  {
   "cell_type": "code",
   "execution_count": 375,
   "metadata": {
    "colab": {
     "base_uri": "https://localhost:8080/"
    },
    "id": "j0NN-hjY0COv",
    "outputId": "8611a105-83bc-48d8-e2bc-f56975d34b0f"
   },
   "outputs": [
    {
     "data": {
      "text/plain": [
       "rain    85191\n",
       "snow    10712\n",
       "Name: Precip Type, dtype: int64"
      ]
     },
     "execution_count": 375,
     "metadata": {},
     "output_type": "execute_result"
    }
   ],
   "source": [
    "# Remove rows with missing values in 'Precip Type' column\n",
    "weather_hist = weather_hist[(weather_hist['Precip Type'] != '?') & (weather_hist['Precip Type'] != '%')]\n",
    "\n",
    "# Verify the changes\n",
    "weather_hist['Precip Type'].value_counts()\n"
   ]
  },
  {
   "cell_type": "code",
   "execution_count": 376,
   "metadata": {
    "id": "wGdUpTQu1kIQ"
   },
   "outputs": [],
   "source": [
    "# Remove rows with null values in specified columns\n",
    "weather_hist = weather_hist.dropna(subset=['Precip Type', 'Wind Speed (km/h)', 'Visibility (km)', 'Pressure (millibars)'])\n",
    "\n"
   ]
  },
  {
   "cell_type": "code",
   "execution_count": 377,
   "metadata": {
    "colab": {
     "base_uri": "https://localhost:8080/"
    },
    "id": "YI9DKc0y4fhn",
    "outputId": "83a76bfc-8329-4534-8cb8-4d354fc902c2"
   },
   "outputs": [
    {
     "name": "stdout",
     "output_type": "stream",
     "text": [
      "Missing Values:\n",
      " Formatted Date              0\n",
      "Summary                     0\n",
      "Precip Type                 0\n",
      "Temperature (C)             0\n",
      "Apparent Temperature (C)    0\n",
      "Humidity                    0\n",
      "Wind Speed (km/h)           0\n",
      "Wind Bearing (degrees)      0\n",
      "Visibility (km)             0\n",
      "Loud Cover                  0\n",
      "Pressure (millibars)        0\n",
      "Daily Summary               0\n",
      "dtype: int64\n"
     ]
    }
   ],
   "source": [
    "# Re-check Handling Missing Values\n",
    "missing_values = weather_hist.isnull().sum()\n",
    "print(\"Missing Values:\\n\", missing_values)"
   ]
  },
  {
   "cell_type": "code",
   "execution_count": 378,
   "metadata": {
    "colab": {
     "base_uri": "https://localhost:8080/"
    },
    "id": "mqhtgqHK4lFv",
    "outputId": "57c4ea57-e18d-412c-85d7-07030260966a"
   },
   "outputs": [
    {
     "name": "stdout",
     "output_type": "stream",
     "text": [
      "Number of Columns in the Weather History Data frame: 12\n",
      "Number of records in the Weather History data frame: 95883\n"
     ]
    }
   ],
   "source": [
    "#Printing the shape of dataset after deleting Duplicates\n",
    "print(\"Number of Columns in the Weather History Data frame:\", weather_hist.shape[1])\n",
    "print(\"Number of records in the Weather History data frame:\", weather_hist.shape[0])"
   ]
  },
  {
   "cell_type": "code",
   "execution_count": 379,
   "metadata": {
    "id": "uMiTi0r75N_8"
   },
   "outputs": [],
   "source": [
    "# Remove the 'Daily Summary' column from the DataFrame\n",
    "weather_hist = weather_hist.drop('Daily Summary', axis=1)\n"
   ]
  },
  {
   "cell_type": "code",
   "execution_count": 380,
   "metadata": {},
   "outputs": [
    {
     "data": {
      "text/plain": [
       "Partly Cloudy               31625\n",
       "Mostly Cloudy               27907\n",
       "Overcast                    16503\n",
       "Clear                       10744\n",
       "Foggy                        7116\n",
       "Breezy and Overcast           528\n",
       "Breezy and Mostly Cloudy      516\n",
       "Breezy and Partly Cloudy      386\n",
       "Dry and Partly Cloudy          86\n",
       "Windy and Partly Cloudy        67\n",
       "Light Rain                     63\n",
       "Breezy                         54\n",
       "Windy and Overcast             45\n",
       "Humid and Mostly Cloudy        40\n",
       "Drizzle                        39\n",
       "Windy and Mostly Cloudy        35\n",
       "Breezy and Foggy               35\n",
       "Dry                            34\n",
       "Humid and Partly Cloudy        17\n",
       "Dry and Mostly Cloudy          14\n",
       "Rain                           10\n",
       "Windy                           8\n",
       "Humid and Overcast              7\n",
       "Windy and Foggy                 4\n",
       "Name: Summary, dtype: int64"
      ]
     },
     "execution_count": 380,
     "metadata": {},
     "output_type": "execute_result"
    }
   ],
   "source": [
    "weather_hist['Summary'].value_counts()"
   ]
  },
  {
   "cell_type": "markdown",
   "metadata": {
    "id": "8XcfmeSQ45bY"
   },
   "source": [
    "\n",
    "Here are some reasons to justify deleting the 'Daily Summary' column from the entire dataset:\n",
    "\n",
    "Irrelevance for Analysis: The 'Daily Summary' column contains textual descriptions of daily weather summaries. If your analysis focuses more on numerical weather data (such as temperature, humidity, etc.) rather than descriptive summaries, keeping this column may not add value to your analysis.\n",
    "\n",
    "Reduced Memory Usage: Textual data can occupy more memory compared to numerical data. By removing the 'Daily Summary' column, you can reduce the overall memory usage of your dataset, which can be beneficial for large datasets or when working with memory-constrained environments.\n",
    "\n",
    "Simplicity and Focus: Removing irrelevant columns can simplify your dataset and focus your analysis on the key variables of interest. This can make your analysis more manageable and easier to interpret.\n",
    "\n",
    "Enhanced Performance: With fewer columns, operations on the dataset, such as calculations or transformations, may be faster and more efficient, leading to improved performance in data processing tasks.\n",
    "\n",
    "Consistency and Standardization: By removing a column that contains descriptive text, you can ensure that your dataset remains consistent in terms of data types (e.g., numeric data) and standardizes the format for easier processing and analysis."
   ]
  },
  {
   "cell_type": "code",
   "execution_count": 381,
   "metadata": {
    "colab": {
     "base_uri": "https://localhost:8080/"
    },
    "id": "W72XCOc5pdbd",
    "outputId": "da036d08-6225-44a4-a28a-a07315b8a69d"
   },
   "outputs": [
    {
     "name": "stdout",
     "output_type": "stream",
     "text": [
      "Cloudy Skies    76035\n",
      "Clear Skies     10744\n",
      "Foggy Day        7155\n",
      "Breezy Day       1484\n",
      "Windy Day         155\n",
      "Dry Day           134\n",
      "Rainy Day         112\n",
      "Humid Day          64\n",
      "Name: Summary, dtype: int64\n"
     ]
    }
   ],
   "source": [
    "# Define a dictionary mapping current weather summaries to new categories\n",
    "weather_mapping = {\n",
    "    'Clear': 'Clear Skies',\n",
    "    'Partly Cloudy': 'Cloudy Skies',\n",
    "    'Mostly Cloudy': 'Cloudy Skies',\n",
    "    'Overcast': 'Cloudy Skies',\n",
    "    'Foggy': 'Foggy Day',\n",
    "    'Breezy and Foggy': 'Foggy Day',\n",
    "    'Windy and Foggy': 'Foggy Day',\n",
    "    'Breezy': 'Breezy Day',\n",
    "    'Breezy and Mostly Cloudy': 'Breezy Day',\n",
    "    'Breezy and Partly Cloudy': 'Breezy Day',\n",
    "    'Breezy and Overcast': 'Breezy Day',\n",
    "    'Windy': 'Windy Day',\n",
    "    'Windy and Mostly Cloudy': 'Windy Day',\n",
    "    'Windy and Partly Cloudy': 'Windy Day',\n",
    "    'Windy and Overcast': 'Windy Day',\n",
    "    'Humid and Mostly Cloudy': 'Humid Day',\n",
    "    'Humid and Partly Cloudy': 'Humid Day',\n",
    "    'Humid and Overcast': 'Humid Day',\n",
    "    'Dry': 'Dry Day',\n",
    "    'Dry and Mostly Cloudy': 'Dry Day',\n",
    "    'Dry and Partly Cloudy': 'Dry Day',\n",
    "    'Light Rain': 'Rainy Day',\n",
    "    'Drizzle': 'Rainy Day',\n",
    "    'Rain': 'Rainy Day'\n",
    "}\n",
    "\n",
    "# Create a new column 'Weather Category' based on the mapping\n",
    "weather_hist['Summary'] = weather_hist['Summary'].map(weather_mapping)\n",
    "\n",
    "# Display the value counts of the new column\n",
    "print(weather_hist['Summary'].value_counts())\n"
   ]
  },
  {
   "cell_type": "code",
   "execution_count": 382,
   "metadata": {
    "colab": {
     "base_uri": "https://localhost:8080/"
    },
    "id": "me7qz0rk4sgX",
    "outputId": "6c04690e-9d72-4615-d7f4-9eb28397ec92"
   },
   "outputs": [
    {
     "name": "stdout",
     "output_type": "stream",
     "text": [
      "<class 'pandas.core.frame.DataFrame'>\n",
      "Int64Index: 95883 entries, 0 to 96449\n",
      "Data columns (total 11 columns):\n",
      " #   Column                    Non-Null Count  Dtype  \n",
      "---  ------                    --------------  -----  \n",
      " 0   Formatted Date            95883 non-null  object \n",
      " 1   Summary                   95883 non-null  object \n",
      " 2   Precip Type               95883 non-null  object \n",
      " 3   Temperature (C)           95883 non-null  float64\n",
      " 4   Apparent Temperature (C)  95883 non-null  float64\n",
      " 5   Humidity                  95883 non-null  float64\n",
      " 6   Wind Speed (km/h)         95883 non-null  float64\n",
      " 7   Wind Bearing (degrees)    95883 non-null  int64  \n",
      " 8   Visibility (km)           95883 non-null  float64\n",
      " 9   Loud Cover                95883 non-null  int64  \n",
      " 10  Pressure (millibars)      95883 non-null  float64\n",
      "dtypes: float64(6), int64(2), object(3)\n",
      "memory usage: 8.8+ MB\n"
     ]
    }
   ],
   "source": [
    "# Verify the changes\n",
    "weather_hist.info()\n"
   ]
  },
  {
   "cell_type": "code",
   "execution_count": 383,
   "metadata": {
    "colab": {
     "base_uri": "https://localhost:8080/"
    },
    "id": "5ltDdvIC7RGy",
    "outputId": "cf9be659-728f-434b-fcf3-b09efc643659"
   },
   "outputs": [
    {
     "name": "stdout",
     "output_type": "stream",
     "text": [
      "Rows with invalid dates:\n",
      "Empty DataFrame\n",
      "Columns: [Formatted Date, is_valid_date]\n",
      "Index: []\n"
     ]
    }
   ],
   "source": [
    "from datetime import datetime\n",
    "\n",
    "# Define the format string for the date\n",
    "format_string = \"%Y-%m-%d %H:%M:%S.%f %z\"\n",
    "\n",
    "# Function to check if a value is in the correct format\n",
    "def check_date_format(value):\n",
    "    try:\n",
    "        datetime.strptime(value, format_string)\n",
    "        return True\n",
    "    except ValueError:\n",
    "        return False\n",
    "\n",
    "# Apply the function to each value in the 'Formatted Date' column and create a new column 'is_valid_date'\n",
    "weather_hist['is_valid_date'] = weather_hist['Formatted Date'].apply(check_date_format)\n",
    "\n",
    "# Filter the DataFrame to show only rows where 'is_valid_date' is False\n",
    "invalid_dates = weather_hist[~weather_hist['is_valid_date']]\n",
    "\n",
    "# Display the rows with invalid dates\n",
    "print(\"Rows with invalid dates:\")\n",
    "print(invalid_dates[['Formatted Date', 'is_valid_date']])\n"
   ]
  },
  {
   "cell_type": "code",
   "execution_count": 384,
   "metadata": {
    "colab": {
     "base_uri": "https://localhost:8080/",
     "height": 223
    },
    "id": "0DGH1_KG5vUA",
    "outputId": "b4c9d49b-3796-41a3-92bb-05c7c6793190"
   },
   "outputs": [
    {
     "name": "stdout",
     "output_type": "stream",
     "text": [
      "Weather History DataFrame:\n"
     ]
    },
    {
     "data": {
      "text/html": [
       "<div>\n",
       "<style scoped>\n",
       "    .dataframe tbody tr th:only-of-type {\n",
       "        vertical-align: middle;\n",
       "    }\n",
       "\n",
       "    .dataframe tbody tr th {\n",
       "        vertical-align: top;\n",
       "    }\n",
       "\n",
       "    .dataframe thead th {\n",
       "        text-align: right;\n",
       "    }\n",
       "</style>\n",
       "<table border=\"1\" class=\"dataframe\">\n",
       "  <thead>\n",
       "    <tr style=\"text-align: right;\">\n",
       "      <th></th>\n",
       "      <th>Summary</th>\n",
       "      <th>Precip Type</th>\n",
       "      <th>Summary_encoded</th>\n",
       "      <th>Precip Type_encoded</th>\n",
       "      <th>Year</th>\n",
       "      <th>Month</th>\n",
       "      <th>Day</th>\n",
       "      <th>Hour</th>\n",
       "    </tr>\n",
       "  </thead>\n",
       "  <tbody>\n",
       "    <tr>\n",
       "      <th>0</th>\n",
       "      <td>Cloudy Skies</td>\n",
       "      <td>rain</td>\n",
       "      <td>2</td>\n",
       "      <td>0</td>\n",
       "      <td>2006</td>\n",
       "      <td>3</td>\n",
       "      <td>31</td>\n",
       "      <td>22</td>\n",
       "    </tr>\n",
       "    <tr>\n",
       "      <th>1</th>\n",
       "      <td>Cloudy Skies</td>\n",
       "      <td>rain</td>\n",
       "      <td>2</td>\n",
       "      <td>0</td>\n",
       "      <td>2006</td>\n",
       "      <td>3</td>\n",
       "      <td>31</td>\n",
       "      <td>23</td>\n",
       "    </tr>\n",
       "    <tr>\n",
       "      <th>2</th>\n",
       "      <td>Cloudy Skies</td>\n",
       "      <td>rain</td>\n",
       "      <td>2</td>\n",
       "      <td>0</td>\n",
       "      <td>2006</td>\n",
       "      <td>4</td>\n",
       "      <td>1</td>\n",
       "      <td>0</td>\n",
       "    </tr>\n",
       "    <tr>\n",
       "      <th>3</th>\n",
       "      <td>Cloudy Skies</td>\n",
       "      <td>rain</td>\n",
       "      <td>2</td>\n",
       "      <td>0</td>\n",
       "      <td>2006</td>\n",
       "      <td>4</td>\n",
       "      <td>1</td>\n",
       "      <td>1</td>\n",
       "    </tr>\n",
       "    <tr>\n",
       "      <th>4</th>\n",
       "      <td>Cloudy Skies</td>\n",
       "      <td>rain</td>\n",
       "      <td>2</td>\n",
       "      <td>0</td>\n",
       "      <td>2006</td>\n",
       "      <td>4</td>\n",
       "      <td>1</td>\n",
       "      <td>2</td>\n",
       "    </tr>\n",
       "  </tbody>\n",
       "</table>\n",
       "</div>"
      ],
      "text/plain": [
       "        Summary Precip Type  Summary_encoded  Precip Type_encoded  Year  \\\n",
       "0  Cloudy Skies        rain                2                    0  2006   \n",
       "1  Cloudy Skies        rain                2                    0  2006   \n",
       "2  Cloudy Skies        rain                2                    0  2006   \n",
       "3  Cloudy Skies        rain                2                    0  2006   \n",
       "4  Cloudy Skies        rain                2                    0  2006   \n",
       "\n",
       "   Month  Day  Hour  \n",
       "0      3   31    22  \n",
       "1      3   31    23  \n",
       "2      4    1     0  \n",
       "3      4    1     1  \n",
       "4      4    1     2  "
      ]
     },
     "execution_count": 384,
     "metadata": {},
     "output_type": "execute_result"
    }
   ],
   "source": [
    "from sklearn.preprocessing import LabelEncoder\n",
    "\n",
    "# Initialize LabelEncoder\n",
    "label_encoder = LabelEncoder()\n",
    "\n",
    "# Label encode object columns\n",
    "object_columns = ['Summary', 'Precip Type']\n",
    "for col in object_columns:\n",
    "    weather_hist[col+'_encoded'] = label_encoder.fit_transform(weather_hist[col])\n",
    "\n",
    "# Convert 'Formatted Date' to datetime format with utc=True\n",
    "weather_hist['Formatted Date'] = pd.to_datetime(weather_hist['Formatted Date'], utc=True)\n",
    "\n",
    "# Extract year, month, day, and hour\n",
    "weather_hist['Year'] = weather_hist['Formatted Date'].dt.year\n",
    "weather_hist['Month'] = weather_hist['Formatted Date'].dt.month\n",
    "weather_hist['Day'] = weather_hist['Formatted Date'].dt.day\n",
    "weather_hist['Hour'] = weather_hist['Formatted Date'].dt.hour\n",
    "\n",
    "# Create dictionaries for mapping encoded values to original labels\n",
    "summary_mapping = dict(zip(weather_hist['Summary_encoded'], weather_hist['Summary']))\n",
    "precip_mapping = dict(zip(weather_hist['Precip Type_encoded'], weather_hist['Precip Type']))\n",
    "\n",
    "# Display the updated DataFrame and the mapping dictionaries\n",
    "print(\"Weather History DataFrame:\")\n",
    "weather_hist[['Summary', 'Precip Type', 'Summary_encoded', 'Precip Type_encoded', 'Year', 'Month', 'Day', 'Hour']].head()\n",
    "\n"
   ]
  },
  {
   "cell_type": "code",
   "execution_count": null,
   "metadata": {
    "id": "gX7DT0WNocOX"
   },
   "outputs": [],
   "source": []
  },
  {
   "cell_type": "code",
   "execution_count": 385,
   "metadata": {
    "colab": {
     "base_uri": "https://localhost:8080/",
     "height": 652
    },
    "id": "Kgwh6WnCE4iC",
    "outputId": "891b9279-3c53-4c75-cccb-ceae299e44a3"
   },
   "outputs": [
    {
     "data": {
      "text/html": [
       "<div>\n",
       "<style scoped>\n",
       "    .dataframe tbody tr th:only-of-type {\n",
       "        vertical-align: middle;\n",
       "    }\n",
       "\n",
       "    .dataframe tbody tr th {\n",
       "        vertical-align: top;\n",
       "    }\n",
       "\n",
       "    .dataframe thead th {\n",
       "        text-align: right;\n",
       "    }\n",
       "</style>\n",
       "<table border=\"1\" class=\"dataframe\">\n",
       "  <thead>\n",
       "    <tr style=\"text-align: right;\">\n",
       "      <th></th>\n",
       "      <th>Formatted Date</th>\n",
       "      <th>Summary</th>\n",
       "      <th>Precip Type</th>\n",
       "      <th>Temperature (C)</th>\n",
       "      <th>Apparent Temperature (C)</th>\n",
       "      <th>Humidity</th>\n",
       "      <th>Wind Speed (km/h)</th>\n",
       "      <th>Wind Bearing (degrees)</th>\n",
       "      <th>Visibility (km)</th>\n",
       "      <th>Loud Cover</th>\n",
       "      <th>Pressure (millibars)</th>\n",
       "      <th>is_valid_date</th>\n",
       "      <th>Summary_encoded</th>\n",
       "      <th>Precip Type_encoded</th>\n",
       "      <th>Year</th>\n",
       "      <th>Month</th>\n",
       "      <th>Day</th>\n",
       "      <th>Hour</th>\n",
       "    </tr>\n",
       "  </thead>\n",
       "  <tbody>\n",
       "    <tr>\n",
       "      <th>0</th>\n",
       "      <td>2006-03-31 22:00:00+00:00</td>\n",
       "      <td>Cloudy Skies</td>\n",
       "      <td>rain</td>\n",
       "      <td>9.472222</td>\n",
       "      <td>7.388889</td>\n",
       "      <td>0.89</td>\n",
       "      <td>14.1197</td>\n",
       "      <td>251</td>\n",
       "      <td>15.8263</td>\n",
       "      <td>0</td>\n",
       "      <td>1015.13</td>\n",
       "      <td>True</td>\n",
       "      <td>2</td>\n",
       "      <td>0</td>\n",
       "      <td>2006</td>\n",
       "      <td>3</td>\n",
       "      <td>31</td>\n",
       "      <td>22</td>\n",
       "    </tr>\n",
       "    <tr>\n",
       "      <th>1</th>\n",
       "      <td>2006-03-31 23:00:00+00:00</td>\n",
       "      <td>Cloudy Skies</td>\n",
       "      <td>rain</td>\n",
       "      <td>9.355556</td>\n",
       "      <td>7.227778</td>\n",
       "      <td>0.86</td>\n",
       "      <td>14.2646</td>\n",
       "      <td>259</td>\n",
       "      <td>15.8263</td>\n",
       "      <td>0</td>\n",
       "      <td>1015.63</td>\n",
       "      <td>True</td>\n",
       "      <td>2</td>\n",
       "      <td>0</td>\n",
       "      <td>2006</td>\n",
       "      <td>3</td>\n",
       "      <td>31</td>\n",
       "      <td>23</td>\n",
       "    </tr>\n",
       "    <tr>\n",
       "      <th>2</th>\n",
       "      <td>2006-04-01 00:00:00+00:00</td>\n",
       "      <td>Cloudy Skies</td>\n",
       "      <td>rain</td>\n",
       "      <td>9.377778</td>\n",
       "      <td>9.377778</td>\n",
       "      <td>0.89</td>\n",
       "      <td>3.9284</td>\n",
       "      <td>204</td>\n",
       "      <td>14.9569</td>\n",
       "      <td>0</td>\n",
       "      <td>1015.94</td>\n",
       "      <td>True</td>\n",
       "      <td>2</td>\n",
       "      <td>0</td>\n",
       "      <td>2006</td>\n",
       "      <td>4</td>\n",
       "      <td>1</td>\n",
       "      <td>0</td>\n",
       "    </tr>\n",
       "    <tr>\n",
       "      <th>3</th>\n",
       "      <td>2006-04-01 01:00:00+00:00</td>\n",
       "      <td>Cloudy Skies</td>\n",
       "      <td>rain</td>\n",
       "      <td>8.288889</td>\n",
       "      <td>5.944444</td>\n",
       "      <td>0.83</td>\n",
       "      <td>14.1036</td>\n",
       "      <td>269</td>\n",
       "      <td>15.8263</td>\n",
       "      <td>0</td>\n",
       "      <td>1016.41</td>\n",
       "      <td>True</td>\n",
       "      <td>2</td>\n",
       "      <td>0</td>\n",
       "      <td>2006</td>\n",
       "      <td>4</td>\n",
       "      <td>1</td>\n",
       "      <td>1</td>\n",
       "    </tr>\n",
       "    <tr>\n",
       "      <th>4</th>\n",
       "      <td>2006-04-01 02:00:00+00:00</td>\n",
       "      <td>Cloudy Skies</td>\n",
       "      <td>rain</td>\n",
       "      <td>8.755556</td>\n",
       "      <td>6.977778</td>\n",
       "      <td>0.83</td>\n",
       "      <td>11.0446</td>\n",
       "      <td>259</td>\n",
       "      <td>15.8263</td>\n",
       "      <td>0</td>\n",
       "      <td>1016.51</td>\n",
       "      <td>True</td>\n",
       "      <td>2</td>\n",
       "      <td>0</td>\n",
       "      <td>2006</td>\n",
       "      <td>4</td>\n",
       "      <td>1</td>\n",
       "      <td>2</td>\n",
       "    </tr>\n",
       "    <tr>\n",
       "      <th>...</th>\n",
       "      <td>...</td>\n",
       "      <td>...</td>\n",
       "      <td>...</td>\n",
       "      <td>...</td>\n",
       "      <td>...</td>\n",
       "      <td>...</td>\n",
       "      <td>...</td>\n",
       "      <td>...</td>\n",
       "      <td>...</td>\n",
       "      <td>...</td>\n",
       "      <td>...</td>\n",
       "      <td>...</td>\n",
       "      <td>...</td>\n",
       "      <td>...</td>\n",
       "      <td>...</td>\n",
       "      <td>...</td>\n",
       "      <td>...</td>\n",
       "      <td>...</td>\n",
       "    </tr>\n",
       "    <tr>\n",
       "      <th>96445</th>\n",
       "      <td>2016-09-09 17:00:00+00:00</td>\n",
       "      <td>Cloudy Skies</td>\n",
       "      <td>rain</td>\n",
       "      <td>26.016667</td>\n",
       "      <td>26.016667</td>\n",
       "      <td>0.43</td>\n",
       "      <td>10.9963</td>\n",
       "      <td>31</td>\n",
       "      <td>16.1000</td>\n",
       "      <td>0</td>\n",
       "      <td>1014.36</td>\n",
       "      <td>True</td>\n",
       "      <td>2</td>\n",
       "      <td>0</td>\n",
       "      <td>2016</td>\n",
       "      <td>9</td>\n",
       "      <td>9</td>\n",
       "      <td>17</td>\n",
       "    </tr>\n",
       "    <tr>\n",
       "      <th>96446</th>\n",
       "      <td>2016-09-09 18:00:00+00:00</td>\n",
       "      <td>Cloudy Skies</td>\n",
       "      <td>rain</td>\n",
       "      <td>24.583333</td>\n",
       "      <td>24.583333</td>\n",
       "      <td>0.48</td>\n",
       "      <td>10.0947</td>\n",
       "      <td>20</td>\n",
       "      <td>15.5526</td>\n",
       "      <td>0</td>\n",
       "      <td>1015.16</td>\n",
       "      <td>True</td>\n",
       "      <td>2</td>\n",
       "      <td>0</td>\n",
       "      <td>2016</td>\n",
       "      <td>9</td>\n",
       "      <td>9</td>\n",
       "      <td>18</td>\n",
       "    </tr>\n",
       "    <tr>\n",
       "      <th>96447</th>\n",
       "      <td>2016-09-09 19:00:00+00:00</td>\n",
       "      <td>Cloudy Skies</td>\n",
       "      <td>rain</td>\n",
       "      <td>22.038889</td>\n",
       "      <td>22.038889</td>\n",
       "      <td>0.56</td>\n",
       "      <td>8.9838</td>\n",
       "      <td>30</td>\n",
       "      <td>16.1000</td>\n",
       "      <td>0</td>\n",
       "      <td>1015.66</td>\n",
       "      <td>True</td>\n",
       "      <td>2</td>\n",
       "      <td>0</td>\n",
       "      <td>2016</td>\n",
       "      <td>9</td>\n",
       "      <td>9</td>\n",
       "      <td>19</td>\n",
       "    </tr>\n",
       "    <tr>\n",
       "      <th>96448</th>\n",
       "      <td>2016-09-09 20:00:00+00:00</td>\n",
       "      <td>Cloudy Skies</td>\n",
       "      <td>rain</td>\n",
       "      <td>21.522222</td>\n",
       "      <td>21.522222</td>\n",
       "      <td>0.60</td>\n",
       "      <td>10.5294</td>\n",
       "      <td>20</td>\n",
       "      <td>16.1000</td>\n",
       "      <td>0</td>\n",
       "      <td>1015.95</td>\n",
       "      <td>True</td>\n",
       "      <td>2</td>\n",
       "      <td>0</td>\n",
       "      <td>2016</td>\n",
       "      <td>9</td>\n",
       "      <td>9</td>\n",
       "      <td>20</td>\n",
       "    </tr>\n",
       "    <tr>\n",
       "      <th>96449</th>\n",
       "      <td>2016-09-09 21:00:00+00:00</td>\n",
       "      <td>Cloudy Skies</td>\n",
       "      <td>rain</td>\n",
       "      <td>20.438889</td>\n",
       "      <td>20.438889</td>\n",
       "      <td>0.61</td>\n",
       "      <td>5.8765</td>\n",
       "      <td>39</td>\n",
       "      <td>15.5204</td>\n",
       "      <td>0</td>\n",
       "      <td>1016.16</td>\n",
       "      <td>True</td>\n",
       "      <td>2</td>\n",
       "      <td>0</td>\n",
       "      <td>2016</td>\n",
       "      <td>9</td>\n",
       "      <td>9</td>\n",
       "      <td>21</td>\n",
       "    </tr>\n",
       "  </tbody>\n",
       "</table>\n",
       "<p>95883 rows × 18 columns</p>\n",
       "</div>"
      ],
      "text/plain": [
       "                 Formatted Date       Summary Precip Type  Temperature (C)  \\\n",
       "0     2006-03-31 22:00:00+00:00  Cloudy Skies        rain         9.472222   \n",
       "1     2006-03-31 23:00:00+00:00  Cloudy Skies        rain         9.355556   \n",
       "2     2006-04-01 00:00:00+00:00  Cloudy Skies        rain         9.377778   \n",
       "3     2006-04-01 01:00:00+00:00  Cloudy Skies        rain         8.288889   \n",
       "4     2006-04-01 02:00:00+00:00  Cloudy Skies        rain         8.755556   \n",
       "...                         ...           ...         ...              ...   \n",
       "96445 2016-09-09 17:00:00+00:00  Cloudy Skies        rain        26.016667   \n",
       "96446 2016-09-09 18:00:00+00:00  Cloudy Skies        rain        24.583333   \n",
       "96447 2016-09-09 19:00:00+00:00  Cloudy Skies        rain        22.038889   \n",
       "96448 2016-09-09 20:00:00+00:00  Cloudy Skies        rain        21.522222   \n",
       "96449 2016-09-09 21:00:00+00:00  Cloudy Skies        rain        20.438889   \n",
       "\n",
       "       Apparent Temperature (C)  Humidity  Wind Speed (km/h)  \\\n",
       "0                      7.388889      0.89            14.1197   \n",
       "1                      7.227778      0.86            14.2646   \n",
       "2                      9.377778      0.89             3.9284   \n",
       "3                      5.944444      0.83            14.1036   \n",
       "4                      6.977778      0.83            11.0446   \n",
       "...                         ...       ...                ...   \n",
       "96445                 26.016667      0.43            10.9963   \n",
       "96446                 24.583333      0.48            10.0947   \n",
       "96447                 22.038889      0.56             8.9838   \n",
       "96448                 21.522222      0.60            10.5294   \n",
       "96449                 20.438889      0.61             5.8765   \n",
       "\n",
       "       Wind Bearing (degrees)  Visibility (km)  Loud Cover  \\\n",
       "0                         251          15.8263           0   \n",
       "1                         259          15.8263           0   \n",
       "2                         204          14.9569           0   \n",
       "3                         269          15.8263           0   \n",
       "4                         259          15.8263           0   \n",
       "...                       ...              ...         ...   \n",
       "96445                      31          16.1000           0   \n",
       "96446                      20          15.5526           0   \n",
       "96447                      30          16.1000           0   \n",
       "96448                      20          16.1000           0   \n",
       "96449                      39          15.5204           0   \n",
       "\n",
       "       Pressure (millibars)  is_valid_date  Summary_encoded  \\\n",
       "0                   1015.13           True                2   \n",
       "1                   1015.63           True                2   \n",
       "2                   1015.94           True                2   \n",
       "3                   1016.41           True                2   \n",
       "4                   1016.51           True                2   \n",
       "...                     ...            ...              ...   \n",
       "96445               1014.36           True                2   \n",
       "96446               1015.16           True                2   \n",
       "96447               1015.66           True                2   \n",
       "96448               1015.95           True                2   \n",
       "96449               1016.16           True                2   \n",
       "\n",
       "       Precip Type_encoded  Year  Month  Day  Hour  \n",
       "0                        0  2006      3   31    22  \n",
       "1                        0  2006      3   31    23  \n",
       "2                        0  2006      4    1     0  \n",
       "3                        0  2006      4    1     1  \n",
       "4                        0  2006      4    1     2  \n",
       "...                    ...   ...    ...  ...   ...  \n",
       "96445                    0  2016      9    9    17  \n",
       "96446                    0  2016      9    9    18  \n",
       "96447                    0  2016      9    9    19  \n",
       "96448                    0  2016      9    9    20  \n",
       "96449                    0  2016      9    9    21  \n",
       "\n",
       "[95883 rows x 18 columns]"
      ]
     },
     "execution_count": 385,
     "metadata": {},
     "output_type": "execute_result"
    }
   ],
   "source": [
    "weather_hist"
   ]
  },
  {
   "cell_type": "code",
   "execution_count": 386,
   "metadata": {
    "colab": {
     "base_uri": "https://localhost:8080/"
    },
    "id": "_4gWihDRE5b0",
    "outputId": "ae7ccf23-d580-4470-973a-28a65703a665"
   },
   "outputs": [
    {
     "name": "stdout",
     "output_type": "stream",
     "text": [
      "\n",
      "Summary Mapping:\n"
     ]
    },
    {
     "data": {
      "text/plain": [
       "{2: 'Cloudy Skies',\n",
       " 4: 'Foggy Day',\n",
       " 0: 'Breezy Day',\n",
       " 1: 'Clear Skies',\n",
       " 5: 'Humid Day',\n",
       " 7: 'Windy Day',\n",
       " 3: 'Dry Day',\n",
       " 6: 'Rainy Day'}"
      ]
     },
     "execution_count": 386,
     "metadata": {},
     "output_type": "execute_result"
    }
   ],
   "source": [
    "print(\"\\nSummary Mapping:\")\n",
    "\n",
    "summary_mapping"
   ]
  },
  {
   "cell_type": "code",
   "execution_count": 387,
   "metadata": {
    "colab": {
     "base_uri": "https://localhost:8080/"
    },
    "id": "qHskC-paE5gg",
    "outputId": "7833ed7f-a1da-42d0-fb7b-5407064e5263"
   },
   "outputs": [
    {
     "name": "stdout",
     "output_type": "stream",
     "text": [
      "\n",
      "Precip Type Mapping:\n"
     ]
    },
    {
     "data": {
      "text/plain": [
       "{0: 'rain', 1: 'snow'}"
      ]
     },
     "execution_count": 387,
     "metadata": {},
     "output_type": "execute_result"
    }
   ],
   "source": [
    "print(\"\\nPrecip Type Mapping:\")\n",
    "\n",
    "\n",
    "precip_mapping"
   ]
  },
  {
   "cell_type": "code",
   "execution_count": 388,
   "metadata": {
    "colab": {
     "base_uri": "https://localhost:8080/"
    },
    "id": "f-iiRpjeCm-T",
    "outputId": "5858a913-3ff7-40d0-d485-62650f4002ec"
   },
   "outputs": [
    {
     "name": "stdout",
     "output_type": "stream",
     "text": [
      "Summary Mapping Index:\n",
      "Index(['Cloudy Skies', 'Foggy Day', 'Breezy Day', 'Clear Skies', 'Humid Day',\n",
      "       'Windy Day', 'Dry Day', 'Rainy Day'],\n",
      "      dtype='object')\n",
      "\n",
      "Precip Type Mapping Index:\n",
      "Index(['rain', 'snow'], dtype='object')\n"
     ]
    }
   ],
   "source": [
    "# Assuming 'weather_hist' is your DataFrame\n",
    "\n",
    "# Use factorize to encode 'Summary' and 'Precip Type' columns\n",
    "weather_hist['Summary_encoded'], summary_mapping_index = weather_hist['Summary'].factorize()\n",
    "weather_hist['Precip Type_encoded'], precip_mapping_index = weather_hist['Precip Type'].factorize()\n",
    "\n",
    "# Display the mapping indexes\n",
    "print(\"Summary Mapping Index:\")\n",
    "print(summary_mapping_index)\n",
    "\n",
    "print(\"\\nPrecip Type Mapping Index:\")\n",
    "print(precip_mapping_index)\n"
   ]
  },
  {
   "cell_type": "code",
   "execution_count": 389,
   "metadata": {
    "colab": {
     "base_uri": "https://localhost:8080/"
    },
    "id": "JzmSI0tsDrIP",
    "outputId": "11ff7ff2-548d-4afc-a160-6d60546a4beb"
   },
   "outputs": [
    {
     "name": "stdout",
     "output_type": "stream",
     "text": [
      "Unique values in 'Summary' column before encoding:\n",
      "['Cloudy Skies' 'Foggy Day' 'Breezy Day' 'Clear Skies' 'Humid Day'\n",
      " 'Windy Day' 'Dry Day' 'Rainy Day']\n",
      "\n",
      "Unique values in 'Precip Type' column before encoding:\n",
      "['rain' 'snow']\n"
     ]
    }
   ],
   "source": [
    "# Assuming df is your DataFrame\n",
    "\n",
    "# Get the unique values in the 'Summary' column before encoding\n",
    "summary_unique_values = weather_hist['Summary'].unique()\n",
    "\n",
    "# Get the unique values in the 'Precip Type' column before encoding\n",
    "precip_unique_values = weather_hist['Precip Type'].unique()\n",
    "\n",
    "# Display the unique values\n",
    "print(\"Unique values in 'Summary' column before encoding:\")\n",
    "print(summary_unique_values)\n",
    "\n",
    "print(\"\\nUnique values in 'Precip Type' column before encoding:\")\n",
    "print(precip_unique_values)\n"
   ]
  },
  {
   "cell_type": "code",
   "execution_count": 390,
   "metadata": {
    "colab": {
     "base_uri": "https://localhost:8080/",
     "height": 278
    },
    "id": "JYcYFdxqG8y9",
    "outputId": "8523a920-db98-400f-8f7a-aa3ddc4dd34e"
   },
   "outputs": [
    {
     "name": "stdout",
     "output_type": "stream",
     "text": [
      "Encoded Weather History DataFrame:\n"
     ]
    },
    {
     "data": {
      "text/html": [
       "<div>\n",
       "<style scoped>\n",
       "    .dataframe tbody tr th:only-of-type {\n",
       "        vertical-align: middle;\n",
       "    }\n",
       "\n",
       "    .dataframe tbody tr th {\n",
       "        vertical-align: top;\n",
       "    }\n",
       "\n",
       "    .dataframe thead th {\n",
       "        text-align: right;\n",
       "    }\n",
       "</style>\n",
       "<table border=\"1\" class=\"dataframe\">\n",
       "  <thead>\n",
       "    <tr style=\"text-align: right;\">\n",
       "      <th></th>\n",
       "      <th>Temperature (C)</th>\n",
       "      <th>Apparent Temperature (C)</th>\n",
       "      <th>Humidity</th>\n",
       "      <th>Wind Speed (km/h)</th>\n",
       "      <th>Wind Bearing (degrees)</th>\n",
       "      <th>Visibility (km)</th>\n",
       "      <th>Loud Cover</th>\n",
       "      <th>Pressure (millibars)</th>\n",
       "      <th>is_valid_date</th>\n",
       "      <th>Summary_encoded</th>\n",
       "      <th>Precip Type_encoded</th>\n",
       "      <th>Year</th>\n",
       "      <th>Month</th>\n",
       "      <th>Day</th>\n",
       "      <th>Hour</th>\n",
       "    </tr>\n",
       "  </thead>\n",
       "  <tbody>\n",
       "    <tr>\n",
       "      <th>0</th>\n",
       "      <td>9.472222</td>\n",
       "      <td>7.388889</td>\n",
       "      <td>0.89</td>\n",
       "      <td>14.1197</td>\n",
       "      <td>251</td>\n",
       "      <td>15.8263</td>\n",
       "      <td>0</td>\n",
       "      <td>1015.13</td>\n",
       "      <td>True</td>\n",
       "      <td>0</td>\n",
       "      <td>0</td>\n",
       "      <td>2006</td>\n",
       "      <td>3</td>\n",
       "      <td>31</td>\n",
       "      <td>22</td>\n",
       "    </tr>\n",
       "    <tr>\n",
       "      <th>1</th>\n",
       "      <td>9.355556</td>\n",
       "      <td>7.227778</td>\n",
       "      <td>0.86</td>\n",
       "      <td>14.2646</td>\n",
       "      <td>259</td>\n",
       "      <td>15.8263</td>\n",
       "      <td>0</td>\n",
       "      <td>1015.63</td>\n",
       "      <td>True</td>\n",
       "      <td>0</td>\n",
       "      <td>0</td>\n",
       "      <td>2006</td>\n",
       "      <td>3</td>\n",
       "      <td>31</td>\n",
       "      <td>23</td>\n",
       "    </tr>\n",
       "    <tr>\n",
       "      <th>2</th>\n",
       "      <td>9.377778</td>\n",
       "      <td>9.377778</td>\n",
       "      <td>0.89</td>\n",
       "      <td>3.9284</td>\n",
       "      <td>204</td>\n",
       "      <td>14.9569</td>\n",
       "      <td>0</td>\n",
       "      <td>1015.94</td>\n",
       "      <td>True</td>\n",
       "      <td>0</td>\n",
       "      <td>0</td>\n",
       "      <td>2006</td>\n",
       "      <td>4</td>\n",
       "      <td>1</td>\n",
       "      <td>0</td>\n",
       "    </tr>\n",
       "    <tr>\n",
       "      <th>3</th>\n",
       "      <td>8.288889</td>\n",
       "      <td>5.944444</td>\n",
       "      <td>0.83</td>\n",
       "      <td>14.1036</td>\n",
       "      <td>269</td>\n",
       "      <td>15.8263</td>\n",
       "      <td>0</td>\n",
       "      <td>1016.41</td>\n",
       "      <td>True</td>\n",
       "      <td>0</td>\n",
       "      <td>0</td>\n",
       "      <td>2006</td>\n",
       "      <td>4</td>\n",
       "      <td>1</td>\n",
       "      <td>1</td>\n",
       "    </tr>\n",
       "    <tr>\n",
       "      <th>4</th>\n",
       "      <td>8.755556</td>\n",
       "      <td>6.977778</td>\n",
       "      <td>0.83</td>\n",
       "      <td>11.0446</td>\n",
       "      <td>259</td>\n",
       "      <td>15.8263</td>\n",
       "      <td>0</td>\n",
       "      <td>1016.51</td>\n",
       "      <td>True</td>\n",
       "      <td>0</td>\n",
       "      <td>0</td>\n",
       "      <td>2006</td>\n",
       "      <td>4</td>\n",
       "      <td>1</td>\n",
       "      <td>2</td>\n",
       "    </tr>\n",
       "  </tbody>\n",
       "</table>\n",
       "</div>"
      ],
      "text/plain": [
       "   Temperature (C)  Apparent Temperature (C)  Humidity  Wind Speed (km/h)  \\\n",
       "0         9.472222                  7.388889      0.89            14.1197   \n",
       "1         9.355556                  7.227778      0.86            14.2646   \n",
       "2         9.377778                  9.377778      0.89             3.9284   \n",
       "3         8.288889                  5.944444      0.83            14.1036   \n",
       "4         8.755556                  6.977778      0.83            11.0446   \n",
       "\n",
       "   Wind Bearing (degrees)  Visibility (km)  Loud Cover  Pressure (millibars)  \\\n",
       "0                     251          15.8263           0               1015.13   \n",
       "1                     259          15.8263           0               1015.63   \n",
       "2                     204          14.9569           0               1015.94   \n",
       "3                     269          15.8263           0               1016.41   \n",
       "4                     259          15.8263           0               1016.51   \n",
       "\n",
       "   is_valid_date  Summary_encoded  Precip Type_encoded  Year  Month  Day  Hour  \n",
       "0           True                0                    0  2006      3   31    22  \n",
       "1           True                0                    0  2006      3   31    23  \n",
       "2           True                0                    0  2006      4    1     0  \n",
       "3           True                0                    0  2006      4    1     1  \n",
       "4           True                0                    0  2006      4    1     2  "
      ]
     },
     "execution_count": 390,
     "metadata": {},
     "output_type": "execute_result"
    }
   ],
   "source": [
    "# Drop original categorical columns\n",
    "weather_hist = weather_hist.drop(columns=['Summary', 'Precip Type', 'Formatted Date'])\n",
    "\n",
    "# Display the updated DataFrame\n",
    "print(\"Encoded Weather History DataFrame:\")\n",
    "weather_hist.head()\n"
   ]
  },
  {
   "cell_type": "code",
   "execution_count": 391,
   "metadata": {
    "colab": {
     "base_uri": "https://localhost:8080/"
    },
    "id": "MdwLBWPr6eho",
    "outputId": "195586dd-9e46-441f-9661-0bf94d102010"
   },
   "outputs": [
    {
     "data": {
      "text/plain": [
       "0"
      ]
     },
     "execution_count": 391,
     "metadata": {},
     "output_type": "execute_result"
    }
   ],
   "source": [
    "weather_hist['is_valid_date'].value_counts().get(False, 0)\n"
   ]
  },
  {
   "cell_type": "code",
   "execution_count": 392,
   "metadata": {
    "colab": {
     "base_uri": "https://localhost:8080/"
    },
    "id": "XrSDVP6iADCD",
    "outputId": "04d3a4b7-3be0-4ce3-90c8-ca1f78fe02be"
   },
   "outputs": [
    {
     "data": {
      "text/plain": [
       "(95883, 15)"
      ]
     },
     "execution_count": 392,
     "metadata": {},
     "output_type": "execute_result"
    }
   ],
   "source": [
    "weather_hist.shape"
   ]
  },
  {
   "cell_type": "code",
   "execution_count": 394,
   "metadata": {
    "colab": {
     "base_uri": "https://localhost:8080/",
     "height": 261
    },
    "id": "C0BYQuZ8BwbF",
    "outputId": "6191909d-983b-4ec1-e362-14efdf6ca4b8"
   },
   "outputs": [
    {
     "ename": "KeyError",
     "evalue": "\"['is_valid_date'] not found in axis\"",
     "output_type": "error",
     "traceback": [
      "\u001b[1;31m---------------------------------------------------------------------------\u001b[0m",
      "\u001b[1;31mKeyError\u001b[0m                                  Traceback (most recent call last)",
      "\u001b[1;32m~\\AppData\\Local\\Temp\\ipykernel_16280\\3413508598.py\u001b[0m in \u001b[0;36m<module>\u001b[1;34m\u001b[0m\n\u001b[0;32m      1\u001b[0m \u001b[1;31m# Assuming df is your DataFrame\u001b[0m\u001b[1;33m\u001b[0m\u001b[1;33m\u001b[0m\u001b[0m\n\u001b[0;32m      2\u001b[0m \u001b[0mcolumns_to_remove\u001b[0m \u001b[1;33m=\u001b[0m \u001b[1;33m[\u001b[0m\u001b[1;34m'is_valid_date'\u001b[0m\u001b[1;33m]\u001b[0m\u001b[1;33m\u001b[0m\u001b[1;33m\u001b[0m\u001b[0m\n\u001b[1;32m----> 3\u001b[1;33m \u001b[0mweather_hist\u001b[0m \u001b[1;33m=\u001b[0m \u001b[0mweather_hist\u001b[0m\u001b[1;33m.\u001b[0m\u001b[0mdrop\u001b[0m\u001b[1;33m(\u001b[0m\u001b[0mcolumns\u001b[0m\u001b[1;33m=\u001b[0m\u001b[0mcolumns_to_remove\u001b[0m\u001b[1;33m)\u001b[0m\u001b[1;33m\u001b[0m\u001b[1;33m\u001b[0m\u001b[0m\n\u001b[0m\u001b[0;32m      4\u001b[0m \u001b[1;33m\u001b[0m\u001b[0m\n\u001b[0;32m      5\u001b[0m \u001b[1;31m# Display the updated DataFrame\u001b[0m\u001b[1;33m\u001b[0m\u001b[1;33m\u001b[0m\u001b[0m\n",
      "\u001b[1;32m~\\anaconda3\\lib\\site-packages\\pandas\\util\\_decorators.py\u001b[0m in \u001b[0;36mwrapper\u001b[1;34m(*args, **kwargs)\u001b[0m\n\u001b[0;32m    309\u001b[0m                     \u001b[0mstacklevel\u001b[0m\u001b[1;33m=\u001b[0m\u001b[0mstacklevel\u001b[0m\u001b[1;33m,\u001b[0m\u001b[1;33m\u001b[0m\u001b[1;33m\u001b[0m\u001b[0m\n\u001b[0;32m    310\u001b[0m                 )\n\u001b[1;32m--> 311\u001b[1;33m             \u001b[1;32mreturn\u001b[0m \u001b[0mfunc\u001b[0m\u001b[1;33m(\u001b[0m\u001b[1;33m*\u001b[0m\u001b[0margs\u001b[0m\u001b[1;33m,\u001b[0m \u001b[1;33m**\u001b[0m\u001b[0mkwargs\u001b[0m\u001b[1;33m)\u001b[0m\u001b[1;33m\u001b[0m\u001b[1;33m\u001b[0m\u001b[0m\n\u001b[0m\u001b[0;32m    312\u001b[0m \u001b[1;33m\u001b[0m\u001b[0m\n\u001b[0;32m    313\u001b[0m         \u001b[1;32mreturn\u001b[0m \u001b[0mwrapper\u001b[0m\u001b[1;33m\u001b[0m\u001b[1;33m\u001b[0m\u001b[0m\n",
      "\u001b[1;32m~\\anaconda3\\lib\\site-packages\\pandas\\core\\frame.py\u001b[0m in \u001b[0;36mdrop\u001b[1;34m(self, labels, axis, index, columns, level, inplace, errors)\u001b[0m\n\u001b[0;32m   4955\u001b[0m                 \u001b[0mweight\u001b[0m  \u001b[1;36m1.0\u001b[0m     \u001b[1;36m0.8\u001b[0m\u001b[1;33m\u001b[0m\u001b[1;33m\u001b[0m\u001b[0m\n\u001b[0;32m   4956\u001b[0m         \"\"\"\n\u001b[1;32m-> 4957\u001b[1;33m         return super().drop(\n\u001b[0m\u001b[0;32m   4958\u001b[0m             \u001b[0mlabels\u001b[0m\u001b[1;33m=\u001b[0m\u001b[0mlabels\u001b[0m\u001b[1;33m,\u001b[0m\u001b[1;33m\u001b[0m\u001b[1;33m\u001b[0m\u001b[0m\n\u001b[0;32m   4959\u001b[0m             \u001b[0maxis\u001b[0m\u001b[1;33m=\u001b[0m\u001b[0maxis\u001b[0m\u001b[1;33m,\u001b[0m\u001b[1;33m\u001b[0m\u001b[1;33m\u001b[0m\u001b[0m\n",
      "\u001b[1;32m~\\anaconda3\\lib\\site-packages\\pandas\\core\\generic.py\u001b[0m in \u001b[0;36mdrop\u001b[1;34m(self, labels, axis, index, columns, level, inplace, errors)\u001b[0m\n\u001b[0;32m   4265\u001b[0m         \u001b[1;32mfor\u001b[0m \u001b[0maxis\u001b[0m\u001b[1;33m,\u001b[0m \u001b[0mlabels\u001b[0m \u001b[1;32min\u001b[0m \u001b[0maxes\u001b[0m\u001b[1;33m.\u001b[0m\u001b[0mitems\u001b[0m\u001b[1;33m(\u001b[0m\u001b[1;33m)\u001b[0m\u001b[1;33m:\u001b[0m\u001b[1;33m\u001b[0m\u001b[1;33m\u001b[0m\u001b[0m\n\u001b[0;32m   4266\u001b[0m             \u001b[1;32mif\u001b[0m \u001b[0mlabels\u001b[0m \u001b[1;32mis\u001b[0m \u001b[1;32mnot\u001b[0m \u001b[1;32mNone\u001b[0m\u001b[1;33m:\u001b[0m\u001b[1;33m\u001b[0m\u001b[1;33m\u001b[0m\u001b[0m\n\u001b[1;32m-> 4267\u001b[1;33m                 \u001b[0mobj\u001b[0m \u001b[1;33m=\u001b[0m \u001b[0mobj\u001b[0m\u001b[1;33m.\u001b[0m\u001b[0m_drop_axis\u001b[0m\u001b[1;33m(\u001b[0m\u001b[0mlabels\u001b[0m\u001b[1;33m,\u001b[0m \u001b[0maxis\u001b[0m\u001b[1;33m,\u001b[0m \u001b[0mlevel\u001b[0m\u001b[1;33m=\u001b[0m\u001b[0mlevel\u001b[0m\u001b[1;33m,\u001b[0m \u001b[0merrors\u001b[0m\u001b[1;33m=\u001b[0m\u001b[0merrors\u001b[0m\u001b[1;33m)\u001b[0m\u001b[1;33m\u001b[0m\u001b[1;33m\u001b[0m\u001b[0m\n\u001b[0m\u001b[0;32m   4268\u001b[0m \u001b[1;33m\u001b[0m\u001b[0m\n\u001b[0;32m   4269\u001b[0m         \u001b[1;32mif\u001b[0m \u001b[0minplace\u001b[0m\u001b[1;33m:\u001b[0m\u001b[1;33m\u001b[0m\u001b[1;33m\u001b[0m\u001b[0m\n",
      "\u001b[1;32m~\\anaconda3\\lib\\site-packages\\pandas\\core\\generic.py\u001b[0m in \u001b[0;36m_drop_axis\u001b[1;34m(self, labels, axis, level, errors, consolidate, only_slice)\u001b[0m\n\u001b[0;32m   4309\u001b[0m                 \u001b[0mnew_axis\u001b[0m \u001b[1;33m=\u001b[0m \u001b[0maxis\u001b[0m\u001b[1;33m.\u001b[0m\u001b[0mdrop\u001b[0m\u001b[1;33m(\u001b[0m\u001b[0mlabels\u001b[0m\u001b[1;33m,\u001b[0m \u001b[0mlevel\u001b[0m\u001b[1;33m=\u001b[0m\u001b[0mlevel\u001b[0m\u001b[1;33m,\u001b[0m \u001b[0merrors\u001b[0m\u001b[1;33m=\u001b[0m\u001b[0merrors\u001b[0m\u001b[1;33m)\u001b[0m\u001b[1;33m\u001b[0m\u001b[1;33m\u001b[0m\u001b[0m\n\u001b[0;32m   4310\u001b[0m             \u001b[1;32melse\u001b[0m\u001b[1;33m:\u001b[0m\u001b[1;33m\u001b[0m\u001b[1;33m\u001b[0m\u001b[0m\n\u001b[1;32m-> 4311\u001b[1;33m                 \u001b[0mnew_axis\u001b[0m \u001b[1;33m=\u001b[0m \u001b[0maxis\u001b[0m\u001b[1;33m.\u001b[0m\u001b[0mdrop\u001b[0m\u001b[1;33m(\u001b[0m\u001b[0mlabels\u001b[0m\u001b[1;33m,\u001b[0m \u001b[0merrors\u001b[0m\u001b[1;33m=\u001b[0m\u001b[0merrors\u001b[0m\u001b[1;33m)\u001b[0m\u001b[1;33m\u001b[0m\u001b[1;33m\u001b[0m\u001b[0m\n\u001b[0m\u001b[0;32m   4312\u001b[0m             \u001b[0mindexer\u001b[0m \u001b[1;33m=\u001b[0m \u001b[0maxis\u001b[0m\u001b[1;33m.\u001b[0m\u001b[0mget_indexer\u001b[0m\u001b[1;33m(\u001b[0m\u001b[0mnew_axis\u001b[0m\u001b[1;33m)\u001b[0m\u001b[1;33m\u001b[0m\u001b[1;33m\u001b[0m\u001b[0m\n\u001b[0;32m   4313\u001b[0m \u001b[1;33m\u001b[0m\u001b[0m\n",
      "\u001b[1;32m~\\anaconda3\\lib\\site-packages\\pandas\\core\\indexes\\base.py\u001b[0m in \u001b[0;36mdrop\u001b[1;34m(self, labels, errors)\u001b[0m\n\u001b[0;32m   6659\u001b[0m         \u001b[1;32mif\u001b[0m \u001b[0mmask\u001b[0m\u001b[1;33m.\u001b[0m\u001b[0many\u001b[0m\u001b[1;33m(\u001b[0m\u001b[1;33m)\u001b[0m\u001b[1;33m:\u001b[0m\u001b[1;33m\u001b[0m\u001b[1;33m\u001b[0m\u001b[0m\n\u001b[0;32m   6660\u001b[0m             \u001b[1;32mif\u001b[0m \u001b[0merrors\u001b[0m \u001b[1;33m!=\u001b[0m \u001b[1;34m\"ignore\"\u001b[0m\u001b[1;33m:\u001b[0m\u001b[1;33m\u001b[0m\u001b[1;33m\u001b[0m\u001b[0m\n\u001b[1;32m-> 6661\u001b[1;33m                 \u001b[1;32mraise\u001b[0m \u001b[0mKeyError\u001b[0m\u001b[1;33m(\u001b[0m\u001b[1;34mf\"{list(labels[mask])} not found in axis\"\u001b[0m\u001b[1;33m)\u001b[0m\u001b[1;33m\u001b[0m\u001b[1;33m\u001b[0m\u001b[0m\n\u001b[0m\u001b[0;32m   6662\u001b[0m             \u001b[0mindexer\u001b[0m \u001b[1;33m=\u001b[0m \u001b[0mindexer\u001b[0m\u001b[1;33m[\u001b[0m\u001b[1;33m~\u001b[0m\u001b[0mmask\u001b[0m\u001b[1;33m]\u001b[0m\u001b[1;33m\u001b[0m\u001b[1;33m\u001b[0m\u001b[0m\n\u001b[0;32m   6663\u001b[0m         \u001b[1;32mreturn\u001b[0m \u001b[0mself\u001b[0m\u001b[1;33m.\u001b[0m\u001b[0mdelete\u001b[0m\u001b[1;33m(\u001b[0m\u001b[0mindexer\u001b[0m\u001b[1;33m)\u001b[0m\u001b[1;33m\u001b[0m\u001b[1;33m\u001b[0m\u001b[0m\n",
      "\u001b[1;31mKeyError\u001b[0m: \"['is_valid_date'] not found in axis\""
     ]
    }
   ],
   "source": [
    "# Assuming df is your DataFrame\n",
    "columns_to_remove = ['is_valid_date']\n",
    "weather_hist = weather_hist.drop(columns=columns_to_remove)\n",
    "\n",
    "# Display the updated DataFrame\n",
    "weather_hist.head()\n"
   ]
  },
  {
   "cell_type": "code",
   "execution_count": 395,
   "metadata": {
    "colab": {
     "base_uri": "https://localhost:8080/",
     "height": 258
    },
    "id": "nWnvOkIrIGjs",
    "outputId": "6508f09a-7394-4adb-8269-2d70a06bcec3"
   },
   "outputs": [
    {
     "name": "stdout",
     "output_type": "stream",
     "text": [
      "Updated Weather History DataFrame:\n"
     ]
    },
    {
     "data": {
      "text/html": [
       "<div>\n",
       "<style scoped>\n",
       "    .dataframe tbody tr th:only-of-type {\n",
       "        vertical-align: middle;\n",
       "    }\n",
       "\n",
       "    .dataframe tbody tr th {\n",
       "        vertical-align: top;\n",
       "    }\n",
       "\n",
       "    .dataframe thead th {\n",
       "        text-align: right;\n",
       "    }\n",
       "</style>\n",
       "<table border=\"1\" class=\"dataframe\">\n",
       "  <thead>\n",
       "    <tr style=\"text-align: right;\">\n",
       "      <th></th>\n",
       "      <th>Temperature (C)</th>\n",
       "      <th>Apparent Temperature (C)</th>\n",
       "      <th>Humidity</th>\n",
       "      <th>Wind Speed (km/h)</th>\n",
       "      <th>Wind Bearing (degrees)</th>\n",
       "      <th>Visibility (km)</th>\n",
       "      <th>Loud Cover</th>\n",
       "      <th>Pressure (millibars)</th>\n",
       "      <th>Summary</th>\n",
       "      <th>Precip Type</th>\n",
       "      <th>Year</th>\n",
       "      <th>Month</th>\n",
       "      <th>Day</th>\n",
       "      <th>Hour</th>\n",
       "    </tr>\n",
       "  </thead>\n",
       "  <tbody>\n",
       "    <tr>\n",
       "      <th>0</th>\n",
       "      <td>9.472222</td>\n",
       "      <td>7.388889</td>\n",
       "      <td>0.89</td>\n",
       "      <td>14.1197</td>\n",
       "      <td>251</td>\n",
       "      <td>15.8263</td>\n",
       "      <td>0</td>\n",
       "      <td>1015.13</td>\n",
       "      <td>0</td>\n",
       "      <td>0</td>\n",
       "      <td>2006</td>\n",
       "      <td>3</td>\n",
       "      <td>31</td>\n",
       "      <td>22</td>\n",
       "    </tr>\n",
       "    <tr>\n",
       "      <th>1</th>\n",
       "      <td>9.355556</td>\n",
       "      <td>7.227778</td>\n",
       "      <td>0.86</td>\n",
       "      <td>14.2646</td>\n",
       "      <td>259</td>\n",
       "      <td>15.8263</td>\n",
       "      <td>0</td>\n",
       "      <td>1015.63</td>\n",
       "      <td>0</td>\n",
       "      <td>0</td>\n",
       "      <td>2006</td>\n",
       "      <td>3</td>\n",
       "      <td>31</td>\n",
       "      <td>23</td>\n",
       "    </tr>\n",
       "    <tr>\n",
       "      <th>2</th>\n",
       "      <td>9.377778</td>\n",
       "      <td>9.377778</td>\n",
       "      <td>0.89</td>\n",
       "      <td>3.9284</td>\n",
       "      <td>204</td>\n",
       "      <td>14.9569</td>\n",
       "      <td>0</td>\n",
       "      <td>1015.94</td>\n",
       "      <td>0</td>\n",
       "      <td>0</td>\n",
       "      <td>2006</td>\n",
       "      <td>4</td>\n",
       "      <td>1</td>\n",
       "      <td>0</td>\n",
       "    </tr>\n",
       "    <tr>\n",
       "      <th>3</th>\n",
       "      <td>8.288889</td>\n",
       "      <td>5.944444</td>\n",
       "      <td>0.83</td>\n",
       "      <td>14.1036</td>\n",
       "      <td>269</td>\n",
       "      <td>15.8263</td>\n",
       "      <td>0</td>\n",
       "      <td>1016.41</td>\n",
       "      <td>0</td>\n",
       "      <td>0</td>\n",
       "      <td>2006</td>\n",
       "      <td>4</td>\n",
       "      <td>1</td>\n",
       "      <td>1</td>\n",
       "    </tr>\n",
       "    <tr>\n",
       "      <th>4</th>\n",
       "      <td>8.755556</td>\n",
       "      <td>6.977778</td>\n",
       "      <td>0.83</td>\n",
       "      <td>11.0446</td>\n",
       "      <td>259</td>\n",
       "      <td>15.8263</td>\n",
       "      <td>0</td>\n",
       "      <td>1016.51</td>\n",
       "      <td>0</td>\n",
       "      <td>0</td>\n",
       "      <td>2006</td>\n",
       "      <td>4</td>\n",
       "      <td>1</td>\n",
       "      <td>2</td>\n",
       "    </tr>\n",
       "  </tbody>\n",
       "</table>\n",
       "</div>"
      ],
      "text/plain": [
       "   Temperature (C)  Apparent Temperature (C)  Humidity  Wind Speed (km/h)  \\\n",
       "0         9.472222                  7.388889      0.89            14.1197   \n",
       "1         9.355556                  7.227778      0.86            14.2646   \n",
       "2         9.377778                  9.377778      0.89             3.9284   \n",
       "3         8.288889                  5.944444      0.83            14.1036   \n",
       "4         8.755556                  6.977778      0.83            11.0446   \n",
       "\n",
       "   Wind Bearing (degrees)  Visibility (km)  Loud Cover  Pressure (millibars)  \\\n",
       "0                     251          15.8263           0               1015.13   \n",
       "1                     259          15.8263           0               1015.63   \n",
       "2                     204          14.9569           0               1015.94   \n",
       "3                     269          15.8263           0               1016.41   \n",
       "4                     259          15.8263           0               1016.51   \n",
       "\n",
       "   Summary  Precip Type  Year  Month  Day  Hour  \n",
       "0        0            0  2006      3   31    22  \n",
       "1        0            0  2006      3   31    23  \n",
       "2        0            0  2006      4    1     0  \n",
       "3        0            0  2006      4    1     1  \n",
       "4        0            0  2006      4    1     2  "
      ]
     },
     "execution_count": 395,
     "metadata": {},
     "output_type": "execute_result"
    }
   ],
   "source": [
    "# Rename the columns\n",
    "weather_hist = weather_hist.rename(columns={'Summary_encoded': 'Summary', 'Precip Type_encoded': 'Precip Type'})\n",
    "\n",
    "# Display the updated DataFrame\n",
    "print(\"Updated Weather History DataFrame:\")\n",
    "weather_hist.head()\n"
   ]
  },
  {
   "cell_type": "code",
   "execution_count": 397,
   "metadata": {
    "colab": {
     "base_uri": "https://localhost:8080/"
    },
    "id": "EUIB4S5-BwiR",
    "outputId": "4f08e6be-4fa8-4977-ed6c-2283da49caf9"
   },
   "outputs": [
    {
     "name": "stdout",
     "output_type": "stream",
     "text": [
      "<class 'pandas.core.frame.DataFrame'>\n",
      "Int64Index: 95883 entries, 0 to 96449\n",
      "Data columns (total 14 columns):\n",
      " #   Column                    Non-Null Count  Dtype  \n",
      "---  ------                    --------------  -----  \n",
      " 0   Temperature (C)           95883 non-null  float64\n",
      " 1   Apparent Temperature (C)  95883 non-null  float64\n",
      " 2   Humidity                  95883 non-null  float64\n",
      " 3   Wind Speed (km/h)         95883 non-null  float64\n",
      " 4   Wind Bearing (degrees)    95883 non-null  int64  \n",
      " 5   Visibility (km)           95883 non-null  float64\n",
      " 6   Loud Cover                95883 non-null  int64  \n",
      " 7   Pressure (millibars)      95883 non-null  float64\n",
      " 8   Summary                   95883 non-null  int64  \n",
      " 9   Precip Type               95883 non-null  int64  \n",
      " 10  Year                      95883 non-null  int64  \n",
      " 11  Month                     95883 non-null  int64  \n",
      " 12  Day                       95883 non-null  int64  \n",
      " 13  Hour                      95883 non-null  int64  \n",
      "dtypes: float64(6), int64(8)\n",
      "memory usage: 11.0 MB\n"
     ]
    }
   ],
   "source": [
    "weather_hist.info()"
   ]
  },
  {
   "cell_type": "code",
   "execution_count": 398,
   "metadata": {
    "colab": {
     "base_uri": "https://localhost:8080/"
    },
    "id": "VThtunJJBwn6",
    "outputId": "b554bdf4-905b-4ff5-ecab-315f376a5422"
   },
   "outputs": [
    {
     "name": "stdout",
     "output_type": "stream",
     "text": [
      "Missing values:\n"
     ]
    },
    {
     "data": {
      "text/plain": [
       "Temperature (C)             0\n",
       "Apparent Temperature (C)    0\n",
       "Humidity                    0\n",
       "Wind Speed (km/h)           0\n",
       "Wind Bearing (degrees)      0\n",
       "Visibility (km)             0\n",
       "Loud Cover                  0\n",
       "Pressure (millibars)        0\n",
       "Summary                     0\n",
       "Precip Type                 0\n",
       "Year                        0\n",
       "Month                       0\n",
       "Day                         0\n",
       "Hour                        0\n",
       "dtype: int64"
      ]
     },
     "execution_count": 398,
     "metadata": {},
     "output_type": "execute_result"
    }
   ],
   "source": [
    "missing_values = weather_hist.isnull().sum()\n",
    "print(\"Missing values:\")\n",
    "missing_values\n"
   ]
  },
  {
   "cell_type": "code",
   "execution_count": 399,
   "metadata": {
    "colab": {
     "base_uri": "https://localhost:8080/",
     "height": 119
    },
    "id": "FHi6iC7CBwss",
    "outputId": "34eb0614-3184-4733-9478-ecdbca7f0c9f"
   },
   "outputs": [
    {
     "name": "stdout",
     "output_type": "stream",
     "text": [
      "\n",
      "Duplicate rows:\n"
     ]
    },
    {
     "data": {
      "text/html": [
       "<div>\n",
       "<style scoped>\n",
       "    .dataframe tbody tr th:only-of-type {\n",
       "        vertical-align: middle;\n",
       "    }\n",
       "\n",
       "    .dataframe tbody tr th {\n",
       "        vertical-align: top;\n",
       "    }\n",
       "\n",
       "    .dataframe thead th {\n",
       "        text-align: right;\n",
       "    }\n",
       "</style>\n",
       "<table border=\"1\" class=\"dataframe\">\n",
       "  <thead>\n",
       "    <tr style=\"text-align: right;\">\n",
       "      <th></th>\n",
       "      <th>Temperature (C)</th>\n",
       "      <th>Apparent Temperature (C)</th>\n",
       "      <th>Humidity</th>\n",
       "      <th>Wind Speed (km/h)</th>\n",
       "      <th>Wind Bearing (degrees)</th>\n",
       "      <th>Visibility (km)</th>\n",
       "      <th>Loud Cover</th>\n",
       "      <th>Pressure (millibars)</th>\n",
       "      <th>Summary</th>\n",
       "      <th>Precip Type</th>\n",
       "      <th>Year</th>\n",
       "      <th>Month</th>\n",
       "      <th>Day</th>\n",
       "      <th>Hour</th>\n",
       "    </tr>\n",
       "  </thead>\n",
       "  <tbody>\n",
       "  </tbody>\n",
       "</table>\n",
       "</div>"
      ],
      "text/plain": [
       "Empty DataFrame\n",
       "Columns: [Temperature (C), Apparent Temperature (C), Humidity, Wind Speed (km/h), Wind Bearing (degrees), Visibility (km), Loud Cover, Pressure (millibars), Summary, Precip Type, Year, Month, Day, Hour]\n",
       "Index: []"
      ]
     },
     "execution_count": 399,
     "metadata": {},
     "output_type": "execute_result"
    }
   ],
   "source": [
    "duplicate_rows = weather_hist[weather_hist.duplicated()]\n",
    "print(\"\\nDuplicate rows:\")\n",
    "duplicate_rows\n"
   ]
  },
  {
   "cell_type": "code",
   "execution_count": 400,
   "metadata": {
    "colab": {
     "base_uri": "https://localhost:8080/"
    },
    "id": "hrfbd0XEI6Xf",
    "outputId": "6fcdca47-f32e-4898-a15b-020f7abfe3ff"
   },
   "outputs": [
    {
     "name": "stdout",
     "output_type": "stream",
     "text": [
      "\n",
      "Null values:\n"
     ]
    },
    {
     "data": {
      "text/plain": [
       "Temperature (C)             0\n",
       "Apparent Temperature (C)    0\n",
       "Humidity                    0\n",
       "Wind Speed (km/h)           0\n",
       "Wind Bearing (degrees)      0\n",
       "Visibility (km)             0\n",
       "Loud Cover                  0\n",
       "Pressure (millibars)        0\n",
       "Summary                     0\n",
       "Precip Type                 0\n",
       "Year                        0\n",
       "Month                       0\n",
       "Day                         0\n",
       "Hour                        0\n",
       "dtype: int64"
      ]
     },
     "execution_count": 400,
     "metadata": {},
     "output_type": "execute_result"
    }
   ],
   "source": [
    "null_values = weather_hist.isna().sum()\n",
    "print(\"\\nNull values:\")\n",
    "null_values\n"
   ]
  },
  {
   "cell_type": "code",
   "execution_count": 401,
   "metadata": {},
   "outputs": [
    {
     "name": "stdout",
     "output_type": "stream",
     "text": [
      "Original class distribution:\n",
      "0    76035\n",
      "3    10744\n",
      "1     7155\n",
      "2     1484\n",
      "5      155\n",
      "6      134\n",
      "7      112\n",
      "4       64\n",
      "Name: Summary, dtype: int64\n",
      "\n",
      "Resampled class distribution:\n",
      "0    76035\n",
      "1    76035\n",
      "2    76035\n",
      "3    76035\n",
      "4    76035\n",
      "5    76035\n",
      "6    76035\n",
      "7    76035\n",
      "Name: Summary, dtype: int64\n"
     ]
    }
   ],
   "source": [
    "from imblearn.over_sampling import SMOTE\n",
    "from sklearn.model_selection import train_test_split\n",
    "import pandas as pd\n",
    "\n",
    "# Assuming weather_hist is your DataFrame containing the data\n",
    "# Separate features and target variable\n",
    "X = weather_hist.drop(['Summary'], axis=1)\n",
    "y = weather_hist['Summary']\n",
    "\n",
    "# Apply SMOTE\n",
    "smote = SMOTE(random_state=42)\n",
    "X_smote, y_smote = smote.fit_resample(X, y)\n",
    "\n",
    "# Display the original and resampled class distribution\n",
    "print(\"Original class distribution:\")\n",
    "print(y.value_counts())\n",
    "print(\"\\nResampled class distribution:\")\n",
    "print(pd.Series(y_smote).value_counts())\n"
   ]
  },
  {
   "cell_type": "code",
   "execution_count": 403,
   "metadata": {},
   "outputs": [],
   "source": [
    "# Split the data into training and test sets\n",
    "X_train, X_test, y_train, y_test = train_test_split(X, y, test_size=0.2, random_state=42)\n",
    "\n",
    "# Calculate class weights\n",
    "class_weights = dict(zip(range(8), (len(y_train) / (8 * y_train.value_counts()))))"
   ]
  },
  {
   "cell_type": "code",
   "execution_count": 408,
   "metadata": {},
   "outputs": [
    {
     "name": "stderr",
     "output_type": "stream",
     "text": [
      "[I 2024-03-25 15:20:44,000] A new study created in memory with name: no-name-6a22555d-8ac0-4021-ba02-08a18e16214f\n",
      "[I 2024-03-25 15:20:50,062] Trial 0 finished with value: 0.12681858476299734 and parameters: {'n_estimators': 82, 'learning_rate': 0.7839574286518244}. Best is trial 0 with value: 0.12681858476299734.\n",
      "[I 2024-03-25 15:20:58,179] Trial 1 finished with value: 0.12681858476299734 and parameters: {'n_estimators': 105, 'learning_rate': 0.9182564426343653}. Best is trial 0 with value: 0.12681858476299734.\n",
      "[I 2024-03-25 15:21:04,877] Trial 2 finished with value: 0.12817437555404912 and parameters: {'n_estimators': 91, 'learning_rate': 0.5618071886569074}. Best is trial 2 with value: 0.12817437555404912.\n",
      "[I 2024-03-25 15:21:16,145] Trial 3 finished with value: 0.1263492725660948 and parameters: {'n_estimators': 149, 'learning_rate': 0.3646631971015401}. Best is trial 2 with value: 0.12817437555404912.\n",
      "[I 2024-03-25 15:21:20,743] Trial 4 finished with value: 0.12817437555404912 and parameters: {'n_estimators': 59, 'learning_rate': 0.17287834236077382}. Best is trial 2 with value: 0.12817437555404912.\n",
      "[I 2024-03-25 15:21:24,702] Trial 5 finished with value: 0.12243833759190698 and parameters: {'n_estimators': 52, 'learning_rate': 0.03889675811242096}. Best is trial 2 with value: 0.12817437555404912.\n",
      "[I 2024-03-25 15:21:38,822] Trial 6 finished with value: 0.12681858476299734 and parameters: {'n_estimators': 184, 'learning_rate': 0.8859142849938233}. Best is trial 2 with value: 0.12817437555404912.\n",
      "[I 2024-03-25 15:21:57,338] Trial 7 finished with value: 0.1263492725660948 and parameters: {'n_estimators': 196, 'learning_rate': 0.09279126692959866}. Best is trial 2 with value: 0.12817437555404912.\n",
      "[I 2024-03-25 15:22:05,611] Trial 8 finished with value: 0.20008343327944933 and parameters: {'n_estimators': 109, 'learning_rate': 0.6083960324507538}. Best is trial 8 with value: 0.20008343327944933.\n",
      "[I 2024-03-25 15:22:14,730] Trial 9 finished with value: 0.1263492725660948 and parameters: {'n_estimators': 123, 'learning_rate': 0.49337236687575775}. Best is trial 8 with value: 0.20008343327944933.\n",
      "[I 2024-03-25 15:22:26,024] Trial 10 finished with value: 0.12780935495645826 and parameters: {'n_estimators': 150, 'learning_rate': 0.7025218091603627}. Best is trial 8 with value: 0.20008343327944933.\n",
      "[I 2024-03-25 15:22:32,844] Trial 11 finished with value: 0.12817437555404912 and parameters: {'n_estimators': 92, 'learning_rate': 0.5891375494714044}. Best is trial 8 with value: 0.20008343327944933.\n",
      "[I 2024-03-25 15:22:41,882] Trial 12 finished with value: 0.1263492725660948 and parameters: {'n_estimators': 120, 'learning_rate': 0.3837798706400205}. Best is trial 8 with value: 0.20008343327944933.\n",
      "[I 2024-03-25 15:22:47,842] Trial 13 finished with value: 0.12780935495645826 and parameters: {'n_estimators': 77, 'learning_rate': 0.6336017447823319}. Best is trial 8 with value: 0.20008343327944933.\n",
      "[I 2024-03-25 15:23:00,160] Trial 14 finished with value: 0.12817437555404912 and parameters: {'n_estimators': 145, 'learning_rate': 0.44862168302308947}. Best is trial 8 with value: 0.20008343327944933.\n",
      "[I 2024-03-25 15:23:09,245] Trial 15 finished with value: 0.1263492725660948 and parameters: {'n_estimators': 108, 'learning_rate': 0.27708054901076556}. Best is trial 8 with value: 0.20008343327944933.\n",
      "[I 2024-03-25 15:23:14,478] Trial 16 finished with value: 0.12681858476299734 and parameters: {'n_estimators': 69, 'learning_rate': 0.76021074273312}. Best is trial 8 with value: 0.20008343327944933.\n",
      "[I 2024-03-25 15:23:21,960] Trial 17 finished with value: 0.12817437555404912 and parameters: {'n_estimators': 99, 'learning_rate': 0.5716033731365407}. Best is trial 8 with value: 0.20008343327944933.\n",
      "[I 2024-03-25 15:23:32,142] Trial 18 finished with value: 0.20091776607394274 and parameters: {'n_estimators': 135, 'learning_rate': 0.9749669563889478}. Best is trial 18 with value: 0.20091776607394274.\n",
      "[I 2024-03-25 15:23:44,592] Trial 19 finished with value: 0.12379412838295875 and parameters: {'n_estimators': 167, 'learning_rate': 0.9470951488365114}. Best is trial 18 with value: 0.20091776607394274.\n",
      "[I 2024-03-25 15:23:54,722] Trial 20 finished with value: 0.12681858476299734 and parameters: {'n_estimators': 136, 'learning_rate': 0.826787810379328}. Best is trial 18 with value: 0.20091776607394274.\n",
      "[I 2024-03-25 15:24:03,343] Trial 21 finished with value: 0.1240027115815821 and parameters: {'n_estimators': 116, 'learning_rate': 0.986450153250988}. Best is trial 18 with value: 0.20091776607394274.\n",
      "[I 2024-03-25 15:24:13,415] Trial 22 finished with value: 0.12780935495645826 and parameters: {'n_estimators': 135, 'learning_rate': 0.6662968589274813}. Best is trial 18 with value: 0.20091776607394274.\n",
      "[I 2024-03-25 15:24:20,179] Trial 23 finished with value: 0.1263492725660948 and parameters: {'n_estimators': 90, 'learning_rate': 0.2657972675632216}. Best is trial 18 with value: 0.20091776607394274.\n",
      "[I 2024-03-25 15:24:28,440] Trial 24 finished with value: 0.12817437555404912 and parameters: {'n_estimators': 109, 'learning_rate': 0.5174486204336761}. Best is trial 18 with value: 0.20091776607394274.\n",
      "[I 2024-03-25 15:24:38,253] Trial 25 finished with value: 0.12780935495645826 and parameters: {'n_estimators': 131, 'learning_rate': 0.7319287742377345}. Best is trial 18 with value: 0.20091776607394274.\n",
      "[I 2024-03-25 15:24:50,023] Trial 26 finished with value: 0.12697502216196485 and parameters: {'n_estimators': 158, 'learning_rate': 0.8376006901080536}. Best is trial 18 with value: 0.20091776607394274.\n",
      "[I 2024-03-25 15:24:57,101] Trial 27 finished with value: 0.12645356416540648 and parameters: {'n_estimators': 94, 'learning_rate': 0.39949915052929963}. Best is trial 18 with value: 0.20091776607394274.\n",
      "[I 2024-03-25 15:25:02,468] Trial 28 finished with value: 0.12817437555404912 and parameters: {'n_estimators': 72, 'learning_rate': 0.5804793463315796}. Best is trial 18 with value: 0.20091776607394274.\n",
      "[I 2024-03-25 15:25:08,974] Trial 29 finished with value: 0.12681858476299734 and parameters: {'n_estimators': 87, 'learning_rate': 0.7794328339828749}. Best is trial 18 with value: 0.20091776607394274.\n",
      "[I 2024-03-25 15:25:22,093] Trial 30 finished with value: 0.1263492725660948 and parameters: {'n_estimators': 176, 'learning_rate': 0.26552990468098037}. Best is trial 18 with value: 0.20091776607394274.\n",
      "[I 2024-03-25 15:25:25,862] Trial 31 finished with value: 0.12812222975439327 and parameters: {'n_estimators': 50, 'learning_rate': 0.13944660186545305}. Best is trial 18 with value: 0.20091776607394274.\n",
      "[I 2024-03-25 15:25:30,202] Trial 32 finished with value: 0.12817437555404912 and parameters: {'n_estimators': 58, 'learning_rate': 0.1872550058776945}. Best is trial 18 with value: 0.20091776607394274.\n",
      "[I 2024-03-25 15:25:35,073] Trial 33 finished with value: 0.12817437555404912 and parameters: {'n_estimators': 64, 'learning_rate': 0.32331244397626707}. Best is trial 18 with value: 0.20091776607394274.\n",
      "[I 2024-03-25 15:25:41,380] Trial 34 finished with value: 0.1263492725660948 and parameters: {'n_estimators': 84, 'learning_rate': 0.48519176051914586}. Best is trial 18 with value: 0.20091776607394274.\n",
      "[I 2024-03-25 15:25:49,046] Trial 35 finished with value: 0.12780935495645826 and parameters: {'n_estimators': 103, 'learning_rate': 0.6365756580786051}. Best is trial 18 with value: 0.20091776607394274.\n",
      "[I 2024-03-25 15:25:57,432] Trial 36 finished with value: 0.12775720915680241 and parameters: {'n_estimators': 112, 'learning_rate': 0.032264417168796994}. Best is trial 18 with value: 0.20091776607394274.\n",
      "[I 2024-03-25 15:26:03,196] Trial 37 finished with value: 0.12681858476299734 and parameters: {'n_estimators': 77, 'learning_rate': 0.8688809644907044}. Best is trial 18 with value: 0.20091776607394274.\n",
      "[I 2024-03-25 15:26:12,555] Trial 38 finished with value: 0.1263492725660948 and parameters: {'n_estimators': 127, 'learning_rate': 0.18983117674919817}. Best is trial 18 with value: 0.20091776607394274.\n",
      "[I 2024-03-25 15:26:16,820] Trial 39 finished with value: 0.12817437555404912 and parameters: {'n_estimators': 58, 'learning_rate': 0.5466325284809802}. Best is trial 18 with value: 0.20091776607394274.\n"
     ]
    },
    {
     "name": "stderr",
     "output_type": "stream",
     "text": [
      "[I 2024-03-25 15:26:24,099] Trial 40 finished with value: 0.1263492725660948 and parameters: {'n_estimators': 98, 'learning_rate': 0.4391884245373793}. Best is trial 18 with value: 0.20091776607394274.\n",
      "[I 2024-03-25 15:26:34,745] Trial 41 finished with value: 0.19971841268185847 and parameters: {'n_estimators': 143, 'learning_rate': 0.5922766172586813}. Best is trial 18 with value: 0.20091776607394274.\n",
      "[I 2024-03-25 15:26:44,204] Trial 42 finished with value: 0.12780935495645826 and parameters: {'n_estimators': 119, 'learning_rate': 0.6379486066394393}. Best is trial 18 with value: 0.20091776607394274.\n",
      "[I 2024-03-25 15:26:55,234] Trial 43 finished with value: 0.12780935495645826 and parameters: {'n_estimators': 142, 'learning_rate': 0.6688099500477476}. Best is trial 18 with value: 0.20091776607394274.\n",
      "[I 2024-03-25 15:27:06,764] Trial 44 finished with value: 0.12780935495645826 and parameters: {'n_estimators': 155, 'learning_rate': 0.7100198043960171}. Best is trial 18 with value: 0.20091776607394274.\n",
      "[I 2024-03-25 15:27:17,460] Trial 45 finished with value: 0.1263492725660948 and parameters: {'n_estimators': 143, 'learning_rate': 0.44244650338720265}. Best is trial 18 with value: 0.20091776607394274.\n",
      "[I 2024-03-25 15:27:26,789] Trial 46 finished with value: 0.1263492725660948 and parameters: {'n_estimators': 125, 'learning_rate': 0.5259507249606258}. Best is trial 18 with value: 0.20091776607394274.\n",
      "[I 2024-03-25 15:27:38,862] Trial 47 finished with value: 0.1263492725660948 and parameters: {'n_estimators': 163, 'learning_rate': 0.33255987578054313}. Best is trial 18 with value: 0.20091776607394274.\n",
      "[I 2024-03-25 15:27:48,912] Trial 48 finished with value: 0.12697502216196485 and parameters: {'n_estimators': 136, 'learning_rate': 0.9104686986793298}. Best is trial 18 with value: 0.20091776607394274.\n",
      "[I 2024-03-25 15:28:03,533] Trial 49 finished with value: 0.1263492725660948 and parameters: {'n_estimators': 198, 'learning_rate': 0.09480279684831694}. Best is trial 18 with value: 0.20091776607394274.\n",
      "[I 2024-03-25 15:28:14,675] Trial 50 finished with value: 0.1263492725660948 and parameters: {'n_estimators': 150, 'learning_rate': 0.4821654912019922}. Best is trial 18 with value: 0.20091776607394274.\n",
      "[I 2024-03-25 15:28:20,580] Trial 51 finished with value: 0.12817437555404912 and parameters: {'n_estimators': 79, 'learning_rate': 0.6080120032617135}. Best is trial 18 with value: 0.20091776607394274.\n",
      "[I 2024-03-25 15:28:28,164] Trial 52 finished with value: 0.12817437555404912 and parameters: {'n_estimators': 101, 'learning_rate': 0.5783892698946208}. Best is trial 18 with value: 0.20091776607394274.\n",
      "[I 2024-03-25 15:28:36,886] Trial 53 finished with value: 0.19971841268185847 and parameters: {'n_estimators': 115, 'learning_rate': 0.6820285364737556}. Best is trial 18 with value: 0.20091776607394274.\n",
      "[I 2024-03-25 15:28:50,099] Trial 54 finished with value: 0.12817437555404912 and parameters: {'n_estimators': 112, 'learning_rate': 0.6781009153748948}. Best is trial 18 with value: 0.20091776607394274.\n",
      "[I 2024-03-25 15:29:07,041] Trial 55 finished with value: 0.12817437555404912 and parameters: {'n_estimators': 117, 'learning_rate': 0.7333066648390707}. Best is trial 18 with value: 0.20091776607394274.\n",
      "[I 2024-03-25 15:29:22,143] Trial 56 finished with value: 0.12624498096678313 and parameters: {'n_estimators': 124, 'learning_rate': 0.8222739617596734}. Best is trial 18 with value: 0.20091776607394274.\n",
      "[I 2024-03-25 15:29:37,968] Trial 57 finished with value: 0.12817437555404912 and parameters: {'n_estimators': 133, 'learning_rate': 0.5511456535073568}. Best is trial 18 with value: 0.20091776607394274.\n",
      "[I 2024-03-25 15:29:45,402] Trial 58 finished with value: 0.12817437555404912 and parameters: {'n_estimators': 95, 'learning_rate': 0.6194471232348954}. Best is trial 18 with value: 0.20091776607394274.\n",
      "[I 2024-03-25 15:29:56,215] Trial 59 finished with value: 0.12681858476299734 and parameters: {'n_estimators': 141, 'learning_rate': 0.7638264183361414}. Best is trial 18 with value: 0.20091776607394274.\n",
      "[I 2024-03-25 15:30:04,362] Trial 60 finished with value: 0.12645356416540648 and parameters: {'n_estimators': 107, 'learning_rate': 0.41419332304800516}. Best is trial 18 with value: 0.20091776607394274.\n",
      "[I 2024-03-25 15:30:11,176] Trial 61 finished with value: 0.20091776607394274 and parameters: {'n_estimators': 88, 'learning_rate': 0.9809112357066643}. Best is trial 18 with value: 0.20091776607394274.\n",
      "[I 2024-03-25 15:30:19,386] Trial 62 finished with value: 0.12681858476299734 and parameters: {'n_estimators': 89, 'learning_rate': 0.8068117602042756}. Best is trial 18 with value: 0.20091776607394274.\n",
      "[I 2024-03-25 15:30:26,093] Trial 63 finished with value: 0.12812222975439327 and parameters: {'n_estimators': 74, 'learning_rate': 0.9979839484555273}. Best is trial 18 with value: 0.20091776607394274.\n",
      "[I 2024-03-25 15:30:31,333] Trial 64 finished with value: 0.12379412838295875 and parameters: {'n_estimators': 65, 'learning_rate': 0.9511642244138112}. Best is trial 18 with value: 0.20091776607394274.\n",
      "[I 2024-03-25 15:30:41,445] Trial 65 finished with value: 0.1240027115815821 and parameters: {'n_estimators': 128, 'learning_rate': 0.930566277794196}. Best is trial 18 with value: 0.20091776607394274.\n",
      "[I 2024-03-25 15:30:48,331] Trial 66 finished with value: 0.20091776607394274 and parameters: {'n_estimators': 82, 'learning_rate': 0.9681071502243378}. Best is trial 18 with value: 0.20091776607394274.\n",
      "[I 2024-03-25 15:30:54,378] Trial 67 finished with value: 0.12697502216196485 and parameters: {'n_estimators': 80, 'learning_rate': 0.8976556144203554}. Best is trial 18 with value: 0.20091776607394274.\n",
      "[I 2024-03-25 15:31:00,837] Trial 68 finished with value: 0.12681858476299734 and parameters: {'n_estimators': 86, 'learning_rate': 0.8618474700886762}. Best is trial 18 with value: 0.20091776607394274.\n",
      "[I 2024-03-25 15:31:09,235] Trial 69 finished with value: 0.1240027115815821 and parameters: {'n_estimators': 113, 'learning_rate': 0.9679865991292307}. Best is trial 18 with value: 0.20091776607394274.\n",
      "[I 2024-03-25 15:31:17,646] Trial 70 finished with value: 0.12681858476299734 and parameters: {'n_estimators': 105, 'learning_rate': 0.9697749273271634}. Best is trial 18 with value: 0.20091776607394274.\n",
      "[I 2024-03-25 15:31:25,806] Trial 71 finished with value: 0.1240027115815821 and parameters: {'n_estimators': 95, 'learning_rate': 0.9321166860850516}. Best is trial 18 with value: 0.20091776607394274.\n",
      "[I 2024-03-25 15:31:30,917] Trial 72 finished with value: 0.12681858476299734 and parameters: {'n_estimators': 68, 'learning_rate': 0.8767868771054329}. Best is trial 18 with value: 0.20091776607394274.\n",
      "[I 2024-03-25 15:31:37,562] Trial 73 finished with value: 0.12817437555404912 and parameters: {'n_estimators': 84, 'learning_rate': 0.5065886285924383}. Best is trial 18 with value: 0.20091776607394274.\n",
      "[I 2024-03-25 15:31:42,211] Trial 74 finished with value: 0.12817437555404912 and parameters: {'n_estimators': 58, 'learning_rate': 0.5526675546994279}. Best is trial 18 with value: 0.20091776607394274.\n",
      "[I 2024-03-25 15:31:52,537] Trial 75 finished with value: 0.12812222975439327 and parameters: {'n_estimators': 120, 'learning_rate': 0.9994816264245894}. Best is trial 18 with value: 0.20091776607394274.\n",
      "[I 2024-03-25 15:32:01,249] Trial 76 finished with value: 0.1263492725660948 and parameters: {'n_estimators': 92, 'learning_rate': 0.6967173489527156}. Best is trial 18 with value: 0.20091776607394274.\n",
      "[I 2024-03-25 15:32:11,676] Trial 77 finished with value: 0.12817437555404912 and parameters: {'n_estimators': 130, 'learning_rate': 0.6001942017179219}. Best is trial 18 with value: 0.20091776607394274.\n",
      "[I 2024-03-25 15:32:26,071] Trial 78 finished with value: 0.19971841268185847 and parameters: {'n_estimators': 192, 'learning_rate': 0.6517484102637516}. Best is trial 18 with value: 0.20091776607394274.\n",
      "[I 2024-03-25 15:32:41,128] Trial 79 finished with value: 0.19971841268185847 and parameters: {'n_estimators': 190, 'learning_rate': 0.6567592288244157}. Best is trial 18 with value: 0.20091776607394274.\n",
      "[I 2024-03-25 15:32:56,554] Trial 80 finished with value: 0.19971841268185847 and parameters: {'n_estimators': 189, 'learning_rate': 0.6442763687293193}. Best is trial 18 with value: 0.20091776607394274.\n"
     ]
    },
    {
     "name": "stderr",
     "output_type": "stream",
     "text": [
      "[I 2024-03-25 15:33:10,614] Trial 81 finished with value: 0.19971841268185847 and parameters: {'n_estimators': 188, 'learning_rate': 0.6420972444825479}. Best is trial 18 with value: 0.20091776607394274.\n",
      "[I 2024-03-25 15:33:24,418] Trial 82 finished with value: 0.12780935495645826 and parameters: {'n_estimators': 188, 'learning_rate': 0.7171705943556594}. Best is trial 18 with value: 0.20091776607394274.\n",
      "[I 2024-03-25 15:33:37,481] Trial 83 finished with value: 0.19971841268185847 and parameters: {'n_estimators': 177, 'learning_rate': 0.675389210223181}. Best is trial 18 with value: 0.20091776607394274.\n",
      "[I 2024-03-25 15:33:51,788] Trial 84 finished with value: 0.19971841268185847 and parameters: {'n_estimators': 193, 'learning_rate': 0.6516129755984268}. Best is trial 18 with value: 0.20091776607394274.\n",
      "[I 2024-03-25 15:34:06,149] Trial 85 finished with value: 0.12681858476299734 and parameters: {'n_estimators': 179, 'learning_rate': 0.7442907839676288}. Best is trial 18 with value: 0.20091776607394274.\n",
      "[I 2024-03-25 15:34:21,089] Trial 86 finished with value: 0.19971841268185847 and parameters: {'n_estimators': 194, 'learning_rate': 0.5898370037400587}. Best is trial 18 with value: 0.20091776607394274.\n",
      "[I 2024-03-25 15:34:35,017] Trial 87 finished with value: 0.19971841268185847 and parameters: {'n_estimators': 187, 'learning_rate': 0.6901741068069098}. Best is trial 18 with value: 0.20091776607394274.\n",
      "[I 2024-03-25 15:34:47,682] Trial 88 finished with value: 0.12681858476299734 and parameters: {'n_estimators': 171, 'learning_rate': 0.8517852135697354}. Best is trial 18 with value: 0.20091776607394274.\n",
      "[I 2024-03-25 15:35:00,413] Trial 89 finished with value: 0.12780935495645826 and parameters: {'n_estimators': 172, 'learning_rate': 0.6240804754493948}. Best is trial 18 with value: 0.20091776607394274.\n",
      "[I 2024-03-25 15:35:15,213] Trial 90 finished with value: 0.1263492725660948 and parameters: {'n_estimators': 200, 'learning_rate': 0.5270279962056321}. Best is trial 18 with value: 0.20091776607394274.\n",
      "[I 2024-03-25 15:35:28,574] Trial 91 finished with value: 0.19971841268185847 and parameters: {'n_estimators': 181, 'learning_rate': 0.6509891159999168}. Best is trial 18 with value: 0.20091776607394274.\n",
      "[I 2024-03-25 15:35:42,938] Trial 92 finished with value: 0.19971841268185847 and parameters: {'n_estimators': 194, 'learning_rate': 0.6498975210931546}. Best is trial 18 with value: 0.20091776607394274.\n",
      "[I 2024-03-25 15:35:56,620] Trial 93 finished with value: 0.12817437555404912 and parameters: {'n_estimators': 185, 'learning_rate': 0.569630537574358}. Best is trial 18 with value: 0.20091776607394274.\n",
      "[I 2024-03-25 15:36:10,605] Trial 94 finished with value: 0.19971841268185847 and parameters: {'n_estimators': 190, 'learning_rate': 0.6093008587767894}. Best is trial 18 with value: 0.20091776607394274.\n",
      "[I 2024-03-25 15:36:24,082] Trial 95 finished with value: 0.12780935495645826 and parameters: {'n_estimators': 183, 'learning_rate': 0.7145118569217973}. Best is trial 18 with value: 0.20091776607394274.\n",
      "[I 2024-03-25 15:36:34,279] Trial 96 finished with value: 0.12681858476299734 and parameters: {'n_estimators': 138, 'learning_rate': 0.7905387275433352}. Best is trial 18 with value: 0.20091776607394274.\n",
      "[I 2024-03-25 15:36:45,208] Trial 97 finished with value: 0.12681858476299734 and parameters: {'n_estimators': 148, 'learning_rate': 0.7590159893664483}. Best is trial 18 with value: 0.20091776607394274.\n",
      "[I 2024-03-25 15:36:59,273] Trial 98 finished with value: 0.1240027115815821 and parameters: {'n_estimators': 191, 'learning_rate': 0.9096381716299085}. Best is trial 18 with value: 0.20091776607394274.\n",
      "[I 2024-03-25 15:37:11,283] Trial 99 finished with value: 0.12379412838295875 and parameters: {'n_estimators': 164, 'learning_rate': 0.9588399521809731}. Best is trial 18 with value: 0.20091776607394274.\n"
     ]
    }
   ],
   "source": [
    "def objective(trial):\n",
    "    n_estimators = trial.suggest_int('n_estimators', 50, 200)\n",
    "    learning_rate = trial.suggest_float('learning_rate', 0.01, 1.0)\n",
    "    \n",
    "    model = AdaBoostClassifier(n_estimators=n_estimators, learning_rate=learning_rate, algorithm='SAMME.R', random_state=42)\n",
    "    \n",
    "    # Calculate sample weights based on class imbalance\n",
    "    sample_weights = y_train.map(class_weights)\n",
    "    \n",
    "    # Fit the model with sample weights\n",
    "    model.fit(X_train, y_train, sample_weight=sample_weights)\n",
    "    \n",
    "    # Predict on the test set\n",
    "    y_pred = model.predict(X_test)\n",
    "    \n",
    "    # Calculate accuracy\n",
    "    accuracy = accuracy_score(y_test, y_pred)\n",
    "    \n",
    "    return accuracy\n",
    "\n",
    "# Run the hyperparameter optimization\n",
    "study = optuna.create_study(direction='maximize')\n",
    "study.optimize(objective, n_trials=100)"
   ]
  },
  {
   "cell_type": "code",
   "execution_count": 409,
   "metadata": {},
   "outputs": [
    {
     "name": "stdout",
     "output_type": "stream",
     "text": [
      "Train Accuracy: 0.7960394232524183\n",
      "Test Accuracy: 0.798195755331908\n",
      "\n",
      "Train Confusion Matrix:\n",
      "[[60790     0     0     7     0     0     0     0]\n",
      " [    0     3    33  5685     0     0     0     0]\n",
      " [ 1168     0     5     0     0     0     0     0]\n",
      " [ 8489     0     0   139     0     0     0     0]\n",
      " [   61     0     0     0     0     0     0     0]\n",
      " [    0     0     0     0     0   124     0     0]\n",
      " [  116     0     0     0     0     0     0     0]\n",
      " [   66     0     0    20     0     0     0     0]]\n",
      "\n",
      "Test Confusion Matrix:\n",
      "[[15237     0     0     1     0     0     0     0]\n",
      " [    0     1     7  1426     0     0     0     0]\n",
      " [  307     0     4     0     0     0     0     0]\n",
      " [ 2082     0     0    34     0     0     0     0]\n",
      " [    3     0     0     0     0     0     0     0]\n",
      " [    0     0     0     0     0    31     0     0]\n",
      " [   18     0     0     0     0     0     0     0]\n",
      " [   18     0     0     8     0     0     0     0]]\n",
      "\n",
      "Train Classification Report:\n",
      "              precision    recall  f1-score   support\n",
      "\n",
      "           0       0.86      1.00      0.92     60797\n",
      "           1       1.00      0.00      0.00      5721\n",
      "           2       0.13      0.00      0.01      1173\n",
      "           3       0.02      0.02      0.02      8628\n",
      "           4       0.00      0.00      0.00        61\n",
      "           5       1.00      1.00      1.00       124\n",
      "           6       0.00      0.00      0.00       116\n",
      "           7       0.00      0.00      0.00        86\n",
      "\n",
      "    accuracy                           0.80     76706\n",
      "   macro avg       0.38      0.25      0.24     76706\n",
      "weighted avg       0.76      0.80      0.74     76706\n",
      "\n",
      "\n",
      "Test Classification Report:\n",
      "              precision    recall  f1-score   support\n",
      "\n",
      "           0       0.86      1.00      0.93     15238\n",
      "           1       1.00      0.00      0.00      1434\n",
      "           2       0.36      0.01      0.02       311\n",
      "           3       0.02      0.02      0.02      2116\n",
      "           4       0.00      0.00      0.00         3\n",
      "           5       1.00      1.00      1.00        31\n",
      "           6       0.00      0.00      0.00        18\n",
      "           7       0.00      0.00      0.00        26\n",
      "\n",
      "    accuracy                           0.80     19177\n",
      "   macro avg       0.41      0.25      0.25     19177\n",
      "weighted avg       0.77      0.80      0.74     19177\n",
      "\n"
     ]
    },
    {
     "name": "stderr",
     "output_type": "stream",
     "text": [
      "C:\\Users\\student\\anaconda3\\lib\\site-packages\\sklearn\\metrics\\_classification.py:1318: UndefinedMetricWarning: Precision and F-score are ill-defined and being set to 0.0 in labels with no predicted samples. Use `zero_division` parameter to control this behavior.\n",
      "  _warn_prf(average, modifier, msg_start, len(result))\n",
      "C:\\Users\\student\\anaconda3\\lib\\site-packages\\sklearn\\metrics\\_classification.py:1318: UndefinedMetricWarning: Precision and F-score are ill-defined and being set to 0.0 in labels with no predicted samples. Use `zero_division` parameter to control this behavior.\n",
      "  _warn_prf(average, modifier, msg_start, len(result))\n",
      "C:\\Users\\student\\anaconda3\\lib\\site-packages\\sklearn\\metrics\\_classification.py:1318: UndefinedMetricWarning: Precision and F-score are ill-defined and being set to 0.0 in labels with no predicted samples. Use `zero_division` parameter to control this behavior.\n",
      "  _warn_prf(average, modifier, msg_start, len(result))\n",
      "C:\\Users\\student\\anaconda3\\lib\\site-packages\\sklearn\\metrics\\_classification.py:1318: UndefinedMetricWarning: Precision and F-score are ill-defined and being set to 0.0 in labels with no predicted samples. Use `zero_division` parameter to control this behavior.\n",
      "  _warn_prf(average, modifier, msg_start, len(result))\n",
      "C:\\Users\\student\\anaconda3\\lib\\site-packages\\sklearn\\metrics\\_classification.py:1318: UndefinedMetricWarning: Precision and F-score are ill-defined and being set to 0.0 in labels with no predicted samples. Use `zero_division` parameter to control this behavior.\n",
      "  _warn_prf(average, modifier, msg_start, len(result))\n",
      "C:\\Users\\student\\anaconda3\\lib\\site-packages\\sklearn\\metrics\\_classification.py:1318: UndefinedMetricWarning: Precision and F-score are ill-defined and being set to 0.0 in labels with no predicted samples. Use `zero_division` parameter to control this behavior.\n",
      "  _warn_prf(average, modifier, msg_start, len(result))\n"
     ]
    }
   ],
   "source": [
    "from sklearn.metrics import classification_report, confusion_matrix\n",
    "\n",
    "# Use the best hyperparameters found by Optuna\n",
    "best_params = study.best_params\n",
    "model = AdaBoostClassifier(**best_params)\n",
    "\n",
    "# Fit the model on the training data\n",
    "model.fit(X_train, y_train)\n",
    "\n",
    "# Predict on the training and test sets\n",
    "y_train_pred = model.predict(X_train)\n",
    "y_test_pred = model.predict(X_test)\n",
    "\n",
    "# Calculate accuracies\n",
    "train_accuracy = accuracy_score(y_train, y_train_pred)\n",
    "test_accuracy = accuracy_score(y_test, y_test_pred)\n",
    "\n",
    "# Generate confusion matrices\n",
    "train_conf_matrix = confusion_matrix(y_train, y_train_pred)\n",
    "test_conf_matrix = confusion_matrix(y_test, y_test_pred)\n",
    "\n",
    "# Generate classification reports\n",
    "train_classification_report = classification_report(y_train, y_train_pred)\n",
    "test_classification_report = classification_report(y_test, y_test_pred)\n",
    "\n",
    "# Print the results\n",
    "print(\"Train Accuracy:\", train_accuracy)\n",
    "print(\"Test Accuracy:\", test_accuracy)\n",
    "\n",
    "print(\"\\nTrain Confusion Matrix:\")\n",
    "print(train_conf_matrix)\n",
    "\n",
    "print(\"\\nTest Confusion Matrix:\")\n",
    "print(test_conf_matrix)\n",
    "\n",
    "print(\"\\nTrain Classification Report:\")\n",
    "print(train_classification_report)\n",
    "\n",
    "print(\"\\nTest Classification Report:\")\n",
    "print(test_classification_report)\n"
   ]
  },
  {
   "cell_type": "code",
   "execution_count": null,
   "metadata": {
    "colab": {
     "base_uri": "https://localhost:8080/",
     "height": 1000
    },
    "id": "JL_qVmr4Mw29",
    "outputId": "96cccf9f-bab6-4e4a-9a40-cb935a2c303c"
   },
   "outputs": [],
   "source": [
    "from sklearn.model_selection import train_test_split\n",
    "from sklearn.ensemble import AdaBoostClassifier\n",
    "from sklearn.metrics import accuracy_score\n",
    "from sklearn.model_selection import cross_val_score\n",
    "import optuna\n",
    "\n",
    "# Split the dataset into features (X) and target variable (y)\n",
    "X = weather_hist.drop(['Summary'], axis=1)\n",
    "y = weather_hist['Summary']\n",
    "\n",
    "# Split the dataset into training and testing sets\n",
    "X_train, X_test, y_train, y_test = train_test_split(X, y, test_size=0.2, random_state=42)\n",
    "\n",
    "def objective(trial):\n",
    "    param = {\n",
    "        'n_estimators': trial.suggest_int('n_estimators', 50, 200),\n",
    "        'learning_rate': trial.suggest_float('learning_rate', 0.01, 1.0),\n",
    "        'algorithm': 'SAMME.R'\n",
    "    }\n",
    "\n",
    "    model = AdaBoostClassifier(**param)\n",
    "    scores = cross_val_score(model, X, y, cv=5)\n",
    "    accuracy = scores.mean()\n",
    "    return accuracy\n",
    "\n",
    "# Run the hyperparameter optimization\n",
    "study = optuna.create_study(direction='maximize')\n",
    "study.optimize(objective, n_trials=100)\n",
    "\n",
    "# Print the best hyperparameters found\n",
    "print(\"Number of finished trials: \", len(study.trials))\n",
    "print(\"Best trial:\")\n",
    "trial = study.best_trial\n",
    "print(\"  Value: \", trial.value)\n",
    "print(\"  Params: \")\n",
    "for key, value in trial.params.items():\n",
    "    print(\"    {}: {}\".format(key, value))\n"
   ]
  },
  {
   "cell_type": "code",
   "execution_count": null,
   "metadata": {},
   "outputs": [],
   "source": [
    "\n",
    "# Fit the model on the training data\n",
    "model.fit(X_train, y_train)\n",
    "\n",
    "# Predict on the training and test sets\n",
    "y_train_pred = model.predict(X_train)\n",
    "y_test_pred = model.predict(X_test)\n",
    "\n",
    "# Calculate accuracies\n",
    "train_accuracy = accuracy_score(y_train, y_train_pred)\n",
    "test_accuracy = accuracy_score(y_test, y_test_pred)\n",
    "\n",
    "# Generate confusion matrices\n",
    "train_conf_matrix = confusion_matrix(y_train, y_train_pred)\n",
    "test_conf_matrix = confusion_matrix(y_test, y_test_pred)\n",
    "\n",
    "# Generate classification reports\n",
    "train_classification_report = classification_report(y_train, y_train_pred)\n",
    "test_classification_report = classification_report(y_test, y_test_pred)\n",
    "\n",
    "# Print the results\n",
    "print(\"Train Accuracy:\", train_accuracy)\n",
    "print(\"Test Accuracy:\", test_accuracy)\n",
    "\n",
    "print(\"\\nTrain Confusion Matrix:\")\n",
    "print(train_conf_matrix)\n",
    "\n",
    "print(\"\\nTest Confusion Matrix:\")\n",
    "print(test_conf_matrix)\n",
    "\n",
    "print(\"\\nTrain Classification Report:\")\n",
    "print(train_classification_report)sd\n",
    "\n",
    "print(\"\\nTest Classification Report:\")\n",
    "print(test_classification_report)\n"
   ]
  },
  {
   "cell_type": "markdown",
   "metadata": {},
   "source": [
    "## Clustering"
   ]
  },
  {
   "cell_type": "code",
   "execution_count": 417,
   "metadata": {},
   "outputs": [
    {
     "data": {
      "image/png": "[encoded data removed]",
      "text/plain": [
       "<Figure size 640x480 with 1 Axes>"
      ]
     },
     "metadata": {},
     "output_type": "display_data"
    }
   ],
   "source": [
    "from sklearn.cluster import KMeans\n",
    "from sklearn.metrics import silhouette_score\n",
    "import matplotlib.pyplot as plt\n",
    "\n",
    "\n",
    "silhouette_scores = []\n",
    "for k in range(2, 6):\n",
    "    kmeans = KMeans(n_clusters=k, random_state=42)\n",
    "    labels = kmeans.fit_predict(X)\n",
    "    silhouette_avg = silhouette_score(X, labels)\n",
    "    silhouette_scores.append(silhouette_avg)\n",
    "\n",
    "plt.plot(range(2, 6), silhouette_scores, marker='o')\n",
    "plt.xlabel('Number of Clusters')\n",
    "plt.ylabel('Silhouette Score')\n",
    "plt.title('Silhouette Score for Optimal k')\n",
    "plt.show()"
   ]
  },
  {
   "cell_type": "code",
   "execution_count": null,
   "metadata": {},
   "outputs": [],
   "source": []
  }
 ],
 "metadata": {
  "colab": {
   "provenance": []
  },
  "kernelspec": {
   "display_name": "Python 3 (ipykernel)",
   "language": "python",
   "name": "python3"
  },
  "language_info": {
   "codemirror_mode": {
    "name": "ipython",
    "version": 3
   },
   "file_extension": ".py",
   "mimetype": "text/x-python",
   "name": "python",
   "nbconvert_exporter": "python",
   "pygments_lexer": "ipython3",
   "version": "3.9.13"
  }
 },
 "nbformat": 4,
 "nbformat_minor": 1
}
